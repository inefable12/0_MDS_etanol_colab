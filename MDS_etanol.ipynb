{
  "nbformat": 4,
  "nbformat_minor": 0,
  "metadata": {
    "colab": {
      "provenance": [],
      "collapsed_sections": []
    },
    "kernelspec": {
      "name": "python3",
      "display_name": "Python 3"
    },
    "language_info": {
      "name": "python"
    },
    "accelerator": "GPU",
    "gpuClass": "standard"
  },
  "cells": [
    {
      "cell_type": "markdown",
      "source": [
        "__Simulación de dinámica molecular: Etanol en agua__\\\n",
        "Autor: Jesus Alvarado\\\n",
        "2022"
      ],
      "metadata": {
        "id": "nbyRC_96lbFM"
      }
    },
    {
      "cell_type": "markdown",
      "source": [
        "Iniciamos el cuaderno del colab, activando la GPU \\\n",
        "Conectamos con Google Drive"
      ],
      "metadata": {
        "id": "rCTfQHDlnxK9"
      }
    },
    {
      "cell_type": "code",
      "source": [
        "%%bash\n",
        "lscpu\n",
        "nvidia-smi"
      ],
      "metadata": {
        "id": "u5tbgYn6laxE"
      },
      "execution_count": null,
      "outputs": []
    },
    {
      "cell_type": "markdown",
      "source": [
        "__1. Instalación de Gromacs__"
      ],
      "metadata": {
        "id": "e9Kk7JBkn_Gk"
      }
    },
    {
      "cell_type": "markdown",
      "source": [
        "Descargamos y descomprimimos cmake"
      ],
      "metadata": {
        "id": "2ZpYE3nGrw-c"
      }
    },
    {
      "cell_type": "code",
      "source": [
        "%%bash\n",
        "wget https://github.com/Kitware/CMake/releases/download/v3.20.0-rc1/cmake-3.20.0-rc1.tar.gz\n",
        "tar xfz cmake-3.20.0-rc1.tar.gz"
      ],
      "metadata": {
        "id": "2yvkfDbopQsl"
      },
      "execution_count": null,
      "outputs": []
    },
    {
      "cell_type": "markdown",
      "source": [
        "La instalación de cmake (siguiente celda) demora unos 5 minutos"
      ],
      "metadata": {
        "id": "m8gndC1brgtq"
      }
    },
    {
      "cell_type": "code",
      "execution_count": null,
      "metadata": {
        "id": "dy8VZdTggJO7"
      },
      "outputs": [],
      "source": [
        "%%bash\n",
        "mkdir /content/cmake-3.20.0-rc1/build\n",
        "cd /content/cmake-3.20.0-rc1/build\n",
        "cmake /content/cmake-3.20.0-rc1/\n",
        "make -j 2\n",
        "make install"
      ]
    },
    {
      "cell_type": "markdown",
      "source": [
        "Descarga, descompresión e instalación de gromacs (demoró aprox 30 minutos)"
      ],
      "metadata": {
        "id": "Xd_ni3hZr05n"
      }
    },
    {
      "cell_type": "code",
      "source": [
        "%%bash\n",
        "wget ftp://ftp.gromacs.org/gromacs/gromacs-2021.tar.gz\n",
        "tar xfz gromacs-2021.tar.gz\n",
        "cd /content/gromacs-2021\n",
        "mkdir /content/gromacs-2021/build\n",
        "cd /content/gromacs-2021/build\n",
        "cmake .. -DGMX_BUILD_OWN_FFTW=ON -DREGRESSIONTEST_DOWNLOAD=ON -DGMX_GPU=CUDA\n",
        "make -j 2\n",
        "make install\n",
        "source /usr/local/gromacs/bin/GMXRC"
      ],
      "metadata": {
        "id": "aKPGAQ5Yn9vE"
      },
      "execution_count": null,
      "outputs": []
    },
    {
      "cell_type": "code",
      "source": [
        "%%bash\n",
        "source /usr/local/gromacs/bin/GMXRC\n",
        "mkdir /content/grojobs\n",
        "cd /content/grojobs\n",
        "gmx"
      ],
      "metadata": {
        "id": "01FiQUtlrCfJ"
      },
      "execution_count": null,
      "outputs": []
    },
    {
      "cell_type": "code",
      "source": [
        "!export GMXLIB=/usr/local/gromacs/share/gromacs/top"
      ],
      "metadata": {
        "id": "gO4tcSTOn9sS"
      },
      "execution_count": 50,
      "outputs": []
    },
    {
      "cell_type": "markdown",
      "source": [
        "__2. Insertamos una molécula de etanol__ \\\n",
        "La molécula fue creada con smiles usando la web cheminfo \\\n",
        "Se empleó chimera para guardarla en formato PDB"
      ],
      "metadata": {
        "id": "-eLwjHgP2Qb1"
      }
    },
    {
      "cell_type": "markdown",
      "source": [
        "Creación de gro, itp y top"
      ],
      "metadata": {
        "id": "up1RFKcYvVtF"
      }
    },
    {
      "cell_type": "code",
      "source": [
        "#!ls /usr/share/gromacs/top\n",
        "!ls /usr/local/gromacs/share/gromacs/top"
      ],
      "metadata": {
        "colab": {
          "base_uri": "https://localhost:8080/"
        },
        "id": "a-79PtNx9Y7E",
        "outputId": "c1fa985a-34a5-467c-c90e-83ccd9eccc33"
      },
      "execution_count": 51,
      "outputs": [
        {
          "output_type": "stream",
          "name": "stdout",
          "text": [
            "amber03.ff\t   electroneg.dat\t gromos53a6.ff\t   spc.itp\n",
            "amber94.ff\t   elements.dat\t\t gromos54a7.ff\t   specbond.dat\n",
            "amber96.ff\t   export.dlg\t\t ha-shift.dat\t   ss.map\n",
            "amber99.ff\t   ffG43a1.itp\t\t ions.itp\t   surface.dat\n",
            "amber99sb.ff\t   ffG43a2.itp\t\t nsfactor.dat\t   sw.itp\n",
            "amber99sb-ildn.ff  ffG45a3.itp\t\t oplsaa.ff\t   table6-10.xvg\n",
            "amberGS.ff\t   ffG53a5.itp\t\t phbres.dat\t   table6-11.xvg\n",
            "atommass.dat\t   ffG53a6.itp\t\t ps.m2p\t\t   table6-12.xvg\n",
            "atom_nom.tbl\t   ffoplsaa.itp\t\t random.dat\t   table6-8.xvg\n",
            "bonds.dlg\t   ffoplsaa-n.tst\t README\t\t   table6-9.xvg\n",
            "ca-shift.dat\t   flexspce.itp\t\t refi_aa.dat\t   tip3p.itp\n",
            "cb-shift.dat\t   flexspc.itp\t\t residues.dtd\t   tip4p.gro\n",
            "charmm27.ff\t   flexwat-ferguson.itp  residues.xml\t   tip4p.itp\n",
            "co-shift.dat\t   gromos43a1.ff\t residuetypes.dat  tip5p.gro\n",
            "defselection.dat   gromos43a2.ff\t sfactor.dat\t   vdw-msms.dat\n",
            "dgsolv.dat\t   gromos45a3.ff\t spc216.gro\t   vdwradii.dat\n",
            "edissoc.dat\t   gromos53a5.ff\t spce.itp\t   xlateat.dat\n"
          ]
        }
      ]
    },
    {
      "cell_type": "markdown",
      "source": [
        "__3. Force Field__"
      ],
      "metadata": {
        "id": "exDte2rkIWz4"
      }
    },
    {
      "cell_type": "code",
      "source": [
        "%%bash\n",
        "source /usr/local/gromacs/bin/GMXRC\n",
        "gmx pdb2gmx -f etoh_chimera.pdb -o etoh.gro -water tip5p -ff oplsaa"
      ],
      "metadata": {
        "colab": {
          "base_uri": "https://localhost:8080/"
        },
        "id": "kS0boOQKn9nX",
        "outputId": "a9b9686b-e465-41e4-9e9d-3912d148c850"
      },
      "execution_count": 64,
      "outputs": [
        {
          "output_type": "stream",
          "name": "stdout",
          "text": [
            "Using the Oplsaa force field in directory oplsaa.ff\n",
            "\n",
            "going to rename oplsaa.ff/aminoacids.r2b\n",
            "Reading etoh_chimera.pdb...\n",
            "Read 'EtOH', 9 atoms\n",
            "\n",
            "Analyzing pdb file\n",
            "Splitting chemical chains based on TER records or chain id changing.\n",
            "\n",
            "There are 1 chains and 0 blocks of water and 1 residues with 9 atoms\n",
            "\n",
            "  chain  #res #atoms\n",
            "\n",
            "  1 ' '     1      9  \n",
            "\n",
            "All occupancies are one\n",
            "\n",
            "Reading residue database... (Oplsaa)\n",
            "\n",
            "Processing chain 1 (9 atoms, 1 residues)\n",
            "\n",
            "Problem with chain definition, or missing terminal residues. This chain does not appear to contain a recognized chain molecule. If this is incorrect, you can edit residuetypes.dat to modify the behavior.\n",
            "\n",
            "Checking for duplicate atoms....\n",
            "\n",
            "Generating any missing hydrogen atoms and/or adding termini.\n",
            "\n",
            "Now there are 1 residues with 9 atoms\n",
            "\n",
            "Making bonds...\n",
            "\n",
            "Number of bonds was 8, now 8\n",
            "\n",
            "Generating angles, dihedrals and pairs...\n",
            "\n",
            "Making cmap torsions...\n",
            "\n",
            "There are   12 dihedrals,    0 impropers,   13 angles\n",
            "            12 pairs,        8 bonds and     0 virtual sites\n",
            "\n",
            "Total mass 46.069 a.m.u.\n",
            "\n",
            "Total charge -0.000 e\n",
            "\n",
            "Writing topology\n",
            "\n",
            "Writing coordinate file...\n",
            "\n",
            "\t\t--------- PLEASE NOTE ------------\n",
            "\n",
            "You have successfully generated a topology from: etoh_chimera.pdb.\n",
            "\n",
            "The Oplsaa force field and the tip5p water model are used.\n",
            "\n",
            "\t\t--------- ETON ESAELP ------------\n"
          ]
        },
        {
          "output_type": "stream",
          "name": "stderr",
          "text": [
            "                      :-) GROMACS - gmx pdb2gmx, 2021 (-:\n",
            "\n",
            "                            GROMACS is written by:\n",
            "     Andrey Alekseenko              Emile Apol              Rossen Apostolov     \n",
            "         Paul Bauer           Herman J.C. Berendsen           Par Bjelkmar       \n",
            "       Christian Blau           Viacheslav Bolnykh             Kevin Boyd        \n",
            "     Aldert van Buuren           Rudi van Drunen             Anton Feenstra      \n",
            "    Gilles Gouaillardet             Alan Gray               Gerrit Groenhof      \n",
            "       Anca Hamuraru            Vincent Hindriksen          M. Eric Irrgang      \n",
            "      Aleksei Iupinov           Christoph Junghans             Joe Jordan        \n",
            "    Dimitrios Karkoulis            Peter Kasson                Jiri Kraus        \n",
            "      Carsten Kutzner              Per Larsson              Justin A. Lemkul     \n",
            "       Viveca Lindahl            Magnus Lundborg             Erik Marklund       \n",
            "        Pascal Merz             Pieter Meulenhoff            Teemu Murtola       \n",
            "        Szilard Pall               Sander Pronk              Roland Schulz       \n",
            "       Michael Shirts            Alexey Shvetsov             Alfons Sijbers      \n",
            "       Peter Tieleman              Jon Vincent              Teemu Virolainen     \n",
            "     Christian Wennberg            Maarten Wolf              Artem Zhmurov       \n",
            "                           and the project leaders:\n",
            "        Mark Abraham, Berk Hess, Erik Lindahl, and David van der Spoel\n",
            "\n",
            "Copyright (c) 1991-2000, University of Groningen, The Netherlands.\n",
            "Copyright (c) 2001-2019, The GROMACS development team at\n",
            "Uppsala University, Stockholm University and\n",
            "the Royal Institute of Technology, Sweden.\n",
            "check out http://www.gromacs.org for more information.\n",
            "\n",
            "GROMACS is free software; you can redistribute it and/or modify it\n",
            "under the terms of the GNU Lesser General Public License\n",
            "as published by the Free Software Foundation; either version 2.1\n",
            "of the License, or (at your option) any later version.\n",
            "\n",
            "GROMACS:      gmx pdb2gmx, version 2021\n",
            "Executable:   /usr/local/gromacs/bin/gmx\n",
            "Data prefix:  /usr/local/gromacs\n",
            "Working dir:  /content\n",
            "Command line:\n",
            "  gmx pdb2gmx -f etoh_chimera.pdb -o etoh.gro -water tip5p -ff oplsaa\n",
            "\n",
            "Opening force field file /usr/local/gromacs/share/gromacs/top/oplsaa.ff/aminoacids.r2b\n",
            "WARNING: all CONECT records are ignored\n",
            "All occupancies are one\n",
            "Opening force field file /usr/local/gromacs/share/gromacs/top/oplsaa.ff/atomtypes.atp\n",
            "Opening force field file /usr/local/gromacs/share/gromacs/top/oplsaa.ff/aminoacids.rtp\n",
            "Opening force field file /usr/local/gromacs/share/gromacs/top/oplsaa.ff/aminoacids.hdb\n",
            "Opening force field file /usr/local/gromacs/share/gromacs/top/oplsaa.ff/aminoacids.n.tdb\n",
            "Opening force field file /usr/local/gromacs/share/gromacs/top/oplsaa.ff/aminoacids.c.tdb\n",
            "\n",
            "Back Off! I just backed up topol.top to ./#topol.top.1#\n",
            "8 out of 8 lines of specbond.dat converted successfully\n",
            "Before cleaning: 12 pairs\n",
            "Before cleaning: 12 dihedrals\n",
            "Keeping all generated dihedrals\n",
            "\n",
            "Back Off! I just backed up posre.itp to ./#posre.itp.1#\n",
            "\n",
            "Back Off! I just backed up etoh.gro to ./#etoh.gro.1#\n",
            "\n",
            "GROMACS reminds you: \"Above all, don't fear difficult moments. The best comes from them.\" (Rita Levi-Montalcini)\n",
            "\n"
          ]
        }
      ]
    },
    {
      "cell_type": "markdown",
      "source": [
        "__4. Caja de agua__"
      ],
      "metadata": {
        "id": "dBUx3awxIfRg"
      }
    },
    {
      "cell_type": "markdown",
      "source": [
        "Creación de una caja cúbica con 1 nm de distancia hacia el borde"
      ],
      "metadata": {
        "id": "fYVmzCgwwbkv"
      }
    },
    {
      "cell_type": "code",
      "source": [
        "%%bash\n",
        "source /usr/local/gromacs/bin/GMXRC\n",
        "gmx editconf -f etoh.gro -o newbox.gro -d 1.0 -bt cubic"
      ],
      "metadata": {
        "colab": {
          "base_uri": "https://localhost:8080/"
        },
        "id": "iXTmB3Wan9lC",
        "outputId": "8668cc65-3f7d-4f45-eb8e-9c1063e008c6"
      },
      "execution_count": 65,
      "outputs": [
        {
          "output_type": "stream",
          "name": "stdout",
          "text": [
            "Note that major changes are planned in future for editconf, to improve usability and utility.\n",
            "Read 9 atoms\n",
            "Volume: 0.0140061 nm^3, corresponds to roughly 0 electrons\n",
            "No velocities found\n",
            "    system size :  0.239  0.204  0.289 (nm)\n",
            "    diameter    :  0.356               (nm)\n",
            "    center      :  0.195 -0.004 -0.027 (nm)\n",
            "    box vectors :  0.239  0.203  0.289 (nm)\n",
            "    box angles  :  90.00  90.00  90.00 (degrees)\n",
            "    box volume  :   0.01               (nm^3)\n",
            "    shift       :  0.983  1.182  1.205 (nm)\n",
            "new center      :  1.178  1.178  1.178 (nm)\n",
            "new box vectors :  2.356  2.356  2.356 (nm)\n",
            "new box angles  :  90.00  90.00  90.00 (degrees)\n",
            "new box volume  :  13.08               (nm^3)\n"
          ]
        },
        {
          "output_type": "stream",
          "name": "stderr",
          "text": [
            "                      :-) GROMACS - gmx editconf, 2021 (-:\n",
            "\n",
            "                            GROMACS is written by:\n",
            "     Andrey Alekseenko              Emile Apol              Rossen Apostolov     \n",
            "         Paul Bauer           Herman J.C. Berendsen           Par Bjelkmar       \n",
            "       Christian Blau           Viacheslav Bolnykh             Kevin Boyd        \n",
            "     Aldert van Buuren           Rudi van Drunen             Anton Feenstra      \n",
            "    Gilles Gouaillardet             Alan Gray               Gerrit Groenhof      \n",
            "       Anca Hamuraru            Vincent Hindriksen          M. Eric Irrgang      \n",
            "      Aleksei Iupinov           Christoph Junghans             Joe Jordan        \n",
            "    Dimitrios Karkoulis            Peter Kasson                Jiri Kraus        \n",
            "      Carsten Kutzner              Per Larsson              Justin A. Lemkul     \n",
            "       Viveca Lindahl            Magnus Lundborg             Erik Marklund       \n",
            "        Pascal Merz             Pieter Meulenhoff            Teemu Murtola       \n",
            "        Szilard Pall               Sander Pronk              Roland Schulz       \n",
            "       Michael Shirts            Alexey Shvetsov             Alfons Sijbers      \n",
            "       Peter Tieleman              Jon Vincent              Teemu Virolainen     \n",
            "     Christian Wennberg            Maarten Wolf              Artem Zhmurov       \n",
            "                           and the project leaders:\n",
            "        Mark Abraham, Berk Hess, Erik Lindahl, and David van der Spoel\n",
            "\n",
            "Copyright (c) 1991-2000, University of Groningen, The Netherlands.\n",
            "Copyright (c) 2001-2019, The GROMACS development team at\n",
            "Uppsala University, Stockholm University and\n",
            "the Royal Institute of Technology, Sweden.\n",
            "check out http://www.gromacs.org for more information.\n",
            "\n",
            "GROMACS is free software; you can redistribute it and/or modify it\n",
            "under the terms of the GNU Lesser General Public License\n",
            "as published by the Free Software Foundation; either version 2.1\n",
            "of the License, or (at your option) any later version.\n",
            "\n",
            "GROMACS:      gmx editconf, version 2021\n",
            "Executable:   /usr/local/gromacs/bin/gmx\n",
            "Data prefix:  /usr/local/gromacs\n",
            "Working dir:  /content\n",
            "Command line:\n",
            "  gmx editconf -f etoh.gro -o newbox.gro -d 1.0 -bt cubic\n",
            "\n",
            "\n",
            "Back Off! I just backed up newbox.gro to ./#newbox.gro.1#\n",
            "\n",
            "GROMACS reminds you: \"You Should Sleep Late Man, It's Much Easier On Your Constitution\" (Beastie Boys)\n",
            "\n"
          ]
        }
      ]
    },
    {
      "cell_type": "markdown",
      "source": [
        "Se usan los modelos de solvente que están por defecto en la carpeta:\n",
        "/usr/gromacs/share/gromacs/top"
      ],
      "metadata": {
        "id": "D4XXWpOmycGz"
      }
    },
    {
      "cell_type": "code",
      "source": [
        "%%bash\n",
        "source /usr/local/gromacs/bin/GMXRC\n",
        "gmx solvate -cp newbox.gro -cs tip5p.gro -o solv.gro -p topol.top"
      ],
      "metadata": {
        "colab": {
          "base_uri": "https://localhost:8080/"
        },
        "id": "yXVkLLEyn9id",
        "outputId": "063ca0a2-0f53-4c95-d187-64e719e69480"
      },
      "execution_count": 66,
      "outputs": [
        {
          "output_type": "stream",
          "name": "stdout",
          "text": [
            "\n",
            "WARNING: Masses and atomic (Van der Waals) radii will be guessed\n",
            "         based on residue and atom names, since they could not be\n",
            "         definitively assigned from the information in your input\n",
            "         files. These guessed numbers might deviate from the mass\n",
            "         and radius of the atom type. Please check the output\n",
            "         files if necessary.\n",
            "\n",
            "NOTE: From version 5.0 gmx solvate uses the Van der Waals radii\n",
            "from the source below. This means the results may be different\n",
            "compared to previous GROMACS versions.\n",
            "\n",
            "++++ PLEASE READ AND CITE THE FOLLOWING REFERENCE ++++\n",
            "A. Bondi\n",
            "van der Waals Volumes and Radii\n",
            "J. Phys. Chem. 68 (1964) pp. 441-451\n",
            "-------- -------- --- Thank You --- -------- --------\n",
            "\n",
            "Adding line for 418 solvent molecules with resname (SOL) to topology file (topol.top)\n"
          ]
        },
        {
          "output_type": "stream",
          "name": "stderr",
          "text": [
            "                      :-) GROMACS - gmx solvate, 2021 (-:\n",
            "\n",
            "                            GROMACS is written by:\n",
            "     Andrey Alekseenko              Emile Apol              Rossen Apostolov     \n",
            "         Paul Bauer           Herman J.C. Berendsen           Par Bjelkmar       \n",
            "       Christian Blau           Viacheslav Bolnykh             Kevin Boyd        \n",
            "     Aldert van Buuren           Rudi van Drunen             Anton Feenstra      \n",
            "    Gilles Gouaillardet             Alan Gray               Gerrit Groenhof      \n",
            "       Anca Hamuraru            Vincent Hindriksen          M. Eric Irrgang      \n",
            "      Aleksei Iupinov           Christoph Junghans             Joe Jordan        \n",
            "    Dimitrios Karkoulis            Peter Kasson                Jiri Kraus        \n",
            "      Carsten Kutzner              Per Larsson              Justin A. Lemkul     \n",
            "       Viveca Lindahl            Magnus Lundborg             Erik Marklund       \n",
            "        Pascal Merz             Pieter Meulenhoff            Teemu Murtola       \n",
            "        Szilard Pall               Sander Pronk              Roland Schulz       \n",
            "       Michael Shirts            Alexey Shvetsov             Alfons Sijbers      \n",
            "       Peter Tieleman              Jon Vincent              Teemu Virolainen     \n",
            "     Christian Wennberg            Maarten Wolf              Artem Zhmurov       \n",
            "                           and the project leaders:\n",
            "        Mark Abraham, Berk Hess, Erik Lindahl, and David van der Spoel\n",
            "\n",
            "Copyright (c) 1991-2000, University of Groningen, The Netherlands.\n",
            "Copyright (c) 2001-2019, The GROMACS development team at\n",
            "Uppsala University, Stockholm University and\n",
            "the Royal Institute of Technology, Sweden.\n",
            "check out http://www.gromacs.org for more information.\n",
            "\n",
            "GROMACS is free software; you can redistribute it and/or modify it\n",
            "under the terms of the GNU Lesser General Public License\n",
            "as published by the Free Software Foundation; either version 2.1\n",
            "of the License, or (at your option) any later version.\n",
            "\n",
            "GROMACS:      gmx solvate, version 2021\n",
            "Executable:   /usr/local/gromacs/bin/gmx\n",
            "Data prefix:  /usr/local/gromacs\n",
            "Working dir:  /content\n",
            "Command line:\n",
            "  gmx solvate -cp newbox.gro -cs tip5p.gro -o solv.gro -p topol.top\n",
            "\n",
            "Reading solute configuration\n",
            "Reading solvent configuration\n",
            "\n",
            "Initialising inter-atomic distances...\n",
            "Generating solvent configuration\n",
            "Will generate new solvent configuration of 1x1x1 boxes\n",
            "Solvent box contains 2560 atoms in 512 residues\n",
            "Removed 465 solvent atoms due to solvent-solvent overlap\n",
            "Removed 5 solvent atoms due to solute-solvent overlap\n",
            "Sorting configuration\n",
            "Found 1 molecule type:\n",
            "    SOL (   5 atoms):   418 residues\n",
            "Generated solvent containing 2090 atoms in 418 residues\n",
            "Writing generated configuration to solv.gro\n",
            "\n",
            "Output configuration contains 2099 atoms in 419 residues\n",
            "Volume                 :     13.0775 (nm^3)\n",
            "Density                :     962.422 (g/l)\n",
            "Number of solvent molecules:    418   \n",
            "\n",
            "Processing topology\n",
            "\n",
            "Back Off! I just backed up topol.top to ./#topol.top.1#\n",
            "\n",
            "GROMACS reminds you: \"Heavier-than-air flying machines are impossible.\" (Lord Kelvin, President of Royal Society, 1895.)\n",
            "\n"
          ]
        }
      ]
    },
    {
      "cell_type": "markdown",
      "source": [
        "__5. Iones__"
      ],
      "metadata": {
        "id": "GMzyJVYfIkyz"
      }
    },
    {
      "cell_type": "code",
      "source": [
        "with open(\"ions.mdp\",\"w\") as f:\n",
        "  f.write(\"; ions.mdp - used as input into grompp to generate ions.tpr\")\n",
        "  f.write(\"; Parameters describing what to do, when to stop and what to save\")\n",
        "  f.write(\"integrator  = steep         ; Algorithm (steep = steepest descent minimization)\")\n",
        "  f.write(\"emtol       = 1000.0        ; Stop minimization when the maximum force < 1000.0 kJ/mol/nm\")\n",
        "  f.write(\"emstep      = 0.01          ; Minimization step size\")\n",
        "  f.write(\"nsteps      = 50000         ; Maximum number of (minimization) steps to perform\")\n",
        "  f.write(\"; Parameters describing how to find the neighbors of each atom and how to calculate the interactions\")\n",
        "  f.write(\"nstlist         = 1         ; Frequency to update the neighbor list and long range forces\")\n",
        "  f.write(\"cutoff-scheme\t= Verlet    ; Buffered neighbor searching\") \n",
        "  f.write(\"ns_type         = grid      ; Method to determine neighbor list (simple, grid)\")\n",
        "  f.write(\"coulombtype     = cutoff    ; Treatment of long range electrostatic interactions\")\n",
        "  f.write(\"rcoulomb        = 1.0       ; Short-range electrostatic cut-off\")\n",
        "  f.write(\"rvdw            = 1.0       ; Short-range Van der Waals cut-off\")\n",
        "  f.write(\"pbc             = xyz       ; Periodic Boundary Conditions in all 3 dimensions\")"
      ],
      "metadata": {
        "id": "-KI_nE2Dxjib"
      },
      "execution_count": 70,
      "outputs": []
    },
    {
      "cell_type": "code",
      "source": [
        "%%bash\n",
        "source /usr/local/gromacs/bin/GMXRC\n",
        "gmx grompp -f ions.mdp -c solv.gro -p topol.top -o ions.tpr"
      ],
      "metadata": {
        "colab": {
          "base_uri": "https://localhost:8080/"
        },
        "id": "yTeInYMAyIXU",
        "outputId": "322a8924-5fc6-4f1f-b2a4-4a4067de7790"
      },
      "execution_count": 71,
      "outputs": [
        {
          "output_type": "stream",
          "name": "stdout",
          "text": [
            "Setting the LD random seed to -1153441894\n",
            "\n",
            "Generated 330891 of the 330891 non-bonded parameter combinations\n",
            "\n",
            "Generated 330891 of the 330891 1-4 parameter combinations\n",
            "\n",
            "Excluding 3 bonded neighbours molecule type 'Other'\n",
            "\n",
            "Excluding 2 bonded neighbours molecule type 'SOL'\n",
            "\n",
            "Cleaning up constraints and constant bonded interactions with virtual sites\n",
            "Analysing residue names:\n",
            "There are:     1      Other residues\n",
            "There are:   418      Water residues\n",
            "Analysing residues not classified as Protein/DNA/RNA/Water and splitting into groups...\n",
            "\n",
            "This run will generate roughly 0 Mb of data\n"
          ]
        },
        {
          "output_type": "stream",
          "name": "stderr",
          "text": [
            "                       :-) GROMACS - gmx grompp, 2021 (-:\n",
            "\n",
            "                            GROMACS is written by:\n",
            "     Andrey Alekseenko              Emile Apol              Rossen Apostolov     \n",
            "         Paul Bauer           Herman J.C. Berendsen           Par Bjelkmar       \n",
            "       Christian Blau           Viacheslav Bolnykh             Kevin Boyd        \n",
            "     Aldert van Buuren           Rudi van Drunen             Anton Feenstra      \n",
            "    Gilles Gouaillardet             Alan Gray               Gerrit Groenhof      \n",
            "       Anca Hamuraru            Vincent Hindriksen          M. Eric Irrgang      \n",
            "      Aleksei Iupinov           Christoph Junghans             Joe Jordan        \n",
            "    Dimitrios Karkoulis            Peter Kasson                Jiri Kraus        \n",
            "      Carsten Kutzner              Per Larsson              Justin A. Lemkul     \n",
            "       Viveca Lindahl            Magnus Lundborg             Erik Marklund       \n",
            "        Pascal Merz             Pieter Meulenhoff            Teemu Murtola       \n",
            "        Szilard Pall               Sander Pronk              Roland Schulz       \n",
            "       Michael Shirts            Alexey Shvetsov             Alfons Sijbers      \n",
            "       Peter Tieleman              Jon Vincent              Teemu Virolainen     \n",
            "     Christian Wennberg            Maarten Wolf              Artem Zhmurov       \n",
            "                           and the project leaders:\n",
            "        Mark Abraham, Berk Hess, Erik Lindahl, and David van der Spoel\n",
            "\n",
            "Copyright (c) 1991-2000, University of Groningen, The Netherlands.\n",
            "Copyright (c) 2001-2019, The GROMACS development team at\n",
            "Uppsala University, Stockholm University and\n",
            "the Royal Institute of Technology, Sweden.\n",
            "check out http://www.gromacs.org for more information.\n",
            "\n",
            "GROMACS is free software; you can redistribute it and/or modify it\n",
            "under the terms of the GNU Lesser General Public License\n",
            "as published by the Free Software Foundation; either version 2.1\n",
            "of the License, or (at your option) any later version.\n",
            "\n",
            "GROMACS:      gmx grompp, version 2021\n",
            "Executable:   /usr/local/gromacs/bin/gmx\n",
            "Data prefix:  /usr/local/gromacs\n",
            "Working dir:  /content\n",
            "Command line:\n",
            "  gmx grompp -f ions.mdp -c solv.gro -p topol.top -o ions.tpr\n",
            "\n",
            "\n",
            "NOTE 1 [file ions.mdp]:\n",
            "  For a correct single-point energy evaluation with nsteps = 0, use\n",
            "  continuation = yes to avoid constraining the input coordinates.\n",
            "\n",
            "Generating 1-4 interactions: fudge = 0.5\n",
            "\n",
            "NOTE 2 [file topol.top, line 122]:\n",
            "  The bond in molecule-type Other between atoms 8 OH and 9 HO has an\n",
            "  estimated oscillational period of 9.0e-03 ps, which is less than 10 times\n",
            "  the time step of 1.0e-03 ps.\n",
            "  Maybe you forgot to change the constraints mdp option.\n",
            "\n",
            "Number of degrees of freedom in T-Coupling group rest is 2532.00\n",
            "\n",
            "NOTE 3 [file ions.mdp]:\n",
            "  NVE simulation with an initial temperature of zero: will use a Verlet\n",
            "  buffer of 10%. Check your energy drift!\n",
            "\n",
            "\n",
            "NOTE 4 [file ions.mdp]:\n",
            "  You are using a plain Coulomb cut-off, which might produce artifacts.\n",
            "  You might want to consider using PME electrostatics.\n",
            "\n",
            "\n",
            "\n",
            "There were 4 notes\n",
            "\n",
            "GROMACS reminds you: \"I didn't want to just know names of things. I remember really wanting to know how it all worked.\" (Elizabeth Blackburn)\n",
            "\n"
          ]
        }
      ]
    },
    {
      "cell_type": "code",
      "source": [
        "%%bash\n",
        "source /usr/local/gromacs/bin/GMXRC\n",
        "gmx genion -s ions.tpr -o solv_ions.gro -p topol.top -pname NA -nname CL -neutral"
      ],
      "metadata": {
        "colab": {
          "base_uri": "https://localhost:8080/"
        },
        "id": "7N7bEtg_n9gD",
        "outputId": "77c7f3fb-788b-44bf-d45d-8e3fef1cb361"
      },
      "execution_count": 72,
      "outputs": [
        {
          "output_type": "stream",
          "name": "stderr",
          "text": [
            "                       :-) GROMACS - gmx genion, 2021 (-:\n",
            "\n",
            "                            GROMACS is written by:\n",
            "     Andrey Alekseenko              Emile Apol              Rossen Apostolov     \n",
            "         Paul Bauer           Herman J.C. Berendsen           Par Bjelkmar       \n",
            "       Christian Blau           Viacheslav Bolnykh             Kevin Boyd        \n",
            "     Aldert van Buuren           Rudi van Drunen             Anton Feenstra      \n",
            "    Gilles Gouaillardet             Alan Gray               Gerrit Groenhof      \n",
            "       Anca Hamuraru            Vincent Hindriksen          M. Eric Irrgang      \n",
            "      Aleksei Iupinov           Christoph Junghans             Joe Jordan        \n",
            "    Dimitrios Karkoulis            Peter Kasson                Jiri Kraus        \n",
            "      Carsten Kutzner              Per Larsson              Justin A. Lemkul     \n",
            "       Viveca Lindahl            Magnus Lundborg             Erik Marklund       \n",
            "        Pascal Merz             Pieter Meulenhoff            Teemu Murtola       \n",
            "        Szilard Pall               Sander Pronk              Roland Schulz       \n",
            "       Michael Shirts            Alexey Shvetsov             Alfons Sijbers      \n",
            "       Peter Tieleman              Jon Vincent              Teemu Virolainen     \n",
            "     Christian Wennberg            Maarten Wolf              Artem Zhmurov       \n",
            "                           and the project leaders:\n",
            "        Mark Abraham, Berk Hess, Erik Lindahl, and David van der Spoel\n",
            "\n",
            "Copyright (c) 1991-2000, University of Groningen, The Netherlands.\n",
            "Copyright (c) 2001-2019, The GROMACS development team at\n",
            "Uppsala University, Stockholm University and\n",
            "the Royal Institute of Technology, Sweden.\n",
            "check out http://www.gromacs.org for more information.\n",
            "\n",
            "GROMACS is free software; you can redistribute it and/or modify it\n",
            "under the terms of the GNU Lesser General Public License\n",
            "as published by the Free Software Foundation; either version 2.1\n",
            "of the License, or (at your option) any later version.\n",
            "\n",
            "GROMACS:      gmx genion, version 2021\n",
            "Executable:   /usr/local/gromacs/bin/gmx\n",
            "Data prefix:  /usr/local/gromacs\n",
            "Working dir:  /content\n",
            "Command line:\n",
            "  gmx genion -s ions.tpr -o solv_ions.gro -p topol.top -pname NA -nname CL -neutral\n",
            "\n",
            "Reading file ions.tpr, VERSION 2021 (single precision)\n",
            "Reading file ions.tpr, VERSION 2021 (single precision)\n",
            "No ions to add, will just copy input configuration.\n",
            "\n",
            "GROMACS reminds you: \"That Was Cool\" (Beavis and Butthead)\n",
            "\n"
          ]
        }
      ]
    },
    {
      "cell_type": "markdown",
      "source": [
        "__6. MINIMIZAR__"
      ],
      "metadata": {
        "id": "mgCE2L6FGv1x"
      }
    },
    {
      "cell_type": "code",
      "source": [
        "%%bash\n",
        "source /usr/local/gromacs/bin/GMXRC\n",
        "gmx grompp -f minim.mdp -c solv_ions.gro -p topol.top -o em.tpr"
      ],
      "metadata": {
        "colab": {
          "base_uri": "https://localhost:8080/"
        },
        "id": "PUsNcX3GGmn1",
        "outputId": "1cb187ef-095e-4de9-9045-deae205aedff"
      },
      "execution_count": 74,
      "outputs": [
        {
          "output_type": "stream",
          "name": "stdout",
          "text": [
            "Setting the LD random seed to -151520001\n",
            "\n",
            "Generated 330891 of the 330891 non-bonded parameter combinations\n",
            "\n",
            "Generated 330891 of the 330891 1-4 parameter combinations\n",
            "\n",
            "Excluding 3 bonded neighbours molecule type 'Other'\n",
            "\n",
            "Excluding 2 bonded neighbours molecule type 'SOL'\n",
            "\n",
            "Cleaning up constraints and constant bonded interactions with virtual sites\n",
            "Analysing residue names:\n",
            "There are:     1      Other residues\n",
            "There are:   418      Water residues\n",
            "Analysing residues not classified as Protein/DNA/RNA/Water and splitting into groups...\n",
            "Calculating fourier grid dimensions for X Y Z\n",
            "Using a fourier grid of 20x20x20, spacing 0.118 0.118 0.118\n",
            "\n",
            "Estimate for the relative computational load of the PME mesh part: 0.21\n",
            "\n",
            "This run will generate roughly 0 Mb of data\n"
          ]
        },
        {
          "output_type": "stream",
          "name": "stderr",
          "text": [
            "                       :-) GROMACS - gmx grompp, 2021 (-:\n",
            "\n",
            "                            GROMACS is written by:\n",
            "     Andrey Alekseenko              Emile Apol              Rossen Apostolov     \n",
            "         Paul Bauer           Herman J.C. Berendsen           Par Bjelkmar       \n",
            "       Christian Blau           Viacheslav Bolnykh             Kevin Boyd        \n",
            "     Aldert van Buuren           Rudi van Drunen             Anton Feenstra      \n",
            "    Gilles Gouaillardet             Alan Gray               Gerrit Groenhof      \n",
            "       Anca Hamuraru            Vincent Hindriksen          M. Eric Irrgang      \n",
            "      Aleksei Iupinov           Christoph Junghans             Joe Jordan        \n",
            "    Dimitrios Karkoulis            Peter Kasson                Jiri Kraus        \n",
            "      Carsten Kutzner              Per Larsson              Justin A. Lemkul     \n",
            "       Viveca Lindahl            Magnus Lundborg             Erik Marklund       \n",
            "        Pascal Merz             Pieter Meulenhoff            Teemu Murtola       \n",
            "        Szilard Pall               Sander Pronk              Roland Schulz       \n",
            "       Michael Shirts            Alexey Shvetsov             Alfons Sijbers      \n",
            "       Peter Tieleman              Jon Vincent              Teemu Virolainen     \n",
            "     Christian Wennberg            Maarten Wolf              Artem Zhmurov       \n",
            "                           and the project leaders:\n",
            "        Mark Abraham, Berk Hess, Erik Lindahl, and David van der Spoel\n",
            "\n",
            "Copyright (c) 1991-2000, University of Groningen, The Netherlands.\n",
            "Copyright (c) 2001-2019, The GROMACS development team at\n",
            "Uppsala University, Stockholm University and\n",
            "the Royal Institute of Technology, Sweden.\n",
            "check out http://www.gromacs.org for more information.\n",
            "\n",
            "GROMACS is free software; you can redistribute it and/or modify it\n",
            "under the terms of the GNU Lesser General Public License\n",
            "as published by the Free Software Foundation; either version 2.1\n",
            "of the License, or (at your option) any later version.\n",
            "\n",
            "GROMACS:      gmx grompp, version 2021\n",
            "Executable:   /usr/local/gromacs/bin/gmx\n",
            "Data prefix:  /usr/local/gromacs\n",
            "Working dir:  /content\n",
            "Command line:\n",
            "  gmx grompp -f minim.mdp -c solv_ions.gro -p topol.top -o em.tpr\n",
            "\n",
            "Ignoring obsolete mdp entry 'ns_type'\n",
            "\n",
            "NOTE 1 [file minim.mdp]:\n",
            "  With Verlet lists the optimal nstlist is >= 10, with GPUs >= 20. Note\n",
            "  that with the Verlet scheme, nstlist has no effect on the accuracy of\n",
            "  your simulation.\n",
            "\n",
            "Generating 1-4 interactions: fudge = 0.5\n",
            "Number of degrees of freedom in T-Coupling group rest is 2532.00\n",
            "\n",
            "There was 1 note\n",
            "\n",
            "GROMACS reminds you: \"Cut It Deep and Cut It Wide\" (The Walkabouts)\n",
            "\n"
          ]
        }
      ]
    },
    {
      "cell_type": "code",
      "source": [
        "%%bash\n",
        "source /usr/local/gromacs/bin/GMXRC\n",
        "gmx mdrun -v -deffnm em -pin on -nb gpu"
      ],
      "metadata": {
        "colab": {
          "base_uri": "https://localhost:8080/"
        },
        "id": "KW76OvAsHkMe",
        "outputId": "49a3daa7-bdbc-4a35-9b70-bc141b118ec9"
      },
      "execution_count": 75,
      "outputs": [
        {
          "output_type": "stream",
          "name": "stderr",
          "text": [
            "                       :-) GROMACS - gmx mdrun, 2021 (-:\n",
            "\n",
            "                            GROMACS is written by:\n",
            "     Andrey Alekseenko              Emile Apol              Rossen Apostolov     \n",
            "         Paul Bauer           Herman J.C. Berendsen           Par Bjelkmar       \n",
            "       Christian Blau           Viacheslav Bolnykh             Kevin Boyd        \n",
            "     Aldert van Buuren           Rudi van Drunen             Anton Feenstra      \n",
            "    Gilles Gouaillardet             Alan Gray               Gerrit Groenhof      \n",
            "       Anca Hamuraru            Vincent Hindriksen          M. Eric Irrgang      \n",
            "      Aleksei Iupinov           Christoph Junghans             Joe Jordan        \n",
            "    Dimitrios Karkoulis            Peter Kasson                Jiri Kraus        \n",
            "      Carsten Kutzner              Per Larsson              Justin A. Lemkul     \n",
            "       Viveca Lindahl            Magnus Lundborg             Erik Marklund       \n",
            "        Pascal Merz             Pieter Meulenhoff            Teemu Murtola       \n",
            "        Szilard Pall               Sander Pronk              Roland Schulz       \n",
            "       Michael Shirts            Alexey Shvetsov             Alfons Sijbers      \n",
            "       Peter Tieleman              Jon Vincent              Teemu Virolainen     \n",
            "     Christian Wennberg            Maarten Wolf              Artem Zhmurov       \n",
            "                           and the project leaders:\n",
            "        Mark Abraham, Berk Hess, Erik Lindahl, and David van der Spoel\n",
            "\n",
            "Copyright (c) 1991-2000, University of Groningen, The Netherlands.\n",
            "Copyright (c) 2001-2019, The GROMACS development team at\n",
            "Uppsala University, Stockholm University and\n",
            "the Royal Institute of Technology, Sweden.\n",
            "check out http://www.gromacs.org for more information.\n",
            "\n",
            "GROMACS is free software; you can redistribute it and/or modify it\n",
            "under the terms of the GNU Lesser General Public License\n",
            "as published by the Free Software Foundation; either version 2.1\n",
            "of the License, or (at your option) any later version.\n",
            "\n",
            "GROMACS:      gmx mdrun, version 2021\n",
            "Executable:   /usr/local/gromacs/bin/gmx\n",
            "Data prefix:  /usr/local/gromacs\n",
            "Working dir:  /content\n",
            "Command line:\n",
            "  gmx mdrun -v -deffnm em -pin on -nb gpu\n",
            "\n",
            "Reading file em.tpr, VERSION 2021 (single precision)\n",
            "1 GPU selected for this run.\n",
            "Mapping of GPU IDs to the 1 GPU task in the 1 rank on this node:\n",
            "  PP:0\n",
            "PP tasks will do (non-perturbed) short-ranged interactions on the GPU\n",
            "PP task will update and constrain coordinates on the CPU\n",
            "Using 1 MPI thread\n",
            "Using 2 OpenMP threads \n",
            "\n",
            "\n",
            "Steepest Descents:\n",
            "   Tolerance (Fmax)   =  1.00000e+03\n",
            "   Number of steps    =        50000\n",
            "Step=    0, Dmax= 1.0e-02 nm, Epot= -5.60276e+03 Fmax= 1.00478e+05, atom= 980\n",
            "Step=    1, Dmax= 1.0e-02 nm, Epot= -7.62282e+03 Fmax= 3.33622e+04, atom= 2095\n",
            "Step=    2, Dmax= 1.2e-02 nm, Epot= -9.66092e+03 Fmax= 1.83784e+04, atom= 1250\n",
            "Step=    3, Dmax= 1.4e-02 nm, Epot= -1.10285e+04 Fmax= 8.05426e+03, atom= 980\n",
            "Step=    4, Dmax= 1.7e-02 nm, Epot= -1.23232e+04 Fmax= 7.41756e+03, atom= 1250\n",
            "Step=    5, Dmax= 2.1e-02 nm, Epot= -1.29964e+04 Fmax= 6.43200e+03, atom= 980\n",
            "Step=    6, Dmax= 2.5e-02 nm, Epot= -1.35643e+04 Fmax= 2.68251e+03, atom= 1250\n",
            "Step=    7, Dmax= 3.0e-02 nm, Epot= -1.42784e+04 Fmax= 1.08453e+04, atom= 8\n",
            "Step=    8, Dmax= 3.6e-02 nm, Epot= -1.40778e+04 Fmax= 2.30993e+04, atom= 8\rStep=    9, Dmax= 1.8e-02 nm, Epot= -1.45128e+04 Fmax= 6.53056e+03, atom= 8\n",
            "Step=   10, Dmax= 2.1e-02 nm, Epot= -1.45065e+04 Fmax= 1.53727e+04, atom= 8\rStep=   11, Dmax= 1.1e-02 nm, Epot= -1.46288e+04 Fmax= 4.27777e+03, atom= 8\n",
            "Step=   12, Dmax= 1.3e-02 nm, Epot= -1.47204e+04 Fmax= 7.98710e+03, atom= 8\n",
            "Step=   13, Dmax= 1.5e-02 nm, Epot= -1.48122e+04 Fmax= 7.53673e+03, atom= 8\n",
            "Step=   14, Dmax= 1.9e-02 nm, Epot= -1.48517e+04 Fmax= 1.03503e+04, atom= 8\n",
            "Step=   15, Dmax= 2.2e-02 nm, Epot= -1.49052e+04 Fmax= 1.19822e+04, atom= 8\n",
            "Step=   16, Dmax= 2.7e-02 nm, Epot= -1.49197e+04 Fmax= 1.38818e+04, atom= 8\n",
            "Step=   17, Dmax= 3.2e-02 nm, Epot= -1.48824e+04 Fmax= 1.82812e+04, atom= 8\rStep=   18, Dmax= 1.6e-02 nm, Epot= -1.51490e+04 Fmax= 1.86444e+03, atom= 8\n",
            "Step=   19, Dmax= 1.9e-02 nm, Epot= -1.52182e+04 Fmax= 1.57724e+04, atom= 8\n",
            "Step=   20, Dmax= 2.3e-02 nm, Epot= -1.54562e+04 Fmax= 6.97801e+03, atom= 8\n",
            "Step=   21, Dmax= 2.8e-02 nm, Epot= -1.52190e+04 Fmax= 1.93944e+04, atom= 8\rStep=   22, Dmax= 1.4e-02 nm, Epot= -1.55079e+04 Fmax= 6.44603e+03, atom= 8\n",
            "Step=   23, Dmax= 1.7e-02 nm, Epot= -1.55126e+04 Fmax= 1.02544e+04, atom= 8\n",
            "Step=   24, Dmax= 2.0e-02 nm, Epot= -1.55699e+04 Fmax= 9.15028e+03, atom= 8\n",
            "Step=   25, Dmax= 2.4e-02 nm, Epot= -1.55058e+04 Fmax= 1.48789e+04, atom= 8\rStep=   26, Dmax= 1.2e-02 nm, Epot= -1.56757e+04 Fmax= 2.67057e+03, atom= 8\n",
            "Step=   27, Dmax= 1.4e-02 nm, Epot= -1.56769e+04 Fmax= 1.09057e+04, atom= 8\n",
            "Step=   28, Dmax= 1.7e-02 nm, Epot= -1.57910e+04 Fmax= 6.13381e+03, atom= 8\n",
            "Step=   29, Dmax= 2.1e-02 nm, Epot= -1.57020e+04 Fmax= 1.37182e+04, atom= 8\rStep=   30, Dmax= 1.0e-02 nm, Epot= -1.58425e+04 Fmax= 3.93042e+03, atom= 8\n",
            "Step=   31, Dmax= 1.2e-02 nm, Epot= -1.58480e+04 Fmax= 8.57526e+03, atom= 8\n",
            "Step=   32, Dmax= 1.5e-02 nm, Epot= -1.59118e+04 Fmax= 5.96035e+03, atom= 8\n",
            "Step=   33, Dmax= 1.8e-02 nm, Epot= -1.58651e+04 Fmax= 1.20001e+04, atom= 8\rStep=   34, Dmax= 8.9e-03 nm, Epot= -1.59654e+04 Fmax= 2.91026e+03, atom= 8\n",
            "Step=   35, Dmax= 1.1e-02 nm, Epot= -1.59819e+04 Fmax= 7.34285e+03, atom= 8\n",
            "Step=   36, Dmax= 1.3e-02 nm, Epot= -1.60363e+04 Fmax= 5.42738e+03, atom= 8\n",
            "Step=   37, Dmax= 1.5e-02 nm, Epot= -1.60194e+04 Fmax= 9.47729e+03, atom= 8\rStep=   38, Dmax= 7.7e-03 nm, Epot= -1.60817e+04 Fmax= 2.10788e+03, atom= 8\n",
            "Step=   39, Dmax= 9.3e-03 nm, Epot= -1.61040e+04 Fmax= 7.30862e+03, atom= 8\n",
            "Step=   40, Dmax= 1.1e-02 nm, Epot= -1.61635e+04 Fmax= 3.57138e+03, atom= 8\n",
            "Step=   41, Dmax= 1.3e-02 nm, Epot= -1.61386e+04 Fmax= 9.88994e+03, atom= 8\rStep=   42, Dmax= 6.7e-03 nm, Epot= -1.61943e+04 Fmax= 3.09823e+03, atom= 8\n",
            "Step=   43, Dmax= 8.0e-03 nm, Epot= -1.62183e+04 Fmax= 4.61794e+03, atom= 8\n",
            "Step=   44, Dmax= 9.6e-03 nm, Epot= -1.62450e+04 Fmax= 4.96436e+03, atom= 8\n",
            "Step=   45, Dmax= 1.2e-02 nm, Epot= -1.62607e+04 Fmax= 6.21663e+03, atom= 8\n",
            "Step=   46, Dmax= 1.4e-02 nm, Epot= -1.62746e+04 Fmax= 7.56274e+03, atom= 8\n",
            "Step=   47, Dmax= 1.7e-02 nm, Epot= -1.62830e+04 Fmax= 8.58171e+03, atom= 8\n",
            "Step=   48, Dmax= 2.0e-02 nm, Epot= -1.62667e+04 Fmax= 1.12542e+04, atom= 8\rStep=   49, Dmax= 1.0e-02 nm, Epot= -1.63691e+04 Fmax= 1.20696e+03, atom= 8\n",
            "Step=   50, Dmax= 1.2e-02 nm, Epot= -1.63917e+04 Fmax= 9.98457e+03, atom= 8\n",
            "Step=   51, Dmax= 1.4e-02 nm, Epot= -1.64892e+04 Fmax= 4.13140e+03, atom= 8\n",
            "Step=   52, Dmax= 1.7e-02 nm, Epot= -1.63983e+04 Fmax= 1.24068e+04, atom= 8\rStep=   53, Dmax= 8.6e-03 nm, Epot= -1.65102e+04 Fmax= 4.23280e+03, atom= 8\n",
            "Step=   54, Dmax= 1.0e-02 nm, Epot= -1.65196e+04 Fmax= 6.05907e+03, atom= 8\n",
            "Step=   55, Dmax= 1.2e-02 nm, Epot= -1.65395e+04 Fmax= 6.02106e+03, atom= 8\n",
            "Step=   56, Dmax= 1.5e-02 nm, Epot= -1.65283e+04 Fmax= 8.78591e+03, atom= 8\rStep=   57, Dmax= 7.4e-03 nm, Epot= -1.65862e+04 Fmax= 1.31089e+03, atom= 8\n",
            "Step=   58, Dmax= 8.9e-03 nm, Epot= -1.66059e+04 Fmax= 7.15551e+03, atom= 8\n",
            "Step=   59, Dmax= 1.1e-02 nm, Epot= -1.66594e+04 Fmax= 3.40613e+03, atom= 8\n",
            "Step=   60, Dmax= 1.3e-02 nm, Epot= -1.66262e+04 Fmax= 8.99794e+03, atom= 8\rStep=   61, Dmax= 6.4e-03 nm, Epot= -1.66800e+04 Fmax= 2.85101e+03, atom= 8\n",
            "Step=   62, Dmax= 7.7e-03 nm, Epot= -1.66911e+04 Fmax= 4.84215e+03, atom= 8\n",
            "Step=   63, Dmax= 9.3e-03 nm, Epot= -1.67131e+04 Fmax= 4.19196e+03, atom= 8\n",
            "Step=   64, Dmax= 1.1e-02 nm, Epot= -1.67098e+04 Fmax= 6.86546e+03, atom= 8\rStep=   65, Dmax= 5.6e-03 nm, Epot= -1.67406e+04 Fmax= 1.29776e+03, atom= 8\n",
            "Step=   66, Dmax= 6.7e-03 nm, Epot= -1.67620e+04 Fmax= 5.07009e+03, atom= 8\n",
            "Step=   67, Dmax= 8.0e-03 nm, Epot= -1.67930e+04 Fmax= 2.83116e+03, atom= 8\n",
            "Step=   68, Dmax= 9.6e-03 nm, Epot= -1.67881e+04 Fmax= 6.45885e+03, atom= 8\rStep=   69, Dmax= 4.8e-03 nm, Epot= -1.68113e+04 Fmax= 1.84674e+03, atom= 8\n",
            "Step=   70, Dmax= 5.8e-03 nm, Epot= -1.68261e+04 Fmax= 3.91024e+03, atom= 8\n",
            "Step=   71, Dmax= 6.9e-03 nm, Epot= -1.68467e+04 Fmax= 2.84246e+03, atom= 8\n",
            "Step=   72, Dmax= 8.3e-03 nm, Epot= -1.68503e+04 Fmax= 5.42019e+03, atom= 8\n",
            "Step=   73, Dmax= 1.0e-02 nm, Epot= -1.68739e+04 Fmax= 4.31655e+03, atom= 8\n",
            "Step=   74, Dmax= 1.2e-02 nm, Epot= -1.68599e+04 Fmax= 7.56273e+03, atom= 8\rStep=   75, Dmax= 6.0e-03 nm, Epot= -1.69005e+04 Fmax= 1.57556e+03, atom= 8\n",
            "Step=   76, Dmax= 7.2e-03 nm, Epot= -1.69097e+04 Fmax= 5.33485e+03, atom= 8\n",
            "Step=   77, Dmax= 8.6e-03 nm, Epot= -1.69399e+04 Fmax= 3.14795e+03, atom= 8\n",
            "Step=   78, Dmax= 1.0e-02 nm, Epot= -1.69272e+04 Fmax= 6.87029e+03, atom= 8\rStep=   79, Dmax= 5.2e-03 nm, Epot= -1.69577e+04 Fmax= 1.89845e+03, atom= 8\n",
            "Step=   80, Dmax= 6.2e-03 nm, Epot= -1.69676e+04 Fmax= 4.26996e+03, atom= 8\n",
            "Step=   81, Dmax= 7.4e-03 nm, Epot= -1.69883e+04 Fmax= 3.00653e+03, atom= 8\n",
            "Step=   82, Dmax= 8.9e-03 nm, Epot= -1.69855e+04 Fmax= 5.85813e+03, atom= 8\rStep=   83, Dmax= 4.5e-03 nm, Epot= -1.70056e+04 Fmax= 1.40036e+03, atom= 8\n",
            "Step=   84, Dmax= 5.3e-03 nm, Epot= -1.70200e+04 Fmax= 3.77560e+03, atom= 8\n",
            "Step=   85, Dmax= 6.4e-03 nm, Epot= -1.70391e+04 Fmax= 2.56609e+03, atom= 8\n",
            "Step=   86, Dmax= 7.7e-03 nm, Epot= -1.70417e+04 Fmax= 4.93083e+03, atom= 8\n",
            "Step=   87, Dmax= 9.2e-03 nm, Epot= -1.70611e+04 Fmax= 4.20005e+03, atom= 8\n",
            "Step=   88, Dmax= 1.1e-02 nm, Epot= -1.70523e+04 Fmax= 6.61609e+03, atom= 8\rStep=   89, Dmax= 5.5e-03 nm, Epot= -1.70846e+04 Fmax= 1.25225e+03, atom= 8\n",
            "Step=   90, Dmax= 6.7e-03 nm, Epot= -1.70928e+04 Fmax= 5.39354e+03, atom= 8\n",
            "Step=   91, Dmax= 8.0e-03 nm, Epot= -1.71235e+04 Fmax= 2.46162e+03, atom= 8\n",
            "Step=   92, Dmax= 9.6e-03 nm, Epot= -1.71065e+04 Fmax= 7.08326e+03, atom= 8\rStep=   93, Dmax= 4.8e-03 nm, Epot= -1.71366e+04 Fmax= 2.27890e+03, atom= 8\n",
            "Step=   94, Dmax= 5.7e-03 nm, Epot= -1.71460e+04 Fmax= 3.33847e+03, atom= 8\n",
            "Step=   95, Dmax= 6.9e-03 nm, Epot= -1.71578e+04 Fmax= 3.48434e+03, atom= 8\n",
            "Step=   96, Dmax= 8.3e-03 nm, Epot= -1.71628e+04 Fmax= 4.61391e+03, atom= 8\n",
            "Step=   97, Dmax= 9.9e-03 nm, Epot= -1.71705e+04 Fmax= 5.21165e+03, atom= 8\n",
            "Step=   98, Dmax= 1.2e-02 nm, Epot= -1.71690e+04 Fmax= 6.45106e+03, atom= 8\rStep=   99, Dmax= 6.0e-03 nm, Epot= -1.72022e+04 Fmax= 6.73325e+02, atom= 8\n",
            "\n",
            "writing lowest energy coordinates.\n",
            "\n",
            "Steepest Descents converged to Fmax < 1000 in 100 steps\n",
            "Potential Energy  = -1.7202160e+04\n",
            "Maximum force     =  6.7332471e+02 on atom 8\n",
            "Norm of force     =  5.6213048e+01\n",
            "\n",
            "GROMACS reminds you: \"Mathematics is a game played according to certain rules with meaningless marks on paper.\" (David Hilbert)\n",
            "\n"
          ]
        }
      ]
    },
    {
      "cell_type": "markdown",
      "source": [
        "-----GRAFICANDO RESULTADOS MINIM------"
      ],
      "metadata": {
        "id": "QMzpFtUpIFfp"
      }
    },
    {
      "cell_type": "code",
      "source": [
        "%%bash\n",
        "source /usr/local/gromacs/bin/GMXRC\n",
        "printf \"9 0\" | gmx energy -f em.edr -o potential.xvg"
      ],
      "metadata": {
        "colab": {
          "base_uri": "https://localhost:8080/"
        },
        "id": "J8UA-U42Gmly",
        "outputId": "ec9f452c-430e-4901-d332-e11fee71dc6b"
      },
      "execution_count": 77,
      "outputs": [
        {
          "output_type": "stream",
          "name": "stdout",
          "text": [
            "\n",
            "Statistics over 100 steps [ 0.0000 through 99.0000 ps ], 1 data sets\n",
            "All statistics are over 79 points (frames)\n",
            "\n",
            "Energy                      Average   Err.Est.       RMSD  Tot-Drift\n",
            "-------------------------------------------------------------------------------\n",
            "Potential                  -15769.2        740    1999.81   -4880.97  (kJ/mol)\n"
          ]
        },
        {
          "output_type": "stream",
          "name": "stderr",
          "text": [
            "                       :-) GROMACS - gmx energy, 2021 (-:\n",
            "\n",
            "                            GROMACS is written by:\n",
            "     Andrey Alekseenko              Emile Apol              Rossen Apostolov     \n",
            "         Paul Bauer           Herman J.C. Berendsen           Par Bjelkmar       \n",
            "       Christian Blau           Viacheslav Bolnykh             Kevin Boyd        \n",
            "     Aldert van Buuren           Rudi van Drunen             Anton Feenstra      \n",
            "    Gilles Gouaillardet             Alan Gray               Gerrit Groenhof      \n",
            "       Anca Hamuraru            Vincent Hindriksen          M. Eric Irrgang      \n",
            "      Aleksei Iupinov           Christoph Junghans             Joe Jordan        \n",
            "    Dimitrios Karkoulis            Peter Kasson                Jiri Kraus        \n",
            "      Carsten Kutzner              Per Larsson              Justin A. Lemkul     \n",
            "       Viveca Lindahl            Magnus Lundborg             Erik Marklund       \n",
            "        Pascal Merz             Pieter Meulenhoff            Teemu Murtola       \n",
            "        Szilard Pall               Sander Pronk              Roland Schulz       \n",
            "       Michael Shirts            Alexey Shvetsov             Alfons Sijbers      \n",
            "       Peter Tieleman              Jon Vincent              Teemu Virolainen     \n",
            "     Christian Wennberg            Maarten Wolf              Artem Zhmurov       \n",
            "                           and the project leaders:\n",
            "        Mark Abraham, Berk Hess, Erik Lindahl, and David van der Spoel\n",
            "\n",
            "Copyright (c) 1991-2000, University of Groningen, The Netherlands.\n",
            "Copyright (c) 2001-2019, The GROMACS development team at\n",
            "Uppsala University, Stockholm University and\n",
            "the Royal Institute of Technology, Sweden.\n",
            "check out http://www.gromacs.org for more information.\n",
            "\n",
            "GROMACS is free software; you can redistribute it and/or modify it\n",
            "under the terms of the GNU Lesser General Public License\n",
            "as published by the Free Software Foundation; either version 2.1\n",
            "of the License, or (at your option) any later version.\n",
            "\n",
            "GROMACS:      gmx energy, version 2021\n",
            "Executable:   /usr/local/gromacs/bin/gmx\n",
            "Data prefix:  /usr/local/gromacs\n",
            "Working dir:  /content\n",
            "Command line:\n",
            "  gmx energy -f em.edr -o potential.xvg\n",
            "\n",
            "Opened em.edr as single precision energy file\n",
            "\n",
            "Select the terms you want from the following list by\n",
            "selecting either (part of) the name or the number or a combination.\n",
            "End your selection with an empty line or a zero.\n",
            "-------------------------------------------------------------------\n",
            "  1  Bond             2  Angle            3  Ryckaert-Bell.   4  LJ-14         \n",
            "  5  Coulomb-14       6  LJ-(SR)          7  Coulomb-(SR)     8  Coul.-recip.  \n",
            "  9  Potential       10  Pressure        11  Vir-XX          12  Vir-XY        \n",
            " 13  Vir-XZ          14  Vir-YX          15  Vir-YY          16  Vir-YZ        \n",
            " 17  Vir-ZX          18  Vir-ZY          19  Vir-ZZ          20  Pres-XX       \n",
            " 21  Pres-XY         22  Pres-XZ         23  Pres-YX         24  Pres-YY       \n",
            " 25  Pres-YZ         26  Pres-ZX         27  Pres-ZY         28  Pres-ZZ       \n",
            " 29  #Surf*SurfTen   30  T-rest        \n",
            "\n",
            "\rReading energy frame      0 time    0.000         \rReading energy frame      1 time    1.000         \rReading energy frame      2 time    2.000         \rReading energy frame      3 time    3.000         \rReading energy frame      4 time    4.000         \rReading energy frame      5 time    5.000         \rReading energy frame      6 time    6.000         \rReading energy frame      7 time    7.000         \rReading energy frame      8 time    9.000         \rReading energy frame      9 time   11.000         \rReading energy frame     10 time   12.000         \rReading energy frame     11 time   13.000         \rReading energy frame     12 time   14.000         \rReading energy frame     13 time   15.000         \rReading energy frame     14 time   16.000         \rReading energy frame     15 time   18.000         \rReading energy frame     16 time   19.000         \rReading energy frame     17 time   20.000         \rReading energy frame     18 time   22.000         \rReading energy frame     19 time   23.000         \rReading energy frame     20 time   24.000         \rReading energy frame     30 time   38.000         \rReading energy frame     40 time   50.000         \rReading energy frame     50 time   63.000         \rReading energy frame     60 time   76.000         \rReading energy frame     70 time   89.000         \rLast energy frame read 78 time   99.000         \n",
            "\n",
            "GROMACS reminds you: \"In physics, you don't have to go around making trouble for yourself. Nature does it for you.\" (Frank Wilczek)\n",
            "\n"
          ]
        }
      ]
    },
    {
      "cell_type": "markdown",
      "source": [
        "__7. EQUILIBRIO 1 (NVT)__"
      ],
      "metadata": {
        "id": "vapPPAj8Kq6w"
      }
    },
    {
      "cell_type": "markdown",
      "source": [
        "Necesitamos 3 cosas:\\\n",
        "(1) Primero requerimos crear un archivo de índice: index.ndx\n",
        "gmx make_ndx -f em.gro -o index.ndx\n",
        "(puedes generarlo localmente)\n",
        "Se selecionaron: \"2\", luego \"4\" y luego \"q\" para guardar y salir \\\n",
        "(2) Se descargó el archivo nvt.mdp \\\n",
        "(3) En la fila tc-grps se editó, colocando los archivos que llamaremos:\\\n",
        "tc-grps                 = Other SOL ;Protein Non-Protein   ; two coupling groups - more accurate"
      ],
      "metadata": {
        "id": "shbB7v62MzO2"
      }
    },
    {
      "cell_type": "code",
      "source": [
        "%%bash\n",
        "source /usr/local/gromacs/bin/GMXRC\n",
        "gmx grompp -f nvt.mdp -c em.gro -r em.gro -p topol.top -n index.ndx -o nvt.tpr"
      ],
      "metadata": {
        "colab": {
          "base_uri": "https://localhost:8080/"
        },
        "id": "q7n8JFvUG5hQ",
        "outputId": "5116eec5-a620-45ec-dd22-a5c8d7eb3985"
      },
      "execution_count": 82,
      "outputs": [
        {
          "output_type": "stream",
          "name": "stdout",
          "text": [
            "Setting the LD random seed to -68259525\n",
            "\n",
            "Generated 330891 of the 330891 non-bonded parameter combinations\n",
            "\n",
            "Generated 330891 of the 330891 1-4 parameter combinations\n",
            "\n",
            "Excluding 3 bonded neighbours molecule type 'Other'\n",
            "\n",
            "turning H bonds into constraints...\n",
            "\n",
            "Excluding 2 bonded neighbours molecule type 'SOL'\n",
            "\n",
            "turning H bonds into constraints...\n",
            "\n",
            "Setting gen_seed to -839401634\n",
            "\n",
            "Velocities were taken from a Maxwell distribution at 300 K\n",
            "\n",
            "Cleaning up constraints and constant bonded interactions with virtual sites\n",
            "\n",
            "Determining Verlet buffer for a tolerance of 0.005 kJ/mol/ps at 300 K\n",
            "\n",
            "Calculated rlist for 1x1 atom pair-list as 1.034 nm, buffer size 0.034 nm\n",
            "\n",
            "Set rlist, assuming 4x4 atom pair-list, to 1.000 nm, buffer size 0.000 nm\n",
            "\n",
            "Note that mdrun will redetermine rlist based on the actual pair-list setup\n",
            "Calculating fourier grid dimensions for X Y Z\n",
            "Using a fourier grid of 16x16x16, spacing 0.147 0.147 0.147\n",
            "\n",
            "Estimate for the relative computational load of the PME mesh part: 0.19\n",
            "\n",
            "This run will generate roughly 5 Mb of data\n"
          ]
        },
        {
          "output_type": "stream",
          "name": "stderr",
          "text": [
            "                       :-) GROMACS - gmx grompp, 2021 (-:\n",
            "\n",
            "                            GROMACS is written by:\n",
            "     Andrey Alekseenko              Emile Apol              Rossen Apostolov     \n",
            "         Paul Bauer           Herman J.C. Berendsen           Par Bjelkmar       \n",
            "       Christian Blau           Viacheslav Bolnykh             Kevin Boyd        \n",
            "     Aldert van Buuren           Rudi van Drunen             Anton Feenstra      \n",
            "    Gilles Gouaillardet             Alan Gray               Gerrit Groenhof      \n",
            "       Anca Hamuraru            Vincent Hindriksen          M. Eric Irrgang      \n",
            "      Aleksei Iupinov           Christoph Junghans             Joe Jordan        \n",
            "    Dimitrios Karkoulis            Peter Kasson                Jiri Kraus        \n",
            "      Carsten Kutzner              Per Larsson              Justin A. Lemkul     \n",
            "       Viveca Lindahl            Magnus Lundborg             Erik Marklund       \n",
            "        Pascal Merz             Pieter Meulenhoff            Teemu Murtola       \n",
            "        Szilard Pall               Sander Pronk              Roland Schulz       \n",
            "       Michael Shirts            Alexey Shvetsov             Alfons Sijbers      \n",
            "       Peter Tieleman              Jon Vincent              Teemu Virolainen     \n",
            "     Christian Wennberg            Maarten Wolf              Artem Zhmurov       \n",
            "                           and the project leaders:\n",
            "        Mark Abraham, Berk Hess, Erik Lindahl, and David van der Spoel\n",
            "\n",
            "Copyright (c) 1991-2000, University of Groningen, The Netherlands.\n",
            "Copyright (c) 2001-2019, The GROMACS development team at\n",
            "Uppsala University, Stockholm University and\n",
            "the Royal Institute of Technology, Sweden.\n",
            "check out http://www.gromacs.org for more information.\n",
            "\n",
            "GROMACS is free software; you can redistribute it and/or modify it\n",
            "under the terms of the GNU Lesser General Public License\n",
            "as published by the Free Software Foundation; either version 2.1\n",
            "of the License, or (at your option) any later version.\n",
            "\n",
            "GROMACS:      gmx grompp, version 2021\n",
            "Executable:   /usr/local/gromacs/bin/gmx\n",
            "Data prefix:  /usr/local/gromacs\n",
            "Working dir:  /content\n",
            "Command line:\n",
            "  gmx grompp -f nvt.mdp -c em.gro -r em.gro -p topol.top -n index.ndx -o nvt.tpr\n",
            "\n",
            "Ignoring obsolete mdp entry 'title'\n",
            "Ignoring obsolete mdp entry 'ns_type'\n",
            "Generating 1-4 interactions: fudge = 0.5\n",
            "Number of degrees of freedom in T-Coupling group Other is 20.98\n",
            "Number of degrees of freedom in T-Coupling group SOL is 2505.02\n",
            "\n",
            "NOTE 1 [file nvt.mdp]:\n",
            "  There are 836 non-linear virtual site constructions. Their contribution\n",
            "  to the energy error is approximated. In most cases this does not affect\n",
            "  the error significantly.\n",
            "\n",
            "\n",
            "NOTE 2 [file nvt.mdp]:\n",
            "  Removing center of mass motion in the presence of position restraints\n",
            "  might cause artifacts. When you are using position restraints to\n",
            "  equilibrate a macro-molecule, the artifacts are usually negligible.\n",
            "\n",
            "\n",
            "There were 2 notes\n",
            "\n",
            "GROMACS reminds you: \"Nada e organico, e tudo programado\" (Pitty)\n",
            "\n"
          ]
        }
      ]
    },
    {
      "cell_type": "code",
      "source": [
        "%%bash\n",
        "source /usr/local/gromacs/bin/GMXRC\n",
        "gmx mdrun -v -deffnm nvt -nb gpu"
      ],
      "metadata": {
        "colab": {
          "base_uri": "https://localhost:8080/"
        },
        "id": "TjF4ch3COCVI",
        "outputId": "ebb4c7b0-274d-4759-e48f-c91f3725b8fd"
      },
      "execution_count": 85,
      "outputs": [
        {
          "output_type": "stream",
          "name": "stderr",
          "text": [
            "                       :-) GROMACS - gmx mdrun, 2021 (-:\n",
            "\n",
            "                            GROMACS is written by:\n",
            "     Andrey Alekseenko              Emile Apol              Rossen Apostolov     \n",
            "         Paul Bauer           Herman J.C. Berendsen           Par Bjelkmar       \n",
            "       Christian Blau           Viacheslav Bolnykh             Kevin Boyd        \n",
            "     Aldert van Buuren           Rudi van Drunen             Anton Feenstra      \n",
            "    Gilles Gouaillardet             Alan Gray               Gerrit Groenhof      \n",
            "       Anca Hamuraru            Vincent Hindriksen          M. Eric Irrgang      \n",
            "      Aleksei Iupinov           Christoph Junghans             Joe Jordan        \n",
            "    Dimitrios Karkoulis            Peter Kasson                Jiri Kraus        \n",
            "      Carsten Kutzner              Per Larsson              Justin A. Lemkul     \n",
            "       Viveca Lindahl            Magnus Lundborg             Erik Marklund       \n",
            "        Pascal Merz             Pieter Meulenhoff            Teemu Murtola       \n",
            "        Szilard Pall               Sander Pronk              Roland Schulz       \n",
            "       Michael Shirts            Alexey Shvetsov             Alfons Sijbers      \n",
            "       Peter Tieleman              Jon Vincent              Teemu Virolainen     \n",
            "     Christian Wennberg            Maarten Wolf              Artem Zhmurov       \n",
            "                           and the project leaders:\n",
            "        Mark Abraham, Berk Hess, Erik Lindahl, and David van der Spoel\n",
            "\n",
            "Copyright (c) 1991-2000, University of Groningen, The Netherlands.\n",
            "Copyright (c) 2001-2019, The GROMACS development team at\n",
            "Uppsala University, Stockholm University and\n",
            "the Royal Institute of Technology, Sweden.\n",
            "check out http://www.gromacs.org for more information.\n",
            "\n",
            "GROMACS is free software; you can redistribute it and/or modify it\n",
            "under the terms of the GNU Lesser General Public License\n",
            "as published by the Free Software Foundation; either version 2.1\n",
            "of the License, or (at your option) any later version.\n",
            "\n",
            "GROMACS:      gmx mdrun, version 2021\n",
            "Executable:   /usr/local/gromacs/bin/gmx\n",
            "Data prefix:  /usr/local/gromacs\n",
            "Working dir:  /content\n",
            "Command line:\n",
            "  gmx mdrun -v -deffnm nvt -nb gpu\n",
            "\n",
            "Reading file nvt.tpr, VERSION 2021 (single precision)\n",
            "Changing nstlist from 10 to 40, rlist from 1 to 1.132\n",
            "\n",
            "1 GPU selected for this run.\n",
            "Mapping of GPU IDs to the 2 GPU tasks in the 1 rank on this node:\n",
            "  PP:0,PME:0\n",
            "PP tasks will do (non-perturbed) short-ranged interactions on the GPU\n",
            "PP task will update and constrain coordinates on the CPU\n",
            "PME tasks will do all aspects on the GPU\n",
            "Using 1 MPI thread\n",
            "Using 2 OpenMP threads \n",
            "\n",
            "starting mdrun 'EtOH in water'\n",
            "50000 steps,    100.0 ps.\n",
            "\rstep 0\rstep 100, remaining wall clock time:    22 s          \rstep 200, remaining wall clock time:    20 s          \rstep 300, remaining wall clock time:    18 s          \rstep 400, remaining wall clock time:    18 s          \rstep 500, remaining wall clock time:    18 s          \rstep 600, remaining wall clock time:    17 s          \rstep 700, remaining wall clock time:    17 s          \rstep 800, remaining wall clock time:    17 s          \rstep 900, remaining wall clock time:    17 s          \rstep 1000, remaining wall clock time:    16 s          \rstep 1100, remaining wall clock time:    16 s          \rstep 1200, remaining wall clock time:    16 s          \rstep 1300, remaining wall clock time:    16 s          \rstep 1400, remaining wall clock time:    16 s          \rstep 1500, remaining wall clock time:    16 s          \rstep 1600, remaining wall clock time:    16 s          \rstep 1700, remaining wall clock time:    16 s          \rstep 1800, remaining wall clock time:    16 s          \rstep 1900, remaining wall clock time:    16 s          \rstep 2000, remaining wall clock time:    16 s          \rstep 2100, remaining wall clock time:    16 s          \rstep 2200, remaining wall clock time:    16 s          \rstep 2300, remaining wall clock time:    15 s          \rstep 2400, remaining wall clock time:    15 s          \rstep 2500, remaining wall clock time:    15 s          \rstep 2600, remaining wall clock time:    15 s          \rstep 2700, remaining wall clock time:    15 s          \rstep 2800, remaining wall clock time:    15 s          \rstep 2900, remaining wall clock time:    15 s          \rstep 3000, remaining wall clock time:    15 s          \rstep 3100, remaining wall clock time:    15 s          \rstep 3200, remaining wall clock time:    15 s          \rstep 3300, remaining wall clock time:    15 s          \rstep 3400, remaining wall clock time:    15 s          \rstep 3500, remaining wall clock time:    15 s          \rstep 3600, remaining wall clock time:    14 s          \rstep 3700, remaining wall clock time:    14 s          \rstep 3800, remaining wall clock time:    14 s          \rstep 3900, remaining wall clock time:    14 s          \rstep 4000, remaining wall clock time:    14 s          \rstep 4100, remaining wall clock time:    14 s          \rstep 4200, remaining wall clock time:    14 s          \rstep 4300, remaining wall clock time:    14 s          \rstep 4400, remaining wall clock time:    14 s          \rstep 4500, remaining wall clock time:    14 s          \rstep 4600, remaining wall clock time:    14 s          \rstep 4700, remaining wall clock time:    14 s          \rstep 4800, remaining wall clock time:    14 s          \rstep 4900, remaining wall clock time:    14 s          \rstep 5000, remaining wall clock time:    14 s          \rstep 5100, remaining wall clock time:    14 s          \rstep 5200, remaining wall clock time:    14 s          \rstep 5300, remaining wall clock time:    14 s          \rstep 5400, remaining wall clock time:    14 s          \rstep 5500, remaining wall clock time:    14 s          \rstep 5600, remaining wall clock time:    14 s          \rstep 5700, remaining wall clock time:    14 s          \rstep 5800, remaining wall clock time:    14 s          \rstep 5900, remaining wall clock time:    14 s          \rstep 6000, remaining wall clock time:    14 s          \rstep 6100, remaining wall clock time:    13 s          \rstep 6200, remaining wall clock time:    13 s          \rstep 6300, remaining wall clock time:    13 s          \rstep 6400, remaining wall clock time:    13 s          \rstep 6500, remaining wall clock time:    13 s          \rstep 6600, remaining wall clock time:    13 s          \rstep 6700, remaining wall clock time:    13 s          \rstep 6800, remaining wall clock time:    13 s          \rstep 6900, remaining wall clock time:    13 s          \rstep 7000, remaining wall clock time:    13 s          \rstep 7100, remaining wall clock time:    13 s          \rstep 7200, remaining wall clock time:    13 s          \rstep 7300, remaining wall clock time:    13 s          \rstep 7400, remaining wall clock time:    13 s          \rstep 7500, remaining wall clock time:    13 s          \rstep 7600, remaining wall clock time:    13 s          \rstep 7700, remaining wall clock time:    13 s          \rstep 7800, remaining wall clock time:    13 s          \rstep 7900, remaining wall clock time:    13 s          \rstep 8000, remaining wall clock time:    13 s          \rstep 8100, remaining wall clock time:    13 s          \rstep 8200, remaining wall clock time:    13 s          \rstep 8300, remaining wall clock time:    13 s          \rstep 8400, remaining wall clock time:    13 s          \rstep 8500, remaining wall clock time:    13 s          \rstep 8600, remaining wall clock time:    13 s          \rstep 8700, remaining wall clock time:    12 s          \rstep 8800, remaining wall clock time:    12 s          \rstep 8900, remaining wall clock time:    12 s          \rstep 9000, remaining wall clock time:    12 s          \rstep 9100, remaining wall clock time:    12 s          \rstep 9200, remaining wall clock time:    12 s          \rstep 9300, remaining wall clock time:    12 s          \rstep 9400, remaining wall clock time:    12 s          \rstep 9500, remaining wall clock time:    12 s          \rstep 9600, remaining wall clock time:    12 s          \rstep 9700, remaining wall clock time:    12 s          \rstep 9800, remaining wall clock time:    12 s          \rstep 9900, remaining wall clock time:    12 s          \rstep 10000, remaining wall clock time:    12 s          \rstep 10100, remaining wall clock time:    12 s          \rstep 10200, remaining wall clock time:    12 s          \rstep 10300, remaining wall clock time:    12 s          \rstep 10400, remaining wall clock time:    12 s          \rstep 10500, remaining wall clock time:    12 s          \rstep 10600, remaining wall clock time:    12 s          \rstep 10700, remaining wall clock time:    12 s          \rstep 10800, remaining wall clock time:    12 s          \rstep 10900, remaining wall clock time:    12 s          \rstep 11000, remaining wall clock time:    12 s          \rstep 11100, remaining wall clock time:    12 s          \rstep 11200, remaining wall clock time:    12 s          \rstep 11300, remaining wall clock time:    12 s          \rstep 11400, remaining wall clock time:    12 s          \rstep 11500, remaining wall clock time:    12 s          \rstep 11600, remaining wall clock time:    12 s          \rstep 11700, remaining wall clock time:    11 s          \rstep 11800, remaining wall clock time:    11 s          \rstep 11900, remaining wall clock time:    11 s          \rstep 12000, remaining wall clock time:    11 s          \rstep 12100, remaining wall clock time:    11 s          \rstep 12200, remaining wall clock time:    11 s          \rstep 12300, remaining wall clock time:    11 s          \rstep 12400, remaining wall clock time:    11 s          \rstep 12500, remaining wall clock time:    11 s          \rstep 12600, remaining wall clock time:    11 s          \rstep 12700, remaining wall clock time:    11 s          \rstep 12800, remaining wall clock time:    11 s          \rstep 12900, remaining wall clock time:    11 s          \rstep 13000, remaining wall clock time:    11 s          \rstep 13100, remaining wall clock time:    11 s          \rstep 13200, remaining wall clock time:    11 s          \rstep 13300, remaining wall clock time:    11 s          \rstep 13400, remaining wall clock time:    11 s          \rstep 13500, remaining wall clock time:    11 s          \rstep 13600, remaining wall clock time:    11 s          \rstep 13700, remaining wall clock time:    11 s          \rstep 13800, remaining wall clock time:    11 s          \rstep 13900, remaining wall clock time:    11 s          \rstep 14000, remaining wall clock time:    11 s          \rstep 14100, remaining wall clock time:    11 s          \rstep 14200, remaining wall clock time:    11 s          \rstep 14300, remaining wall clock time:    11 s          \rstep 14400, remaining wall clock time:    11 s          \rstep 14500, remaining wall clock time:    11 s          \rstep 14600, remaining wall clock time:    11 s          \rstep 14700, remaining wall clock time:    11 s          \rstep 14800, remaining wall clock time:    11 s          \rstep 14900, remaining wall clock time:    10 s          \rstep 15000, remaining wall clock time:    10 s          \rstep 15100, remaining wall clock time:    10 s          \rstep 15200, remaining wall clock time:    10 s          \rstep 15300, remaining wall clock time:    10 s          \rstep 15400, remaining wall clock time:    10 s          \rstep 15500, remaining wall clock time:    10 s          \rstep 15600, remaining wall clock time:    10 s          \rstep 15700, remaining wall clock time:    10 s          \rstep 15800, remaining wall clock time:    10 s          \rstep 15900, remaining wall clock time:    10 s          \rstep 16040: timed with pme grid 16 16 16, coulomb cutoff 1.000: 25.5 M-cycles\n",
            "\rstep 16040: the box size limits the PME load balancing to a coulomb cut-off of 1.000\n",
            "\r              optimal pme grid 16 16 16, coulomb cutoff 1.000\n",
            "\rstep 16100, remaining wall clock time:    10 s          \rstep 16200, remaining wall clock time:    10 s          \rstep 16300, remaining wall clock time:    10 s          \rstep 16400, remaining wall clock time:    10 s          \rstep 16500, remaining wall clock time:    10 s          \rstep 16600, remaining wall clock time:    10 s          \rstep 16700, remaining wall clock time:    10 s          \rstep 16800, remaining wall clock time:    10 s          \rstep 16900, remaining wall clock time:    10 s          \rstep 17000, remaining wall clock time:    10 s          \rstep 17100, remaining wall clock time:    10 s          \rstep 17200, remaining wall clock time:    10 s          \rstep 17300, remaining wall clock time:    10 s          \rstep 17400, remaining wall clock time:    10 s          \rstep 17500, remaining wall clock time:    10 s          \rstep 17600, remaining wall clock time:    10 s          \rstep 17700, remaining wall clock time:    10 s          \rstep 17800, remaining wall clock time:    10 s          \rstep 17900, remaining wall clock time:    10 s          \rstep 18000, remaining wall clock time:    10 s          \rstep 18100, remaining wall clock time:     9 s          \rstep 18200, remaining wall clock time:     9 s          \rstep 18300, remaining wall clock time:     9 s          \rstep 18400, remaining wall clock time:     9 s          \rstep 18500, remaining wall clock time:     9 s          \rstep 18600, remaining wall clock time:     9 s          \rstep 18700, remaining wall clock time:     9 s          \rstep 18800, remaining wall clock time:     9 s          \rstep 18900, remaining wall clock time:     9 s          \rstep 19000, remaining wall clock time:     9 s          \rstep 19100, remaining wall clock time:     9 s          \rstep 19200, remaining wall clock time:     9 s          \rstep 19300, remaining wall clock time:     9 s          \rstep 19400, remaining wall clock time:     9 s          \rstep 19500, remaining wall clock time:     9 s          \rstep 19600, remaining wall clock time:     9 s          \rstep 19700, remaining wall clock time:     9 s          \rstep 19800, remaining wall clock time:     9 s          \rstep 19900, remaining wall clock time:     9 s          \rstep 20000, remaining wall clock time:     9 s          \rstep 20100, remaining wall clock time:     9 s          \rstep 20200, remaining wall clock time:     9 s          \rstep 20300, remaining wall clock time:     9 s          \rstep 20400, remaining wall clock time:     9 s          \rstep 20500, remaining wall clock time:     9 s          \rstep 20600, remaining wall clock time:     9 s          \rstep 20700, remaining wall clock time:     9 s          \rstep 20800, remaining wall clock time:     9 s          \rstep 20900, remaining wall clock time:     9 s          \rstep 21000, remaining wall clock time:     9 s          \rstep 21100, remaining wall clock time:     8 s          \rstep 21200, remaining wall clock time:     8 s          \rstep 21300, remaining wall clock time:     8 s          \rstep 21400, remaining wall clock time:     8 s          \rstep 21500, remaining wall clock time:     8 s          \rstep 21600, remaining wall clock time:     8 s          \rstep 21700, remaining wall clock time:     8 s          \rstep 21800, remaining wall clock time:     8 s          \rstep 21900, remaining wall clock time:     8 s          \rstep 22000, remaining wall clock time:     8 s          \rstep 22100, remaining wall clock time:     8 s          \rstep 22200, remaining wall clock time:     8 s          \rstep 22300, remaining wall clock time:     8 s          \rstep 22400, remaining wall clock time:     8 s          \rstep 22500, remaining wall clock time:     8 s          \rstep 22600, remaining wall clock time:     8 s          \rstep 22700, remaining wall clock time:     8 s          \rstep 22800, remaining wall clock time:     8 s          \rstep 22900, remaining wall clock time:     8 s          \rstep 23000, remaining wall clock time:     8 s          \rstep 23100, remaining wall clock time:     8 s          \rstep 23200, remaining wall clock time:     8 s          \rstep 23300, remaining wall clock time:     8 s          \rstep 23400, remaining wall clock time:     8 s          \rstep 23500, remaining wall clock time:     8 s          \rstep 23600, remaining wall clock time:     8 s          \rstep 23700, remaining wall clock time:     8 s          \rstep 23800, remaining wall clock time:     8 s          \rstep 23900, remaining wall clock time:     8 s          \rstep 24000, remaining wall clock time:     8 s          \rstep 24100, remaining wall clock time:     8 s          \rstep 24200, remaining wall clock time:     7 s          \rstep 24300, remaining wall clock time:     7 s          \rstep 24400, remaining wall clock time:     7 s          \rstep 24500, remaining wall clock time:     7 s          \rstep 24600, remaining wall clock time:     7 s          \rstep 24700, remaining wall clock time:     7 s          \rstep 24800, remaining wall clock time:     7 s          \rstep 24900, remaining wall clock time:     7 s          \rstep 25000, remaining wall clock time:     7 s          \rstep 25100, remaining wall clock time:     7 s          \rstep 25200, remaining wall clock time:     7 s          \rstep 25300, remaining wall clock time:     7 s          \rstep 25400, remaining wall clock time:     7 s          \rstep 25500, remaining wall clock time:     7 s          \rstep 25600, remaining wall clock time:     7 s          \rstep 25700, remaining wall clock time:     7 s          \rstep 25800, remaining wall clock time:     7 s          \rstep 25900, remaining wall clock time:     7 s          \rstep 26000, remaining wall clock time:     7 s          \rstep 26100, remaining wall clock time:     7 s          \rstep 26200, remaining wall clock time:     7 s          \rstep 26300, remaining wall clock time:     7 s          \rstep 26400, remaining wall clock time:     7 s          \rstep 26500, remaining wall clock time:     7 s          \rstep 26600, remaining wall clock time:     7 s          \rstep 26700, remaining wall clock time:     7 s          \rstep 26800, remaining wall clock time:     7 s          \rstep 26900, remaining wall clock time:     7 s          \rstep 27000, remaining wall clock time:     7 s          \rstep 27100, remaining wall clock time:     7 s          \rstep 27200, remaining wall clock time:     7 s          \rstep 27300, remaining wall clock time:     6 s          \rstep 27400, remaining wall clock time:     6 s          \rstep 27500, remaining wall clock time:     6 s          \rstep 27600, remaining wall clock time:     6 s          \rstep 27700, remaining wall clock time:     6 s          \rstep 27800, remaining wall clock time:     6 s          \rstep 27900, remaining wall clock time:     6 s          \rstep 28000, remaining wall clock time:     6 s          \rstep 28100, remaining wall clock time:     6 s          \rstep 28200, remaining wall clock time:     6 s          \rstep 28300, remaining wall clock time:     6 s          \rstep 28400, remaining wall clock time:     6 s          \rstep 28500, remaining wall clock time:     6 s          \rstep 28600, remaining wall clock time:     6 s          \rstep 28700, remaining wall clock time:     6 s          \rstep 28800, remaining wall clock time:     6 s          \rstep 28900, remaining wall clock time:     6 s          \rstep 29000, remaining wall clock time:     6 s          \rstep 29100, remaining wall clock time:     6 s          \rstep 29200, remaining wall clock time:     6 s          \rstep 29300, remaining wall clock time:     6 s          \rstep 29400, remaining wall clock time:     6 s          \rstep 29500, remaining wall clock time:     6 s          \rstep 29600, remaining wall clock time:     6 s          \rstep 29700, remaining wall clock time:     6 s          \rstep 29800, remaining wall clock time:     6 s          \rstep 29900, remaining wall clock time:     6 s          \rstep 30000, remaining wall clock time:     6 s          \rstep 30100, remaining wall clock time:     6 s          \rstep 30200, remaining wall clock time:     6 s          \rstep 30300, remaining wall clock time:     6 s          \rstep 30400, remaining wall clock time:     6 s          \rstep 30500, remaining wall clock time:     5 s          \rstep 30600, remaining wall clock time:     5 s          \rstep 30700, remaining wall clock time:     5 s          \rstep 30800, remaining wall clock time:     5 s          \rstep 30900, remaining wall clock time:     5 s          \rstep 31000, remaining wall clock time:     5 s          \rstep 31100, remaining wall clock time:     5 s          \rstep 31200, remaining wall clock time:     5 s          \rstep 31300, remaining wall clock time:     5 s          \rstep 31400, remaining wall clock time:     5 s          \rstep 31500, remaining wall clock time:     5 s          \rstep 31600, remaining wall clock time:     5 s          \rstep 31700, remaining wall clock time:     5 s          \rstep 31800, remaining wall clock time:     5 s          \rstep 31900, remaining wall clock time:     5 s          \rstep 32000, remaining wall clock time:     5 s          \rstep 32100, remaining wall clock time:     5 s          \rstep 32200, remaining wall clock time:     5 s          \rstep 32300, remaining wall clock time:     5 s          \rstep 32400, remaining wall clock time:     5 s          \rstep 32500, remaining wall clock time:     5 s          \rstep 32600, remaining wall clock time:     5 s          \rstep 32700, remaining wall clock time:     5 s          \rstep 32800, remaining wall clock time:     5 s          \rstep 32900, remaining wall clock time:     5 s          \rstep 33000, remaining wall clock time:     5 s          \rstep 33100, remaining wall clock time:     5 s          \rstep 33200, remaining wall clock time:     5 s          \rstep 33300, remaining wall clock time:     5 s          \rstep 33400, remaining wall clock time:     5 s          \rstep 33500, remaining wall clock time:     5 s          \rstep 33600, remaining wall clock time:     5 s          \rstep 33700, remaining wall clock time:     4 s          \rstep 33800, remaining wall clock time:     4 s          \rstep 33900, remaining wall clock time:     4 s          \rstep 34000, remaining wall clock time:     4 s          \rstep 34100, remaining wall clock time:     4 s          \rstep 34200, remaining wall clock time:     4 s          \rstep 34300, remaining wall clock time:     4 s          \rstep 34400, remaining wall clock time:     4 s          \rstep 34500, remaining wall clock time:     4 s          \rstep 34600, remaining wall clock time:     4 s          \rstep 34700, remaining wall clock time:     4 s          \rstep 34800, remaining wall clock time:     4 s          \rstep 34900, remaining wall clock time:     4 s          \rstep 35000, remaining wall clock time:     4 s          \rstep 35100, remaining wall clock time:     4 s          \rstep 35200, remaining wall clock time:     4 s          \rstep 35300, remaining wall clock time:     4 s          \rstep 35400, remaining wall clock time:     4 s          \rstep 35500, remaining wall clock time:     4 s          \rstep 35600, remaining wall clock time:     4 s          \rstep 35700, remaining wall clock time:     4 s          \rstep 35800, remaining wall clock time:     4 s          \rstep 35900, remaining wall clock time:     4 s          \rstep 36000, remaining wall clock time:     4 s          \rstep 36100, remaining wall clock time:     4 s          \rstep 36200, remaining wall clock time:     4 s          \rstep 36300, remaining wall clock time:     4 s          \rstep 36400, remaining wall clock time:     4 s          \rstep 36500, remaining wall clock time:     4 s          \rstep 36600, remaining wall clock time:     4 s          \rstep 36700, remaining wall clock time:     4 s          \rstep 36800, remaining wall clock time:     4 s          \rstep 36900, remaining wall clock time:     4 s          \rstep 37000, remaining wall clock time:     3 s          \rstep 37100, remaining wall clock time:     3 s          \rstep 37200, remaining wall clock time:     3 s          \rstep 37300, remaining wall clock time:     3 s          \rstep 37400, remaining wall clock time:     3 s          \rstep 37500, remaining wall clock time:     3 s          \rstep 37600, remaining wall clock time:     3 s          \rstep 37700, remaining wall clock time:     3 s          \rstep 37800, remaining wall clock time:     3 s          \rstep 37900, remaining wall clock time:     3 s          \rstep 38000, remaining wall clock time:     3 s          \rstep 38100, remaining wall clock time:     3 s          \rstep 38200, remaining wall clock time:     3 s          \rstep 38300, remaining wall clock time:     3 s          \rstep 38400, remaining wall clock time:     3 s          \rstep 38500, remaining wall clock time:     3 s          \rstep 38600, remaining wall clock time:     3 s          \rstep 38700, remaining wall clock time:     3 s          \rstep 38800, remaining wall clock time:     3 s          \rstep 38900, remaining wall clock time:     3 s          \rstep 39000, remaining wall clock time:     3 s          \rstep 39100, remaining wall clock time:     3 s          \rstep 39200, remaining wall clock time:     3 s          \rstep 39300, remaining wall clock time:     3 s          \rstep 39400, remaining wall clock time:     3 s          \rstep 39500, remaining wall clock time:     3 s          \rstep 39600, remaining wall clock time:     3 s          \rstep 39700, remaining wall clock time:     3 s          \rstep 39800, remaining wall clock time:     3 s          \rstep 39900, remaining wall clock time:     3 s          \rstep 40000, remaining wall clock time:     3 s          \rstep 40100, remaining wall clock time:     3 s          \rstep 40200, remaining wall clock time:     2 s          \rstep 40300, remaining wall clock time:     2 s          \rstep 40400, remaining wall clock time:     2 s          \rstep 40500, remaining wall clock time:     2 s          \rstep 40600, remaining wall clock time:     2 s          \rstep 40700, remaining wall clock time:     2 s          \rstep 40800, remaining wall clock time:     2 s          \rstep 40900, remaining wall clock time:     2 s          \rstep 41000, remaining wall clock time:     2 s          \rstep 41100, remaining wall clock time:     2 s          \rstep 41200, remaining wall clock time:     2 s          \rstep 41300, remaining wall clock time:     2 s          \rstep 41400, remaining wall clock time:     2 s          \rstep 41500, remaining wall clock time:     2 s          \rstep 41600, remaining wall clock time:     2 s          \rstep 41700, remaining wall clock time:     2 s          \rstep 41800, remaining wall clock time:     2 s          \rstep 41900, remaining wall clock time:     2 s          \rstep 42000, remaining wall clock time:     2 s          \rstep 42100, remaining wall clock time:     2 s          \rstep 42200, remaining wall clock time:     2 s          \rstep 42300, remaining wall clock time:     2 s          \rstep 42400, remaining wall clock time:     2 s          \rstep 42500, remaining wall clock time:     2 s          \rstep 42600, remaining wall clock time:     2 s          \rstep 42700, remaining wall clock time:     2 s          \rstep 42800, remaining wall clock time:     2 s          \rstep 42900, remaining wall clock time:     2 s          \rstep 43000, remaining wall clock time:     2 s          \rstep 43100, remaining wall clock time:     2 s          \rstep 43200, remaining wall clock time:     2 s          \rstep 43300, remaining wall clock time:     2 s          \rstep 43400, remaining wall clock time:     2 s          \rstep 43500, remaining wall clock time:     1 s          \rstep 43600, remaining wall clock time:     1 s          \rstep 43700, remaining wall clock time:     1 s          \rstep 43800, remaining wall clock time:     1 s          \rstep 43900, remaining wall clock time:     1 s          \rstep 44000, remaining wall clock time:     1 s          \rstep 44100, remaining wall clock time:     1 s          \rstep 44200, remaining wall clock time:     1 s          \rstep 44300, remaining wall clock time:     1 s          \rstep 44400, remaining wall clock time:     1 s          \rstep 44500, remaining wall clock time:     1 s          \rstep 44600, remaining wall clock time:     1 s          \rstep 44700, remaining wall clock time:     1 s          \rstep 44800, remaining wall clock time:     1 s          \rstep 44900, remaining wall clock time:     1 s          \rstep 45000, remaining wall clock time:     1 s          \rstep 45100, remaining wall clock time:     1 s          \rstep 45200, remaining wall clock time:     1 s          \rstep 45300, remaining wall clock time:     1 s          \rstep 45400, remaining wall clock time:     1 s          \rstep 45500, remaining wall clock time:     1 s          \rstep 45600, remaining wall clock time:     1 s          \rstep 45700, remaining wall clock time:     1 s          \rstep 45800, remaining wall clock time:     1 s          \rstep 45900, remaining wall clock time:     1 s          \rstep 46000, remaining wall clock time:     1 s          \rstep 46100, remaining wall clock time:     1 s          \rstep 46200, remaining wall clock time:     1 s          \rstep 46300, remaining wall clock time:     1 s          \rstep 46400, remaining wall clock time:     1 s          \rstep 46500, remaining wall clock time:     1 s          \rstep 46600, remaining wall clock time:     1 s          \rstep 46700, remaining wall clock time:     1 s          \rstep 46800, remaining wall clock time:     0 s          \rstep 46900, remaining wall clock time:     0 s          \rstep 47000, remaining wall clock time:     0 s          \rstep 47100, remaining wall clock time:     0 s          \rstep 47200, remaining wall clock time:     0 s          \rstep 47300, remaining wall clock time:     0 s          \rstep 47400, remaining wall clock time:     0 s          \rstep 47500, remaining wall clock time:     0 s          \rstep 47600, remaining wall clock time:     0 s          \rstep 47700, remaining wall clock time:     0 s          \rstep 47800, remaining wall clock time:     0 s          \rstep 47900, remaining wall clock time:     0 s          \rstep 48000, remaining wall clock time:     0 s          \rstep 48100, remaining wall clock time:     0 s          \rstep 48200, remaining wall clock time:     0 s          \rstep 48300, remaining wall clock time:     0 s          \rstep 48400, remaining wall clock time:     0 s          \rstep 48500, remaining wall clock time:     0 s          \rstep 48600, remaining wall clock time:     0 s          \rstep 48700, remaining wall clock time:     0 s          \rstep 48800, remaining wall clock time:     0 s          \rstep 48900, remaining wall clock time:     0 s          \rstep 49000, remaining wall clock time:     0 s          \rstep 49100, remaining wall clock time:     0 s          \rstep 49200, remaining wall clock time:     0 s          \rstep 49300, remaining wall clock time:     0 s          \rstep 49400, remaining wall clock time:     0 s          \rstep 49500, remaining wall clock time:     0 s          \rstep 49600, remaining wall clock time:     0 s          \rstep 49700, remaining wall clock time:     0 s          \rstep 49800, remaining wall clock time:     0 s          \rstep 49900, remaining wall clock time:     0 s          \n",
            "Writing final coordinates.\n",
            "\rstep 50000, remaining wall clock time:     0 s          \n",
            "NOTE: 15 % of the run time was spent in pair search,\n",
            "      you might want to increase nstlist (this has no effect on accuracy)\n",
            "\n",
            "               Core t (s)   Wall t (s)        (%)\n",
            "       Time:       30.736       15.368      200.0\n",
            "                 (ns/day)    (hour/ns)\n",
            "Performance:      562.205        0.043\n",
            "\n",
            "GROMACS reminds you: \"The Path Of the Righteous Man is Beset On All Sides With the Iniquities Of the Selfish and the Tyranny Of Evil Men.\" (Pulp Fiction)\n",
            "\n"
          ]
        }
      ]
    },
    {
      "cell_type": "markdown",
      "source": [
        "-----GRAFICANDO RESULTADOS NVT------"
      ],
      "metadata": {
        "id": "F9SkwcbNOopZ"
      }
    },
    {
      "cell_type": "code",
      "source": [
        "%%bash\n",
        "source /usr/local/gromacs/bin/GMXRC\n",
        "printf \"15 0\" | gmx energy -f nvt.edr -o temperature.xvg"
      ],
      "metadata": {
        "colab": {
          "base_uri": "https://localhost:8080/"
        },
        "id": "6W_6vdN0OebG",
        "outputId": "fd5f3cf4-0ae3-4386-87f5-10c03ca7580a"
      },
      "execution_count": 87,
      "outputs": [
        {
          "output_type": "stream",
          "name": "stdout",
          "text": [
            "\n",
            "Statistics over 50001 steps [ 0.0000 through 100.0000 ps ], 1 data sets\n",
            "All statistics are over 501 points\n",
            "\n",
            "Energy                      Average   Err.Est.       RMSD  Tot-Drift\n",
            "-------------------------------------------------------------------------------\n",
            "Temperature                 300.823       0.42    8.79918   -1.11226  (K)\n"
          ]
        },
        {
          "output_type": "stream",
          "name": "stderr",
          "text": [
            "                       :-) GROMACS - gmx energy, 2021 (-:\n",
            "\n",
            "                            GROMACS is written by:\n",
            "     Andrey Alekseenko              Emile Apol              Rossen Apostolov     \n",
            "         Paul Bauer           Herman J.C. Berendsen           Par Bjelkmar       \n",
            "       Christian Blau           Viacheslav Bolnykh             Kevin Boyd        \n",
            "     Aldert van Buuren           Rudi van Drunen             Anton Feenstra      \n",
            "    Gilles Gouaillardet             Alan Gray               Gerrit Groenhof      \n",
            "       Anca Hamuraru            Vincent Hindriksen          M. Eric Irrgang      \n",
            "      Aleksei Iupinov           Christoph Junghans             Joe Jordan        \n",
            "    Dimitrios Karkoulis            Peter Kasson                Jiri Kraus        \n",
            "      Carsten Kutzner              Per Larsson              Justin A. Lemkul     \n",
            "       Viveca Lindahl            Magnus Lundborg             Erik Marklund       \n",
            "        Pascal Merz             Pieter Meulenhoff            Teemu Murtola       \n",
            "        Szilard Pall               Sander Pronk              Roland Schulz       \n",
            "       Michael Shirts            Alexey Shvetsov             Alfons Sijbers      \n",
            "       Peter Tieleman              Jon Vincent              Teemu Virolainen     \n",
            "     Christian Wennberg            Maarten Wolf              Artem Zhmurov       \n",
            "                           and the project leaders:\n",
            "        Mark Abraham, Berk Hess, Erik Lindahl, and David van der Spoel\n",
            "\n",
            "Copyright (c) 1991-2000, University of Groningen, The Netherlands.\n",
            "Copyright (c) 2001-2019, The GROMACS development team at\n",
            "Uppsala University, Stockholm University and\n",
            "the Royal Institute of Technology, Sweden.\n",
            "check out http://www.gromacs.org for more information.\n",
            "\n",
            "GROMACS is free software; you can redistribute it and/or modify it\n",
            "under the terms of the GNU Lesser General Public License\n",
            "as published by the Free Software Foundation; either version 2.1\n",
            "of the License, or (at your option) any later version.\n",
            "\n",
            "GROMACS:      gmx energy, version 2021\n",
            "Executable:   /usr/local/gromacs/bin/gmx\n",
            "Data prefix:  /usr/local/gromacs\n",
            "Working dir:  /content\n",
            "Command line:\n",
            "  gmx energy -f nvt.edr -o temperature.xvg\n",
            "\n",
            "Opened nvt.edr as single precision energy file\n",
            "\n",
            "Select the terms you want from the following list by\n",
            "selecting either (part of) the name or the number or a combination.\n",
            "End your selection with an empty line or a zero.\n",
            "-------------------------------------------------------------------\n",
            "  1  Bond             2  Angle            3  Ryckaert-Bell.   4  LJ-14         \n",
            "  5  Coulomb-14       6  LJ-(SR)          7  Disper.-corr.    8  Coulomb-(SR)  \n",
            "  9  Coul.-recip.    10  Position-Rest.  11  Potential       12  Kinetic-En.   \n",
            " 13  Total-Energy    14  Conserved-En.   15  Temperature     16  Pres.-DC      \n",
            " 17  Pressure        18  Constr.-rmsd    19  Vir-XX          20  Vir-XY        \n",
            " 21  Vir-XZ          22  Vir-YX          23  Vir-YY          24  Vir-YZ        \n",
            " 25  Vir-ZX          26  Vir-ZY          27  Vir-ZZ          28  Pres-XX       \n",
            " 29  Pres-XY         30  Pres-XZ         31  Pres-YX         32  Pres-YY       \n",
            " 33  Pres-YZ         34  Pres-ZX         35  Pres-ZY         36  Pres-ZZ       \n",
            " 37  #Surf*SurfTen   38  T-Other         39  T-SOL           40  Lamb-Other    \n",
            " 41  Lamb-SOL      \n",
            "\n",
            "\rReading energy frame      0 time    0.000         \rReading energy frame      1 time    1.000         \rReading energy frame      2 time    2.000         \rReading energy frame      3 time    3.000         \rReading energy frame      4 time    4.000         \rReading energy frame      5 time    5.000         \rReading energy frame      6 time    6.000         \rReading energy frame      7 time    7.000         \rReading energy frame      8 time    8.000         \rReading energy frame      9 time    9.000         \rReading energy frame     10 time   10.000         \rReading energy frame     11 time   11.000         \rReading energy frame     12 time   12.000         \rReading energy frame     13 time   13.000         \rReading energy frame     14 time   14.000         \rReading energy frame     15 time   15.000         \rReading energy frame     16 time   16.000         \rReading energy frame     17 time   17.000         \rReading energy frame     18 time   18.000         \rReading energy frame     19 time   19.000         \rReading energy frame     20 time   20.000         \rReading energy frame     30 time   30.000         \rReading energy frame     40 time   40.000         \rReading energy frame     50 time   50.000         \rReading energy frame     60 time   60.000         \rReading energy frame     70 time   70.000         \rReading energy frame     80 time   80.000         \rReading energy frame     90 time   90.000         \rReading energy frame    100 time  100.000         \rLast energy frame read 100 time  100.000         \n",
            "\n",
            "GROMACS reminds you: \"Do You Have a Mind of Your Own ?\" (Garbage)\n",
            "\n"
          ]
        }
      ]
    },
    {
      "cell_type": "markdown",
      "source": [
        "__7. EQUILIBRIO 2 (NPT)__"
      ],
      "metadata": {
        "id": "pIuyNtj0NnFO"
      }
    },
    {
      "cell_type": "code",
      "source": [
        "%%bash\n",
        "source /usr/local/gromacs/bin/GMXRC\n",
        "gmx grompp -f npt.mdp -c nvt.gro -r nvt.gro -t nvt.cpt -p topol.top -n index.ndx -o npt.tpr"
      ],
      "metadata": {
        "colab": {
          "base_uri": "https://localhost:8080/"
        },
        "id": "RN-6R7UHG5eJ",
        "outputId": "eca9fa43-90b3-47df-a820-a101f5b261bc"
      },
      "execution_count": 88,
      "outputs": [
        {
          "output_type": "stream",
          "name": "stdout",
          "text": [
            "Setting the LD random seed to -1615352065\n",
            "\n",
            "Generated 330891 of the 330891 non-bonded parameter combinations\n",
            "\n",
            "Generated 330891 of the 330891 1-4 parameter combinations\n",
            "\n",
            "Excluding 3 bonded neighbours molecule type 'Other'\n",
            "\n",
            "turning H bonds into constraints...\n",
            "\n",
            "Excluding 2 bonded neighbours molecule type 'SOL'\n",
            "\n",
            "turning H bonds into constraints...\n",
            "\n",
            "Cleaning up constraints and constant bonded interactions with virtual sites\n",
            "\n",
            "The center of mass of the position restraint coord's is  1.267  1.270  1.165\n",
            "\n",
            "The center of mass of the position restraint coord's is  1.267  1.270  1.165\n",
            "\n",
            "Determining Verlet buffer for a tolerance of 0.005 kJ/mol/ps at 300 K\n",
            "\n",
            "Calculated rlist for 1x1 atom pair-list as 1.034 nm, buffer size 0.034 nm\n",
            "\n",
            "Set rlist, assuming 4x4 atom pair-list, to 1.000 nm, buffer size 0.000 nm\n",
            "\n",
            "Note that mdrun will redetermine rlist based on the actual pair-list setup\n",
            "\n",
            "Reading Coordinates, Velocities and Box size from old trajectory\n",
            "\n",
            "Will read whole trajectory\n",
            "\n",
            "Using frame at t = 100 ps\n",
            "\n",
            "Starting time for run is 0 ps\n",
            "Calculating fourier grid dimensions for X Y Z\n",
            "Using a fourier grid of 16x16x16, spacing 0.147 0.147 0.147\n",
            "\n",
            "Estimate for the relative computational load of the PME mesh part: 0.19\n",
            "\n",
            "This run will generate roughly 5 Mb of data\n"
          ]
        },
        {
          "output_type": "stream",
          "name": "stderr",
          "text": [
            "                       :-) GROMACS - gmx grompp, 2021 (-:\n",
            "\n",
            "                            GROMACS is written by:\n",
            "     Andrey Alekseenko              Emile Apol              Rossen Apostolov     \n",
            "         Paul Bauer           Herman J.C. Berendsen           Par Bjelkmar       \n",
            "       Christian Blau           Viacheslav Bolnykh             Kevin Boyd        \n",
            "     Aldert van Buuren           Rudi van Drunen             Anton Feenstra      \n",
            "    Gilles Gouaillardet             Alan Gray               Gerrit Groenhof      \n",
            "       Anca Hamuraru            Vincent Hindriksen          M. Eric Irrgang      \n",
            "      Aleksei Iupinov           Christoph Junghans             Joe Jordan        \n",
            "    Dimitrios Karkoulis            Peter Kasson                Jiri Kraus        \n",
            "      Carsten Kutzner              Per Larsson              Justin A. Lemkul     \n",
            "       Viveca Lindahl            Magnus Lundborg             Erik Marklund       \n",
            "        Pascal Merz             Pieter Meulenhoff            Teemu Murtola       \n",
            "        Szilard Pall               Sander Pronk              Roland Schulz       \n",
            "       Michael Shirts            Alexey Shvetsov             Alfons Sijbers      \n",
            "       Peter Tieleman              Jon Vincent              Teemu Virolainen     \n",
            "     Christian Wennberg            Maarten Wolf              Artem Zhmurov       \n",
            "                           and the project leaders:\n",
            "        Mark Abraham, Berk Hess, Erik Lindahl, and David van der Spoel\n",
            "\n",
            "Copyright (c) 1991-2000, University of Groningen, The Netherlands.\n",
            "Copyright (c) 2001-2019, The GROMACS development team at\n",
            "Uppsala University, Stockholm University and\n",
            "the Royal Institute of Technology, Sweden.\n",
            "check out http://www.gromacs.org for more information.\n",
            "\n",
            "GROMACS is free software; you can redistribute it and/or modify it\n",
            "under the terms of the GNU Lesser General Public License\n",
            "as published by the Free Software Foundation; either version 2.1\n",
            "of the License, or (at your option) any later version.\n",
            "\n",
            "GROMACS:      gmx grompp, version 2021\n",
            "Executable:   /usr/local/gromacs/bin/gmx\n",
            "Data prefix:  /usr/local/gromacs\n",
            "Working dir:  /content\n",
            "Command line:\n",
            "  gmx grompp -f npt.mdp -c nvt.gro -r nvt.gro -t nvt.cpt -p topol.top -n index.ndx -o npt.tpr\n",
            "\n",
            "Ignoring obsolete mdp entry 'title'\n",
            "Ignoring obsolete mdp entry 'ns_type'\n",
            "Generating 1-4 interactions: fudge = 0.5\n",
            "\n",
            "NOTE 1 [file topol.top, line 122]:\n",
            "  You are combining position restraints with Parrinello-Rahman pressure\n",
            "  coupling, which can lead to instabilities. If you really want to combine\n",
            "  position restraints with pressure coupling, we suggest to use Berendsen\n",
            "  pressure coupling instead.\n",
            "\n",
            "Number of degrees of freedom in T-Coupling group Other is 20.98\n",
            "Number of degrees of freedom in T-Coupling group SOL is 2505.02\n",
            "\n",
            "NOTE 2 [file npt.mdp]:\n",
            "  There are 836 non-linear virtual site constructions. Their contribution\n",
            "  to the energy error is approximated. In most cases this does not affect\n",
            "  the error significantly.\n",
            "\n",
            "\n",
            "NOTE 3 [file npt.mdp]:\n",
            "  Removing center of mass motion in the presence of position restraints\n",
            "  might cause artifacts. When you are using position restraints to\n",
            "  equilibrate a macro-molecule, the artifacts are usually negligible.\n",
            "\n",
            "\rLast frame         -1 time  100.000   \n",
            "\n",
            "There were 3 notes\n",
            "\n",
            "GROMACS reminds you: \"I'm Gonna Get Medieval On Your Ass\" (Pulp Fiction)\n",
            "\n"
          ]
        }
      ]
    },
    {
      "cell_type": "code",
      "source": [
        "%%bash\n",
        "source /usr/local/gromacs/bin/GMXRC\n",
        "gmx mdrun -v -deffnm npt -pin on -nb gpu"
      ],
      "metadata": {
        "colab": {
          "base_uri": "https://localhost:8080/"
        },
        "id": "waHyS4NSKMQF",
        "outputId": "616e09b6-5510-4b80-e3a3-c6e32a82a769"
      },
      "execution_count": 89,
      "outputs": [
        {
          "output_type": "stream",
          "name": "stderr",
          "text": [
            "                       :-) GROMACS - gmx mdrun, 2021 (-:\n",
            "\n",
            "                            GROMACS is written by:\n",
            "     Andrey Alekseenko              Emile Apol              Rossen Apostolov     \n",
            "         Paul Bauer           Herman J.C. Berendsen           Par Bjelkmar       \n",
            "       Christian Blau           Viacheslav Bolnykh             Kevin Boyd        \n",
            "     Aldert van Buuren           Rudi van Drunen             Anton Feenstra      \n",
            "    Gilles Gouaillardet             Alan Gray               Gerrit Groenhof      \n",
            "       Anca Hamuraru            Vincent Hindriksen          M. Eric Irrgang      \n",
            "      Aleksei Iupinov           Christoph Junghans             Joe Jordan        \n",
            "    Dimitrios Karkoulis            Peter Kasson                Jiri Kraus        \n",
            "      Carsten Kutzner              Per Larsson              Justin A. Lemkul     \n",
            "       Viveca Lindahl            Magnus Lundborg             Erik Marklund       \n",
            "        Pascal Merz             Pieter Meulenhoff            Teemu Murtola       \n",
            "        Szilard Pall               Sander Pronk              Roland Schulz       \n",
            "       Michael Shirts            Alexey Shvetsov             Alfons Sijbers      \n",
            "       Peter Tieleman              Jon Vincent              Teemu Virolainen     \n",
            "     Christian Wennberg            Maarten Wolf              Artem Zhmurov       \n",
            "                           and the project leaders:\n",
            "        Mark Abraham, Berk Hess, Erik Lindahl, and David van der Spoel\n",
            "\n",
            "Copyright (c) 1991-2000, University of Groningen, The Netherlands.\n",
            "Copyright (c) 2001-2019, The GROMACS development team at\n",
            "Uppsala University, Stockholm University and\n",
            "the Royal Institute of Technology, Sweden.\n",
            "check out http://www.gromacs.org for more information.\n",
            "\n",
            "GROMACS is free software; you can redistribute it and/or modify it\n",
            "under the terms of the GNU Lesser General Public License\n",
            "as published by the Free Software Foundation; either version 2.1\n",
            "of the License, or (at your option) any later version.\n",
            "\n",
            "GROMACS:      gmx mdrun, version 2021\n",
            "Executable:   /usr/local/gromacs/bin/gmx\n",
            "Data prefix:  /usr/local/gromacs\n",
            "Working dir:  /content\n",
            "Command line:\n",
            "  gmx mdrun -v -deffnm npt -pin on -nb gpu\n",
            "\n",
            "Reading file npt.tpr, VERSION 2021 (single precision)\n",
            "Changing nstlist from 10 to 40, rlist from 1 to 1.132\n",
            "\n",
            "1 GPU selected for this run.\n",
            "Mapping of GPU IDs to the 2 GPU tasks in the 1 rank on this node:\n",
            "  PP:0,PME:0\n",
            "PP tasks will do (non-perturbed) short-ranged interactions on the GPU\n",
            "PP task will update and constrain coordinates on the CPU\n",
            "PME tasks will do all aspects on the GPU\n",
            "Using 1 MPI thread\n",
            "Using 2 OpenMP threads \n",
            "\n",
            "starting mdrun 'EtOH in water'\n",
            "50000 steps,    100.0 ps.\n",
            "\rstep 0\rstep 100, remaining wall clock time:    21 s          \rstep 200, remaining wall clock time:    19 s          \rstep 300, remaining wall clock time:    18 s          \rstep 400, remaining wall clock time:    19 s          \rstep 500, remaining wall clock time:    18 s          \rstep 600, remaining wall clock time:    18 s          \rstep 700, remaining wall clock time:    18 s          \rstep 800, remaining wall clock time:    18 s          \rstep 900, remaining wall clock time:    18 s          \rstep 1000, remaining wall clock time:    18 s          \rstep 1100, remaining wall clock time:    17 s          \rstep 1200, remaining wall clock time:    17 s          \rstep 1300, remaining wall clock time:    17 s          \rstep 1400, remaining wall clock time:    17 s          \rstep 1500, remaining wall clock time:    17 s          \rstep 1600, remaining wall clock time:    17 s          \rstep 1700, remaining wall clock time:    17 s          \rstep 1800, remaining wall clock time:    17 s          \rstep 1900, remaining wall clock time:    17 s          \rstep 2000, remaining wall clock time:    17 s          \rstep 2100, remaining wall clock time:    17 s          \rstep 2200, remaining wall clock time:    17 s          \rstep 2300, remaining wall clock time:    17 s          \rstep 2400, remaining wall clock time:    17 s          \rstep 2500, remaining wall clock time:    17 s          \rstep 2600, remaining wall clock time:    17 s          \rstep 2700, remaining wall clock time:    17 s          \rstep 2800, remaining wall clock time:    17 s          \rstep 2900, remaining wall clock time:    16 s          \rstep 3000, remaining wall clock time:    16 s          \rstep 3100, remaining wall clock time:    17 s          \rstep 3200, remaining wall clock time:    17 s          \rstep 3300, remaining wall clock time:    16 s          \rstep 3400, remaining wall clock time:    16 s          \rstep 3500, remaining wall clock time:    16 s          \rstep 3600, remaining wall clock time:    16 s          \rstep 3700, remaining wall clock time:    16 s          \rstep 3800, remaining wall clock time:    16 s          \rstep 3900, remaining wall clock time:    16 s          \rstep 4000, remaining wall clock time:    16 s          \rstep 4100, remaining wall clock time:    16 s          \rstep 4200, remaining wall clock time:    16 s          \rstep 4300, remaining wall clock time:    16 s          \rstep 4400, remaining wall clock time:    16 s          \rstep 4500, remaining wall clock time:    16 s          \rstep 4600, remaining wall clock time:    16 s          \rstep 4700, remaining wall clock time:    15 s          \rstep 4800, remaining wall clock time:    16 s          \rstep 4900, remaining wall clock time:    16 s          \rstep 5000, remaining wall clock time:    16 s          \rstep 5100, remaining wall clock time:    15 s          \rstep 5200, remaining wall clock time:    15 s          \rstep 5300, remaining wall clock time:    15 s          \rstep 5400, remaining wall clock time:    15 s          \rstep 5500, remaining wall clock time:    15 s          \rstep 5600, remaining wall clock time:    15 s          \rstep 5700, remaining wall clock time:    15 s          \rstep 5800, remaining wall clock time:    15 s          \rstep 5900, remaining wall clock time:    15 s          \rstep 6000, remaining wall clock time:    15 s          \rstep 6100, remaining wall clock time:    15 s          \rstep 6200, remaining wall clock time:    15 s          \rstep 6300, remaining wall clock time:    15 s          \rstep 6400, remaining wall clock time:    15 s          \rstep 6500, remaining wall clock time:    15 s          \rstep 6600, remaining wall clock time:    15 s          \rstep 6700, remaining wall clock time:    15 s          \rstep 6800, remaining wall clock time:    15 s          \rstep 6900, remaining wall clock time:    14 s          \rstep 7000, remaining wall clock time:    14 s          \rstep 7100, remaining wall clock time:    14 s          \rstep 7200, remaining wall clock time:    14 s          \rstep 7300, remaining wall clock time:    14 s          \rstep 7400, remaining wall clock time:    14 s          \rstep 7500, remaining wall clock time:    14 s          \rstep 7600, remaining wall clock time:    14 s          \rstep 7700, remaining wall clock time:    14 s          \rstep 7800, remaining wall clock time:    14 s          \rstep 7900, remaining wall clock time:    14 s          \rstep 8000, remaining wall clock time:    14 s          \rstep 8100, remaining wall clock time:    14 s          \rstep 8200, remaining wall clock time:    14 s          \rstep 8300, remaining wall clock time:    14 s          \rstep 8400, remaining wall clock time:    14 s          \rstep 8500, remaining wall clock time:    14 s          \rstep 8600, remaining wall clock time:    14 s          \rstep 8700, remaining wall clock time:    14 s          \rstep 8800, remaining wall clock time:    14 s          \rstep 8900, remaining wall clock time:    14 s          \rstep 9000, remaining wall clock time:    14 s          \rstep 9100, remaining wall clock time:    13 s          \rstep 9200, remaining wall clock time:    13 s          \rstep 9300, remaining wall clock time:    13 s          \rstep 9400, remaining wall clock time:    13 s          \rstep 9500, remaining wall clock time:    13 s          \rstep 9600, remaining wall clock time:    13 s          \rstep 9700, remaining wall clock time:    13 s          \rstep 9800, remaining wall clock time:    13 s          \rstep 9900, remaining wall clock time:    13 s          \rstep 10000, remaining wall clock time:    13 s          \rstep 10100, remaining wall clock time:    13 s          \rstep 10200, remaining wall clock time:    13 s          \rstep 10300, remaining wall clock time:    13 s          \rstep 10400, remaining wall clock time:    13 s          \rstep 10500, remaining wall clock time:    13 s          \rstep 10600, remaining wall clock time:    13 s          \rstep 10700, remaining wall clock time:    13 s          \rstep 10800, remaining wall clock time:    13 s          \rstep 10900, remaining wall clock time:    13 s          \rstep 11000, remaining wall clock time:    13 s          \rstep 11100, remaining wall clock time:    13 s          \rstep 11200, remaining wall clock time:    13 s          \rstep 11300, remaining wall clock time:    13 s          \rstep 11400, remaining wall clock time:    13 s          \rstep 11500, remaining wall clock time:    13 s          \rstep 11600, remaining wall clock time:    12 s          \rstep 11700, remaining wall clock time:    12 s          \rstep 11800, remaining wall clock time:    12 s          \rstep 11900, remaining wall clock time:    12 s          \rstep 12000, remaining wall clock time:    12 s          \rstep 12100, remaining wall clock time:    12 s          \rstep 12200, remaining wall clock time:    12 s          \rstep 12300, remaining wall clock time:    12 s          \rstep 12400, remaining wall clock time:    12 s          \rstep 12500, remaining wall clock time:    12 s          \rstep 12600, remaining wall clock time:    12 s          \rstep 12700, remaining wall clock time:    12 s          \rstep 12800, remaining wall clock time:    12 s          \rstep 12900, remaining wall clock time:    12 s          \rstep 13000, remaining wall clock time:    12 s          \rstep 13100, remaining wall clock time:    12 s          \rstep 13200, remaining wall clock time:    12 s          \rstep 13300, remaining wall clock time:    12 s          \rstep 13400, remaining wall clock time:    12 s          \rstep 13500, remaining wall clock time:    12 s          \rstep 13600, remaining wall clock time:    12 s          \rstep 13700, remaining wall clock time:    12 s          \rstep 13800, remaining wall clock time:    12 s          \rstep 13900, remaining wall clock time:    12 s          \rstep 14000, remaining wall clock time:    12 s          \rstep 14100, remaining wall clock time:    11 s          \rstep 14200, remaining wall clock time:    11 s          \rstep 14300, remaining wall clock time:    11 s          \rstep 14400, remaining wall clock time:    11 s          \rstep 14500, remaining wall clock time:    11 s          \rstep 14600, remaining wall clock time:    11 s          \rstep 14700, remaining wall clock time:    11 s          \rstep 14800, remaining wall clock time:    11 s          \rstep 14900, remaining wall clock time:    11 s          \rstep 15040: timed with pme grid 16 16 16, coulomb cutoff 1.000: 27.7 M-cycles\n",
            "\rstep 15040: the box size limits the PME load balancing to a coulomb cut-off of 1.000\n",
            "\r              optimal pme grid 16 16 16, coulomb cutoff 1.000\n",
            "\rstep 15100, remaining wall clock time:    11 s          \rstep 15200, remaining wall clock time:    11 s          \rstep 15300, remaining wall clock time:    11 s          \rstep 15400, remaining wall clock time:    11 s          \rstep 15500, remaining wall clock time:    11 s          \rstep 15600, remaining wall clock time:    11 s          \rstep 15700, remaining wall clock time:    11 s          \rstep 15800, remaining wall clock time:    11 s          \rstep 15900, remaining wall clock time:    11 s          \rstep 16000, remaining wall clock time:    11 s          \rstep 16100, remaining wall clock time:    11 s          \rstep 16200, remaining wall clock time:    11 s          \rstep 16300, remaining wall clock time:    11 s          \rstep 16400, remaining wall clock time:    11 s          \rstep 16500, remaining wall clock time:    11 s          \rstep 16600, remaining wall clock time:    11 s          \rstep 16700, remaining wall clock time:    11 s          \rstep 16800, remaining wall clock time:    11 s          \rstep 16900, remaining wall clock time:    11 s          \rstep 17000, remaining wall clock time:    10 s          \rstep 17100, remaining wall clock time:    10 s          \rstep 17200, remaining wall clock time:    10 s          \rstep 17300, remaining wall clock time:    10 s          \rstep 17400, remaining wall clock time:    10 s          \rstep 17500, remaining wall clock time:    10 s          \rstep 17600, remaining wall clock time:    10 s          \rstep 17700, remaining wall clock time:    10 s          \rstep 17800, remaining wall clock time:    10 s          \rstep 17900, remaining wall clock time:    10 s          \rstep 18000, remaining wall clock time:    10 s          \rstep 18100, remaining wall clock time:    10 s          \rstep 18200, remaining wall clock time:    10 s          \rstep 18300, remaining wall clock time:    10 s          \rstep 18400, remaining wall clock time:    10 s          \rstep 18500, remaining wall clock time:    10 s          \rstep 18600, remaining wall clock time:    10 s          \rstep 18700, remaining wall clock time:    10 s          \rstep 18800, remaining wall clock time:    10 s          \rstep 18900, remaining wall clock time:    10 s          \rstep 19000, remaining wall clock time:    10 s          \rstep 19100, remaining wall clock time:    10 s          \rstep 19200, remaining wall clock time:    10 s          \rstep 19300, remaining wall clock time:    10 s          \rstep 19400, remaining wall clock time:    10 s          \rstep 19500, remaining wall clock time:    10 s          \rstep 19600, remaining wall clock time:    10 s          \rstep 19700, remaining wall clock time:    10 s          \rstep 19800, remaining wall clock time:     9 s          \rstep 19900, remaining wall clock time:     9 s          \rstep 20000, remaining wall clock time:     9 s          \rstep 20100, remaining wall clock time:     9 s          \rstep 20200, remaining wall clock time:     9 s          \rstep 20300, remaining wall clock time:     9 s          \rstep 20400, remaining wall clock time:     9 s          \rstep 20500, remaining wall clock time:     9 s          \rstep 20600, remaining wall clock time:     9 s          \rstep 20700, remaining wall clock time:     9 s          \rstep 20800, remaining wall clock time:     9 s          \rstep 20900, remaining wall clock time:     9 s          \rstep 21000, remaining wall clock time:     9 s          \rstep 21100, remaining wall clock time:     9 s          \rstep 21200, remaining wall clock time:     9 s          \rstep 21300, remaining wall clock time:     9 s          \rstep 21400, remaining wall clock time:     9 s          \rstep 21500, remaining wall clock time:     9 s          \rstep 21600, remaining wall clock time:     9 s          \rstep 21700, remaining wall clock time:     9 s          \rstep 21800, remaining wall clock time:     9 s          \rstep 21900, remaining wall clock time:     9 s          \rstep 22000, remaining wall clock time:     9 s          \rstep 22100, remaining wall clock time:     9 s          \rstep 22200, remaining wall clock time:     9 s          \rstep 22300, remaining wall clock time:     9 s          \rstep 22400, remaining wall clock time:     9 s          \rstep 22500, remaining wall clock time:     9 s          \rstep 22600, remaining wall clock time:     9 s          \rstep 22700, remaining wall clock time:     8 s          \rstep 22800, remaining wall clock time:     8 s          \rstep 22900, remaining wall clock time:     8 s          \rstep 23000, remaining wall clock time:     8 s          \rstep 23100, remaining wall clock time:     8 s          \rstep 23200, remaining wall clock time:     8 s          \rstep 23300, remaining wall clock time:     8 s          \rstep 23400, remaining wall clock time:     8 s          \rstep 23500, remaining wall clock time:     8 s          \rstep 23600, remaining wall clock time:     8 s          \rstep 23700, remaining wall clock time:     8 s          \rstep 23800, remaining wall clock time:     8 s          \rstep 23900, remaining wall clock time:     8 s          \rstep 24000, remaining wall clock time:     8 s          \rstep 24100, remaining wall clock time:     8 s          \rstep 24200, remaining wall clock time:     8 s          \rstep 24300, remaining wall clock time:     8 s          \rstep 24400, remaining wall clock time:     8 s          \rstep 24500, remaining wall clock time:     8 s          \rstep 24600, remaining wall clock time:     8 s          \rstep 24700, remaining wall clock time:     8 s          \rstep 24800, remaining wall clock time:     8 s          \rstep 24900, remaining wall clock time:     8 s          \rstep 25000, remaining wall clock time:     8 s          \rstep 25100, remaining wall clock time:     8 s          \rstep 25200, remaining wall clock time:     8 s          \rstep 25300, remaining wall clock time:     8 s          \rstep 25400, remaining wall clock time:     8 s          \rstep 25500, remaining wall clock time:     8 s          \rstep 25600, remaining wall clock time:     8 s          \rstep 25700, remaining wall clock time:     7 s          \rstep 25800, remaining wall clock time:     7 s          \rstep 25900, remaining wall clock time:     7 s          \rstep 26000, remaining wall clock time:     7 s          \rstep 26100, remaining wall clock time:     7 s          \rstep 26200, remaining wall clock time:     7 s          \rstep 26300, remaining wall clock time:     7 s          \rstep 26400, remaining wall clock time:     7 s          \rstep 26500, remaining wall clock time:     7 s          \rstep 26600, remaining wall clock time:     7 s          \rstep 26700, remaining wall clock time:     7 s          \rstep 26800, remaining wall clock time:     7 s          \rstep 26900, remaining wall clock time:     7 s          \rstep 27000, remaining wall clock time:     7 s          \rstep 27100, remaining wall clock time:     7 s          \rstep 27200, remaining wall clock time:     7 s          \rstep 27300, remaining wall clock time:     7 s          \rstep 27400, remaining wall clock time:     7 s          \rstep 27500, remaining wall clock time:     7 s          \rstep 27600, remaining wall clock time:     7 s          \rstep 27700, remaining wall clock time:     7 s          \rstep 27800, remaining wall clock time:     7 s          \rstep 27900, remaining wall clock time:     7 s          \rstep 28000, remaining wall clock time:     7 s          \rstep 28100, remaining wall clock time:     7 s          \rstep 28200, remaining wall clock time:     7 s          \rstep 28300, remaining wall clock time:     7 s          \rstep 28400, remaining wall clock time:     7 s          \rstep 28500, remaining wall clock time:     7 s          \rstep 28600, remaining wall clock time:     7 s          \rstep 28700, remaining wall clock time:     6 s          \rstep 28800, remaining wall clock time:     6 s          \rstep 28900, remaining wall clock time:     6 s          \rstep 29000, remaining wall clock time:     6 s          \rstep 29100, remaining wall clock time:     6 s          \rstep 29200, remaining wall clock time:     6 s          \rstep 29300, remaining wall clock time:     6 s          \rstep 29400, remaining wall clock time:     6 s          \rstep 29500, remaining wall clock time:     6 s          \rstep 29600, remaining wall clock time:     6 s          \rstep 29700, remaining wall clock time:     6 s          \rstep 29800, remaining wall clock time:     6 s          \rstep 29900, remaining wall clock time:     6 s          \rstep 30000, remaining wall clock time:     6 s          \rstep 30100, remaining wall clock time:     6 s          \rstep 30200, remaining wall clock time:     6 s          \rstep 30300, remaining wall clock time:     6 s          \rstep 30400, remaining wall clock time:     6 s          \rstep 30500, remaining wall clock time:     6 s          \rstep 30600, remaining wall clock time:     6 s          \rstep 30700, remaining wall clock time:     6 s          \rstep 30800, remaining wall clock time:     6 s          \rstep 30900, remaining wall clock time:     6 s          \rstep 31000, remaining wall clock time:     6 s          \rstep 31100, remaining wall clock time:     6 s          \rstep 31200, remaining wall clock time:     6 s          \rstep 31300, remaining wall clock time:     6 s          \rstep 31400, remaining wall clock time:     6 s          \rstep 31500, remaining wall clock time:     6 s          \rstep 31600, remaining wall clock time:     6 s          \rstep 31700, remaining wall clock time:     5 s          \rstep 31800, remaining wall clock time:     5 s          \rstep 31900, remaining wall clock time:     5 s          \rstep 32000, remaining wall clock time:     5 s          \rstep 32100, remaining wall clock time:     5 s          \rstep 32200, remaining wall clock time:     5 s          \rstep 32300, remaining wall clock time:     5 s          \rstep 32400, remaining wall clock time:     5 s          \rstep 32500, remaining wall clock time:     5 s          \rstep 32600, remaining wall clock time:     5 s          \rstep 32700, remaining wall clock time:     5 s          \rstep 32800, remaining wall clock time:     5 s          \rstep 32900, remaining wall clock time:     5 s          \rstep 33000, remaining wall clock time:     5 s          \rstep 33100, remaining wall clock time:     5 s          \rstep 33200, remaining wall clock time:     5 s          \rstep 33300, remaining wall clock time:     5 s          \rstep 33400, remaining wall clock time:     5 s          \rstep 33500, remaining wall clock time:     5 s          \rstep 33600, remaining wall clock time:     5 s          \rstep 33700, remaining wall clock time:     5 s          \rstep 33800, remaining wall clock time:     5 s          \rstep 33900, remaining wall clock time:     5 s          \rstep 34000, remaining wall clock time:     5 s          \rstep 34100, remaining wall clock time:     5 s          \rstep 34200, remaining wall clock time:     5 s          \rstep 34300, remaining wall clock time:     5 s          \rstep 34400, remaining wall clock time:     5 s          \rstep 34500, remaining wall clock time:     5 s          \rstep 34600, remaining wall clock time:     5 s          \rstep 34700, remaining wall clock time:     4 s          \rstep 34800, remaining wall clock time:     4 s          \rstep 34900, remaining wall clock time:     4 s          \rstep 35000, remaining wall clock time:     4 s          \rstep 35100, remaining wall clock time:     4 s          \rstep 35200, remaining wall clock time:     4 s          \rstep 35300, remaining wall clock time:     4 s          \rstep 35400, remaining wall clock time:     4 s          \rstep 35500, remaining wall clock time:     4 s          \rstep 35600, remaining wall clock time:     4 s          \rstep 35700, remaining wall clock time:     4 s          \rstep 35800, remaining wall clock time:     4 s          \rstep 35900, remaining wall clock time:     4 s          \rstep 36000, remaining wall clock time:     4 s          \rstep 36100, remaining wall clock time:     4 s          \rstep 36200, remaining wall clock time:     4 s          \rstep 36300, remaining wall clock time:     4 s          \rstep 36400, remaining wall clock time:     4 s          \rstep 36500, remaining wall clock time:     4 s          \rstep 36600, remaining wall clock time:     4 s          \rstep 36700, remaining wall clock time:     4 s          \rstep 36800, remaining wall clock time:     4 s          \rstep 36900, remaining wall clock time:     4 s          \rstep 37000, remaining wall clock time:     4 s          \rstep 37100, remaining wall clock time:     4 s          \rstep 37200, remaining wall clock time:     4 s          \rstep 37300, remaining wall clock time:     4 s          \rstep 37400, remaining wall clock time:     4 s          \rstep 37500, remaining wall clock time:     4 s          \rstep 37600, remaining wall clock time:     4 s          \rstep 37700, remaining wall clock time:     4 s          \rstep 37800, remaining wall clock time:     3 s          \rstep 37900, remaining wall clock time:     3 s          \rstep 38000, remaining wall clock time:     3 s          \rstep 38100, remaining wall clock time:     3 s          \rstep 38200, remaining wall clock time:     3 s          \rstep 38300, remaining wall clock time:     3 s          \rstep 38400, remaining wall clock time:     3 s          \rstep 38500, remaining wall clock time:     3 s          \rstep 38600, remaining wall clock time:     3 s          \rstep 38700, remaining wall clock time:     3 s          \rstep 38800, remaining wall clock time:     3 s          \rstep 38900, remaining wall clock time:     3 s          \rstep 39000, remaining wall clock time:     3 s          \rstep 39100, remaining wall clock time:     3 s          \rstep 39200, remaining wall clock time:     3 s          \rstep 39300, remaining wall clock time:     3 s          \rstep 39400, remaining wall clock time:     3 s          \rstep 39500, remaining wall clock time:     3 s          \rstep 39600, remaining wall clock time:     3 s          \rstep 39700, remaining wall clock time:     3 s          \rstep 39800, remaining wall clock time:     3 s          \rstep 39900, remaining wall clock time:     3 s          \rstep 40000, remaining wall clock time:     3 s          \rstep 40100, remaining wall clock time:     3 s          \rstep 40200, remaining wall clock time:     3 s          \rstep 40300, remaining wall clock time:     3 s          \rstep 40400, remaining wall clock time:     3 s          \rstep 40500, remaining wall clock time:     3 s          \rstep 40600, remaining wall clock time:     3 s          \rstep 40700, remaining wall clock time:     3 s          \rstep 40800, remaining wall clock time:     3 s          \rstep 40900, remaining wall clock time:     2 s          \rstep 41000, remaining wall clock time:     2 s          \rstep 41100, remaining wall clock time:     2 s          \rstep 41200, remaining wall clock time:     2 s          \rstep 41300, remaining wall clock time:     2 s          \rstep 41400, remaining wall clock time:     2 s          \rstep 41500, remaining wall clock time:     2 s          \rstep 41600, remaining wall clock time:     2 s          \rstep 41700, remaining wall clock time:     2 s          \rstep 41800, remaining wall clock time:     2 s          \rstep 41900, remaining wall clock time:     2 s          \rstep 42000, remaining wall clock time:     2 s          \rstep 42100, remaining wall clock time:     2 s          \rstep 42200, remaining wall clock time:     2 s          \rstep 42300, remaining wall clock time:     2 s          \rstep 42400, remaining wall clock time:     2 s          \rstep 42500, remaining wall clock time:     2 s          \rstep 42600, remaining wall clock time:     2 s          \rstep 42700, remaining wall clock time:     2 s          \rstep 42800, remaining wall clock time:     2 s          \rstep 42900, remaining wall clock time:     2 s          \rstep 43000, remaining wall clock time:     2 s          \rstep 43100, remaining wall clock time:     2 s          \rstep 43200, remaining wall clock time:     2 s          \rstep 43300, remaining wall clock time:     2 s          \rstep 43400, remaining wall clock time:     2 s          \rstep 43500, remaining wall clock time:     2 s          \rstep 43600, remaining wall clock time:     2 s          \rstep 43700, remaining wall clock time:     2 s          \rstep 43800, remaining wall clock time:     2 s          \rstep 43900, remaining wall clock time:     1 s          \rstep 44000, remaining wall clock time:     1 s          \rstep 44100, remaining wall clock time:     1 s          \rstep 44200, remaining wall clock time:     1 s          \rstep 44300, remaining wall clock time:     1 s          \rstep 44400, remaining wall clock time:     1 s          \rstep 44500, remaining wall clock time:     1 s          \rstep 44600, remaining wall clock time:     1 s          \rstep 44700, remaining wall clock time:     1 s          \rstep 44800, remaining wall clock time:     1 s          \rstep 44900, remaining wall clock time:     1 s          \rstep 45000, remaining wall clock time:     1 s          \rstep 45100, remaining wall clock time:     1 s          \rstep 45200, remaining wall clock time:     1 s          \rstep 45300, remaining wall clock time:     1 s          \rstep 45400, remaining wall clock time:     1 s          \rstep 45500, remaining wall clock time:     1 s          \rstep 45600, remaining wall clock time:     1 s          \rstep 45700, remaining wall clock time:     1 s          \rstep 45800, remaining wall clock time:     1 s          \rstep 45900, remaining wall clock time:     1 s          \rstep 46000, remaining wall clock time:     1 s          \rstep 46100, remaining wall clock time:     1 s          \rstep 46200, remaining wall clock time:     1 s          \rstep 46300, remaining wall clock time:     1 s          \rstep 46400, remaining wall clock time:     1 s          \rstep 46500, remaining wall clock time:     1 s          \rstep 46600, remaining wall clock time:     1 s          \rstep 46700, remaining wall clock time:     1 s          \rstep 46800, remaining wall clock time:     1 s          \rstep 46900, remaining wall clock time:     1 s          \rstep 47000, remaining wall clock time:     0 s          \rstep 47100, remaining wall clock time:     0 s          \rstep 47200, remaining wall clock time:     0 s          \rstep 47300, remaining wall clock time:     0 s          \rstep 47400, remaining wall clock time:     0 s          \rstep 47500, remaining wall clock time:     0 s          \rstep 47600, remaining wall clock time:     0 s          \rstep 47700, remaining wall clock time:     0 s          \rstep 47800, remaining wall clock time:     0 s          \rstep 47900, remaining wall clock time:     0 s          \rstep 48000, remaining wall clock time:     0 s          \rstep 48100, remaining wall clock time:     0 s          \rstep 48200, remaining wall clock time:     0 s          \rstep 48300, remaining wall clock time:     0 s          \rstep 48400, remaining wall clock time:     0 s          \rstep 48500, remaining wall clock time:     0 s          \rstep 48600, remaining wall clock time:     0 s          \rstep 48700, remaining wall clock time:     0 s          \rstep 48800, remaining wall clock time:     0 s          \rstep 48900, remaining wall clock time:     0 s          \rstep 49000, remaining wall clock time:     0 s          \rstep 49100, remaining wall clock time:     0 s          \rstep 49200, remaining wall clock time:     0 s          \rstep 49300, remaining wall clock time:     0 s          \rstep 49400, remaining wall clock time:     0 s          \rstep 49500, remaining wall clock time:     0 s          \rstep 49600, remaining wall clock time:     0 s          \rstep 49700, remaining wall clock time:     0 s          \rstep 49800, remaining wall clock time:     0 s          \rstep 49900, remaining wall clock time:     0 s          \n",
            "Writing final coordinates.\n",
            "\rstep 50000, remaining wall clock time:     0 s          \n",
            "NOTE: 14 % of the run time was spent in pair search,\n",
            "      you might want to increase nstlist (this has no effect on accuracy)\n",
            "\n",
            "               Core t (s)   Wall t (s)        (%)\n",
            "       Time:       32.668       16.334      200.0\n",
            "                 (ns/day)    (hour/ns)\n",
            "Performance:      528.959        0.045\n",
            "\n",
            "GROMACS reminds you: \"Can I have everything louder than everything else?\" (Deep Purple)\n",
            "\n"
          ]
        }
      ]
    },
    {
      "cell_type": "markdown",
      "source": [
        "----GRAFICANDO RESULTADOS NPT------"
      ],
      "metadata": {
        "id": "eAVuEKaVP6Gr"
      }
    },
    {
      "cell_type": "code",
      "source": [
        "%%bash\n",
        "source /usr/local/gromacs/bin/GMXRC\n",
        "printf \"17 0\" | gmx energy -f npt.edr -o pressure.xvg"
      ],
      "metadata": {
        "colab": {
          "base_uri": "https://localhost:8080/"
        },
        "id": "nJxy-1AyKMMu",
        "outputId": "86ab0635-0130-4c2e-b87a-141e91190e00"
      },
      "execution_count": 91,
      "outputs": [
        {
          "output_type": "stream",
          "name": "stdout",
          "text": [
            "\n",
            "Statistics over 50001 steps [ 0.0000 through 100.0000 ps ], 1 data sets\n",
            "All statistics are over 501 points\n",
            "\n",
            "Energy                      Average   Err.Est.       RMSD  Tot-Drift\n",
            "-------------------------------------------------------------------------------\n",
            "Pressure                     33.126         19      621.5    39.7205  (bar)\n"
          ]
        },
        {
          "output_type": "stream",
          "name": "stderr",
          "text": [
            "                       :-) GROMACS - gmx energy, 2021 (-:\n",
            "\n",
            "                            GROMACS is written by:\n",
            "     Andrey Alekseenko              Emile Apol              Rossen Apostolov     \n",
            "         Paul Bauer           Herman J.C. Berendsen           Par Bjelkmar       \n",
            "       Christian Blau           Viacheslav Bolnykh             Kevin Boyd        \n",
            "     Aldert van Buuren           Rudi van Drunen             Anton Feenstra      \n",
            "    Gilles Gouaillardet             Alan Gray               Gerrit Groenhof      \n",
            "       Anca Hamuraru            Vincent Hindriksen          M. Eric Irrgang      \n",
            "      Aleksei Iupinov           Christoph Junghans             Joe Jordan        \n",
            "    Dimitrios Karkoulis            Peter Kasson                Jiri Kraus        \n",
            "      Carsten Kutzner              Per Larsson              Justin A. Lemkul     \n",
            "       Viveca Lindahl            Magnus Lundborg             Erik Marklund       \n",
            "        Pascal Merz             Pieter Meulenhoff            Teemu Murtola       \n",
            "        Szilard Pall               Sander Pronk              Roland Schulz       \n",
            "       Michael Shirts            Alexey Shvetsov             Alfons Sijbers      \n",
            "       Peter Tieleman              Jon Vincent              Teemu Virolainen     \n",
            "     Christian Wennberg            Maarten Wolf              Artem Zhmurov       \n",
            "                           and the project leaders:\n",
            "        Mark Abraham, Berk Hess, Erik Lindahl, and David van der Spoel\n",
            "\n",
            "Copyright (c) 1991-2000, University of Groningen, The Netherlands.\n",
            "Copyright (c) 2001-2019, The GROMACS development team at\n",
            "Uppsala University, Stockholm University and\n",
            "the Royal Institute of Technology, Sweden.\n",
            "check out http://www.gromacs.org for more information.\n",
            "\n",
            "GROMACS is free software; you can redistribute it and/or modify it\n",
            "under the terms of the GNU Lesser General Public License\n",
            "as published by the Free Software Foundation; either version 2.1\n",
            "of the License, or (at your option) any later version.\n",
            "\n",
            "GROMACS:      gmx energy, version 2021\n",
            "Executable:   /usr/local/gromacs/bin/gmx\n",
            "Data prefix:  /usr/local/gromacs\n",
            "Working dir:  /content\n",
            "Command line:\n",
            "  gmx energy -f npt.edr -o pressure.xvg\n",
            "\n",
            "Opened npt.edr as single precision energy file\n",
            "\n",
            "Select the terms you want from the following list by\n",
            "selecting either (part of) the name or the number or a combination.\n",
            "End your selection with an empty line or a zero.\n",
            "-------------------------------------------------------------------\n",
            "  1  Bond             2  Angle            3  Ryckaert-Bell.   4  LJ-14         \n",
            "  5  Coulomb-14       6  LJ-(SR)          7  Disper.-corr.    8  Coulomb-(SR)  \n",
            "  9  Coul.-recip.    10  Position-Rest.  11  Potential       12  Kinetic-En.   \n",
            " 13  Total-Energy    14  Conserved-En.   15  Temperature     16  Pres.-DC      \n",
            " 17  Pressure        18  Constr.-rmsd    19  Box-X           20  Box-Y         \n",
            " 21  Box-Z           22  Volume          23  Density         24  pV            \n",
            " 25  Enthalpy        26  Vir-XX          27  Vir-XY          28  Vir-XZ        \n",
            " 29  Vir-YX          30  Vir-YY          31  Vir-YZ          32  Vir-ZX        \n",
            " 33  Vir-ZY          34  Vir-ZZ          35  Pres-XX         36  Pres-XY       \n",
            " 37  Pres-XZ         38  Pres-YX         39  Pres-YY         40  Pres-YZ       \n",
            " 41  Pres-ZX         42  Pres-ZY         43  Pres-ZZ         44  #Surf*SurfTen \n",
            " 45  Box-Vel-XX      46  Box-Vel-YY      47  Box-Vel-ZZ      48  T-Other       \n",
            " 49  T-SOL           50  Lamb-Other      51  Lamb-SOL      \n",
            "\n",
            "\rReading energy frame      0 time    0.000         \rReading energy frame      1 time    1.000         \rReading energy frame      2 time    2.000         \rReading energy frame      3 time    3.000         \rReading energy frame      4 time    4.000         \rReading energy frame      5 time    5.000         \rReading energy frame      6 time    6.000         \rReading energy frame      7 time    7.000         \rReading energy frame      8 time    8.000         \rReading energy frame      9 time    9.000         \rReading energy frame     10 time   10.000         \rReading energy frame     11 time   11.000         \rReading energy frame     12 time   12.000         \rReading energy frame     13 time   13.000         \rReading energy frame     14 time   14.000         \rReading energy frame     15 time   15.000         \rReading energy frame     16 time   16.000         \rReading energy frame     17 time   17.000         \rReading energy frame     18 time   18.000         \rReading energy frame     19 time   19.000         \rReading energy frame     20 time   20.000         \rReading energy frame     30 time   30.000         \rReading energy frame     40 time   40.000         \rReading energy frame     50 time   50.000         \rReading energy frame     60 time   60.000         \rReading energy frame     70 time   70.000         \rReading energy frame     80 time   80.000         \rReading energy frame     90 time   90.000         \rReading energy frame    100 time  100.000         \rLast energy frame read 100 time  100.000         \n",
            "\n",
            "GROMACS reminds you: \"I Am the Psychotherapist. Please, Describe Your Problems.\" (GNU Emacs)\n",
            "\n"
          ]
        }
      ]
    },
    {
      "cell_type": "code",
      "source": [
        "%%bash\n",
        "source /usr/local/gromacs/bin/GMXRC\n",
        "printf \"23 0\" | gmx energy -f npt.edr -o density.xvg"
      ],
      "metadata": {
        "colab": {
          "base_uri": "https://localhost:8080/"
        },
        "id": "2uWfu5IkKMJh",
        "outputId": "9b5d80fc-17cf-4e58-e0ff-e1c4350c1304"
      },
      "execution_count": 92,
      "outputs": [
        {
          "output_type": "stream",
          "name": "stdout",
          "text": [
            "\n",
            "Statistics over 50001 steps [ 0.0000 through 100.0000 ps ], 1 data sets\n",
            "All statistics are over 501 points\n",
            "\n",
            "Energy                      Average   Err.Est.       RMSD  Tot-Drift\n",
            "-------------------------------------------------------------------------------\n",
            "Density                     987.141          1    13.1763    2.87166  (kg/m^3)\n"
          ]
        },
        {
          "output_type": "stream",
          "name": "stderr",
          "text": [
            "                       :-) GROMACS - gmx energy, 2021 (-:\n",
            "\n",
            "                            GROMACS is written by:\n",
            "     Andrey Alekseenko              Emile Apol              Rossen Apostolov     \n",
            "         Paul Bauer           Herman J.C. Berendsen           Par Bjelkmar       \n",
            "       Christian Blau           Viacheslav Bolnykh             Kevin Boyd        \n",
            "     Aldert van Buuren           Rudi van Drunen             Anton Feenstra      \n",
            "    Gilles Gouaillardet             Alan Gray               Gerrit Groenhof      \n",
            "       Anca Hamuraru            Vincent Hindriksen          M. Eric Irrgang      \n",
            "      Aleksei Iupinov           Christoph Junghans             Joe Jordan        \n",
            "    Dimitrios Karkoulis            Peter Kasson                Jiri Kraus        \n",
            "      Carsten Kutzner              Per Larsson              Justin A. Lemkul     \n",
            "       Viveca Lindahl            Magnus Lundborg             Erik Marklund       \n",
            "        Pascal Merz             Pieter Meulenhoff            Teemu Murtola       \n",
            "        Szilard Pall               Sander Pronk              Roland Schulz       \n",
            "       Michael Shirts            Alexey Shvetsov             Alfons Sijbers      \n",
            "       Peter Tieleman              Jon Vincent              Teemu Virolainen     \n",
            "     Christian Wennberg            Maarten Wolf              Artem Zhmurov       \n",
            "                           and the project leaders:\n",
            "        Mark Abraham, Berk Hess, Erik Lindahl, and David van der Spoel\n",
            "\n",
            "Copyright (c) 1991-2000, University of Groningen, The Netherlands.\n",
            "Copyright (c) 2001-2019, The GROMACS development team at\n",
            "Uppsala University, Stockholm University and\n",
            "the Royal Institute of Technology, Sweden.\n",
            "check out http://www.gromacs.org for more information.\n",
            "\n",
            "GROMACS is free software; you can redistribute it and/or modify it\n",
            "under the terms of the GNU Lesser General Public License\n",
            "as published by the Free Software Foundation; either version 2.1\n",
            "of the License, or (at your option) any later version.\n",
            "\n",
            "GROMACS:      gmx energy, version 2021\n",
            "Executable:   /usr/local/gromacs/bin/gmx\n",
            "Data prefix:  /usr/local/gromacs\n",
            "Working dir:  /content\n",
            "Command line:\n",
            "  gmx energy -f npt.edr -o density.xvg\n",
            "\n",
            "Opened npt.edr as single precision energy file\n",
            "\n",
            "Select the terms you want from the following list by\n",
            "selecting either (part of) the name or the number or a combination.\n",
            "End your selection with an empty line or a zero.\n",
            "-------------------------------------------------------------------\n",
            "  1  Bond             2  Angle            3  Ryckaert-Bell.   4  LJ-14         \n",
            "  5  Coulomb-14       6  LJ-(SR)          7  Disper.-corr.    8  Coulomb-(SR)  \n",
            "  9  Coul.-recip.    10  Position-Rest.  11  Potential       12  Kinetic-En.   \n",
            " 13  Total-Energy    14  Conserved-En.   15  Temperature     16  Pres.-DC      \n",
            " 17  Pressure        18  Constr.-rmsd    19  Box-X           20  Box-Y         \n",
            " 21  Box-Z           22  Volume          23  Density         24  pV            \n",
            " 25  Enthalpy        26  Vir-XX          27  Vir-XY          28  Vir-XZ        \n",
            " 29  Vir-YX          30  Vir-YY          31  Vir-YZ          32  Vir-ZX        \n",
            " 33  Vir-ZY          34  Vir-ZZ          35  Pres-XX         36  Pres-XY       \n",
            " 37  Pres-XZ         38  Pres-YX         39  Pres-YY         40  Pres-YZ       \n",
            " 41  Pres-ZX         42  Pres-ZY         43  Pres-ZZ         44  #Surf*SurfTen \n",
            " 45  Box-Vel-XX      46  Box-Vel-YY      47  Box-Vel-ZZ      48  T-Other       \n",
            " 49  T-SOL           50  Lamb-Other      51  Lamb-SOL      \n",
            "\n",
            "\rReading energy frame      0 time    0.000         \rReading energy frame      1 time    1.000         \rReading energy frame      2 time    2.000         \rReading energy frame      3 time    3.000         \rReading energy frame      4 time    4.000         \rReading energy frame      5 time    5.000         \rReading energy frame      6 time    6.000         \rReading energy frame      7 time    7.000         \rReading energy frame      8 time    8.000         \rReading energy frame      9 time    9.000         \rReading energy frame     10 time   10.000         \rReading energy frame     11 time   11.000         \rReading energy frame     12 time   12.000         \rReading energy frame     13 time   13.000         \rReading energy frame     14 time   14.000         \rReading energy frame     15 time   15.000         \rReading energy frame     16 time   16.000         \rReading energy frame     17 time   17.000         \rReading energy frame     18 time   18.000         \rReading energy frame     19 time   19.000         \rReading energy frame     20 time   20.000         \rReading energy frame     30 time   30.000         \rReading energy frame     40 time   40.000         \rReading energy frame     50 time   50.000         \rReading energy frame     60 time   60.000         \rReading energy frame     70 time   70.000         \rReading energy frame     80 time   80.000         \rReading energy frame     90 time   90.000         \rReading energy frame    100 time  100.000         \rLast energy frame read 100 time  100.000         \n",
            "\n",
            "GROMACS reminds you: \"If your experiment needs a statistician, you need a better experiment.\" (Ernest Rutherford)\n",
            "\n"
          ]
        }
      ]
    },
    {
      "cell_type": "markdown",
      "source": [
        "__8. PRODUCCIÓN__"
      ],
      "metadata": {
        "id": "17nfj3P6Qnt5"
      }
    },
    {
      "cell_type": "markdown",
      "source": [
        "Descargamos el archivo md.mdp y editamos de forma análoga en tc-grps:\\\n",
        "tc-grps                 = Other SOL ;Protein Non-Protein   ; two coupling groups - more accurate"
      ],
      "metadata": {
        "id": "tKtRDf-VQxaq"
      }
    },
    {
      "cell_type": "code",
      "source": [
        "%%bash\n",
        "source /usr/local/gromacs/bin/GMXRC\n",
        "gmx grompp -f md.mdp -c npt.gro -t npt.cpt -p topol.top -o md_0_1.tpr"
      ],
      "metadata": {
        "colab": {
          "base_uri": "https://localhost:8080/"
        },
        "id": "YfibhvAGxxC8",
        "outputId": "c5505b67-f644-4023-d445-9d99b3bd5e25"
      },
      "execution_count": 93,
      "outputs": [
        {
          "output_type": "stream",
          "name": "stdout",
          "text": [
            "Setting the LD random seed to -824328665\n",
            "\n",
            "Generated 330891 of the 330891 non-bonded parameter combinations\n",
            "\n",
            "Generated 330891 of the 330891 1-4 parameter combinations\n",
            "\n",
            "Excluding 3 bonded neighbours molecule type 'Other'\n",
            "\n",
            "turning H bonds into constraints...\n",
            "\n",
            "Excluding 2 bonded neighbours molecule type 'SOL'\n",
            "\n",
            "turning H bonds into constraints...\n",
            "\n",
            "Cleaning up constraints and constant bonded interactions with virtual sites\n",
            "Analysing residue names:\n",
            "There are:     1      Other residues\n",
            "There are:   418      Water residues\n",
            "Analysing residues not classified as Protein/DNA/RNA/Water and splitting into groups...\n",
            "\n",
            "Determining Verlet buffer for a tolerance of 0.005 kJ/mol/ps at 300 K\n",
            "\n",
            "Calculated rlist for 1x1 atom pair-list as 1.034 nm, buffer size 0.034 nm\n",
            "\n",
            "Set rlist, assuming 4x4 atom pair-list, to 1.000 nm, buffer size 0.000 nm\n",
            "\n",
            "Note that mdrun will redetermine rlist based on the actual pair-list setup\n",
            "\n",
            "Reading Coordinates, Velocities and Box size from old trajectory\n",
            "\n",
            "Will read whole trajectory\n",
            "\n",
            "Using frame at t = 100 ps\n",
            "\n",
            "Starting time for run is 0 ps\n",
            "Calculating fourier grid dimensions for X Y Z\n",
            "Using a fourier grid of 16x16x16, spacing 0.147 0.147 0.147\n",
            "\n",
            "Estimate for the relative computational load of the PME mesh part: 0.19\n",
            "\n",
            "This run will generate roughly 2 Mb of data\n"
          ]
        },
        {
          "output_type": "stream",
          "name": "stderr",
          "text": [
            "                       :-) GROMACS - gmx grompp, 2021 (-:\n",
            "\n",
            "                            GROMACS is written by:\n",
            "     Andrey Alekseenko              Emile Apol              Rossen Apostolov     \n",
            "         Paul Bauer           Herman J.C. Berendsen           Par Bjelkmar       \n",
            "       Christian Blau           Viacheslav Bolnykh             Kevin Boyd        \n",
            "     Aldert van Buuren           Rudi van Drunen             Anton Feenstra      \n",
            "    Gilles Gouaillardet             Alan Gray               Gerrit Groenhof      \n",
            "       Anca Hamuraru            Vincent Hindriksen          M. Eric Irrgang      \n",
            "      Aleksei Iupinov           Christoph Junghans             Joe Jordan        \n",
            "    Dimitrios Karkoulis            Peter Kasson                Jiri Kraus        \n",
            "      Carsten Kutzner              Per Larsson              Justin A. Lemkul     \n",
            "       Viveca Lindahl            Magnus Lundborg             Erik Marklund       \n",
            "        Pascal Merz             Pieter Meulenhoff            Teemu Murtola       \n",
            "        Szilard Pall               Sander Pronk              Roland Schulz       \n",
            "       Michael Shirts            Alexey Shvetsov             Alfons Sijbers      \n",
            "       Peter Tieleman              Jon Vincent              Teemu Virolainen     \n",
            "     Christian Wennberg            Maarten Wolf              Artem Zhmurov       \n",
            "                           and the project leaders:\n",
            "        Mark Abraham, Berk Hess, Erik Lindahl, and David van der Spoel\n",
            "\n",
            "Copyright (c) 1991-2000, University of Groningen, The Netherlands.\n",
            "Copyright (c) 2001-2019, The GROMACS development team at\n",
            "Uppsala University, Stockholm University and\n",
            "the Royal Institute of Technology, Sweden.\n",
            "check out http://www.gromacs.org for more information.\n",
            "\n",
            "GROMACS is free software; you can redistribute it and/or modify it\n",
            "under the terms of the GNU Lesser General Public License\n",
            "as published by the Free Software Foundation; either version 2.1\n",
            "of the License, or (at your option) any later version.\n",
            "\n",
            "GROMACS:      gmx grompp, version 2021\n",
            "Executable:   /usr/local/gromacs/bin/gmx\n",
            "Data prefix:  /usr/local/gromacs\n",
            "Working dir:  /content\n",
            "Command line:\n",
            "  gmx grompp -f md.mdp -c npt.gro -t npt.cpt -p topol.top -o md_0_1.tpr\n",
            "\n",
            "Ignoring obsolete mdp entry 'title'\n",
            "Ignoring obsolete mdp entry 'ns_type'\n",
            "Generating 1-4 interactions: fudge = 0.5\n",
            "Number of degrees of freedom in T-Coupling group Other is 20.98\n",
            "Number of degrees of freedom in T-Coupling group SOL is 2505.02\n",
            "\n",
            "NOTE 1 [file md.mdp]:\n",
            "  There are 836 non-linear virtual site constructions. Their contribution\n",
            "  to the energy error is approximated. In most cases this does not affect\n",
            "  the error significantly.\n",
            "\n",
            "\rLast frame         -1 time  100.000   \n",
            "\n",
            "There was 1 note\n",
            "\n",
            "GROMACS reminds you: \"You Will Be Surprised At What Resides In Your Inside\" (Arrested Development)\n",
            "\n"
          ]
        }
      ]
    },
    {
      "cell_type": "markdown",
      "source": [
        "Demoraría unas 3 horas con 8 CPU's vs 2 minutos con GPU"
      ],
      "metadata": {
        "id": "UAoLJQVTRohP"
      }
    },
    {
      "cell_type": "code",
      "source": [
        "%%bash\n",
        "source /usr/local/gromacs/bin/GMXRC\n",
        "gmx mdrun -v -deffnm md_0_1 -pin on -nb gpu"
      ],
      "metadata": {
        "colab": {
          "base_uri": "https://localhost:8080/"
        },
        "id": "mP5HUMKAx3NU",
        "outputId": "97a311b7-a270-46c1-c504-74c967837ee3"
      },
      "execution_count": 94,
      "outputs": [
        {
          "output_type": "stream",
          "name": "stderr",
          "text": [
            "                       :-) GROMACS - gmx mdrun, 2021 (-:\n",
            "\n",
            "                            GROMACS is written by:\n",
            "     Andrey Alekseenko              Emile Apol              Rossen Apostolov     \n",
            "         Paul Bauer           Herman J.C. Berendsen           Par Bjelkmar       \n",
            "       Christian Blau           Viacheslav Bolnykh             Kevin Boyd        \n",
            "     Aldert van Buuren           Rudi van Drunen             Anton Feenstra      \n",
            "    Gilles Gouaillardet             Alan Gray               Gerrit Groenhof      \n",
            "       Anca Hamuraru            Vincent Hindriksen          M. Eric Irrgang      \n",
            "      Aleksei Iupinov           Christoph Junghans             Joe Jordan        \n",
            "    Dimitrios Karkoulis            Peter Kasson                Jiri Kraus        \n",
            "      Carsten Kutzner              Per Larsson              Justin A. Lemkul     \n",
            "       Viveca Lindahl            Magnus Lundborg             Erik Marklund       \n",
            "        Pascal Merz             Pieter Meulenhoff            Teemu Murtola       \n",
            "        Szilard Pall               Sander Pronk              Roland Schulz       \n",
            "       Michael Shirts            Alexey Shvetsov             Alfons Sijbers      \n",
            "       Peter Tieleman              Jon Vincent              Teemu Virolainen     \n",
            "     Christian Wennberg            Maarten Wolf              Artem Zhmurov       \n",
            "                           and the project leaders:\n",
            "        Mark Abraham, Berk Hess, Erik Lindahl, and David van der Spoel\n",
            "\n",
            "Copyright (c) 1991-2000, University of Groningen, The Netherlands.\n",
            "Copyright (c) 2001-2019, The GROMACS development team at\n",
            "Uppsala University, Stockholm University and\n",
            "the Royal Institute of Technology, Sweden.\n",
            "check out http://www.gromacs.org for more information.\n",
            "\n",
            "GROMACS is free software; you can redistribute it and/or modify it\n",
            "under the terms of the GNU Lesser General Public License\n",
            "as published by the Free Software Foundation; either version 2.1\n",
            "of the License, or (at your option) any later version.\n",
            "\n",
            "GROMACS:      gmx mdrun, version 2021\n",
            "Executable:   /usr/local/gromacs/bin/gmx\n",
            "Data prefix:  /usr/local/gromacs\n",
            "Working dir:  /content\n",
            "Command line:\n",
            "  gmx mdrun -v -deffnm md_0_1 -pin on -nb gpu\n",
            "\n",
            "Reading file md_0_1.tpr, VERSION 2021 (single precision)\n",
            "Changing nstlist from 10 to 40, rlist from 1 to 1.132\n",
            "\n",
            "1 GPU selected for this run.\n",
            "Mapping of GPU IDs to the 2 GPU tasks in the 1 rank on this node:\n",
            "  PP:0,PME:0\n",
            "PP tasks will do (non-perturbed) short-ranged interactions on the GPU\n",
            "PP task will update and constrain coordinates on the CPU\n",
            "PME tasks will do all aspects on the GPU\n",
            "Using 1 MPI thread\n",
            "Using 2 OpenMP threads \n",
            "\n",
            "starting mdrun 'EtOH in water'\n",
            "500000 steps,   1000.0 ps.\n",
            "\rstep 0\rstep 100, remaining wall clock time:   204 s          \rstep 200, remaining wall clock time:   187 s          \rstep 300, remaining wall clock time:   181 s          \rstep 400, remaining wall clock time:   184 s          \rstep 500, remaining wall clock time:   179 s          \rstep 600, remaining wall clock time:   191 s          \rstep 700, remaining wall clock time:   192 s          \rstep 800, remaining wall clock time:   189 s          \rstep 900, remaining wall clock time:   188 s          \rstep 1000, remaining wall clock time:   187 s          \rstep 1100, remaining wall clock time:   185 s          \rstep 1200, remaining wall clock time:   192 s          \rstep 1300, remaining wall clock time:   190 s          \rstep 1400, remaining wall clock time:   191 s          \rstep 1500, remaining wall clock time:   190 s          \rstep 1600, remaining wall clock time:   188 s          \rstep 1700, remaining wall clock time:   186 s          \rstep 1800, remaining wall clock time:   185 s          \rstep 1900, remaining wall clock time:   183 s          \rstep 2000, remaining wall clock time:   183 s          \rstep 2100, remaining wall clock time:   181 s          \rstep 2200, remaining wall clock time:   180 s          \rstep 2300, remaining wall clock time:   179 s          \rstep 2400, remaining wall clock time:   179 s          \rstep 2500, remaining wall clock time:   178 s          \rstep 2600, remaining wall clock time:   177 s          \rstep 2700, remaining wall clock time:   176 s          \rstep 2800, remaining wall clock time:   175 s          \rstep 2900, remaining wall clock time:   176 s          \rstep 3000, remaining wall clock time:   176 s          \rstep 3100, remaining wall clock time:   176 s          \rstep 3200, remaining wall clock time:   175 s          \rstep 3300, remaining wall clock time:   178 s          \rstep 3400, remaining wall clock time:   180 s          \rstep 3500, remaining wall clock time:   186 s          \rstep 3600, remaining wall clock time:   193 s          \rstep 3700, remaining wall clock time:   198 s          \rstep 3800, remaining wall clock time:   205 s          \rstep 3900, remaining wall clock time:   211 s          \rstep 4000, remaining wall clock time:   219 s          \rstep 4100, remaining wall clock time:   225 s          \rstep 4200, remaining wall clock time:   234 s          \rstep 4300, remaining wall clock time:   240 s          \rstep 4400, remaining wall clock time:   246 s          \rstep 4500, remaining wall clock time:   250 s          \rstep 4600, remaining wall clock time:   253 s          \rstep 4700, remaining wall clock time:   262 s          \rstep 4800, remaining wall clock time:   271 s          \rstep 4900, remaining wall clock time:   276 s          \rstep 5000, remaining wall clock time:   283 s          \rstep 5100, remaining wall clock time:   288 s          \rstep 5200, remaining wall clock time:   297 s          \rstep 5300, will finish Sat Sep  3 07:40:04 2022\rstep 5400, will finish Sat Sep  3 07:40:07 2022\rstep 5500, will finish Sat Sep  3 07:40:09 2022\rstep 5600, will finish Sat Sep  3 07:40:13 2022\rstep 5700, will finish Sat Sep  3 07:40:15 2022\rstep 5800, will finish Sat Sep  3 07:40:20 2022\rstep 5900, will finish Sat Sep  3 07:40:25 2022\rstep 6000, will finish Sat Sep  3 07:40:33 2022\rstep 6100, will finish Sat Sep  3 07:40:35 2022\rstep 6200, will finish Sat Sep  3 07:40:39 2022\rstep 6300, will finish Sat Sep  3 07:40:40 2022\rstep 6400, will finish Sat Sep  3 07:40:43 2022\rstep 6500, will finish Sat Sep  3 07:40:43 2022\rstep 6600, will finish Sat Sep  3 07:40:48 2022\rstep 6700, will finish Sat Sep  3 07:40:50 2022\rstep 6800, will finish Sat Sep  3 07:40:52 2022\rstep 6900, will finish Sat Sep  3 07:40:55 2022\rstep 7000, will finish Sat Sep  3 07:40:57 2022\rstep 7080: timed with pme grid 16 16 16, coulomb cutoff 1.000: 119.5 M-cycles\n",
            "\rstep 7080: the box size limits the PME load balancing to a coulomb cut-off of 1.000\n",
            "\r              optimal pme grid 16 16 16, coulomb cutoff 1.000\n",
            "\rstep 7200, will finish Sat Sep  3 07:41:03 2022\rstep 7300, will finish Sat Sep  3 07:41:02 2022\rstep 7400, will finish Sat Sep  3 07:40:59 2022\rstep 7500, will finish Sat Sep  3 07:40:57 2022\rstep 7600, will finish Sat Sep  3 07:40:56 2022\rstep 7700, will finish Sat Sep  3 07:40:53 2022\rstep 7800, will finish Sat Sep  3 07:40:51 2022\rstep 7900, will finish Sat Sep  3 07:40:49 2022\rstep 8000, will finish Sat Sep  3 07:40:46 2022\rstep 8100, will finish Sat Sep  3 07:40:44 2022\rstep 8200, will finish Sat Sep  3 07:40:42 2022\rstep 8300, will finish Sat Sep  3 07:40:40 2022\rstep 8400, will finish Sat Sep  3 07:40:38 2022\rstep 8500, will finish Sat Sep  3 07:40:36 2022\rstep 8600, will finish Sat Sep  3 07:40:34 2022\rstep 8700, will finish Sat Sep  3 07:40:32 2022\rstep 8800, will finish Sat Sep  3 07:40:30 2022\rstep 8900, will finish Sat Sep  3 07:40:28 2022\rstep 9000, will finish Sat Sep  3 07:40:27 2022\rstep 9100, will finish Sat Sep  3 07:40:25 2022\rstep 9200, will finish Sat Sep  3 07:40:23 2022\rstep 9300, will finish Sat Sep  3 07:40:21 2022\rstep 9400, will finish Sat Sep  3 07:40:20 2022\rstep 9500, will finish Sat Sep  3 07:40:18 2022\rstep 9600, will finish Sat Sep  3 07:40:16 2022\rstep 9700, will finish Sat Sep  3 07:40:15 2022\rstep 9800, will finish Sat Sep  3 07:40:13 2022\rstep 9900, will finish Sat Sep  3 07:40:11 2022\rstep 10000, will finish Sat Sep  3 07:40:10 2022\rstep 10100, will finish Sat Sep  3 07:40:09 2022\rstep 10200, will finish Sat Sep  3 07:40:07 2022\rstep 10300, remaining wall clock time:   299 s          \rstep 10400, remaining wall clock time:   298 s          \rstep 10500, remaining wall clock time:   297 s          \rstep 10600, remaining wall clock time:   295 s          \rstep 10700, remaining wall clock time:   295 s          \rstep 10800, remaining wall clock time:   293 s          \rstep 10900, remaining wall clock time:   292 s          \rstep 11000, remaining wall clock time:   291 s          \rstep 11100, remaining wall clock time:   289 s          \rstep 11200, remaining wall clock time:   288 s          \rstep 11300, remaining wall clock time:   287 s          \rstep 11400, remaining wall clock time:   286 s          \rstep 11500, remaining wall clock time:   284 s          \rstep 11600, remaining wall clock time:   283 s          \rstep 11700, remaining wall clock time:   282 s          \rstep 11800, remaining wall clock time:   281 s          \rstep 11900, remaining wall clock time:   280 s          \rstep 12000, remaining wall clock time:   279 s          \rstep 12100, remaining wall clock time:   278 s          \rstep 12200, remaining wall clock time:   277 s          \rstep 12300, remaining wall clock time:   276 s          \rstep 12400, remaining wall clock time:   275 s          \rstep 12500, remaining wall clock time:   274 s          \rstep 12600, remaining wall clock time:   273 s          \rstep 12700, remaining wall clock time:   272 s          \rstep 12800, remaining wall clock time:   271 s          \rstep 12900, remaining wall clock time:   270 s          \rstep 13000, remaining wall clock time:   269 s          \rstep 13100, remaining wall clock time:   268 s          \rstep 13200, remaining wall clock time:   267 s          \rstep 13300, remaining wall clock time:   266 s          \rstep 13400, remaining wall clock time:   266 s          \rstep 13500, remaining wall clock time:   265 s          \rstep 13600, remaining wall clock time:   264 s          \rstep 13700, remaining wall clock time:   264 s          \rstep 13800, remaining wall clock time:   263 s          \rstep 13900, remaining wall clock time:   262 s          \rstep 14000, remaining wall clock time:   261 s          \rstep 14100, remaining wall clock time:   260 s          \rstep 14200, remaining wall clock time:   260 s          \rstep 14300, remaining wall clock time:   259 s          \rstep 14400, remaining wall clock time:   258 s          \rstep 14500, remaining wall clock time:   257 s          \rstep 14600, remaining wall clock time:   256 s          \rstep 14700, remaining wall clock time:   256 s          \rstep 14800, remaining wall clock time:   255 s          \rstep 14900, remaining wall clock time:   254 s          \rstep 15000, remaining wall clock time:   253 s          \rstep 15100, remaining wall clock time:   253 s          \rstep 15200, remaining wall clock time:   252 s          \rstep 15300, remaining wall clock time:   251 s          \rstep 15400, remaining wall clock time:   251 s          \rstep 15500, remaining wall clock time:   250 s          \rstep 15600, remaining wall clock time:   249 s          \rstep 15700, remaining wall clock time:   249 s          \rstep 15800, remaining wall clock time:   248 s          \rstep 15900, remaining wall clock time:   247 s          \rstep 16000, remaining wall clock time:   247 s          \rstep 16100, remaining wall clock time:   246 s          \rstep 16200, remaining wall clock time:   245 s          \rstep 16300, remaining wall clock time:   245 s          \rstep 16400, remaining wall clock time:   244 s          \rstep 16500, remaining wall clock time:   244 s          \rstep 16600, remaining wall clock time:   243 s          \rstep 16700, remaining wall clock time:   242 s          \rstep 16800, remaining wall clock time:   242 s          \rstep 16900, remaining wall clock time:   242 s          \rstep 17000, remaining wall clock time:   241 s          \rstep 17100, remaining wall clock time:   241 s          \rstep 17200, remaining wall clock time:   240 s          \rstep 17300, remaining wall clock time:   240 s          \rstep 17400, remaining wall clock time:   239 s          \rstep 17500, remaining wall clock time:   239 s          \rstep 17600, remaining wall clock time:   238 s          \rstep 17700, remaining wall clock time:   237 s          \rstep 17800, remaining wall clock time:   237 s          \rstep 17900, remaining wall clock time:   236 s          \rstep 18000, remaining wall clock time:   236 s          \rstep 18100, remaining wall clock time:   235 s          \rstep 18200, remaining wall clock time:   235 s          \rstep 18300, remaining wall clock time:   234 s          \rstep 18400, remaining wall clock time:   234 s          \rstep 18500, remaining wall clock time:   233 s          \rstep 18600, remaining wall clock time:   233 s          \rstep 18700, remaining wall clock time:   232 s          \rstep 18800, remaining wall clock time:   232 s          \rstep 18900, remaining wall clock time:   231 s          \rstep 19000, remaining wall clock time:   231 s          \rstep 19100, remaining wall clock time:   230 s          \rstep 19200, remaining wall clock time:   230 s          \rstep 19300, remaining wall clock time:   230 s          \rstep 19400, remaining wall clock time:   229 s          \rstep 19500, remaining wall clock time:   229 s          \rstep 19600, remaining wall clock time:   228 s          \rstep 19700, remaining wall clock time:   228 s          \rstep 19800, remaining wall clock time:   227 s          \rstep 19900, remaining wall clock time:   227 s          \rstep 20000, remaining wall clock time:   227 s          \rstep 20100, remaining wall clock time:   227 s          \rstep 20200, remaining wall clock time:   226 s          \rstep 20300, remaining wall clock time:   226 s          \rstep 20400, remaining wall clock time:   225 s          \rstep 20500, remaining wall clock time:   225 s          \rstep 20600, remaining wall clock time:   225 s          \rstep 20700, remaining wall clock time:   224 s          \rstep 20800, remaining wall clock time:   224 s          \rstep 20900, remaining wall clock time:   223 s          \rstep 21000, remaining wall clock time:   223 s          \rstep 21100, remaining wall clock time:   223 s          \rstep 21200, remaining wall clock time:   222 s          \rstep 21300, remaining wall clock time:   222 s          \rstep 21400, remaining wall clock time:   222 s          \rstep 21500, remaining wall clock time:   221 s          \rstep 21600, remaining wall clock time:   221 s          \rstep 21700, remaining wall clock time:   220 s          \rstep 21800, remaining wall clock time:   220 s          \rstep 21900, remaining wall clock time:   220 s          \rstep 22000, remaining wall clock time:   219 s          \rstep 22100, remaining wall clock time:   219 s          \rstep 22200, remaining wall clock time:   219 s          \rstep 22300, remaining wall clock time:   218 s          \rstep 22400, remaining wall clock time:   218 s          \rstep 22500, remaining wall clock time:   218 s          \rstep 22600, remaining wall clock time:   217 s          \rstep 22700, remaining wall clock time:   217 s          \rstep 22800, remaining wall clock time:   217 s          \rstep 22900, remaining wall clock time:   216 s          \rstep 23000, remaining wall clock time:   216 s          \rstep 23100, remaining wall clock time:   216 s          \rstep 23200, remaining wall clock time:   216 s          \rstep 23300, remaining wall clock time:   216 s          \rstep 23400, remaining wall clock time:   215 s          \rstep 23500, remaining wall clock time:   215 s          \rstep 23600, remaining wall clock time:   215 s          \rstep 23700, remaining wall clock time:   214 s          \rstep 23800, remaining wall clock time:   214 s          \rstep 23900, remaining wall clock time:   214 s          \rstep 24000, remaining wall clock time:   213 s          \rstep 24100, remaining wall clock time:   213 s          \rstep 24200, remaining wall clock time:   213 s          \rstep 24300, remaining wall clock time:   213 s          \rstep 24400, remaining wall clock time:   212 s          \rstep 24500, remaining wall clock time:   212 s          \rstep 24600, remaining wall clock time:   212 s          \rstep 24700, remaining wall clock time:   212 s          \rstep 24800, remaining wall clock time:   211 s          \rstep 24900, remaining wall clock time:   211 s          \rstep 25000, remaining wall clock time:   211 s          \rstep 25100, remaining wall clock time:   210 s          \rstep 25200, remaining wall clock time:   210 s          \rstep 25300, remaining wall clock time:   210 s          \rstep 25400, remaining wall clock time:   209 s          \rstep 25500, remaining wall clock time:   209 s          \rstep 25600, remaining wall clock time:   209 s          \rstep 25700, remaining wall clock time:   209 s          \rstep 25800, remaining wall clock time:   209 s          \rstep 25900, remaining wall clock time:   208 s          \rstep 26000, remaining wall clock time:   208 s          \rstep 26100, remaining wall clock time:   208 s          \rstep 26200, remaining wall clock time:   207 s          \rstep 26300, remaining wall clock time:   207 s          \rstep 26400, remaining wall clock time:   207 s          \rstep 26500, remaining wall clock time:   207 s          \rstep 26600, remaining wall clock time:   207 s          \rstep 26700, remaining wall clock time:   206 s          \rstep 26800, remaining wall clock time:   206 s          \rstep 26900, remaining wall clock time:   206 s          \rstep 27000, remaining wall clock time:   206 s          \rstep 27100, remaining wall clock time:   205 s          \rstep 27200, remaining wall clock time:   205 s          \rstep 27300, remaining wall clock time:   205 s          \rstep 27400, remaining wall clock time:   205 s          \rstep 27500, remaining wall clock time:   204 s          \rstep 27600, remaining wall clock time:   204 s          \rstep 27700, remaining wall clock time:   204 s          \rstep 27800, remaining wall clock time:   204 s          \rstep 27900, remaining wall clock time:   203 s          \rstep 28000, remaining wall clock time:   203 s          \rstep 28100, remaining wall clock time:   203 s          \rstep 28200, remaining wall clock time:   203 s          \rstep 28300, remaining wall clock time:   202 s          \rstep 28400, remaining wall clock time:   202 s          \rstep 28500, remaining wall clock time:   202 s          \rstep 28600, remaining wall clock time:   202 s          \rstep 28700, remaining wall clock time:   202 s          \rstep 28800, remaining wall clock time:   201 s          \rstep 28900, remaining wall clock time:   201 s          \rstep 29000, remaining wall clock time:   201 s          \rstep 29100, remaining wall clock time:   201 s          \rstep 29200, remaining wall clock time:   201 s          \rstep 29300, remaining wall clock time:   200 s          \rstep 29400, remaining wall clock time:   200 s          \rstep 29500, remaining wall clock time:   200 s          \rstep 29600, remaining wall clock time:   200 s          \rstep 29700, remaining wall clock time:   200 s          \rstep 29800, remaining wall clock time:   200 s          \rstep 29900, remaining wall clock time:   199 s          \rstep 30000, remaining wall clock time:   199 s          \rstep 30100, remaining wall clock time:   199 s          \rstep 30200, remaining wall clock time:   199 s          \rstep 30300, remaining wall clock time:   198 s          \rstep 30400, remaining wall clock time:   198 s          \rstep 30500, remaining wall clock time:   198 s          \rstep 30600, remaining wall clock time:   198 s          \rstep 30700, remaining wall clock time:   198 s          \rstep 30800, remaining wall clock time:   197 s          \rstep 30900, remaining wall clock time:   197 s          \rstep 31000, remaining wall clock time:   197 s          \rstep 31100, remaining wall clock time:   197 s          \rstep 31200, remaining wall clock time:   197 s          \rstep 31300, remaining wall clock time:   196 s          \rstep 31400, remaining wall clock time:   196 s          \rstep 31500, remaining wall clock time:   196 s          \rstep 31600, remaining wall clock time:   196 s          \rstep 31700, remaining wall clock time:   195 s          \rstep 31800, remaining wall clock time:   195 s          \rstep 31900, remaining wall clock time:   195 s          \rstep 32000, remaining wall clock time:   195 s          \rstep 32100, remaining wall clock time:   195 s          \rstep 32200, remaining wall clock time:   195 s          \rstep 32300, remaining wall clock time:   194 s          \rstep 32400, remaining wall clock time:   194 s          \rstep 32500, remaining wall clock time:   194 s          \rstep 32600, remaining wall clock time:   194 s          \rstep 32700, remaining wall clock time:   194 s          \rstep 32800, remaining wall clock time:   194 s          \rstep 32900, remaining wall clock time:   193 s          \rstep 33000, remaining wall clock time:   193 s          \rstep 33100, remaining wall clock time:   193 s          \rstep 33200, remaining wall clock time:   193 s          \rstep 33300, remaining wall clock time:   193 s          \rstep 33400, remaining wall clock time:   193 s          \rstep 33500, remaining wall clock time:   192 s          \rstep 33600, remaining wall clock time:   192 s          \rstep 33700, remaining wall clock time:   192 s          \rstep 33800, remaining wall clock time:   192 s          \rstep 33900, remaining wall clock time:   192 s          \rstep 34000, remaining wall clock time:   191 s          \rstep 34100, remaining wall clock time:   191 s          \rstep 34200, remaining wall clock time:   191 s          \rstep 34300, remaining wall clock time:   191 s          \rstep 34400, remaining wall clock time:   191 s          \rstep 34500, remaining wall clock time:   191 s          \rstep 34600, remaining wall clock time:   190 s          \rstep 34700, remaining wall clock time:   190 s          \rstep 34800, remaining wall clock time:   190 s          \rstep 34900, remaining wall clock time:   190 s          \rstep 35000, remaining wall clock time:   190 s          \rstep 35100, remaining wall clock time:   190 s          \rstep 35200, remaining wall clock time:   189 s          \rstep 35300, remaining wall clock time:   189 s          \rstep 35400, remaining wall clock time:   189 s          \rstep 35500, remaining wall clock time:   189 s          \rstep 35600, remaining wall clock time:   189 s          \rstep 35700, remaining wall clock time:   189 s          \rstep 35800, remaining wall clock time:   188 s          \rstep 35900, remaining wall clock time:   188 s          \rstep 36000, remaining wall clock time:   188 s          \rstep 36100, remaining wall clock time:   188 s          \rstep 36200, remaining wall clock time:   188 s          \rstep 36300, remaining wall clock time:   188 s          \rstep 36400, remaining wall clock time:   188 s          \rstep 36500, remaining wall clock time:   187 s          \rstep 36600, remaining wall clock time:   187 s          \rstep 36700, remaining wall clock time:   187 s          \rstep 36800, remaining wall clock time:   187 s          \rstep 36900, remaining wall clock time:   187 s          \rstep 37000, remaining wall clock time:   187 s          \rstep 37100, remaining wall clock time:   186 s          \rstep 37200, remaining wall clock time:   186 s          \rstep 37300, remaining wall clock time:   186 s          \rstep 37400, remaining wall clock time:   186 s          \rstep 37500, remaining wall clock time:   186 s          \rstep 37600, remaining wall clock time:   186 s          \rstep 37700, remaining wall clock time:   185 s          \rstep 37800, remaining wall clock time:   185 s          \rstep 37900, remaining wall clock time:   185 s          \rstep 38000, remaining wall clock time:   185 s          \rstep 38100, remaining wall clock time:   185 s          \rstep 38200, remaining wall clock time:   185 s          \rstep 38300, remaining wall clock time:   185 s          \rstep 38400, remaining wall clock time:   184 s          \rstep 38500, remaining wall clock time:   184 s          \rstep 38600, remaining wall clock time:   184 s          \rstep 38700, remaining wall clock time:   184 s          \rstep 38800, remaining wall clock time:   184 s          \rstep 38900, remaining wall clock time:   184 s          \rstep 39000, remaining wall clock time:   184 s          \rstep 39100, remaining wall clock time:   184 s          \rstep 39200, remaining wall clock time:   184 s          \rstep 39300, remaining wall clock time:   183 s          \rstep 39400, remaining wall clock time:   183 s          \rstep 39500, remaining wall clock time:   183 s          \rstep 39600, remaining wall clock time:   183 s          \rstep 39700, remaining wall clock time:   183 s          \rstep 39800, remaining wall clock time:   183 s          \rstep 39900, remaining wall clock time:   182 s          \rstep 40000, remaining wall clock time:   182 s          \rstep 40100, remaining wall clock time:   182 s          \rstep 40200, remaining wall clock time:   182 s          \rstep 40300, remaining wall clock time:   182 s          \rstep 40400, remaining wall clock time:   182 s          \rstep 40500, remaining wall clock time:   182 s          \rstep 40600, remaining wall clock time:   182 s          \rstep 40700, remaining wall clock time:   181 s          \rstep 40800, remaining wall clock time:   181 s          \rstep 40900, remaining wall clock time:   181 s          \rstep 41000, remaining wall clock time:   181 s          \rstep 41100, remaining wall clock time:   181 s          \rstep 41200, remaining wall clock time:   181 s          \rstep 41300, remaining wall clock time:   181 s          \rstep 41400, remaining wall clock time:   181 s          \rstep 41500, remaining wall clock time:   180 s          \rstep 41600, remaining wall clock time:   180 s          \rstep 41700, remaining wall clock time:   180 s          \rstep 41800, remaining wall clock time:   180 s          \rstep 41900, remaining wall clock time:   180 s          \rstep 42000, remaining wall clock time:   180 s          \rstep 42100, remaining wall clock time:   180 s          \rstep 42200, remaining wall clock time:   180 s          \rstep 42300, remaining wall clock time:   180 s          \rstep 42400, remaining wall clock time:   179 s          \rstep 42500, remaining wall clock time:   179 s          \rstep 42600, remaining wall clock time:   179 s          \rstep 42700, remaining wall clock time:   179 s          \rstep 42800, remaining wall clock time:   179 s          \rstep 42900, remaining wall clock time:   179 s          \rstep 43000, remaining wall clock time:   179 s          \rstep 43100, remaining wall clock time:   179 s          \rstep 43200, remaining wall clock time:   178 s          \rstep 43300, remaining wall clock time:   178 s          \rstep 43400, remaining wall clock time:   178 s          \rstep 43500, remaining wall clock time:   178 s          \rstep 43600, remaining wall clock time:   178 s          \rstep 43700, remaining wall clock time:   178 s          \rstep 43800, remaining wall clock time:   178 s          \rstep 43900, remaining wall clock time:   178 s          \rstep 44000, remaining wall clock time:   177 s          \rstep 44100, remaining wall clock time:   177 s          \rstep 44200, remaining wall clock time:   177 s          \rstep 44300, remaining wall clock time:   177 s          \rstep 44400, remaining wall clock time:   177 s          \rstep 44500, remaining wall clock time:   177 s          \rstep 44600, remaining wall clock time:   177 s          \rstep 44700, remaining wall clock time:   177 s          \rstep 44800, remaining wall clock time:   177 s          \rstep 44900, remaining wall clock time:   176 s          \rstep 45000, remaining wall clock time:   176 s          \rstep 45100, remaining wall clock time:   176 s          \rstep 45200, remaining wall clock time:   176 s          \rstep 45300, remaining wall clock time:   176 s          \rstep 45400, remaining wall clock time:   176 s          \rstep 45500, remaining wall clock time:   176 s          \rstep 45600, remaining wall clock time:   176 s          \rstep 45700, remaining wall clock time:   176 s          \rstep 45800, remaining wall clock time:   176 s          \rstep 45900, remaining wall clock time:   175 s          \rstep 46000, remaining wall clock time:   175 s          \rstep 46100, remaining wall clock time:   175 s          \rstep 46200, remaining wall clock time:   175 s          \rstep 46300, remaining wall clock time:   175 s          \rstep 46400, remaining wall clock time:   175 s          \rstep 46500, remaining wall clock time:   175 s          \rstep 46600, remaining wall clock time:   175 s          \rstep 46700, remaining wall clock time:   175 s          \rstep 46800, remaining wall clock time:   174 s          \rstep 46900, remaining wall clock time:   174 s          \rstep 47000, remaining wall clock time:   174 s          \rstep 47100, remaining wall clock time:   174 s          \rstep 47200, remaining wall clock time:   174 s          \rstep 47300, remaining wall clock time:   174 s          \rstep 47400, remaining wall clock time:   174 s          \rstep 47500, remaining wall clock time:   174 s          \rstep 47600, remaining wall clock time:   174 s          \rstep 47700, remaining wall clock time:   173 s          \rstep 47800, remaining wall clock time:   173 s          \rstep 47900, remaining wall clock time:   173 s          \rstep 48000, remaining wall clock time:   173 s          \rstep 48100, remaining wall clock time:   173 s          \rstep 48200, remaining wall clock time:   173 s          \rstep 48300, remaining wall clock time:   173 s          \rstep 48400, remaining wall clock time:   173 s          \rstep 48500, remaining wall clock time:   173 s          \rstep 48600, remaining wall clock time:   173 s          \rstep 48700, remaining wall clock time:   173 s          \rstep 48800, remaining wall clock time:   172 s          \rstep 48900, remaining wall clock time:   172 s          \rstep 49000, remaining wall clock time:   172 s          \rstep 49100, remaining wall clock time:   172 s          \rstep 49200, remaining wall clock time:   172 s          \rstep 49300, remaining wall clock time:   172 s          \rstep 49400, remaining wall clock time:   172 s          \rstep 49500, remaining wall clock time:   172 s          \rstep 49600, remaining wall clock time:   172 s          \rstep 49700, remaining wall clock time:   172 s          \rstep 49800, remaining wall clock time:   171 s          \rstep 49900, remaining wall clock time:   171 s          \rstep 50000, remaining wall clock time:   171 s          \rstep 50100, remaining wall clock time:   171 s          \rstep 50200, remaining wall clock time:   171 s          \rstep 50300, remaining wall clock time:   171 s          \rstep 50400, remaining wall clock time:   171 s          \rstep 50500, remaining wall clock time:   171 s          \rstep 50600, remaining wall clock time:   171 s          \rstep 50700, remaining wall clock time:   171 s          \rstep 50800, remaining wall clock time:   170 s          \rstep 50900, remaining wall clock time:   170 s          \rstep 51000, remaining wall clock time:   170 s          \rstep 51100, remaining wall clock time:   170 s          \rstep 51200, remaining wall clock time:   170 s          \rstep 51300, remaining wall clock time:   170 s          \rstep 51400, remaining wall clock time:   170 s          \rstep 51500, remaining wall clock time:   170 s          \rstep 51600, remaining wall clock time:   170 s          \rstep 51700, remaining wall clock time:   170 s          \rstep 51800, remaining wall clock time:   170 s          \rstep 51900, remaining wall clock time:   170 s          \rstep 52000, remaining wall clock time:   169 s          \rstep 52100, remaining wall clock time:   169 s          \rstep 52200, remaining wall clock time:   169 s          \rstep 52300, remaining wall clock time:   169 s          \rstep 52400, remaining wall clock time:   169 s          \rstep 52500, remaining wall clock time:   169 s          \rstep 52600, remaining wall clock time:   169 s          \rstep 52700, remaining wall clock time:   169 s          \rstep 52800, remaining wall clock time:   169 s          \rstep 52900, remaining wall clock time:   169 s          \rstep 53000, remaining wall clock time:   169 s          \rstep 53100, remaining wall clock time:   168 s          \rstep 53200, remaining wall clock time:   168 s          \rstep 53300, remaining wall clock time:   168 s          \rstep 53400, remaining wall clock time:   168 s          \rstep 53500, remaining wall clock time:   168 s          \rstep 53600, remaining wall clock time:   168 s          \rstep 53700, remaining wall clock time:   168 s          \rstep 53800, remaining wall clock time:   168 s          \rstep 53900, remaining wall clock time:   168 s          \rstep 54000, remaining wall clock time:   168 s          \rstep 54100, remaining wall clock time:   168 s          \rstep 54200, remaining wall clock time:   168 s          \rstep 54300, remaining wall clock time:   167 s          \rstep 54400, remaining wall clock time:   167 s          \rstep 54500, remaining wall clock time:   167 s          \rstep 54600, remaining wall clock time:   167 s          \rstep 54700, remaining wall clock time:   167 s          \rstep 54800, remaining wall clock time:   167 s          \rstep 54900, remaining wall clock time:   167 s          \rstep 55000, remaining wall clock time:   167 s          \rstep 55100, remaining wall clock time:   167 s          \rstep 55200, remaining wall clock time:   167 s          \rstep 55300, remaining wall clock time:   167 s          \rstep 55400, remaining wall clock time:   167 s          \rstep 55500, remaining wall clock time:   167 s          \rstep 55600, remaining wall clock time:   167 s          \rstep 55700, remaining wall clock time:   167 s          \rstep 55800, remaining wall clock time:   167 s          \rstep 55900, remaining wall clock time:   167 s          \rstep 56000, remaining wall clock time:   167 s          \rstep 56100, remaining wall clock time:   167 s          \rstep 56200, remaining wall clock time:   167 s          \rstep 56300, remaining wall clock time:   167 s          \rstep 56400, remaining wall clock time:   167 s          \rstep 56500, remaining wall clock time:   167 s          \rstep 56600, remaining wall clock time:   167 s          \rstep 56700, remaining wall clock time:   167 s          \rstep 56800, remaining wall clock time:   167 s          \rstep 56900, remaining wall clock time:   166 s          \rstep 57000, remaining wall clock time:   166 s          \rstep 57100, remaining wall clock time:   166 s          \rstep 57200, remaining wall clock time:   166 s          \rstep 57300, remaining wall clock time:   166 s          \rstep 57400, remaining wall clock time:   166 s          \rstep 57500, remaining wall clock time:   166 s          \rstep 57600, remaining wall clock time:   166 s          \rstep 57700, remaining wall clock time:   166 s          \rstep 57800, remaining wall clock time:   166 s          \rstep 57900, remaining wall clock time:   166 s          \rstep 58000, remaining wall clock time:   166 s          \rstep 58100, remaining wall clock time:   166 s          \rstep 58200, remaining wall clock time:   165 s          \rstep 58300, remaining wall clock time:   165 s          \rstep 58400, remaining wall clock time:   165 s          \rstep 58500, remaining wall clock time:   165 s          \rstep 58600, remaining wall clock time:   165 s          \rstep 58700, remaining wall clock time:   165 s          \rstep 58800, remaining wall clock time:   165 s          \rstep 58900, remaining wall clock time:   165 s          \rstep 59000, remaining wall clock time:   165 s          \rstep 59100, remaining wall clock time:   165 s          \rstep 59200, remaining wall clock time:   165 s          \rstep 59300, remaining wall clock time:   165 s          \rstep 59400, remaining wall clock time:   164 s          \rstep 59500, remaining wall clock time:   164 s          \rstep 59600, remaining wall clock time:   164 s          \rstep 59700, remaining wall clock time:   164 s          \rstep 59800, remaining wall clock time:   164 s          \rstep 59900, remaining wall clock time:   164 s          \rstep 60000, remaining wall clock time:   164 s          \rstep 60100, remaining wall clock time:   164 s          \rstep 60200, remaining wall clock time:   164 s          \rstep 60300, remaining wall clock time:   164 s          \rstep 60400, remaining wall clock time:   164 s          \rstep 60500, remaining wall clock time:   164 s          \rstep 60600, remaining wall clock time:   163 s          \rstep 60700, remaining wall clock time:   163 s          \rstep 60800, remaining wall clock time:   163 s          \rstep 60900, remaining wall clock time:   163 s          \rstep 61000, remaining wall clock time:   163 s          \rstep 61100, remaining wall clock time:   163 s          \rstep 61200, remaining wall clock time:   163 s          \rstep 61300, remaining wall clock time:   163 s          \rstep 61400, remaining wall clock time:   163 s          \rstep 61500, remaining wall clock time:   163 s          \rstep 61600, remaining wall clock time:   163 s          \rstep 61700, remaining wall clock time:   163 s          \rstep 61800, remaining wall clock time:   163 s          \rstep 61900, remaining wall clock time:   163 s          \rstep 62000, remaining wall clock time:   163 s          \rstep 62100, remaining wall clock time:   162 s          \rstep 62200, remaining wall clock time:   162 s          \rstep 62300, remaining wall clock time:   162 s          \rstep 62400, remaining wall clock time:   162 s          \rstep 62500, remaining wall clock time:   162 s          \rstep 62600, remaining wall clock time:   162 s          \rstep 62700, remaining wall clock time:   162 s          \rstep 62800, remaining wall clock time:   162 s          \rstep 62900, remaining wall clock time:   162 s          \rstep 63000, remaining wall clock time:   162 s          \rstep 63100, remaining wall clock time:   162 s          \rstep 63200, remaining wall clock time:   162 s          \rstep 63300, remaining wall clock time:   162 s          \rstep 63400, remaining wall clock time:   161 s          \rstep 63500, remaining wall clock time:   161 s          \rstep 63600, remaining wall clock time:   161 s          \rstep 63700, remaining wall clock time:   161 s          \rstep 63800, remaining wall clock time:   161 s          \rstep 63900, remaining wall clock time:   161 s          \rstep 64000, remaining wall clock time:   161 s          \rstep 64100, remaining wall clock time:   161 s          \rstep 64200, remaining wall clock time:   161 s          \rstep 64300, remaining wall clock time:   161 s          \rstep 64400, remaining wall clock time:   161 s          \rstep 64500, remaining wall clock time:   161 s          \rstep 64600, remaining wall clock time:   161 s          \rstep 64700, remaining wall clock time:   161 s          \rstep 64800, remaining wall clock time:   161 s          \rstep 64900, remaining wall clock time:   161 s          \rstep 65000, remaining wall clock time:   161 s          \rstep 65100, remaining wall clock time:   160 s          \rstep 65200, remaining wall clock time:   160 s          \rstep 65300, remaining wall clock time:   160 s          \rstep 65400, remaining wall clock time:   160 s          \rstep 65500, remaining wall clock time:   160 s          \rstep 65600, remaining wall clock time:   160 s          \rstep 65700, remaining wall clock time:   160 s          \rstep 65800, remaining wall clock time:   160 s          \rstep 65900, remaining wall clock time:   160 s          \rstep 66000, remaining wall clock time:   160 s          \rstep 66100, remaining wall clock time:   160 s          \rstep 66200, remaining wall clock time:   160 s          \rstep 66300, remaining wall clock time:   160 s          \rstep 66400, remaining wall clock time:   160 s          \rstep 66500, remaining wall clock time:   160 s          \rstep 66600, remaining wall clock time:   159 s          \rstep 66700, remaining wall clock time:   159 s          \rstep 66800, remaining wall clock time:   159 s          \rstep 66900, remaining wall clock time:   159 s          \rstep 67000, remaining wall clock time:   159 s          \rstep 67100, remaining wall clock time:   159 s          \rstep 67200, remaining wall clock time:   159 s          \rstep 67300, remaining wall clock time:   159 s          \rstep 67400, remaining wall clock time:   159 s          \rstep 67500, remaining wall clock time:   159 s          \rstep 67600, remaining wall clock time:   159 s          \rstep 67700, remaining wall clock time:   159 s          \rstep 67800, remaining wall clock time:   159 s          \rstep 67900, remaining wall clock time:   159 s          \rstep 68000, remaining wall clock time:   159 s          \rstep 68100, remaining wall clock time:   159 s          \rstep 68200, remaining wall clock time:   158 s          \rstep 68300, remaining wall clock time:   158 s          \rstep 68400, remaining wall clock time:   158 s          \rstep 68500, remaining wall clock time:   158 s          \rstep 68600, remaining wall clock time:   158 s          \rstep 68700, remaining wall clock time:   158 s          \rstep 68800, remaining wall clock time:   158 s          \rstep 68900, remaining wall clock time:   158 s          \rstep 69000, remaining wall clock time:   158 s          \rstep 69100, remaining wall clock time:   158 s          \rstep 69200, remaining wall clock time:   158 s          \rstep 69300, remaining wall clock time:   158 s          \rstep 69400, remaining wall clock time:   158 s          \rstep 69500, remaining wall clock time:   158 s          \rstep 69600, remaining wall clock time:   158 s          \rstep 69700, remaining wall clock time:   158 s          \rstep 69800, remaining wall clock time:   157 s          \rstep 69900, remaining wall clock time:   157 s          \rstep 70000, remaining wall clock time:   157 s          \rstep 70100, remaining wall clock time:   157 s          \rstep 70200, remaining wall clock time:   157 s          \rstep 70300, remaining wall clock time:   157 s          \rstep 70400, remaining wall clock time:   157 s          \rstep 70500, remaining wall clock time:   157 s          \rstep 70600, remaining wall clock time:   157 s          \rstep 70700, remaining wall clock time:   157 s          \rstep 70800, remaining wall clock time:   157 s          \rstep 70900, remaining wall clock time:   157 s          \rstep 71000, remaining wall clock time:   157 s          \rstep 71100, remaining wall clock time:   157 s          \rstep 71200, remaining wall clock time:   157 s          \rstep 71300, remaining wall clock time:   157 s          \rstep 71400, remaining wall clock time:   156 s          \rstep 71500, remaining wall clock time:   156 s          \rstep 71600, remaining wall clock time:   156 s          \rstep 71700, remaining wall clock time:   156 s          \rstep 71800, remaining wall clock time:   156 s          \rstep 71900, remaining wall clock time:   156 s          \rstep 72000, remaining wall clock time:   156 s          \rstep 72100, remaining wall clock time:   156 s          \rstep 72200, remaining wall clock time:   156 s          \rstep 72300, remaining wall clock time:   156 s          \rstep 72400, remaining wall clock time:   156 s          \rstep 72500, remaining wall clock time:   156 s          \rstep 72600, remaining wall clock time:   156 s          \rstep 72700, remaining wall clock time:   156 s          \rstep 72800, remaining wall clock time:   156 s          \rstep 72900, remaining wall clock time:   155 s          \rstep 73000, remaining wall clock time:   155 s          \rstep 73100, remaining wall clock time:   155 s          \rstep 73200, remaining wall clock time:   155 s          \rstep 73300, remaining wall clock time:   155 s          \rstep 73400, remaining wall clock time:   155 s          \rstep 73500, remaining wall clock time:   155 s          \rstep 73600, remaining wall clock time:   155 s          \rstep 73700, remaining wall clock time:   155 s          \rstep 73800, remaining wall clock time:   155 s          \rstep 73900, remaining wall clock time:   155 s          \rstep 74000, remaining wall clock time:   155 s          \rstep 74100, remaining wall clock time:   155 s          \rstep 74200, remaining wall clock time:   155 s          \rstep 74300, remaining wall clock time:   155 s          \rstep 74400, remaining wall clock time:   155 s          \rstep 74500, remaining wall clock time:   155 s          \rstep 74600, remaining wall clock time:   155 s          \rstep 74700, remaining wall clock time:   154 s          \rstep 74800, remaining wall clock time:   154 s          \rstep 74900, remaining wall clock time:   154 s          \rstep 75000, remaining wall clock time:   154 s          \rstep 75100, remaining wall clock time:   154 s          \rstep 75200, remaining wall clock time:   154 s          \rstep 75300, remaining wall clock time:   154 s          \rstep 75400, remaining wall clock time:   154 s          \rstep 75500, remaining wall clock time:   154 s          \rstep 75600, remaining wall clock time:   154 s          \rstep 75700, remaining wall clock time:   154 s          \rstep 75800, remaining wall clock time:   154 s          \rstep 75900, remaining wall clock time:   154 s          \rstep 76000, remaining wall clock time:   154 s          \rstep 76100, remaining wall clock time:   154 s          \rstep 76200, remaining wall clock time:   154 s          \rstep 76300, remaining wall clock time:   153 s          \rstep 76400, remaining wall clock time:   153 s          \rstep 76500, remaining wall clock time:   153 s          \rstep 76600, remaining wall clock time:   153 s          \rstep 76700, remaining wall clock time:   153 s          \rstep 76800, remaining wall clock time:   153 s          \rstep 76900, remaining wall clock time:   153 s          \rstep 77000, remaining wall clock time:   153 s          \rstep 77100, remaining wall clock time:   153 s          \rstep 77200, remaining wall clock time:   153 s          \rstep 77300, remaining wall clock time:   153 s          \rstep 77400, remaining wall clock time:   153 s          \rstep 77500, remaining wall clock time:   153 s          \rstep 77600, remaining wall clock time:   153 s          \rstep 77700, remaining wall clock time:   153 s          \rstep 77800, remaining wall clock time:   153 s          \rstep 77900, remaining wall clock time:   153 s          \rstep 78000, remaining wall clock time:   152 s          \rstep 78100, remaining wall clock time:   152 s          \rstep 78200, remaining wall clock time:   152 s          \rstep 78300, remaining wall clock time:   152 s          \rstep 78400, remaining wall clock time:   152 s          \rstep 78500, remaining wall clock time:   152 s          \rstep 78600, remaining wall clock time:   152 s          \rstep 78700, remaining wall clock time:   152 s          \rstep 78800, remaining wall clock time:   152 s          \rstep 78900, remaining wall clock time:   152 s          \rstep 79000, remaining wall clock time:   152 s          \rstep 79100, remaining wall clock time:   152 s          \rstep 79200, remaining wall clock time:   152 s          \rstep 79300, remaining wall clock time:   152 s          \rstep 79400, remaining wall clock time:   152 s          \rstep 79500, remaining wall clock time:   152 s          \rstep 79600, remaining wall clock time:   151 s          \rstep 79700, remaining wall clock time:   151 s          \rstep 79800, remaining wall clock time:   151 s          \rstep 79900, remaining wall clock time:   151 s          \rstep 80000, remaining wall clock time:   151 s          \rstep 80100, remaining wall clock time:   151 s          \rstep 80200, remaining wall clock time:   151 s          \rstep 80300, remaining wall clock time:   151 s          \rstep 80400, remaining wall clock time:   151 s          \rstep 80500, remaining wall clock time:   151 s          \rstep 80600, remaining wall clock time:   151 s          \rstep 80700, remaining wall clock time:   151 s          \rstep 80800, remaining wall clock time:   151 s          \rstep 80900, remaining wall clock time:   151 s          \rstep 81000, remaining wall clock time:   151 s          \rstep 81100, remaining wall clock time:   151 s          \rstep 81200, remaining wall clock time:   151 s          \rstep 81300, remaining wall clock time:   150 s          \rstep 81400, remaining wall clock time:   150 s          \rstep 81500, remaining wall clock time:   150 s          \rstep 81600, remaining wall clock time:   150 s          \rstep 81700, remaining wall clock time:   150 s          \rstep 81800, remaining wall clock time:   150 s          \rstep 81900, remaining wall clock time:   150 s          \rstep 82000, remaining wall clock time:   150 s          \rstep 82100, remaining wall clock time:   150 s          \rstep 82200, remaining wall clock time:   150 s          \rstep 82300, remaining wall clock time:   150 s          \rstep 82400, remaining wall clock time:   150 s          \rstep 82500, remaining wall clock time:   150 s          \rstep 82600, remaining wall clock time:   150 s          \rstep 82700, remaining wall clock time:   150 s          \rstep 82800, remaining wall clock time:   150 s          \rstep 82900, remaining wall clock time:   150 s          \rstep 83000, remaining wall clock time:   149 s          \rstep 83100, remaining wall clock time:   149 s          \rstep 83200, remaining wall clock time:   149 s          \rstep 83300, remaining wall clock time:   149 s          \rstep 83400, remaining wall clock time:   149 s          \rstep 83500, remaining wall clock time:   149 s          \rstep 83600, remaining wall clock time:   149 s          \rstep 83700, remaining wall clock time:   149 s          \rstep 83800, remaining wall clock time:   149 s          \rstep 83900, remaining wall clock time:   149 s          \rstep 84000, remaining wall clock time:   149 s          \rstep 84100, remaining wall clock time:   149 s          \rstep 84200, remaining wall clock time:   149 s          \rstep 84300, remaining wall clock time:   149 s          \rstep 84400, remaining wall clock time:   149 s          \rstep 84500, remaining wall clock time:   149 s          \rstep 84600, remaining wall clock time:   149 s          \rstep 84700, remaining wall clock time:   149 s          \rstep 84800, remaining wall clock time:   149 s          \rstep 84900, remaining wall clock time:   148 s          \rstep 85000, remaining wall clock time:   148 s          \rstep 85100, remaining wall clock time:   148 s          \rstep 85200, remaining wall clock time:   148 s          \rstep 85300, remaining wall clock time:   148 s          \rstep 85400, remaining wall clock time:   148 s          \rstep 85500, remaining wall clock time:   148 s          \rstep 85600, remaining wall clock time:   148 s          \rstep 85700, remaining wall clock time:   148 s          \rstep 85800, remaining wall clock time:   148 s          \rstep 85900, remaining wall clock time:   148 s          \rstep 86000, remaining wall clock time:   148 s          \rstep 86100, remaining wall clock time:   148 s          \rstep 86200, remaining wall clock time:   148 s          \rstep 86300, remaining wall clock time:   148 s          \rstep 86400, remaining wall clock time:   148 s          \rstep 86500, remaining wall clock time:   148 s          \rstep 86600, remaining wall clock time:   147 s          \rstep 86700, remaining wall clock time:   147 s          \rstep 86800, remaining wall clock time:   147 s          \rstep 86900, remaining wall clock time:   147 s          \rstep 87000, remaining wall clock time:   147 s          \rstep 87100, remaining wall clock time:   147 s          \rstep 87200, remaining wall clock time:   147 s          \rstep 87300, remaining wall clock time:   147 s          \rstep 87400, remaining wall clock time:   147 s          \rstep 87500, remaining wall clock time:   147 s          \rstep 87600, remaining wall clock time:   147 s          \rstep 87700, remaining wall clock time:   147 s          \rstep 87800, remaining wall clock time:   147 s          \rstep 87900, remaining wall clock time:   147 s          \rstep 88000, remaining wall clock time:   147 s          \rstep 88100, remaining wall clock time:   147 s          \rstep 88200, remaining wall clock time:   147 s          \rstep 88300, remaining wall clock time:   147 s          \rstep 88400, remaining wall clock time:   146 s          \rstep 88500, remaining wall clock time:   146 s          \rstep 88600, remaining wall clock time:   146 s          \rstep 88700, remaining wall clock time:   146 s          \rstep 88800, remaining wall clock time:   146 s          \rstep 88900, remaining wall clock time:   146 s          \rstep 89000, remaining wall clock time:   146 s          \rstep 89100, remaining wall clock time:   146 s          \rstep 89200, remaining wall clock time:   146 s          \rstep 89300, remaining wall clock time:   146 s          \rstep 89400, remaining wall clock time:   146 s          \rstep 89500, remaining wall clock time:   146 s          \rstep 89600, remaining wall clock time:   146 s          \rstep 89700, remaining wall clock time:   146 s          \rstep 89800, remaining wall clock time:   146 s          \rstep 89900, remaining wall clock time:   146 s          \rstep 90000, remaining wall clock time:   146 s          \rstep 90100, remaining wall clock time:   146 s          \rstep 90200, remaining wall clock time:   146 s          \rstep 90300, remaining wall clock time:   146 s          \rstep 90400, remaining wall clock time:   145 s          \rstep 90500, remaining wall clock time:   145 s          \rstep 90600, remaining wall clock time:   145 s          \rstep 90700, remaining wall clock time:   145 s          \rstep 90800, remaining wall clock time:   145 s          \rstep 90900, remaining wall clock time:   145 s          \rstep 91000, remaining wall clock time:   145 s          \rstep 91100, remaining wall clock time:   145 s          \rstep 91200, remaining wall clock time:   145 s          \rstep 91300, remaining wall clock time:   145 s          \rstep 91400, remaining wall clock time:   145 s          \rstep 91500, remaining wall clock time:   145 s          \rstep 91600, remaining wall clock time:   145 s          \rstep 91700, remaining wall clock time:   145 s          \rstep 91800, remaining wall clock time:   145 s          \rstep 91900, remaining wall clock time:   145 s          \rstep 92000, remaining wall clock time:   145 s          \rstep 92100, remaining wall clock time:   145 s          \rstep 92200, remaining wall clock time:   145 s          \rstep 92300, remaining wall clock time:   144 s          \rstep 92400, remaining wall clock time:   144 s          \rstep 92500, remaining wall clock time:   144 s          \rstep 92600, remaining wall clock time:   144 s          \rstep 92700, remaining wall clock time:   144 s          \rstep 92800, remaining wall clock time:   144 s          \rstep 92900, remaining wall clock time:   144 s          \rstep 93000, remaining wall clock time:   144 s          \rstep 93100, remaining wall clock time:   144 s          \rstep 93200, remaining wall clock time:   144 s          \rstep 93300, remaining wall clock time:   144 s          \rstep 93400, remaining wall clock time:   144 s          \rstep 93500, remaining wall clock time:   144 s          \rstep 93600, remaining wall clock time:   144 s          \rstep 93700, remaining wall clock time:   144 s          \rstep 93800, remaining wall clock time:   144 s          \rstep 93900, remaining wall clock time:   144 s          \rstep 94000, remaining wall clock time:   144 s          \rstep 94100, remaining wall clock time:   144 s          \rstep 94200, remaining wall clock time:   144 s          \rstep 94300, remaining wall clock time:   144 s          \rstep 94400, remaining wall clock time:   143 s          \rstep 94500, remaining wall clock time:   143 s          \rstep 94600, remaining wall clock time:   143 s          \rstep 94700, remaining wall clock time:   143 s          \rstep 94800, remaining wall clock time:   143 s          \rstep 94900, remaining wall clock time:   143 s          \rstep 95000, remaining wall clock time:   143 s          \rstep 95100, remaining wall clock time:   143 s          \rstep 95200, remaining wall clock time:   143 s          \rstep 95300, remaining wall clock time:   143 s          \rstep 95400, remaining wall clock time:   143 s          \rstep 95500, remaining wall clock time:   143 s          \rstep 95600, remaining wall clock time:   143 s          \rstep 95700, remaining wall clock time:   143 s          \rstep 95800, remaining wall clock time:   143 s          \rstep 95900, remaining wall clock time:   143 s          \rstep 96000, remaining wall clock time:   143 s          \rstep 96100, remaining wall clock time:   143 s          \rstep 96200, remaining wall clock time:   143 s          \rstep 96300, remaining wall clock time:   142 s          \rstep 96400, remaining wall clock time:   142 s          \rstep 96500, remaining wall clock time:   142 s          \rstep 96600, remaining wall clock time:   142 s          \rstep 96700, remaining wall clock time:   142 s          \rstep 96800, remaining wall clock time:   142 s          \rstep 96900, remaining wall clock time:   142 s          \rstep 97000, remaining wall clock time:   142 s          \rstep 97100, remaining wall clock time:   142 s          \rstep 97200, remaining wall clock time:   142 s          \rstep 97300, remaining wall clock time:   142 s          \rstep 97400, remaining wall clock time:   142 s          \rstep 97500, remaining wall clock time:   142 s          \rstep 97600, remaining wall clock time:   142 s          \rstep 97700, remaining wall clock time:   142 s          \rstep 97800, remaining wall clock time:   142 s          \rstep 97900, remaining wall clock time:   142 s          \rstep 98000, remaining wall clock time:   142 s          \rstep 98100, remaining wall clock time:   142 s          \rstep 98200, remaining wall clock time:   142 s          \rstep 98300, remaining wall clock time:   142 s          \rstep 98400, remaining wall clock time:   141 s          \rstep 98500, remaining wall clock time:   141 s          \rstep 98600, remaining wall clock time:   141 s          \rstep 98700, remaining wall clock time:   141 s          \rstep 98800, remaining wall clock time:   141 s          \rstep 98900, remaining wall clock time:   141 s          \rstep 99000, remaining wall clock time:   141 s          \rstep 99100, remaining wall clock time:   141 s          \rstep 99200, remaining wall clock time:   141 s          \rstep 99300, remaining wall clock time:   141 s          \rstep 99400, remaining wall clock time:   141 s          \rstep 99500, remaining wall clock time:   141 s          \rstep 99600, remaining wall clock time:   141 s          \rstep 99700, remaining wall clock time:   141 s          \rstep 99800, remaining wall clock time:   141 s          \rstep 99900, remaining wall clock time:   141 s          \rstep 100000, remaining wall clock time:   141 s          \rstep 100100, remaining wall clock time:   141 s          \rstep 100200, remaining wall clock time:   141 s          \rstep 100300, remaining wall clock time:   141 s          \rstep 100400, remaining wall clock time:   140 s          \rstep 100500, remaining wall clock time:   140 s          \rstep 100600, remaining wall clock time:   140 s          \rstep 100700, remaining wall clock time:   140 s          \rstep 100800, remaining wall clock time:   140 s          \rstep 100900, remaining wall clock time:   140 s          \rstep 101000, remaining wall clock time:   140 s          \rstep 101100, remaining wall clock time:   140 s          \rstep 101200, remaining wall clock time:   140 s          \rstep 101300, remaining wall clock time:   140 s          \rstep 101400, remaining wall clock time:   140 s          \rstep 101500, remaining wall clock time:   140 s          \rstep 101600, remaining wall clock time:   140 s          \rstep 101700, remaining wall clock time:   140 s          \rstep 101800, remaining wall clock time:   140 s          \rstep 101900, remaining wall clock time:   140 s          \rstep 102000, remaining wall clock time:   140 s          \rstep 102100, remaining wall clock time:   140 s          \rstep 102200, remaining wall clock time:   140 s          \rstep 102300, remaining wall clock time:   140 s          \rstep 102400, remaining wall clock time:   139 s          \rstep 102500, remaining wall clock time:   139 s          \rstep 102600, remaining wall clock time:   139 s          \rstep 102700, remaining wall clock time:   139 s          \rstep 102800, remaining wall clock time:   139 s          \rstep 102900, remaining wall clock time:   139 s          \rstep 103000, remaining wall clock time:   139 s          \rstep 103100, remaining wall clock time:   139 s          \rstep 103200, remaining wall clock time:   139 s          \rstep 103300, remaining wall clock time:   139 s          \rstep 103400, remaining wall clock time:   139 s          \rstep 103500, remaining wall clock time:   139 s          \rstep 103600, remaining wall clock time:   139 s          \rstep 103700, remaining wall clock time:   139 s          \rstep 103800, remaining wall clock time:   139 s          \rstep 103900, remaining wall clock time:   139 s          \rstep 104000, remaining wall clock time:   139 s          \rstep 104100, remaining wall clock time:   139 s          \rstep 104200, remaining wall clock time:   139 s          \rstep 104300, remaining wall clock time:   138 s          \rstep 104400, remaining wall clock time:   138 s          \rstep 104500, remaining wall clock time:   138 s          \rstep 104600, remaining wall clock time:   138 s          \rstep 104700, remaining wall clock time:   138 s          \rstep 104800, remaining wall clock time:   138 s          \rstep 104900, remaining wall clock time:   138 s          \rstep 105000, remaining wall clock time:   138 s          \rstep 105100, remaining wall clock time:   138 s          \rstep 105200, remaining wall clock time:   138 s          \rstep 105300, remaining wall clock time:   138 s          \rstep 105400, remaining wall clock time:   138 s          \rstep 105500, remaining wall clock time:   138 s          \rstep 105600, remaining wall clock time:   138 s          \rstep 105700, remaining wall clock time:   138 s          \rstep 105800, remaining wall clock time:   138 s          \rstep 105900, remaining wall clock time:   138 s          \rstep 106000, remaining wall clock time:   138 s          \rstep 106100, remaining wall clock time:   138 s          \rstep 106200, remaining wall clock time:   138 s          \rstep 106300, remaining wall clock time:   138 s          \rstep 106400, remaining wall clock time:   138 s          \rstep 106500, remaining wall clock time:   138 s          \rstep 106600, remaining wall clock time:   137 s          \rstep 106700, remaining wall clock time:   137 s          \rstep 106800, remaining wall clock time:   137 s          \rstep 106900, remaining wall clock time:   137 s          \rstep 107000, remaining wall clock time:   137 s          \rstep 107100, remaining wall clock time:   137 s          \rstep 107200, remaining wall clock time:   137 s          \rstep 107300, remaining wall clock time:   137 s          \rstep 107400, remaining wall clock time:   137 s          \rstep 107500, remaining wall clock time:   137 s          \rstep 107600, remaining wall clock time:   137 s          \rstep 107700, remaining wall clock time:   137 s          \rstep 107800, remaining wall clock time:   137 s          \rstep 107900, remaining wall clock time:   137 s          \rstep 108000, remaining wall clock time:   137 s          \rstep 108100, remaining wall clock time:   137 s          \rstep 108200, remaining wall clock time:   137 s          \rstep 108300, remaining wall clock time:   137 s          \rstep 108400, remaining wall clock time:   137 s          \rstep 108500, remaining wall clock time:   136 s          \rstep 108600, remaining wall clock time:   136 s          \rstep 108700, remaining wall clock time:   136 s          \rstep 108800, remaining wall clock time:   136 s          \rstep 108900, remaining wall clock time:   136 s          \rstep 109000, remaining wall clock time:   136 s          \rstep 109100, remaining wall clock time:   136 s          \rstep 109200, remaining wall clock time:   136 s          \rstep 109300, remaining wall clock time:   136 s          \rstep 109400, remaining wall clock time:   136 s          \rstep 109500, remaining wall clock time:   136 s          \rstep 109600, remaining wall clock time:   136 s          \rstep 109700, remaining wall clock time:   136 s          \rstep 109800, remaining wall clock time:   136 s          \rstep 109900, remaining wall clock time:   136 s          \rstep 110000, remaining wall clock time:   136 s          \rstep 110100, remaining wall clock time:   136 s          \rstep 110200, remaining wall clock time:   136 s          \rstep 110300, remaining wall clock time:   136 s          \rstep 110400, remaining wall clock time:   136 s          \rstep 110500, remaining wall clock time:   136 s          \rstep 110600, remaining wall clock time:   135 s          \rstep 110700, remaining wall clock time:   135 s          \rstep 110800, remaining wall clock time:   135 s          \rstep 110900, remaining wall clock time:   135 s          \rstep 111000, remaining wall clock time:   135 s          \rstep 111100, remaining wall clock time:   135 s          \rstep 111200, remaining wall clock time:   135 s          \rstep 111300, remaining wall clock time:   135 s          \rstep 111400, remaining wall clock time:   135 s          \rstep 111500, remaining wall clock time:   135 s          \rstep 111600, remaining wall clock time:   135 s          \rstep 111700, remaining wall clock time:   135 s          \rstep 111800, remaining wall clock time:   135 s          \rstep 111900, remaining wall clock time:   135 s          \rstep 112000, remaining wall clock time:   135 s          \rstep 112100, remaining wall clock time:   135 s          \rstep 112200, remaining wall clock time:   135 s          \rstep 112300, remaining wall clock time:   135 s          \rstep 112400, remaining wall clock time:   135 s          \rstep 112500, remaining wall clock time:   135 s          \rstep 112600, remaining wall clock time:   134 s          \rstep 112700, remaining wall clock time:   134 s          \rstep 112800, remaining wall clock time:   134 s          \rstep 112900, remaining wall clock time:   134 s          \rstep 113000, remaining wall clock time:   134 s          \rstep 113100, remaining wall clock time:   134 s          \rstep 113200, remaining wall clock time:   134 s          \rstep 113300, remaining wall clock time:   134 s          \rstep 113400, remaining wall clock time:   134 s          \rstep 113500, remaining wall clock time:   134 s          \rstep 113600, remaining wall clock time:   134 s          \rstep 113700, remaining wall clock time:   134 s          \rstep 113800, remaining wall clock time:   134 s          \rstep 113900, remaining wall clock time:   134 s          \rstep 114000, remaining wall clock time:   134 s          \rstep 114100, remaining wall clock time:   134 s          \rstep 114200, remaining wall clock time:   134 s          \rstep 114300, remaining wall clock time:   134 s          \rstep 114400, remaining wall clock time:   134 s          \rstep 114500, remaining wall clock time:   134 s          \rstep 114600, remaining wall clock time:   134 s          \rstep 114700, remaining wall clock time:   133 s          \rstep 114800, remaining wall clock time:   133 s          \rstep 114900, remaining wall clock time:   133 s          \rstep 115000, remaining wall clock time:   133 s          \rstep 115100, remaining wall clock time:   133 s          \rstep 115200, remaining wall clock time:   133 s          \rstep 115300, remaining wall clock time:   133 s          \rstep 115400, remaining wall clock time:   133 s          \rstep 115500, remaining wall clock time:   133 s          \rstep 115600, remaining wall clock time:   133 s          \rstep 115700, remaining wall clock time:   133 s          \rstep 115800, remaining wall clock time:   133 s          \rstep 115900, remaining wall clock time:   133 s          \rstep 116000, remaining wall clock time:   133 s          \rstep 116100, remaining wall clock time:   133 s          \rstep 116200, remaining wall clock time:   133 s          \rstep 116300, remaining wall clock time:   133 s          \rstep 116400, remaining wall clock time:   133 s          \rstep 116500, remaining wall clock time:   133 s          \rstep 116600, remaining wall clock time:   133 s          \rstep 116700, remaining wall clock time:   133 s          \rstep 116800, remaining wall clock time:   133 s          \rstep 116900, remaining wall clock time:   133 s          \rstep 117000, remaining wall clock time:   132 s          \rstep 117100, remaining wall clock time:   132 s          \rstep 117200, remaining wall clock time:   132 s          \rstep 117300, remaining wall clock time:   132 s          \rstep 117400, remaining wall clock time:   132 s          \rstep 117500, remaining wall clock time:   132 s          \rstep 117600, remaining wall clock time:   132 s          \rstep 117700, remaining wall clock time:   132 s          \rstep 117800, remaining wall clock time:   132 s          \rstep 117900, remaining wall clock time:   132 s          \rstep 118000, remaining wall clock time:   132 s          \rstep 118100, remaining wall clock time:   132 s          \rstep 118200, remaining wall clock time:   132 s          \rstep 118300, remaining wall clock time:   132 s          \rstep 118400, remaining wall clock time:   132 s          \rstep 118500, remaining wall clock time:   132 s          \rstep 118600, remaining wall clock time:   132 s          \rstep 118700, remaining wall clock time:   132 s          \rstep 118800, remaining wall clock time:   132 s          \rstep 118900, remaining wall clock time:   132 s          \rstep 119000, remaining wall clock time:   132 s          \rstep 119100, remaining wall clock time:   132 s          \rstep 119200, remaining wall clock time:   132 s          \rstep 119300, remaining wall clock time:   131 s          \rstep 119400, remaining wall clock time:   131 s          \rstep 119500, remaining wall clock time:   131 s          \rstep 119600, remaining wall clock time:   131 s          \rstep 119700, remaining wall clock time:   131 s          \rstep 119800, remaining wall clock time:   131 s          \rstep 119900, remaining wall clock time:   131 s          \rstep 120000, remaining wall clock time:   131 s          \rstep 120100, remaining wall clock time:   131 s          \rstep 120200, remaining wall clock time:   131 s          \rstep 120300, remaining wall clock time:   131 s          \rstep 120400, remaining wall clock time:   131 s          \rstep 120500, remaining wall clock time:   131 s          \rstep 120600, remaining wall clock time:   131 s          \rstep 120700, remaining wall clock time:   131 s          \rstep 120800, remaining wall clock time:   131 s          \rstep 120900, remaining wall clock time:   131 s          \rstep 121000, remaining wall clock time:   131 s          \rstep 121100, remaining wall clock time:   131 s          \rstep 121200, remaining wall clock time:   131 s          \rstep 121300, remaining wall clock time:   131 s          \rstep 121400, remaining wall clock time:   131 s          \rstep 121500, remaining wall clock time:   130 s          \rstep 121600, remaining wall clock time:   130 s          \rstep 121700, remaining wall clock time:   130 s          \rstep 121800, remaining wall clock time:   130 s          \rstep 121900, remaining wall clock time:   130 s          \rstep 122000, remaining wall clock time:   130 s          \rstep 122100, remaining wall clock time:   130 s          \rstep 122200, remaining wall clock time:   130 s          \rstep 122300, remaining wall clock time:   130 s          \rstep 122400, remaining wall clock time:   130 s          \rstep 122500, remaining wall clock time:   130 s          \rstep 122600, remaining wall clock time:   130 s          \rstep 122700, remaining wall clock time:   130 s          \rstep 122800, remaining wall clock time:   130 s          \rstep 122900, remaining wall clock time:   130 s          \rstep 123000, remaining wall clock time:   130 s          \rstep 123100, remaining wall clock time:   130 s          \rstep 123200, remaining wall clock time:   130 s          \rstep 123300, remaining wall clock time:   130 s          \rstep 123400, remaining wall clock time:   130 s          \rstep 123500, remaining wall clock time:   130 s          \rstep 123600, remaining wall clock time:   130 s          \rstep 123700, remaining wall clock time:   130 s          \rstep 123800, remaining wall clock time:   129 s          \rstep 123900, remaining wall clock time:   129 s          \rstep 124000, remaining wall clock time:   129 s          \rstep 124100, remaining wall clock time:   129 s          \rstep 124200, remaining wall clock time:   129 s          \rstep 124300, remaining wall clock time:   129 s          \rstep 124400, remaining wall clock time:   129 s          \rstep 124500, remaining wall clock time:   129 s          \rstep 124600, remaining wall clock time:   129 s          \rstep 124700, remaining wall clock time:   129 s          \rstep 124800, remaining wall clock time:   129 s          \rstep 124900, remaining wall clock time:   129 s          \rstep 125000, remaining wall clock time:   129 s          \rstep 125100, remaining wall clock time:   129 s          \rstep 125200, remaining wall clock time:   129 s          \rstep 125300, remaining wall clock time:   129 s          \rstep 125400, remaining wall clock time:   129 s          \rstep 125500, remaining wall clock time:   129 s          \rstep 125600, remaining wall clock time:   129 s          \rstep 125700, remaining wall clock time:   129 s          \rstep 125800, remaining wall clock time:   129 s          \rstep 125900, remaining wall clock time:   129 s          \rstep 126000, remaining wall clock time:   129 s          \rstep 126100, remaining wall clock time:   128 s          \rstep 126200, remaining wall clock time:   128 s          \rstep 126300, remaining wall clock time:   128 s          \rstep 126400, remaining wall clock time:   128 s          \rstep 126500, remaining wall clock time:   128 s          \rstep 126600, remaining wall clock time:   128 s          \rstep 126700, remaining wall clock time:   128 s          \rstep 126800, remaining wall clock time:   128 s          \rstep 126900, remaining wall clock time:   128 s          \rstep 127000, remaining wall clock time:   128 s          \rstep 127100, remaining wall clock time:   128 s          \rstep 127200, remaining wall clock time:   128 s          \rstep 127300, remaining wall clock time:   128 s          \rstep 127400, remaining wall clock time:   128 s          \rstep 127500, remaining wall clock time:   128 s          \rstep 127600, remaining wall clock time:   128 s          \rstep 127700, remaining wall clock time:   128 s          \rstep 127800, remaining wall clock time:   128 s          \rstep 127900, remaining wall clock time:   128 s          \rstep 128000, remaining wall clock time:   128 s          \rstep 128100, remaining wall clock time:   128 s          \rstep 128200, remaining wall clock time:   128 s          \rstep 128300, remaining wall clock time:   128 s          \rstep 128400, remaining wall clock time:   127 s          \rstep 128500, remaining wall clock time:   127 s          \rstep 128600, remaining wall clock time:   127 s          \rstep 128700, remaining wall clock time:   127 s          \rstep 128800, remaining wall clock time:   127 s          \rstep 128900, remaining wall clock time:   127 s          \rstep 129000, remaining wall clock time:   127 s          \rstep 129100, remaining wall clock time:   127 s          \rstep 129200, remaining wall clock time:   127 s          \rstep 129300, remaining wall clock time:   127 s          \rstep 129400, remaining wall clock time:   127 s          \rstep 129500, remaining wall clock time:   127 s          \rstep 129600, remaining wall clock time:   127 s          \rstep 129700, remaining wall clock time:   127 s          \rstep 129800, remaining wall clock time:   127 s          \rstep 129900, remaining wall clock time:   127 s          \rstep 130000, remaining wall clock time:   127 s          \rstep 130100, remaining wall clock time:   127 s          \rstep 130200, remaining wall clock time:   127 s          \rstep 130300, remaining wall clock time:   127 s          \rstep 130400, remaining wall clock time:   127 s          \rstep 130500, remaining wall clock time:   127 s          \rstep 130600, remaining wall clock time:   127 s          \rstep 130700, remaining wall clock time:   126 s          \rstep 130800, remaining wall clock time:   126 s          \rstep 130900, remaining wall clock time:   126 s          \rstep 131000, remaining wall clock time:   126 s          \rstep 131100, remaining wall clock time:   126 s          \rstep 131200, remaining wall clock time:   126 s          \rstep 131300, remaining wall clock time:   126 s          \rstep 131400, remaining wall clock time:   126 s          \rstep 131500, remaining wall clock time:   126 s          \rstep 131600, remaining wall clock time:   126 s          \rstep 131700, remaining wall clock time:   126 s          \rstep 131800, remaining wall clock time:   126 s          \rstep 131900, remaining wall clock time:   126 s          \rstep 132000, remaining wall clock time:   126 s          \rstep 132100, remaining wall clock time:   126 s          \rstep 132200, remaining wall clock time:   126 s          \rstep 132300, remaining wall clock time:   126 s          \rstep 132400, remaining wall clock time:   126 s          \rstep 132500, remaining wall clock time:   126 s          \rstep 132600, remaining wall clock time:   126 s          \rstep 132700, remaining wall clock time:   126 s          \rstep 132800, remaining wall clock time:   126 s          \rstep 132900, remaining wall clock time:   126 s          \rstep 133000, remaining wall clock time:   126 s          \rstep 133100, remaining wall clock time:   125 s          \rstep 133200, remaining wall clock time:   125 s          \rstep 133300, remaining wall clock time:   125 s          \rstep 133400, remaining wall clock time:   125 s          \rstep 133500, remaining wall clock time:   125 s          \rstep 133600, remaining wall clock time:   125 s          \rstep 133700, remaining wall clock time:   125 s          \rstep 133800, remaining wall clock time:   125 s          \rstep 133900, remaining wall clock time:   125 s          \rstep 134000, remaining wall clock time:   125 s          \rstep 134100, remaining wall clock time:   125 s          \rstep 134200, remaining wall clock time:   125 s          \rstep 134300, remaining wall clock time:   125 s          \rstep 134400, remaining wall clock time:   125 s          \rstep 134500, remaining wall clock time:   125 s          \rstep 134600, remaining wall clock time:   125 s          \rstep 134700, remaining wall clock time:   125 s          \rstep 134800, remaining wall clock time:   125 s          \rstep 134900, remaining wall clock time:   125 s          \rstep 135000, remaining wall clock time:   125 s          \rstep 135100, remaining wall clock time:   125 s          \rstep 135200, remaining wall clock time:   125 s          \rstep 135300, remaining wall clock time:   125 s          \rstep 135400, remaining wall clock time:   125 s          \rstep 135500, remaining wall clock time:   124 s          \rstep 135600, remaining wall clock time:   124 s          \rstep 135700, remaining wall clock time:   124 s          \rstep 135800, remaining wall clock time:   124 s          \rstep 135900, remaining wall clock time:   124 s          \rstep 136000, remaining wall clock time:   124 s          \rstep 136100, remaining wall clock time:   124 s          \rstep 136200, remaining wall clock time:   124 s          \rstep 136300, remaining wall clock time:   124 s          \rstep 136400, remaining wall clock time:   124 s          \rstep 136500, remaining wall clock time:   124 s          \rstep 136600, remaining wall clock time:   124 s          \rstep 136700, remaining wall clock time:   124 s          \rstep 136800, remaining wall clock time:   124 s          \rstep 136900, remaining wall clock time:   124 s          \rstep 137000, remaining wall clock time:   124 s          \rstep 137100, remaining wall clock time:   124 s          \rstep 137200, remaining wall clock time:   124 s          \rstep 137300, remaining wall clock time:   124 s          \rstep 137400, remaining wall clock time:   124 s          \rstep 137500, remaining wall clock time:   124 s          \rstep 137600, remaining wall clock time:   124 s          \rstep 137700, remaining wall clock time:   124 s          \rstep 137800, remaining wall clock time:   123 s          \rstep 137900, remaining wall clock time:   123 s          \rstep 138000, remaining wall clock time:   123 s          \rstep 138100, remaining wall clock time:   123 s          \rstep 138200, remaining wall clock time:   123 s          \rstep 138300, remaining wall clock time:   123 s          \rstep 138400, remaining wall clock time:   123 s          \rstep 138500, remaining wall clock time:   123 s          \rstep 138600, remaining wall clock time:   123 s          \rstep 138700, remaining wall clock time:   123 s          \rstep 138800, remaining wall clock time:   123 s          \rstep 138900, remaining wall clock time:   123 s          \rstep 139000, remaining wall clock time:   123 s          \rstep 139100, remaining wall clock time:   123 s          \rstep 139200, remaining wall clock time:   123 s          \rstep 139300, remaining wall clock time:   123 s          \rstep 139400, remaining wall clock time:   123 s          \rstep 139500, remaining wall clock time:   123 s          \rstep 139600, remaining wall clock time:   123 s          \rstep 139700, remaining wall clock time:   123 s          \rstep 139800, remaining wall clock time:   123 s          \rstep 139900, remaining wall clock time:   123 s          \rstep 140000, remaining wall clock time:   123 s          \rstep 140100, remaining wall clock time:   123 s          \rstep 140200, remaining wall clock time:   122 s          \rstep 140300, remaining wall clock time:   122 s          \rstep 140400, remaining wall clock time:   122 s          \rstep 140500, remaining wall clock time:   122 s          \rstep 140600, remaining wall clock time:   122 s          \rstep 140700, remaining wall clock time:   122 s          \rstep 140800, remaining wall clock time:   122 s          \rstep 140900, remaining wall clock time:   122 s          \rstep 141000, remaining wall clock time:   122 s          \rstep 141100, remaining wall clock time:   122 s          \rstep 141200, remaining wall clock time:   122 s          \rstep 141300, remaining wall clock time:   122 s          \rstep 141400, remaining wall clock time:   122 s          \rstep 141500, remaining wall clock time:   122 s          \rstep 141600, remaining wall clock time:   122 s          \rstep 141700, remaining wall clock time:   122 s          \rstep 141800, remaining wall clock time:   122 s          \rstep 141900, remaining wall clock time:   122 s          \rstep 142000, remaining wall clock time:   122 s          \rstep 142100, remaining wall clock time:   122 s          \rstep 142200, remaining wall clock time:   122 s          \rstep 142300, remaining wall clock time:   122 s          \rstep 142400, remaining wall clock time:   122 s          \rstep 142500, remaining wall clock time:   122 s          \rstep 142600, remaining wall clock time:   122 s          \rstep 142700, remaining wall clock time:   121 s          \rstep 142800, remaining wall clock time:   121 s          \rstep 142900, remaining wall clock time:   121 s          \rstep 143000, remaining wall clock time:   121 s          \rstep 143100, remaining wall clock time:   121 s          \rstep 143200, remaining wall clock time:   121 s          \rstep 143300, remaining wall clock time:   121 s          \rstep 143400, remaining wall clock time:   121 s          \rstep 143500, remaining wall clock time:   121 s          \rstep 143600, remaining wall clock time:   121 s          \rstep 143700, remaining wall clock time:   121 s          \rstep 143800, remaining wall clock time:   121 s          \rstep 143900, remaining wall clock time:   121 s          \rstep 144000, remaining wall clock time:   121 s          \rstep 144100, remaining wall clock time:   121 s          \rstep 144200, remaining wall clock time:   121 s          \rstep 144300, remaining wall clock time:   121 s          \rstep 144400, remaining wall clock time:   121 s          \rstep 144500, remaining wall clock time:   121 s          \rstep 144600, remaining wall clock time:   121 s          \rstep 144700, remaining wall clock time:   121 s          \rstep 144800, remaining wall clock time:   121 s          \rstep 144900, remaining wall clock time:   121 s          \rstep 145000, remaining wall clock time:   121 s          \rstep 145100, remaining wall clock time:   121 s          \rstep 145200, remaining wall clock time:   120 s          \rstep 145300, remaining wall clock time:   120 s          \rstep 145400, remaining wall clock time:   120 s          \rstep 145500, remaining wall clock time:   120 s          \rstep 145600, remaining wall clock time:   120 s          \rstep 145700, remaining wall clock time:   120 s          \rstep 145800, remaining wall clock time:   120 s          \rstep 145900, remaining wall clock time:   120 s          \rstep 146000, remaining wall clock time:   120 s          \rstep 146100, remaining wall clock time:   120 s          \rstep 146200, remaining wall clock time:   120 s          \rstep 146300, remaining wall clock time:   120 s          \rstep 146400, remaining wall clock time:   120 s          \rstep 146500, remaining wall clock time:   120 s          \rstep 146600, remaining wall clock time:   120 s          \rstep 146700, remaining wall clock time:   120 s          \rstep 146800, remaining wall clock time:   120 s          \rstep 146900, remaining wall clock time:   120 s          \rstep 147000, remaining wall clock time:   120 s          \rstep 147100, remaining wall clock time:   120 s          \rstep 147200, remaining wall clock time:   120 s          \rstep 147300, remaining wall clock time:   120 s          \rstep 147400, remaining wall clock time:   120 s          \rstep 147500, remaining wall clock time:   120 s          \rstep 147600, remaining wall clock time:   119 s          \rstep 147700, remaining wall clock time:   119 s          \rstep 147800, remaining wall clock time:   119 s          \rstep 147900, remaining wall clock time:   119 s          \rstep 148000, remaining wall clock time:   119 s          \rstep 148100, remaining wall clock time:   119 s          \rstep 148200, remaining wall clock time:   119 s          \rstep 148300, remaining wall clock time:   119 s          \rstep 148400, remaining wall clock time:   119 s          \rstep 148500, remaining wall clock time:   119 s          \rstep 148600, remaining wall clock time:   119 s          \rstep 148700, remaining wall clock time:   119 s          \rstep 148800, remaining wall clock time:   119 s          \rstep 148900, remaining wall clock time:   119 s          \rstep 149000, remaining wall clock time:   119 s          \rstep 149100, remaining wall clock time:   119 s          \rstep 149200, remaining wall clock time:   119 s          \rstep 149300, remaining wall clock time:   119 s          \rstep 149400, remaining wall clock time:   119 s          \rstep 149500, remaining wall clock time:   119 s          \rstep 149600, remaining wall clock time:   119 s          \rstep 149700, remaining wall clock time:   119 s          \rstep 149800, remaining wall clock time:   119 s          \rstep 149900, remaining wall clock time:   119 s          \rstep 150000, remaining wall clock time:   119 s          \rstep 150100, remaining wall clock time:   119 s          \rstep 150200, remaining wall clock time:   118 s          \rstep 150300, remaining wall clock time:   118 s          \rstep 150400, remaining wall clock time:   118 s          \rstep 150500, remaining wall clock time:   118 s          \rstep 150600, remaining wall clock time:   118 s          \rstep 150700, remaining wall clock time:   118 s          \rstep 150800, remaining wall clock time:   118 s          \rstep 150900, remaining wall clock time:   118 s          \rstep 151000, remaining wall clock time:   118 s          \rstep 151100, remaining wall clock time:   118 s          \rstep 151200, remaining wall clock time:   118 s          \rstep 151300, remaining wall clock time:   118 s          \rstep 151400, remaining wall clock time:   118 s          \rstep 151500, remaining wall clock time:   118 s          \rstep 151600, remaining wall clock time:   118 s          \rstep 151700, remaining wall clock time:   118 s          \rstep 151800, remaining wall clock time:   118 s          \rstep 151900, remaining wall clock time:   118 s          \rstep 152000, remaining wall clock time:   118 s          \rstep 152100, remaining wall clock time:   118 s          \rstep 152200, remaining wall clock time:   118 s          \rstep 152300, remaining wall clock time:   118 s          \rstep 152400, remaining wall clock time:   118 s          \rstep 152500, remaining wall clock time:   118 s          \rstep 152600, remaining wall clock time:   118 s          \rstep 152700, remaining wall clock time:   117 s          \rstep 152800, remaining wall clock time:   117 s          \rstep 152900, remaining wall clock time:   117 s          \rstep 153000, remaining wall clock time:   117 s          \rstep 153100, remaining wall clock time:   117 s          \rstep 153200, remaining wall clock time:   117 s          \rstep 153300, remaining wall clock time:   117 s          \rstep 153400, remaining wall clock time:   117 s          \rstep 153500, remaining wall clock time:   117 s          \rstep 153600, remaining wall clock time:   117 s          \rstep 153700, remaining wall clock time:   117 s          \rstep 153800, remaining wall clock time:   117 s          \rstep 153900, remaining wall clock time:   117 s          \rstep 154000, remaining wall clock time:   117 s          \rstep 154100, remaining wall clock time:   117 s          \rstep 154200, remaining wall clock time:   117 s          \rstep 154300, remaining wall clock time:   117 s          \rstep 154400, remaining wall clock time:   117 s          \rstep 154500, remaining wall clock time:   117 s          \rstep 154600, remaining wall clock time:   117 s          \rstep 154700, remaining wall clock time:   117 s          \rstep 154800, remaining wall clock time:   117 s          \rstep 154900, remaining wall clock time:   117 s          \rstep 155000, remaining wall clock time:   117 s          \rstep 155100, remaining wall clock time:   117 s          \rstep 155200, remaining wall clock time:   117 s          \rstep 155300, remaining wall clock time:   116 s          \rstep 155400, remaining wall clock time:   116 s          \rstep 155500, remaining wall clock time:   116 s          \rstep 155600, remaining wall clock time:   116 s          \rstep 155700, remaining wall clock time:   116 s          \rstep 155800, remaining wall clock time:   116 s          \rstep 155900, remaining wall clock time:   116 s          \rstep 156000, remaining wall clock time:   116 s          \rstep 156100, remaining wall clock time:   116 s          \rstep 156200, remaining wall clock time:   116 s          \rstep 156300, remaining wall clock time:   116 s          \rstep 156400, remaining wall clock time:   116 s          \rstep 156500, remaining wall clock time:   116 s          \rstep 156600, remaining wall clock time:   116 s          \rstep 156700, remaining wall clock time:   116 s          \rstep 156800, remaining wall clock time:   116 s          \rstep 156900, remaining wall clock time:   116 s          \rstep 157000, remaining wall clock time:   116 s          \rstep 157100, remaining wall clock time:   116 s          \rstep 157200, remaining wall clock time:   116 s          \rstep 157300, remaining wall clock time:   116 s          \rstep 157400, remaining wall clock time:   116 s          \rstep 157500, remaining wall clock time:   116 s          \rstep 157600, remaining wall clock time:   116 s          \rstep 157700, remaining wall clock time:   116 s          \rstep 157800, remaining wall clock time:   116 s          \rstep 157900, remaining wall clock time:   115 s          \rstep 158000, remaining wall clock time:   115 s          \rstep 158100, remaining wall clock time:   115 s          \rstep 158200, remaining wall clock time:   115 s          \rstep 158300, remaining wall clock time:   115 s          \rstep 158400, remaining wall clock time:   115 s          \rstep 158500, remaining wall clock time:   115 s          \rstep 158600, remaining wall clock time:   115 s          \rstep 158700, remaining wall clock time:   115 s          \rstep 158800, remaining wall clock time:   115 s          \rstep 158900, remaining wall clock time:   115 s          \rstep 159000, remaining wall clock time:   115 s          \rstep 159100, remaining wall clock time:   115 s          \rstep 159200, remaining wall clock time:   115 s          \rstep 159300, remaining wall clock time:   115 s          \rstep 159400, remaining wall clock time:   115 s          \rstep 159500, remaining wall clock time:   115 s          \rstep 159600, remaining wall clock time:   115 s          \rstep 159700, remaining wall clock time:   115 s          \rstep 159800, remaining wall clock time:   115 s          \rstep 159900, remaining wall clock time:   115 s          \rstep 160000, remaining wall clock time:   115 s          \rstep 160100, remaining wall clock time:   115 s          \rstep 160200, remaining wall clock time:   115 s          \rstep 160300, remaining wall clock time:   115 s          \rstep 160400, remaining wall clock time:   115 s          \rstep 160500, remaining wall clock time:   114 s          \rstep 160600, remaining wall clock time:   114 s          \rstep 160700, remaining wall clock time:   114 s          \rstep 160800, remaining wall clock time:   114 s          \rstep 160900, remaining wall clock time:   114 s          \rstep 161000, remaining wall clock time:   114 s          \rstep 161100, remaining wall clock time:   114 s          \rstep 161200, remaining wall clock time:   114 s          \rstep 161300, remaining wall clock time:   114 s          \rstep 161400, remaining wall clock time:   114 s          \rstep 161500, remaining wall clock time:   114 s          \rstep 161600, remaining wall clock time:   114 s          \rstep 161700, remaining wall clock time:   114 s          \rstep 161800, remaining wall clock time:   114 s          \rstep 161900, remaining wall clock time:   114 s          \rstep 162000, remaining wall clock time:   114 s          \rstep 162100, remaining wall clock time:   114 s          \rstep 162200, remaining wall clock time:   114 s          \rstep 162300, remaining wall clock time:   114 s          \rstep 162400, remaining wall clock time:   114 s          \rstep 162500, remaining wall clock time:   114 s          \rstep 162600, remaining wall clock time:   114 s          \rstep 162700, remaining wall clock time:   114 s          \rstep 162800, remaining wall clock time:   114 s          \rstep 162900, remaining wall clock time:   114 s          \rstep 163000, remaining wall clock time:   114 s          \rstep 163100, remaining wall clock time:   114 s          \rstep 163200, remaining wall clock time:   113 s          \rstep 163300, remaining wall clock time:   113 s          \rstep 163400, remaining wall clock time:   113 s          \rstep 163500, remaining wall clock time:   113 s          \rstep 163600, remaining wall clock time:   113 s          \rstep 163700, remaining wall clock time:   113 s          \rstep 163800, remaining wall clock time:   113 s          \rstep 163900, remaining wall clock time:   113 s          \rstep 164000, remaining wall clock time:   113 s          \rstep 164100, remaining wall clock time:   113 s          \rstep 164200, remaining wall clock time:   113 s          \rstep 164300, remaining wall clock time:   113 s          \rstep 164400, remaining wall clock time:   113 s          \rstep 164500, remaining wall clock time:   113 s          \rstep 164600, remaining wall clock time:   113 s          \rstep 164700, remaining wall clock time:   113 s          \rstep 164800, remaining wall clock time:   113 s          \rstep 164900, remaining wall clock time:   113 s          \rstep 165000, remaining wall clock time:   113 s          \rstep 165100, remaining wall clock time:   113 s          \rstep 165200, remaining wall clock time:   113 s          \rstep 165300, remaining wall clock time:   113 s          \rstep 165400, remaining wall clock time:   113 s          \rstep 165500, remaining wall clock time:   113 s          \rstep 165600, remaining wall clock time:   113 s          \rstep 165700, remaining wall clock time:   113 s          \rstep 165800, remaining wall clock time:   112 s          \rstep 165900, remaining wall clock time:   112 s          \rstep 166000, remaining wall clock time:   112 s          \rstep 166100, remaining wall clock time:   112 s          \rstep 166200, remaining wall clock time:   112 s          \rstep 166300, remaining wall clock time:   112 s          \rstep 166400, remaining wall clock time:   112 s          \rstep 166500, remaining wall clock time:   112 s          \rstep 166600, remaining wall clock time:   112 s          \rstep 166700, remaining wall clock time:   112 s          \rstep 166800, remaining wall clock time:   112 s          \rstep 166900, remaining wall clock time:   112 s          \rstep 167000, remaining wall clock time:   112 s          \rstep 167100, remaining wall clock time:   112 s          \rstep 167200, remaining wall clock time:   112 s          \rstep 167300, remaining wall clock time:   112 s          \rstep 167400, remaining wall clock time:   112 s          \rstep 167500, remaining wall clock time:   112 s          \rstep 167600, remaining wall clock time:   112 s          \rstep 167700, remaining wall clock time:   112 s          \rstep 167800, remaining wall clock time:   112 s          \rstep 167900, remaining wall clock time:   112 s          \rstep 168000, remaining wall clock time:   112 s          \rstep 168100, remaining wall clock time:   112 s          \rstep 168200, remaining wall clock time:   112 s          \rstep 168300, remaining wall clock time:   112 s          \rstep 168400, remaining wall clock time:   112 s          \rstep 168500, remaining wall clock time:   111 s          \rstep 168600, remaining wall clock time:   111 s          \rstep 168700, remaining wall clock time:   111 s          \rstep 168800, remaining wall clock time:   111 s          \rstep 168900, remaining wall clock time:   111 s          \rstep 169000, remaining wall clock time:   111 s          \rstep 169100, remaining wall clock time:   111 s          \rstep 169200, remaining wall clock time:   111 s          \rstep 169300, remaining wall clock time:   111 s          \rstep 169400, remaining wall clock time:   111 s          \rstep 169500, remaining wall clock time:   111 s          \rstep 169600, remaining wall clock time:   111 s          \rstep 169700, remaining wall clock time:   111 s          \rstep 169800, remaining wall clock time:   111 s          \rstep 169900, remaining wall clock time:   111 s          \rstep 170000, remaining wall clock time:   111 s          \rstep 170100, remaining wall clock time:   111 s          \rstep 170200, remaining wall clock time:   111 s          \rstep 170300, remaining wall clock time:   111 s          \rstep 170400, remaining wall clock time:   111 s          \rstep 170500, remaining wall clock time:   111 s          \rstep 170600, remaining wall clock time:   111 s          \rstep 170700, remaining wall clock time:   111 s          \rstep 170800, remaining wall clock time:   111 s          \rstep 170900, remaining wall clock time:   111 s          \rstep 171000, remaining wall clock time:   111 s          \rstep 171100, remaining wall clock time:   111 s          \rstep 171200, remaining wall clock time:   110 s          \rstep 171300, remaining wall clock time:   110 s          \rstep 171400, remaining wall clock time:   110 s          \rstep 171500, remaining wall clock time:   110 s          \rstep 171600, remaining wall clock time:   110 s          \rstep 171700, remaining wall clock time:   110 s          \rstep 171800, remaining wall clock time:   110 s          \rstep 171900, remaining wall clock time:   110 s          \rstep 172000, remaining wall clock time:   110 s          \rstep 172100, remaining wall clock time:   110 s          \rstep 172200, remaining wall clock time:   110 s          \rstep 172300, remaining wall clock time:   110 s          \rstep 172400, remaining wall clock time:   110 s          \rstep 172500, remaining wall clock time:   110 s          \rstep 172600, remaining wall clock time:   110 s          \rstep 172700, remaining wall clock time:   110 s          \rstep 172800, remaining wall clock time:   110 s          \rstep 172900, remaining wall clock time:   110 s          \rstep 173000, remaining wall clock time:   110 s          \rstep 173100, remaining wall clock time:   110 s          \rstep 173200, remaining wall clock time:   110 s          \rstep 173300, remaining wall clock time:   110 s          \rstep 173400, remaining wall clock time:   110 s          \rstep 173500, remaining wall clock time:   110 s          \rstep 173600, remaining wall clock time:   110 s          \rstep 173700, remaining wall clock time:   110 s          \rstep 173800, remaining wall clock time:   110 s          \rstep 173900, remaining wall clock time:   109 s          \rstep 174000, remaining wall clock time:   109 s          \rstep 174100, remaining wall clock time:   109 s          \rstep 174200, remaining wall clock time:   109 s          \rstep 174300, remaining wall clock time:   109 s          \rstep 174400, remaining wall clock time:   109 s          \rstep 174500, remaining wall clock time:   109 s          \rstep 174600, remaining wall clock time:   109 s          \rstep 174700, remaining wall clock time:   109 s          \rstep 174800, remaining wall clock time:   109 s          \rstep 174900, remaining wall clock time:   109 s          \rstep 175000, remaining wall clock time:   109 s          \rstep 175100, remaining wall clock time:   109 s          \rstep 175200, remaining wall clock time:   109 s          \rstep 175300, remaining wall clock time:   109 s          \rstep 175400, remaining wall clock time:   109 s          \rstep 175500, remaining wall clock time:   109 s          \rstep 175600, remaining wall clock time:   109 s          \rstep 175700, remaining wall clock time:   109 s          \rstep 175800, remaining wall clock time:   109 s          \rstep 175900, remaining wall clock time:   109 s          \rstep 176000, remaining wall clock time:   109 s          \rstep 176100, remaining wall clock time:   109 s          \rstep 176200, remaining wall clock time:   109 s          \rstep 176300, remaining wall clock time:   109 s          \rstep 176400, remaining wall clock time:   108 s          \rstep 176500, remaining wall clock time:   108 s          \rstep 176600, remaining wall clock time:   108 s          \rstep 176700, remaining wall clock time:   108 s          \rstep 176800, remaining wall clock time:   108 s          \rstep 176900, remaining wall clock time:   108 s          \rstep 177000, remaining wall clock time:   108 s          \rstep 177100, remaining wall clock time:   108 s          \rstep 177200, remaining wall clock time:   108 s          \rstep 177300, remaining wall clock time:   108 s          \rstep 177400, remaining wall clock time:   108 s          \rstep 177500, remaining wall clock time:   108 s          \rstep 177600, remaining wall clock time:   108 s          \rstep 177700, remaining wall clock time:   108 s          \rstep 177800, remaining wall clock time:   108 s          \rstep 177900, remaining wall clock time:   108 s          \rstep 178000, remaining wall clock time:   108 s          \rstep 178100, remaining wall clock time:   108 s          \rstep 178200, remaining wall clock time:   108 s          \rstep 178300, remaining wall clock time:   108 s          \rstep 178400, remaining wall clock time:   108 s          \rstep 178500, remaining wall clock time:   108 s          \rstep 178600, remaining wall clock time:   108 s          \rstep 178700, remaining wall clock time:   108 s          \rstep 178800, remaining wall clock time:   108 s          \rstep 178900, remaining wall clock time:   108 s          \rstep 179000, remaining wall clock time:   107 s          \rstep 179100, remaining wall clock time:   107 s          \rstep 179200, remaining wall clock time:   107 s          \rstep 179300, remaining wall clock time:   107 s          \rstep 179400, remaining wall clock time:   107 s          \rstep 179500, remaining wall clock time:   107 s          \rstep 179600, remaining wall clock time:   107 s          \rstep 179700, remaining wall clock time:   107 s          \rstep 179800, remaining wall clock time:   107 s          \rstep 179900, remaining wall clock time:   107 s          \rstep 180000, remaining wall clock time:   107 s          \rstep 180100, remaining wall clock time:   107 s          \rstep 180200, remaining wall clock time:   107 s          \rstep 180300, remaining wall clock time:   107 s          \rstep 180400, remaining wall clock time:   107 s          \rstep 180500, remaining wall clock time:   107 s          \rstep 180600, remaining wall clock time:   107 s          \rstep 180700, remaining wall clock time:   107 s          \rstep 180800, remaining wall clock time:   107 s          \rstep 180900, remaining wall clock time:   107 s          \rstep 181000, remaining wall clock time:   107 s          \rstep 181100, remaining wall clock time:   107 s          \rstep 181200, remaining wall clock time:   107 s          \rstep 181300, remaining wall clock time:   107 s          \rstep 181400, remaining wall clock time:   107 s          \rstep 181500, remaining wall clock time:   107 s          \rstep 181600, remaining wall clock time:   106 s          \rstep 181700, remaining wall clock time:   106 s          \rstep 181800, remaining wall clock time:   106 s          \rstep 181900, remaining wall clock time:   106 s          \rstep 182000, remaining wall clock time:   106 s          \rstep 182100, remaining wall clock time:   106 s          \rstep 182200, remaining wall clock time:   106 s          \rstep 182300, remaining wall clock time:   106 s          \rstep 182400, remaining wall clock time:   106 s          \rstep 182500, remaining wall clock time:   106 s          \rstep 182600, remaining wall clock time:   106 s          \rstep 182700, remaining wall clock time:   106 s          \rstep 182800, remaining wall clock time:   106 s          \rstep 182900, remaining wall clock time:   106 s          \rstep 183000, remaining wall clock time:   106 s          \rstep 183100, remaining wall clock time:   106 s          \rstep 183200, remaining wall clock time:   106 s          \rstep 183300, remaining wall clock time:   106 s          \rstep 183400, remaining wall clock time:   106 s          \rstep 183500, remaining wall clock time:   106 s          \rstep 183600, remaining wall clock time:   106 s          \rstep 183700, remaining wall clock time:   106 s          \rstep 183800, remaining wall clock time:   106 s          \rstep 183900, remaining wall clock time:   106 s          \rstep 184000, remaining wall clock time:   106 s          \rstep 184100, remaining wall clock time:   106 s          \rstep 184200, remaining wall clock time:   106 s          \rstep 184300, remaining wall clock time:   106 s          \rstep 184400, remaining wall clock time:   105 s          \rstep 184500, remaining wall clock time:   105 s          \rstep 184600, remaining wall clock time:   105 s          \rstep 184700, remaining wall clock time:   105 s          \rstep 184800, remaining wall clock time:   105 s          \rstep 184900, remaining wall clock time:   105 s          \rstep 185000, remaining wall clock time:   105 s          \rstep 185100, remaining wall clock time:   105 s          \rstep 185200, remaining wall clock time:   105 s          \rstep 185300, remaining wall clock time:   105 s          \rstep 185400, remaining wall clock time:   105 s          \rstep 185500, remaining wall clock time:   105 s          \rstep 185600, remaining wall clock time:   105 s          \rstep 185700, remaining wall clock time:   105 s          \rstep 185800, remaining wall clock time:   105 s          \rstep 185900, remaining wall clock time:   105 s          \rstep 186000, remaining wall clock time:   105 s          \rstep 186100, remaining wall clock time:   105 s          \rstep 186200, remaining wall clock time:   105 s          \rstep 186300, remaining wall clock time:   105 s          \rstep 186400, remaining wall clock time:   105 s          \rstep 186500, remaining wall clock time:   105 s          \rstep 186600, remaining wall clock time:   105 s          \rstep 186700, remaining wall clock time:   105 s          \rstep 186800, remaining wall clock time:   105 s          \rstep 186900, remaining wall clock time:   105 s          \rstep 187000, remaining wall clock time:   105 s          \rstep 187100, remaining wall clock time:   105 s          \rstep 187200, remaining wall clock time:   105 s          \rstep 187300, remaining wall clock time:   105 s          \rstep 187400, remaining wall clock time:   104 s          \rstep 187500, remaining wall clock time:   104 s          \rstep 187600, remaining wall clock time:   104 s          \rstep 187700, remaining wall clock time:   104 s          \rstep 187800, remaining wall clock time:   104 s          \rstep 187900, remaining wall clock time:   104 s          \rstep 188000, remaining wall clock time:   104 s          \rstep 188100, remaining wall clock time:   104 s          \rstep 188200, remaining wall clock time:   104 s          \rstep 188300, remaining wall clock time:   104 s          \rstep 188400, remaining wall clock time:   104 s          \rstep 188500, remaining wall clock time:   104 s          \rstep 188600, remaining wall clock time:   104 s          \rstep 188700, remaining wall clock time:   104 s          \rstep 188800, remaining wall clock time:   104 s          \rstep 188900, remaining wall clock time:   104 s          \rstep 189000, remaining wall clock time:   104 s          \rstep 189100, remaining wall clock time:   104 s          \rstep 189200, remaining wall clock time:   104 s          \rstep 189300, remaining wall clock time:   104 s          \rstep 189400, remaining wall clock time:   104 s          \rstep 189500, remaining wall clock time:   104 s          \rstep 189600, remaining wall clock time:   104 s          \rstep 189700, remaining wall clock time:   104 s          \rstep 189800, remaining wall clock time:   104 s          \rstep 189900, remaining wall clock time:   104 s          \rstep 190000, remaining wall clock time:   104 s          \rstep 190100, remaining wall clock time:   104 s          \rstep 190200, remaining wall clock time:   103 s          \rstep 190300, remaining wall clock time:   103 s          \rstep 190400, remaining wall clock time:   103 s          \rstep 190500, remaining wall clock time:   103 s          \rstep 190600, remaining wall clock time:   103 s          \rstep 190700, remaining wall clock time:   103 s          \rstep 190800, remaining wall clock time:   103 s          \rstep 190900, remaining wall clock time:   103 s          \rstep 191000, remaining wall clock time:   103 s          \rstep 191100, remaining wall clock time:   103 s          \rstep 191200, remaining wall clock time:   103 s          \rstep 191300, remaining wall clock time:   103 s          \rstep 191400, remaining wall clock time:   103 s          \rstep 191500, remaining wall clock time:   103 s          \rstep 191600, remaining wall clock time:   103 s          \rstep 191700, remaining wall clock time:   103 s          \rstep 191800, remaining wall clock time:   103 s          \rstep 191900, remaining wall clock time:   103 s          \rstep 192000, remaining wall clock time:   103 s          \rstep 192100, remaining wall clock time:   103 s          \rstep 192200, remaining wall clock time:   103 s          \rstep 192300, remaining wall clock time:   103 s          \rstep 192400, remaining wall clock time:   103 s          \rstep 192500, remaining wall clock time:   103 s          \rstep 192600, remaining wall clock time:   103 s          \rstep 192700, remaining wall clock time:   103 s          \rstep 192800, remaining wall clock time:   103 s          \rstep 192900, remaining wall clock time:   102 s          \rstep 193000, remaining wall clock time:   102 s          \rstep 193100, remaining wall clock time:   102 s          \rstep 193200, remaining wall clock time:   102 s          \rstep 193300, remaining wall clock time:   102 s          \rstep 193400, remaining wall clock time:   102 s          \rstep 193500, remaining wall clock time:   102 s          \rstep 193600, remaining wall clock time:   102 s          \rstep 193700, remaining wall clock time:   102 s          \rstep 193800, remaining wall clock time:   102 s          \rstep 193900, remaining wall clock time:   102 s          \rstep 194000, remaining wall clock time:   102 s          \rstep 194100, remaining wall clock time:   102 s          \rstep 194200, remaining wall clock time:   102 s          \rstep 194300, remaining wall clock time:   102 s          \rstep 194400, remaining wall clock time:   102 s          \rstep 194500, remaining wall clock time:   102 s          \rstep 194600, remaining wall clock time:   102 s          \rstep 194700, remaining wall clock time:   102 s          \rstep 194800, remaining wall clock time:   102 s          \rstep 194900, remaining wall clock time:   102 s          \rstep 195000, remaining wall clock time:   102 s          \rstep 195100, remaining wall clock time:   102 s          \rstep 195200, remaining wall clock time:   102 s          \rstep 195300, remaining wall clock time:   102 s          \rstep 195400, remaining wall clock time:   102 s          \rstep 195500, remaining wall clock time:   102 s          \rstep 195600, remaining wall clock time:   102 s          \rstep 195700, remaining wall clock time:   101 s          \rstep 195800, remaining wall clock time:   101 s          \rstep 195900, remaining wall clock time:   101 s          \rstep 196000, remaining wall clock time:   101 s          \rstep 196100, remaining wall clock time:   101 s          \rstep 196200, remaining wall clock time:   101 s          \rstep 196300, remaining wall clock time:   101 s          \rstep 196400, remaining wall clock time:   101 s          \rstep 196500, remaining wall clock time:   101 s          \rstep 196600, remaining wall clock time:   101 s          \rstep 196700, remaining wall clock time:   101 s          \rstep 196800, remaining wall clock time:   101 s          \rstep 196900, remaining wall clock time:   101 s          \rstep 197000, remaining wall clock time:   101 s          \rstep 197100, remaining wall clock time:   101 s          \rstep 197200, remaining wall clock time:   101 s          \rstep 197300, remaining wall clock time:   101 s          \rstep 197400, remaining wall clock time:   101 s          \rstep 197500, remaining wall clock time:   101 s          \rstep 197600, remaining wall clock time:   101 s          \rstep 197700, remaining wall clock time:   101 s          \rstep 197800, remaining wall clock time:   101 s          \rstep 197900, remaining wall clock time:   101 s          \rstep 198000, remaining wall clock time:   101 s          \rstep 198100, remaining wall clock time:   101 s          \rstep 198200, remaining wall clock time:   101 s          \rstep 198300, remaining wall clock time:   101 s          \rstep 198400, remaining wall clock time:   100 s          \rstep 198500, remaining wall clock time:   100 s          \rstep 198600, remaining wall clock time:   100 s          \rstep 198700, remaining wall clock time:   100 s          \rstep 198800, remaining wall clock time:   100 s          \rstep 198900, remaining wall clock time:   100 s          \rstep 199000, remaining wall clock time:   100 s          \rstep 199100, remaining wall clock time:   100 s          \rstep 199200, remaining wall clock time:   100 s          \rstep 199300, remaining wall clock time:   100 s          \rstep 199400, remaining wall clock time:   100 s          \rstep 199500, remaining wall clock time:   100 s          \rstep 199600, remaining wall clock time:   100 s          \rstep 199700, remaining wall clock time:   100 s          \rstep 199800, remaining wall clock time:   100 s          \rstep 199900, remaining wall clock time:   100 s          \rstep 200000, remaining wall clock time:   100 s          \rstep 200100, remaining wall clock time:   100 s          \rstep 200200, remaining wall clock time:   100 s          \rstep 200300, remaining wall clock time:   100 s          \rstep 200400, remaining wall clock time:   100 s          \rstep 200500, remaining wall clock time:   100 s          \rstep 200600, remaining wall clock time:   100 s          \rstep 200700, remaining wall clock time:   100 s          \rstep 200800, remaining wall clock time:   100 s          \rstep 200900, remaining wall clock time:   100 s          \rstep 201000, remaining wall clock time:   100 s          \rstep 201100, remaining wall clock time:   100 s          \rstep 201200, remaining wall clock time:    99 s          \rstep 201300, remaining wall clock time:    99 s          \rstep 201400, remaining wall clock time:    99 s          \rstep 201500, remaining wall clock time:    99 s          \rstep 201600, remaining wall clock time:    99 s          \rstep 201700, remaining wall clock time:    99 s          \rstep 201800, remaining wall clock time:    99 s          \rstep 201900, remaining wall clock time:    99 s          \rstep 202000, remaining wall clock time:    99 s          \rstep 202100, remaining wall clock time:    99 s          \rstep 202200, remaining wall clock time:    99 s          \rstep 202300, remaining wall clock time:    99 s          \rstep 202400, remaining wall clock time:    99 s          \rstep 202500, remaining wall clock time:    99 s          \rstep 202600, remaining wall clock time:    99 s          \rstep 202700, remaining wall clock time:    99 s          \rstep 202800, remaining wall clock time:    99 s          \rstep 202900, remaining wall clock time:    99 s          \rstep 203000, remaining wall clock time:    99 s          \rstep 203100, remaining wall clock time:    99 s          \rstep 203200, remaining wall clock time:    99 s          \rstep 203300, remaining wall clock time:    99 s          \rstep 203400, remaining wall clock time:    99 s          \rstep 203500, remaining wall clock time:    99 s          \rstep 203600, remaining wall clock time:    99 s          \rstep 203700, remaining wall clock time:    99 s          \rstep 203800, remaining wall clock time:    99 s          \rstep 203900, remaining wall clock time:    98 s          \rstep 204000, remaining wall clock time:    98 s          \rstep 204100, remaining wall clock time:    98 s          \rstep 204200, remaining wall clock time:    98 s          \rstep 204300, remaining wall clock time:    98 s          \rstep 204400, remaining wall clock time:    98 s          \rstep 204500, remaining wall clock time:    98 s          \rstep 204600, remaining wall clock time:    98 s          \rstep 204700, remaining wall clock time:    98 s          \rstep 204800, remaining wall clock time:    98 s          \rstep 204900, remaining wall clock time:    98 s          \rstep 205000, remaining wall clock time:    98 s          \rstep 205100, remaining wall clock time:    98 s          \rstep 205200, remaining wall clock time:    98 s          \rstep 205300, remaining wall clock time:    98 s          \rstep 205400, remaining wall clock time:    98 s          \rstep 205500, remaining wall clock time:    98 s          \rstep 205600, remaining wall clock time:    98 s          \rstep 205700, remaining wall clock time:    98 s          \rstep 205800, remaining wall clock time:    98 s          \rstep 205900, remaining wall clock time:    98 s          \rstep 206000, remaining wall clock time:    98 s          \rstep 206100, remaining wall clock time:    98 s          \rstep 206200, remaining wall clock time:    98 s          \rstep 206300, remaining wall clock time:    98 s          \rstep 206400, remaining wall clock time:    98 s          \rstep 206500, remaining wall clock time:    98 s          \rstep 206600, remaining wall clock time:    98 s          \rstep 206700, remaining wall clock time:    97 s          \rstep 206800, remaining wall clock time:    97 s          \rstep 206900, remaining wall clock time:    97 s          \rstep 207000, remaining wall clock time:    97 s          \rstep 207100, remaining wall clock time:    97 s          \rstep 207200, remaining wall clock time:    97 s          \rstep 207300, remaining wall clock time:    97 s          \rstep 207400, remaining wall clock time:    97 s          \rstep 207500, remaining wall clock time:    97 s          \rstep 207600, remaining wall clock time:    97 s          \rstep 207700, remaining wall clock time:    97 s          \rstep 207800, remaining wall clock time:    97 s          \rstep 207900, remaining wall clock time:    97 s          \rstep 208000, remaining wall clock time:    97 s          \rstep 208100, remaining wall clock time:    97 s          \rstep 208200, remaining wall clock time:    97 s          \rstep 208300, remaining wall clock time:    97 s          \rstep 208400, remaining wall clock time:    97 s          \rstep 208500, remaining wall clock time:    97 s          \rstep 208600, remaining wall clock time:    97 s          \rstep 208700, remaining wall clock time:    97 s          \rstep 208800, remaining wall clock time:    97 s          \rstep 208900, remaining wall clock time:    97 s          \rstep 209000, remaining wall clock time:    97 s          \rstep 209100, remaining wall clock time:    97 s          \rstep 209200, remaining wall clock time:    97 s          \rstep 209300, remaining wall clock time:    97 s          \rstep 209400, remaining wall clock time:    97 s          \rstep 209500, remaining wall clock time:    96 s          \rstep 209600, remaining wall clock time:    96 s          \rstep 209700, remaining wall clock time:    96 s          \rstep 209800, remaining wall clock time:    96 s          \rstep 209900, remaining wall clock time:    96 s          \rstep 210000, remaining wall clock time:    96 s          \rstep 210100, remaining wall clock time:    96 s          \rstep 210200, remaining wall clock time:    96 s          \rstep 210300, remaining wall clock time:    96 s          \rstep 210400, remaining wall clock time:    96 s          \rstep 210500, remaining wall clock time:    96 s          \rstep 210600, remaining wall clock time:    96 s          \rstep 210700, remaining wall clock time:    96 s          \rstep 210800, remaining wall clock time:    96 s          \rstep 210900, remaining wall clock time:    96 s          \rstep 211000, remaining wall clock time:    96 s          \rstep 211100, remaining wall clock time:    96 s          \rstep 211200, remaining wall clock time:    96 s          \rstep 211300, remaining wall clock time:    96 s          \rstep 211400, remaining wall clock time:    96 s          \rstep 211500, remaining wall clock time:    96 s          \rstep 211600, remaining wall clock time:    96 s          \rstep 211700, remaining wall clock time:    96 s          \rstep 211800, remaining wall clock time:    96 s          \rstep 211900, remaining wall clock time:    96 s          \rstep 212000, remaining wall clock time:    96 s          \rstep 212100, remaining wall clock time:    96 s          \rstep 212200, remaining wall clock time:    96 s          \rstep 212300, remaining wall clock time:    95 s          \rstep 212400, remaining wall clock time:    95 s          \rstep 212500, remaining wall clock time:    95 s          \rstep 212600, remaining wall clock time:    95 s          \rstep 212700, remaining wall clock time:    95 s          \rstep 212800, remaining wall clock time:    95 s          \rstep 212900, remaining wall clock time:    95 s          \rstep 213000, remaining wall clock time:    95 s          \rstep 213100, remaining wall clock time:    95 s          \rstep 213200, remaining wall clock time:    95 s          \rstep 213300, remaining wall clock time:    95 s          \rstep 213400, remaining wall clock time:    95 s          \rstep 213500, remaining wall clock time:    95 s          \rstep 213600, remaining wall clock time:    95 s          \rstep 213700, remaining wall clock time:    95 s          \rstep 213800, remaining wall clock time:    95 s          \rstep 213900, remaining wall clock time:    95 s          \rstep 214000, remaining wall clock time:    95 s          \rstep 214100, remaining wall clock time:    95 s          \rstep 214200, remaining wall clock time:    95 s          \rstep 214300, remaining wall clock time:    95 s          \rstep 214400, remaining wall clock time:    95 s          \rstep 214500, remaining wall clock time:    95 s          \rstep 214600, remaining wall clock time:    95 s          \rstep 214700, remaining wall clock time:    95 s          \rstep 214800, remaining wall clock time:    95 s          \rstep 214900, remaining wall clock time:    95 s          \rstep 215000, remaining wall clock time:    95 s          \rstep 215100, remaining wall clock time:    94 s          \rstep 215200, remaining wall clock time:    94 s          \rstep 215300, remaining wall clock time:    94 s          \rstep 215400, remaining wall clock time:    94 s          \rstep 215500, remaining wall clock time:    94 s          \rstep 215600, remaining wall clock time:    94 s          \rstep 215700, remaining wall clock time:    94 s          \rstep 215800, remaining wall clock time:    94 s          \rstep 215900, remaining wall clock time:    94 s          \rstep 216000, remaining wall clock time:    94 s          \rstep 216100, remaining wall clock time:    94 s          \rstep 216200, remaining wall clock time:    94 s          \rstep 216300, remaining wall clock time:    94 s          \rstep 216400, remaining wall clock time:    94 s          \rstep 216500, remaining wall clock time:    94 s          \rstep 216600, remaining wall clock time:    94 s          \rstep 216700, remaining wall clock time:    94 s          \rstep 216800, remaining wall clock time:    94 s          \rstep 216900, remaining wall clock time:    94 s          \rstep 217000, remaining wall clock time:    94 s          \rstep 217100, remaining wall clock time:    94 s          \rstep 217200, remaining wall clock time:    94 s          \rstep 217300, remaining wall clock time:    94 s          \rstep 217400, remaining wall clock time:    94 s          \rstep 217500, remaining wall clock time:    94 s          \rstep 217600, remaining wall clock time:    94 s          \rstep 217700, remaining wall clock time:    94 s          \rstep 217800, remaining wall clock time:    94 s          \rstep 217900, remaining wall clock time:    93 s          \rstep 218000, remaining wall clock time:    93 s          \rstep 218100, remaining wall clock time:    93 s          \rstep 218200, remaining wall clock time:    93 s          \rstep 218300, remaining wall clock time:    93 s          \rstep 218400, remaining wall clock time:    93 s          \rstep 218500, remaining wall clock time:    93 s          \rstep 218600, remaining wall clock time:    93 s          \rstep 218700, remaining wall clock time:    93 s          \rstep 218800, remaining wall clock time:    93 s          \rstep 218900, remaining wall clock time:    93 s          \rstep 219000, remaining wall clock time:    93 s          \rstep 219100, remaining wall clock time:    93 s          \rstep 219200, remaining wall clock time:    93 s          \rstep 219300, remaining wall clock time:    93 s          \rstep 219400, remaining wall clock time:    93 s          \rstep 219500, remaining wall clock time:    93 s          \rstep 219600, remaining wall clock time:    93 s          \rstep 219700, remaining wall clock time:    93 s          \rstep 219800, remaining wall clock time:    93 s          \rstep 219900, remaining wall clock time:    93 s          \rstep 220000, remaining wall clock time:    93 s          \rstep 220100, remaining wall clock time:    93 s          \rstep 220200, remaining wall clock time:    93 s          \rstep 220300, remaining wall clock time:    93 s          \rstep 220400, remaining wall clock time:    93 s          \rstep 220500, remaining wall clock time:    93 s          \rstep 220600, remaining wall clock time:    93 s          \rstep 220700, remaining wall clock time:    93 s          \rstep 220800, remaining wall clock time:    92 s          \rstep 220900, remaining wall clock time:    92 s          \rstep 221000, remaining wall clock time:    92 s          \rstep 221100, remaining wall clock time:    92 s          \rstep 221200, remaining wall clock time:    92 s          \rstep 221300, remaining wall clock time:    92 s          \rstep 221400, remaining wall clock time:    92 s          \rstep 221500, remaining wall clock time:    92 s          \rstep 221600, remaining wall clock time:    92 s          \rstep 221700, remaining wall clock time:    92 s          \rstep 221800, remaining wall clock time:    92 s          \rstep 221900, remaining wall clock time:    92 s          \rstep 222000, remaining wall clock time:    92 s          \rstep 222100, remaining wall clock time:    92 s          \rstep 222200, remaining wall clock time:    92 s          \rstep 222300, remaining wall clock time:    92 s          \rstep 222400, remaining wall clock time:    92 s          \rstep 222500, remaining wall clock time:    92 s          \rstep 222600, remaining wall clock time:    92 s          \rstep 222700, remaining wall clock time:    92 s          \rstep 222800, remaining wall clock time:    92 s          \rstep 222900, remaining wall clock time:    92 s          \rstep 223000, remaining wall clock time:    92 s          \rstep 223100, remaining wall clock time:    92 s          \rstep 223200, remaining wall clock time:    92 s          \rstep 223300, remaining wall clock time:    92 s          \rstep 223400, remaining wall clock time:    92 s          \rstep 223500, remaining wall clock time:    92 s          \rstep 223600, remaining wall clock time:    92 s          \rstep 223700, remaining wall clock time:    91 s          \rstep 223800, remaining wall clock time:    91 s          \rstep 223900, remaining wall clock time:    91 s          \rstep 224000, remaining wall clock time:    91 s          \rstep 224100, remaining wall clock time:    91 s          \rstep 224200, remaining wall clock time:    91 s          \rstep 224300, remaining wall clock time:    91 s          \rstep 224400, remaining wall clock time:    91 s          \rstep 224500, remaining wall clock time:    91 s          \rstep 224600, remaining wall clock time:    91 s          \rstep 224700, remaining wall clock time:    91 s          \rstep 224800, remaining wall clock time:    91 s          \rstep 224900, remaining wall clock time:    91 s          \rstep 225000, remaining wall clock time:    91 s          \rstep 225100, remaining wall clock time:    91 s          \rstep 225200, remaining wall clock time:    91 s          \rstep 225300, remaining wall clock time:    91 s          \rstep 225400, remaining wall clock time:    91 s          \rstep 225500, remaining wall clock time:    91 s          \rstep 225600, remaining wall clock time:    91 s          \rstep 225700, remaining wall clock time:    91 s          \rstep 225800, remaining wall clock time:    91 s          \rstep 225900, remaining wall clock time:    91 s          \rstep 226000, remaining wall clock time:    91 s          \rstep 226100, remaining wall clock time:    91 s          \rstep 226200, remaining wall clock time:    91 s          \rstep 226300, remaining wall clock time:    91 s          \rstep 226400, remaining wall clock time:    91 s          \rstep 226500, remaining wall clock time:    91 s          \rstep 226600, remaining wall clock time:    90 s          \rstep 226700, remaining wall clock time:    90 s          \rstep 226800, remaining wall clock time:    90 s          \rstep 226900, remaining wall clock time:    90 s          \rstep 227000, remaining wall clock time:    90 s          \rstep 227100, remaining wall clock time:    90 s          \rstep 227200, remaining wall clock time:    90 s          \rstep 227300, remaining wall clock time:    90 s          \rstep 227400, remaining wall clock time:    90 s          \rstep 227500, remaining wall clock time:    90 s          \rstep 227600, remaining wall clock time:    90 s          \rstep 227700, remaining wall clock time:    90 s          \rstep 227800, remaining wall clock time:    90 s          \rstep 227900, remaining wall clock time:    90 s          \rstep 228000, remaining wall clock time:    90 s          \rstep 228100, remaining wall clock time:    90 s          \rstep 228200, remaining wall clock time:    90 s          \rstep 228300, remaining wall clock time:    90 s          \rstep 228400, remaining wall clock time:    90 s          \rstep 228500, remaining wall clock time:    90 s          \rstep 228600, remaining wall clock time:    90 s          \rstep 228700, remaining wall clock time:    90 s          \rstep 228800, remaining wall clock time:    90 s          \rstep 228900, remaining wall clock time:    90 s          \rstep 229000, remaining wall clock time:    90 s          \rstep 229100, remaining wall clock time:    90 s          \rstep 229200, remaining wall clock time:    90 s          \rstep 229300, remaining wall clock time:    90 s          \rstep 229400, remaining wall clock time:    89 s          \rstep 229500, remaining wall clock time:    89 s          \rstep 229600, remaining wall clock time:    89 s          \rstep 229700, remaining wall clock time:    89 s          \rstep 229800, remaining wall clock time:    89 s          \rstep 229900, remaining wall clock time:    89 s          \rstep 230000, remaining wall clock time:    89 s          \rstep 230100, remaining wall clock time:    89 s          \rstep 230200, remaining wall clock time:    89 s          \rstep 230300, remaining wall clock time:    89 s          \rstep 230400, remaining wall clock time:    89 s          \rstep 230500, remaining wall clock time:    89 s          \rstep 230600, remaining wall clock time:    89 s          \rstep 230700, remaining wall clock time:    89 s          \rstep 230800, remaining wall clock time:    89 s          \rstep 230900, remaining wall clock time:    89 s          \rstep 231000, remaining wall clock time:    89 s          \rstep 231100, remaining wall clock time:    89 s          \rstep 231200, remaining wall clock time:    89 s          \rstep 231300, remaining wall clock time:    89 s          \rstep 231400, remaining wall clock time:    89 s          \rstep 231500, remaining wall clock time:    89 s          \rstep 231600, remaining wall clock time:    89 s          \rstep 231700, remaining wall clock time:    89 s          \rstep 231800, remaining wall clock time:    89 s          \rstep 231900, remaining wall clock time:    89 s          \rstep 232000, remaining wall clock time:    89 s          \rstep 232100, remaining wall clock time:    89 s          \rstep 232200, remaining wall clock time:    89 s          \rstep 232300, remaining wall clock time:    88 s          \rstep 232400, remaining wall clock time:    88 s          \rstep 232500, remaining wall clock time:    88 s          \rstep 232600, remaining wall clock time:    88 s          \rstep 232700, remaining wall clock time:    88 s          \rstep 232800, remaining wall clock time:    88 s          \rstep 232900, remaining wall clock time:    88 s          \rstep 233000, remaining wall clock time:    88 s          \rstep 233100, remaining wall clock time:    88 s          \rstep 233200, remaining wall clock time:    88 s          \rstep 233300, remaining wall clock time:    88 s          \rstep 233400, remaining wall clock time:    88 s          \rstep 233500, remaining wall clock time:    88 s          \rstep 233600, remaining wall clock time:    88 s          \rstep 233700, remaining wall clock time:    88 s          \rstep 233800, remaining wall clock time:    88 s          \rstep 233900, remaining wall clock time:    88 s          \rstep 234000, remaining wall clock time:    88 s          \rstep 234100, remaining wall clock time:    88 s          \rstep 234200, remaining wall clock time:    88 s          \rstep 234300, remaining wall clock time:    88 s          \rstep 234400, remaining wall clock time:    88 s          \rstep 234500, remaining wall clock time:    88 s          \rstep 234600, remaining wall clock time:    88 s          \rstep 234700, remaining wall clock time:    88 s          \rstep 234800, remaining wall clock time:    88 s          \rstep 234900, remaining wall clock time:    88 s          \rstep 235000, remaining wall clock time:    88 s          \rstep 235100, remaining wall clock time:    87 s          \rstep 235200, remaining wall clock time:    87 s          \rstep 235300, remaining wall clock time:    87 s          \rstep 235400, remaining wall clock time:    87 s          \rstep 235500, remaining wall clock time:    87 s          \rstep 235600, remaining wall clock time:    87 s          \rstep 235700, remaining wall clock time:    87 s          \rstep 235800, remaining wall clock time:    87 s          \rstep 235900, remaining wall clock time:    87 s          \rstep 236000, remaining wall clock time:    87 s          \rstep 236100, remaining wall clock time:    87 s          \rstep 236200, remaining wall clock time:    87 s          \rstep 236300, remaining wall clock time:    87 s          \rstep 236400, remaining wall clock time:    87 s          \rstep 236500, remaining wall clock time:    87 s          \rstep 236600, remaining wall clock time:    87 s          \rstep 236700, remaining wall clock time:    87 s          \rstep 236800, remaining wall clock time:    87 s          \rstep 236900, remaining wall clock time:    87 s          \rstep 237000, remaining wall clock time:    87 s          \rstep 237100, remaining wall clock time:    87 s          \rstep 237200, remaining wall clock time:    87 s          \rstep 237300, remaining wall clock time:    87 s          \rstep 237400, remaining wall clock time:    87 s          \rstep 237500, remaining wall clock time:    87 s          \rstep 237600, remaining wall clock time:    87 s          \rstep 237700, remaining wall clock time:    87 s          \rstep 237800, remaining wall clock time:    87 s          \rstep 237900, remaining wall clock time:    87 s          \rstep 238000, remaining wall clock time:    86 s          \rstep 238100, remaining wall clock time:    86 s          \rstep 238200, remaining wall clock time:    86 s          \rstep 238300, remaining wall clock time:    86 s          \rstep 238400, remaining wall clock time:    86 s          \rstep 238500, remaining wall clock time:    86 s          \rstep 238600, remaining wall clock time:    86 s          \rstep 238700, remaining wall clock time:    86 s          \rstep 238800, remaining wall clock time:    86 s          \rstep 238900, remaining wall clock time:    86 s          \rstep 239000, remaining wall clock time:    86 s          \rstep 239100, remaining wall clock time:    86 s          \rstep 239200, remaining wall clock time:    86 s          \rstep 239300, remaining wall clock time:    86 s          \rstep 239400, remaining wall clock time:    86 s          \rstep 239500, remaining wall clock time:    86 s          \rstep 239600, remaining wall clock time:    86 s          \rstep 239700, remaining wall clock time:    86 s          \rstep 239800, remaining wall clock time:    86 s          \rstep 239900, remaining wall clock time:    86 s          \rstep 240000, remaining wall clock time:    86 s          \rstep 240100, remaining wall clock time:    86 s          \rstep 240200, remaining wall clock time:    86 s          \rstep 240300, remaining wall clock time:    86 s          \rstep 240400, remaining wall clock time:    86 s          \rstep 240500, remaining wall clock time:    86 s          \rstep 240600, remaining wall clock time:    86 s          \rstep 240700, remaining wall clock time:    86 s          \rstep 240800, remaining wall clock time:    86 s          \rstep 240900, remaining wall clock time:    85 s          \rstep 241000, remaining wall clock time:    85 s          \rstep 241100, remaining wall clock time:    85 s          \rstep 241200, remaining wall clock time:    85 s          \rstep 241300, remaining wall clock time:    85 s          \rstep 241400, remaining wall clock time:    85 s          \rstep 241500, remaining wall clock time:    85 s          \rstep 241600, remaining wall clock time:    85 s          \rstep 241700, remaining wall clock time:    85 s          \rstep 241800, remaining wall clock time:    85 s          \rstep 241900, remaining wall clock time:    85 s          \rstep 242000, remaining wall clock time:    85 s          \rstep 242100, remaining wall clock time:    85 s          \rstep 242200, remaining wall clock time:    85 s          \rstep 242300, remaining wall clock time:    85 s          \rstep 242400, remaining wall clock time:    85 s          \rstep 242500, remaining wall clock time:    85 s          \rstep 242600, remaining wall clock time:    85 s          \rstep 242700, remaining wall clock time:    85 s          \rstep 242800, remaining wall clock time:    85 s          \rstep 242900, remaining wall clock time:    85 s          \rstep 243000, remaining wall clock time:    85 s          \rstep 243100, remaining wall clock time:    85 s          \rstep 243200, remaining wall clock time:    85 s          \rstep 243300, remaining wall clock time:    85 s          \rstep 243400, remaining wall clock time:    85 s          \rstep 243500, remaining wall clock time:    85 s          \rstep 243600, remaining wall clock time:    85 s          \rstep 243700, remaining wall clock time:    84 s          \rstep 243800, remaining wall clock time:    84 s          \rstep 243900, remaining wall clock time:    84 s          \rstep 244000, remaining wall clock time:    84 s          \rstep 244100, remaining wall clock time:    84 s          \rstep 244200, remaining wall clock time:    84 s          \rstep 244300, remaining wall clock time:    84 s          \rstep 244400, remaining wall clock time:    84 s          \rstep 244500, remaining wall clock time:    84 s          \rstep 244600, remaining wall clock time:    84 s          \rstep 244700, remaining wall clock time:    84 s          \rstep 244800, remaining wall clock time:    84 s          \rstep 244900, remaining wall clock time:    84 s          \rstep 245000, remaining wall clock time:    84 s          \rstep 245100, remaining wall clock time:    84 s          \rstep 245200, remaining wall clock time:    84 s          \rstep 245300, remaining wall clock time:    84 s          \rstep 245400, remaining wall clock time:    84 s          \rstep 245500, remaining wall clock time:    84 s          \rstep 245600, remaining wall clock time:    84 s          \rstep 245700, remaining wall clock time:    84 s          \rstep 245800, remaining wall clock time:    84 s          \rstep 245900, remaining wall clock time:    84 s          \rstep 246000, remaining wall clock time:    84 s          \rstep 246100, remaining wall clock time:    84 s          \rstep 246200, remaining wall clock time:    84 s          \rstep 246300, remaining wall clock time:    84 s          \rstep 246400, remaining wall clock time:    84 s          \rstep 246500, remaining wall clock time:    84 s          \rstep 246600, remaining wall clock time:    83 s          \rstep 246700, remaining wall clock time:    83 s          \rstep 246800, remaining wall clock time:    83 s          \rstep 246900, remaining wall clock time:    83 s          \rstep 247000, remaining wall clock time:    83 s          \rstep 247100, remaining wall clock time:    83 s          \rstep 247200, remaining wall clock time:    83 s          \rstep 247300, remaining wall clock time:    83 s          \rstep 247400, remaining wall clock time:    83 s          \rstep 247500, remaining wall clock time:    83 s          \rstep 247600, remaining wall clock time:    83 s          \rstep 247700, remaining wall clock time:    83 s          \rstep 247800, remaining wall clock time:    83 s          \rstep 247900, remaining wall clock time:    83 s          \rstep 248000, remaining wall clock time:    83 s          \rstep 248100, remaining wall clock time:    83 s          \rstep 248200, remaining wall clock time:    83 s          \rstep 248300, remaining wall clock time:    83 s          \rstep 248400, remaining wall clock time:    83 s          \rstep 248500, remaining wall clock time:    83 s          \rstep 248600, remaining wall clock time:    83 s          \rstep 248700, remaining wall clock time:    83 s          \rstep 248800, remaining wall clock time:    83 s          \rstep 248900, remaining wall clock time:    83 s          \rstep 249000, remaining wall clock time:    83 s          \rstep 249100, remaining wall clock time:    83 s          \rstep 249200, remaining wall clock time:    83 s          \rstep 249300, remaining wall clock time:    83 s          \rstep 249400, remaining wall clock time:    83 s          \rstep 249500, remaining wall clock time:    82 s          \rstep 249600, remaining wall clock time:    82 s          \rstep 249700, remaining wall clock time:    82 s          \rstep 249800, remaining wall clock time:    82 s          \rstep 249900, remaining wall clock time:    82 s          \rstep 250000, remaining wall clock time:    82 s          \rstep 250100, remaining wall clock time:    82 s          \rstep 250200, remaining wall clock time:    82 s          \rstep 250300, remaining wall clock time:    82 s          \rstep 250400, remaining wall clock time:    82 s          \rstep 250500, remaining wall clock time:    82 s          \rstep 250600, remaining wall clock time:    82 s          \rstep 250700, remaining wall clock time:    82 s          \rstep 250800, remaining wall clock time:    82 s          \rstep 250900, remaining wall clock time:    82 s          \rstep 251000, remaining wall clock time:    82 s          \rstep 251100, remaining wall clock time:    82 s          \rstep 251200, remaining wall clock time:    82 s          \rstep 251300, remaining wall clock time:    82 s          \rstep 251400, remaining wall clock time:    82 s          \rstep 251500, remaining wall clock time:    82 s          \rstep 251600, remaining wall clock time:    82 s          \rstep 251700, remaining wall clock time:    82 s          \rstep 251800, remaining wall clock time:    82 s          \rstep 251900, remaining wall clock time:    82 s          \rstep 252000, remaining wall clock time:    82 s          \rstep 252100, remaining wall clock time:    82 s          \rstep 252200, remaining wall clock time:    82 s          \rstep 252300, remaining wall clock time:    82 s          \rstep 252400, remaining wall clock time:    81 s          \rstep 252500, remaining wall clock time:    81 s          \rstep 252600, remaining wall clock time:    81 s          \rstep 252700, remaining wall clock time:    81 s          \rstep 252800, remaining wall clock time:    81 s          \rstep 252900, remaining wall clock time:    81 s          \rstep 253000, remaining wall clock time:    81 s          \rstep 253100, remaining wall clock time:    81 s          \rstep 253200, remaining wall clock time:    81 s          \rstep 253300, remaining wall clock time:    81 s          \rstep 253400, remaining wall clock time:    81 s          \rstep 253500, remaining wall clock time:    81 s          \rstep 253600, remaining wall clock time:    81 s          \rstep 253700, remaining wall clock time:    81 s          \rstep 253800, remaining wall clock time:    81 s          \rstep 253900, remaining wall clock time:    81 s          \rstep 254000, remaining wall clock time:    81 s          \rstep 254100, remaining wall clock time:    81 s          \rstep 254200, remaining wall clock time:    81 s          \rstep 254300, remaining wall clock time:    81 s          \rstep 254400, remaining wall clock time:    81 s          \rstep 254500, remaining wall clock time:    81 s          \rstep 254600, remaining wall clock time:    81 s          \rstep 254700, remaining wall clock time:    81 s          \rstep 254800, remaining wall clock time:    81 s          \rstep 254900, remaining wall clock time:    81 s          \rstep 255000, remaining wall clock time:    81 s          \rstep 255100, remaining wall clock time:    81 s          \rstep 255200, remaining wall clock time:    81 s          \rstep 255300, remaining wall clock time:    81 s          \rstep 255400, remaining wall clock time:    80 s          \rstep 255500, remaining wall clock time:    80 s          \rstep 255600, remaining wall clock time:    80 s          \rstep 255700, remaining wall clock time:    80 s          \rstep 255800, remaining wall clock time:    80 s          \rstep 255900, remaining wall clock time:    80 s          \rstep 256000, remaining wall clock time:    80 s          \rstep 256100, remaining wall clock time:    80 s          \rstep 256200, remaining wall clock time:    80 s          \rstep 256300, remaining wall clock time:    80 s          \rstep 256400, remaining wall clock time:    80 s          \rstep 256500, remaining wall clock time:    80 s          \rstep 256600, remaining wall clock time:    80 s          \rstep 256700, remaining wall clock time:    80 s          \rstep 256800, remaining wall clock time:    80 s          \rstep 256900, remaining wall clock time:    80 s          \rstep 257000, remaining wall clock time:    80 s          \rstep 257100, remaining wall clock time:    80 s          \rstep 257200, remaining wall clock time:    80 s          \rstep 257300, remaining wall clock time:    80 s          \rstep 257400, remaining wall clock time:    80 s          \rstep 257500, remaining wall clock time:    80 s          \rstep 257600, remaining wall clock time:    80 s          \rstep 257700, remaining wall clock time:    80 s          \rstep 257800, remaining wall clock time:    80 s          \rstep 257900, remaining wall clock time:    80 s          \rstep 258000, remaining wall clock time:    80 s          \rstep 258100, remaining wall clock time:    80 s          \rstep 258200, remaining wall clock time:    80 s          \rstep 258300, remaining wall clock time:    80 s          \rstep 258400, remaining wall clock time:    80 s          \rstep 258500, remaining wall clock time:    79 s          \rstep 258600, remaining wall clock time:    79 s          \rstep 258700, remaining wall clock time:    79 s          \rstep 258800, remaining wall clock time:    79 s          \rstep 258900, remaining wall clock time:    79 s          \rstep 259000, remaining wall clock time:    79 s          \rstep 259100, remaining wall clock time:    79 s          \rstep 259200, remaining wall clock time:    79 s          \rstep 259300, remaining wall clock time:    79 s          \rstep 259400, remaining wall clock time:    79 s          \rstep 259500, remaining wall clock time:    79 s          \rstep 259600, remaining wall clock time:    79 s          \rstep 259700, remaining wall clock time:    79 s          \rstep 259800, remaining wall clock time:    79 s          \rstep 259900, remaining wall clock time:    79 s          \rstep 260000, remaining wall clock time:    79 s          \rstep 260100, remaining wall clock time:    79 s          \rstep 260200, remaining wall clock time:    79 s          \rstep 260300, remaining wall clock time:    79 s          \rstep 260400, remaining wall clock time:    79 s          \rstep 260500, remaining wall clock time:    79 s          \rstep 260600, remaining wall clock time:    79 s          \rstep 260700, remaining wall clock time:    79 s          \rstep 260800, remaining wall clock time:    79 s          \rstep 260900, remaining wall clock time:    79 s          \rstep 261000, remaining wall clock time:    79 s          \rstep 261100, remaining wall clock time:    79 s          \rstep 261200, remaining wall clock time:    79 s          \rstep 261300, remaining wall clock time:    79 s          \rstep 261400, remaining wall clock time:    79 s          \rstep 261500, remaining wall clock time:    78 s          \rstep 261600, remaining wall clock time:    78 s          \rstep 261700, remaining wall clock time:    78 s          \rstep 261800, remaining wall clock time:    78 s          \rstep 261900, remaining wall clock time:    78 s          \rstep 262000, remaining wall clock time:    78 s          \rstep 262100, remaining wall clock time:    78 s          \rstep 262200, remaining wall clock time:    78 s          \rstep 262300, remaining wall clock time:    78 s          \rstep 262400, remaining wall clock time:    78 s          \rstep 262500, remaining wall clock time:    78 s          \rstep 262600, remaining wall clock time:    78 s          \rstep 262700, remaining wall clock time:    78 s          \rstep 262800, remaining wall clock time:    78 s          \rstep 262900, remaining wall clock time:    78 s          \rstep 263000, remaining wall clock time:    78 s          \rstep 263100, remaining wall clock time:    78 s          \rstep 263200, remaining wall clock time:    78 s          \rstep 263300, remaining wall clock time:    78 s          \rstep 263400, remaining wall clock time:    78 s          \rstep 263500, remaining wall clock time:    78 s          \rstep 263600, remaining wall clock time:    78 s          \rstep 263700, remaining wall clock time:    78 s          \rstep 263800, remaining wall clock time:    78 s          \rstep 263900, remaining wall clock time:    78 s          \rstep 264000, remaining wall clock time:    78 s          \rstep 264100, remaining wall clock time:    78 s          \rstep 264200, remaining wall clock time:    78 s          \rstep 264300, remaining wall clock time:    78 s          \rstep 264400, remaining wall clock time:    78 s          \rstep 264500, remaining wall clock time:    77 s          \rstep 264600, remaining wall clock time:    77 s          \rstep 264700, remaining wall clock time:    77 s          \rstep 264800, remaining wall clock time:    77 s          \rstep 264900, remaining wall clock time:    77 s          \rstep 265000, remaining wall clock time:    77 s          \rstep 265100, remaining wall clock time:    77 s          \rstep 265200, remaining wall clock time:    77 s          \rstep 265300, remaining wall clock time:    77 s          \rstep 265400, remaining wall clock time:    77 s          \rstep 265500, remaining wall clock time:    77 s          \rstep 265600, remaining wall clock time:    77 s          \rstep 265700, remaining wall clock time:    77 s          \rstep 265800, remaining wall clock time:    77 s          \rstep 265900, remaining wall clock time:    77 s          \rstep 266000, remaining wall clock time:    77 s          \rstep 266100, remaining wall clock time:    77 s          \rstep 266200, remaining wall clock time:    77 s          \rstep 266300, remaining wall clock time:    77 s          \rstep 266400, remaining wall clock time:    77 s          \rstep 266500, remaining wall clock time:    77 s          \rstep 266600, remaining wall clock time:    77 s          \rstep 266700, remaining wall clock time:    77 s          \rstep 266800, remaining wall clock time:    77 s          \rstep 266900, remaining wall clock time:    77 s          \rstep 267000, remaining wall clock time:    77 s          \rstep 267100, remaining wall clock time:    77 s          \rstep 267200, remaining wall clock time:    77 s          \rstep 267300, remaining wall clock time:    77 s          \rstep 267400, remaining wall clock time:    77 s          \rstep 267500, remaining wall clock time:    76 s          \rstep 267600, remaining wall clock time:    76 s          \rstep 267700, remaining wall clock time:    76 s          \rstep 267800, remaining wall clock time:    76 s          \rstep 267900, remaining wall clock time:    76 s          \rstep 268000, remaining wall clock time:    76 s          \rstep 268100, remaining wall clock time:    76 s          \rstep 268200, remaining wall clock time:    76 s          \rstep 268300, remaining wall clock time:    76 s          \rstep 268400, remaining wall clock time:    76 s          \rstep 268500, remaining wall clock time:    76 s          \rstep 268600, remaining wall clock time:    76 s          \rstep 268700, remaining wall clock time:    76 s          \rstep 268800, remaining wall clock time:    76 s          \rstep 268900, remaining wall clock time:    76 s          \rstep 269000, remaining wall clock time:    76 s          \rstep 269100, remaining wall clock time:    76 s          \rstep 269200, remaining wall clock time:    76 s          \rstep 269300, remaining wall clock time:    76 s          \rstep 269400, remaining wall clock time:    76 s          \rstep 269500, remaining wall clock time:    76 s          \rstep 269600, remaining wall clock time:    76 s          \rstep 269700, remaining wall clock time:    76 s          \rstep 269800, remaining wall clock time:    76 s          \rstep 269900, remaining wall clock time:    76 s          \rstep 270000, remaining wall clock time:    76 s          \rstep 270100, remaining wall clock time:    76 s          \rstep 270200, remaining wall clock time:    76 s          \rstep 270300, remaining wall clock time:    76 s          \rstep 270400, remaining wall clock time:    76 s          \rstep 270500, remaining wall clock time:    75 s          \rstep 270600, remaining wall clock time:    75 s          \rstep 270700, remaining wall clock time:    75 s          \rstep 270800, remaining wall clock time:    75 s          \rstep 270900, remaining wall clock time:    75 s          \rstep 271000, remaining wall clock time:    75 s          \rstep 271100, remaining wall clock time:    75 s          \rstep 271200, remaining wall clock time:    75 s          \rstep 271300, remaining wall clock time:    75 s          \rstep 271400, remaining wall clock time:    75 s          \rstep 271500, remaining wall clock time:    75 s          \rstep 271600, remaining wall clock time:    75 s          \rstep 271700, remaining wall clock time:    75 s          \rstep 271800, remaining wall clock time:    75 s          \rstep 271900, remaining wall clock time:    75 s          \rstep 272000, remaining wall clock time:    75 s          \rstep 272100, remaining wall clock time:    75 s          \rstep 272200, remaining wall clock time:    75 s          \rstep 272300, remaining wall clock time:    75 s          \rstep 272400, remaining wall clock time:    75 s          \rstep 272500, remaining wall clock time:    75 s          \rstep 272600, remaining wall clock time:    75 s          \rstep 272700, remaining wall clock time:    75 s          \rstep 272800, remaining wall clock time:    75 s          \rstep 272900, remaining wall clock time:    75 s          \rstep 273000, remaining wall clock time:    75 s          \rstep 273100, remaining wall clock time:    75 s          \rstep 273200, remaining wall clock time:    75 s          \rstep 273300, remaining wall clock time:    75 s          \rstep 273400, remaining wall clock time:    74 s          \rstep 273500, remaining wall clock time:    74 s          \rstep 273600, remaining wall clock time:    74 s          \rstep 273700, remaining wall clock time:    74 s          \rstep 273800, remaining wall clock time:    74 s          \rstep 273900, remaining wall clock time:    74 s          \rstep 274000, remaining wall clock time:    74 s          \rstep 274100, remaining wall clock time:    74 s          \rstep 274200, remaining wall clock time:    74 s          \rstep 274300, remaining wall clock time:    74 s          \rstep 274400, remaining wall clock time:    74 s          \rstep 274500, remaining wall clock time:    74 s          \rstep 274600, remaining wall clock time:    74 s          \rstep 274700, remaining wall clock time:    74 s          \rstep 274800, remaining wall clock time:    74 s          \rstep 274900, remaining wall clock time:    74 s          \rstep 275000, remaining wall clock time:    74 s          \rstep 275100, remaining wall clock time:    74 s          \rstep 275200, remaining wall clock time:    74 s          \rstep 275300, remaining wall clock time:    74 s          \rstep 275400, remaining wall clock time:    74 s          \rstep 275500, remaining wall clock time:    74 s          \rstep 275600, remaining wall clock time:    74 s          \rstep 275700, remaining wall clock time:    74 s          \rstep 275800, remaining wall clock time:    74 s          \rstep 275900, remaining wall clock time:    74 s          \rstep 276000, remaining wall clock time:    74 s          \rstep 276100, remaining wall clock time:    74 s          \rstep 276200, remaining wall clock time:    74 s          \rstep 276300, remaining wall clock time:    73 s          \rstep 276400, remaining wall clock time:    73 s          \rstep 276500, remaining wall clock time:    73 s          \rstep 276600, remaining wall clock time:    73 s          \rstep 276700, remaining wall clock time:    73 s          \rstep 276800, remaining wall clock time:    73 s          \rstep 276900, remaining wall clock time:    73 s          \rstep 277000, remaining wall clock time:    73 s          \rstep 277100, remaining wall clock time:    73 s          \rstep 277200, remaining wall clock time:    73 s          \rstep 277300, remaining wall clock time:    73 s          \rstep 277400, remaining wall clock time:    73 s          \rstep 277500, remaining wall clock time:    73 s          \rstep 277600, remaining wall clock time:    73 s          \rstep 277700, remaining wall clock time:    73 s          \rstep 277800, remaining wall clock time:    73 s          \rstep 277900, remaining wall clock time:    73 s          \rstep 278000, remaining wall clock time:    73 s          \rstep 278100, remaining wall clock time:    73 s          \rstep 278200, remaining wall clock time:    73 s          \rstep 278300, remaining wall clock time:    73 s          \rstep 278400, remaining wall clock time:    73 s          \rstep 278500, remaining wall clock time:    73 s          \rstep 278600, remaining wall clock time:    73 s          \rstep 278700, remaining wall clock time:    73 s          \rstep 278800, remaining wall clock time:    73 s          \rstep 278900, remaining wall clock time:    73 s          \rstep 279000, remaining wall clock time:    73 s          \rstep 279100, remaining wall clock time:    73 s          \rstep 279200, remaining wall clock time:    72 s          \rstep 279300, remaining wall clock time:    72 s          \rstep 279400, remaining wall clock time:    72 s          \rstep 279500, remaining wall clock time:    72 s          \rstep 279600, remaining wall clock time:    72 s          \rstep 279700, remaining wall clock time:    72 s          \rstep 279800, remaining wall clock time:    72 s          \rstep 279900, remaining wall clock time:    72 s          \rstep 280000, remaining wall clock time:    72 s          \rstep 280100, remaining wall clock time:    72 s          \rstep 280200, remaining wall clock time:    72 s          \rstep 280300, remaining wall clock time:    72 s          \rstep 280400, remaining wall clock time:    72 s          \rstep 280500, remaining wall clock time:    72 s          \rstep 280600, remaining wall clock time:    72 s          \rstep 280700, remaining wall clock time:    72 s          \rstep 280800, remaining wall clock time:    72 s          \rstep 280900, remaining wall clock time:    72 s          \rstep 281000, remaining wall clock time:    72 s          \rstep 281100, remaining wall clock time:    72 s          \rstep 281200, remaining wall clock time:    72 s          \rstep 281300, remaining wall clock time:    72 s          \rstep 281400, remaining wall clock time:    72 s          \rstep 281500, remaining wall clock time:    72 s          \rstep 281600, remaining wall clock time:    72 s          \rstep 281700, remaining wall clock time:    72 s          \rstep 281800, remaining wall clock time:    72 s          \rstep 281900, remaining wall clock time:    72 s          \rstep 282000, remaining wall clock time:    72 s          \rstep 282100, remaining wall clock time:    72 s          \rstep 282200, remaining wall clock time:    71 s          \rstep 282300, remaining wall clock time:    71 s          \rstep 282400, remaining wall clock time:    71 s          \rstep 282500, remaining wall clock time:    71 s          \rstep 282600, remaining wall clock time:    71 s          \rstep 282700, remaining wall clock time:    71 s          \rstep 282800, remaining wall clock time:    71 s          \rstep 282900, remaining wall clock time:    71 s          \rstep 283000, remaining wall clock time:    71 s          \rstep 283100, remaining wall clock time:    71 s          \rstep 283200, remaining wall clock time:    71 s          \rstep 283300, remaining wall clock time:    71 s          \rstep 283400, remaining wall clock time:    71 s          \rstep 283500, remaining wall clock time:    71 s          \rstep 283600, remaining wall clock time:    71 s          \rstep 283700, remaining wall clock time:    71 s          \rstep 283800, remaining wall clock time:    71 s          \rstep 283900, remaining wall clock time:    71 s          \rstep 284000, remaining wall clock time:    71 s          \rstep 284100, remaining wall clock time:    71 s          \rstep 284200, remaining wall clock time:    71 s          \rstep 284300, remaining wall clock time:    71 s          \rstep 284400, remaining wall clock time:    71 s          \rstep 284500, remaining wall clock time:    71 s          \rstep 284600, remaining wall clock time:    71 s          \rstep 284700, remaining wall clock time:    71 s          \rstep 284800, remaining wall clock time:    71 s          \rstep 284900, remaining wall clock time:    71 s          \rstep 285000, remaining wall clock time:    71 s          \rstep 285100, remaining wall clock time:    70 s          \rstep 285200, remaining wall clock time:    70 s          \rstep 285300, remaining wall clock time:    70 s          \rstep 285400, remaining wall clock time:    70 s          \rstep 285500, remaining wall clock time:    70 s          \rstep 285600, remaining wall clock time:    70 s          \rstep 285700, remaining wall clock time:    70 s          \rstep 285800, remaining wall clock time:    70 s          \rstep 285900, remaining wall clock time:    70 s          \rstep 286000, remaining wall clock time:    70 s          \rstep 286100, remaining wall clock time:    70 s          \rstep 286200, remaining wall clock time:    70 s          \rstep 286300, remaining wall clock time:    70 s          \rstep 286400, remaining wall clock time:    70 s          \rstep 286500, remaining wall clock time:    70 s          \rstep 286600, remaining wall clock time:    70 s          \rstep 286700, remaining wall clock time:    70 s          \rstep 286800, remaining wall clock time:    70 s          \rstep 286900, remaining wall clock time:    70 s          \rstep 287000, remaining wall clock time:    70 s          \rstep 287100, remaining wall clock time:    70 s          \rstep 287200, remaining wall clock time:    70 s          \rstep 287300, remaining wall clock time:    70 s          \rstep 287400, remaining wall clock time:    70 s          \rstep 287500, remaining wall clock time:    70 s          \rstep 287600, remaining wall clock time:    70 s          \rstep 287700, remaining wall clock time:    70 s          \rstep 287800, remaining wall clock time:    70 s          \rstep 287900, remaining wall clock time:    70 s          \rstep 288000, remaining wall clock time:    70 s          \rstep 288100, remaining wall clock time:    69 s          \rstep 288200, remaining wall clock time:    69 s          \rstep 288300, remaining wall clock time:    69 s          \rstep 288400, remaining wall clock time:    69 s          \rstep 288500, remaining wall clock time:    69 s          \rstep 288600, remaining wall clock time:    69 s          \rstep 288700, remaining wall clock time:    69 s          \rstep 288800, remaining wall clock time:    69 s          \rstep 288900, remaining wall clock time:    69 s          \rstep 289000, remaining wall clock time:    69 s          \rstep 289100, remaining wall clock time:    69 s          \rstep 289200, remaining wall clock time:    69 s          \rstep 289300, remaining wall clock time:    69 s          \rstep 289400, remaining wall clock time:    69 s          \rstep 289500, remaining wall clock time:    69 s          \rstep 289600, remaining wall clock time:    69 s          \rstep 289700, remaining wall clock time:    69 s          \rstep 289800, remaining wall clock time:    69 s          \rstep 289900, remaining wall clock time:    69 s          \rstep 290000, remaining wall clock time:    69 s          \rstep 290100, remaining wall clock time:    69 s          \rstep 290200, remaining wall clock time:    69 s          \rstep 290300, remaining wall clock time:    69 s          \rstep 290400, remaining wall clock time:    69 s          \rstep 290500, remaining wall clock time:    69 s          \rstep 290600, remaining wall clock time:    69 s          \rstep 290700, remaining wall clock time:    69 s          \rstep 290800, remaining wall clock time:    69 s          \rstep 290900, remaining wall clock time:    69 s          \rstep 291000, remaining wall clock time:    69 s          \rstep 291100, remaining wall clock time:    69 s          \rstep 291200, remaining wall clock time:    69 s          \rstep 291300, remaining wall clock time:    69 s          \rstep 291400, remaining wall clock time:    69 s          \rstep 291500, remaining wall clock time:    69 s          \rstep 291600, remaining wall clock time:    69 s          \rstep 291700, remaining wall clock time:    69 s          \rstep 291800, remaining wall clock time:    69 s          \rstep 291900, remaining wall clock time:    69 s          \rstep 292000, remaining wall clock time:    69 s          \rstep 292100, remaining wall clock time:    69 s          \rstep 292200, remaining wall clock time:    69 s          \rstep 292300, remaining wall clock time:    69 s          \rstep 292400, remaining wall clock time:    69 s          \rstep 292500, remaining wall clock time:    69 s          \rstep 292600, remaining wall clock time:    69 s          \rstep 292700, remaining wall clock time:    69 s          \rstep 292800, remaining wall clock time:    69 s          \rstep 292900, remaining wall clock time:    69 s          \rstep 293000, remaining wall clock time:    69 s          \rstep 293100, remaining wall clock time:    69 s          \rstep 293200, remaining wall clock time:    69 s          \rstep 293300, remaining wall clock time:    69 s          \rstep 293400, remaining wall clock time:    69 s          \rstep 293500, remaining wall clock time:    69 s          \rstep 293600, remaining wall clock time:    69 s          \rstep 293700, remaining wall clock time:    69 s          \rstep 293800, remaining wall clock time:    69 s          \rstep 293900, remaining wall clock time:    69 s          \rstep 294000, remaining wall clock time:    69 s          \rstep 294100, remaining wall clock time:    69 s          \rstep 294200, remaining wall clock time:    69 s          \rstep 294300, remaining wall clock time:    69 s          \rstep 294400, remaining wall clock time:    69 s          \rstep 294500, remaining wall clock time:    69 s          \rstep 294600, remaining wall clock time:    69 s          \rstep 294700, remaining wall clock time:    69 s          \rstep 294800, remaining wall clock time:    69 s          \rstep 294900, remaining wall clock time:    69 s          \rstep 295000, remaining wall clock time:    69 s          \rstep 295100, remaining wall clock time:    69 s          \rstep 295200, remaining wall clock time:    69 s          \rstep 295300, remaining wall clock time:    69 s          \rstep 295400, remaining wall clock time:    69 s          \rstep 295500, remaining wall clock time:    69 s          \rstep 295600, remaining wall clock time:    69 s          \rstep 295700, remaining wall clock time:    69 s          \rstep 295800, remaining wall clock time:    69 s          \rstep 295900, remaining wall clock time:    69 s          \rstep 296000, remaining wall clock time:    69 s          \rstep 296100, remaining wall clock time:    69 s          \rstep 296200, remaining wall clock time:    69 s          \rstep 296300, remaining wall clock time:    69 s          \rstep 296400, remaining wall clock time:    69 s          \rstep 296500, remaining wall clock time:    69 s          \rstep 296600, remaining wall clock time:    69 s          \rstep 296700, remaining wall clock time:    68 s          \rstep 296800, remaining wall clock time:    68 s          \rstep 296900, remaining wall clock time:    68 s          \rstep 297000, remaining wall clock time:    68 s          \rstep 297100, remaining wall clock time:    68 s          \rstep 297200, remaining wall clock time:    68 s          \rstep 297300, remaining wall clock time:    68 s          \rstep 297400, remaining wall clock time:    68 s          \rstep 297500, remaining wall clock time:    68 s          \rstep 297600, remaining wall clock time:    68 s          \rstep 297700, remaining wall clock time:    68 s          \rstep 297800, remaining wall clock time:    68 s          \rstep 297900, remaining wall clock time:    68 s          \rstep 298000, remaining wall clock time:    68 s          \rstep 298100, remaining wall clock time:    68 s          \rstep 298200, remaining wall clock time:    68 s          \rstep 298300, remaining wall clock time:    68 s          \rstep 298400, remaining wall clock time:    68 s          \rstep 298500, remaining wall clock time:    68 s          \rstep 298600, remaining wall clock time:    68 s          \rstep 298700, remaining wall clock time:    68 s          \rstep 298800, remaining wall clock time:    68 s          \rstep 298900, remaining wall clock time:    68 s          \rstep 299000, remaining wall clock time:    68 s          \rstep 299100, remaining wall clock time:    68 s          \rstep 299200, remaining wall clock time:    68 s          \rstep 299300, remaining wall clock time:    68 s          \rstep 299400, remaining wall clock time:    68 s          \rstep 299500, remaining wall clock time:    67 s          \rstep 299600, remaining wall clock time:    67 s          \rstep 299700, remaining wall clock time:    67 s          \rstep 299800, remaining wall clock time:    67 s          \rstep 299900, remaining wall clock time:    67 s          \rstep 300000, remaining wall clock time:    67 s          \rstep 300100, remaining wall clock time:    67 s          \rstep 300200, remaining wall clock time:    67 s          \rstep 300300, remaining wall clock time:    67 s          \rstep 300400, remaining wall clock time:    67 s          \rstep 300500, remaining wall clock time:    67 s          \rstep 300600, remaining wall clock time:    67 s          \rstep 300700, remaining wall clock time:    67 s          \rstep 300800, remaining wall clock time:    67 s          \rstep 300900, remaining wall clock time:    67 s          \rstep 301000, remaining wall clock time:    67 s          \rstep 301100, remaining wall clock time:    67 s          \rstep 301200, remaining wall clock time:    67 s          \rstep 301300, remaining wall clock time:    67 s          \rstep 301400, remaining wall clock time:    67 s          \rstep 301500, remaining wall clock time:    67 s          \rstep 301600, remaining wall clock time:    67 s          \rstep 301700, remaining wall clock time:    67 s          \rstep 301800, remaining wall clock time:    67 s          \rstep 301900, remaining wall clock time:    67 s          \rstep 302000, remaining wall clock time:    67 s          \rstep 302100, remaining wall clock time:    67 s          \rstep 302200, remaining wall clock time:    67 s          \rstep 302300, remaining wall clock time:    67 s          \rstep 302400, remaining wall clock time:    66 s          \rstep 302500, remaining wall clock time:    66 s          \rstep 302600, remaining wall clock time:    66 s          \rstep 302700, remaining wall clock time:    66 s          \rstep 302800, remaining wall clock time:    66 s          \rstep 302900, remaining wall clock time:    66 s          \rstep 303000, remaining wall clock time:    66 s          \rstep 303100, remaining wall clock time:    66 s          \rstep 303200, remaining wall clock time:    66 s          \rstep 303300, remaining wall clock time:    66 s          \rstep 303400, remaining wall clock time:    66 s          \rstep 303500, remaining wall clock time:    66 s          \rstep 303600, remaining wall clock time:    66 s          \rstep 303700, remaining wall clock time:    66 s          \rstep 303800, remaining wall clock time:    66 s          \rstep 303900, remaining wall clock time:    66 s          \rstep 304000, remaining wall clock time:    66 s          \rstep 304100, remaining wall clock time:    66 s          \rstep 304200, remaining wall clock time:    66 s          \rstep 304300, remaining wall clock time:    66 s          \rstep 304400, remaining wall clock time:    66 s          \rstep 304500, remaining wall clock time:    66 s          \rstep 304600, remaining wall clock time:    66 s          \rstep 304700, remaining wall clock time:    66 s          \rstep 304800, remaining wall clock time:    66 s          \rstep 304900, remaining wall clock time:    66 s          \rstep 305000, remaining wall clock time:    66 s          \rstep 305100, remaining wall clock time:    66 s          \rstep 305200, remaining wall clock time:    65 s          \rstep 305300, remaining wall clock time:    65 s          \rstep 305400, remaining wall clock time:    65 s          \rstep 305500, remaining wall clock time:    65 s          \rstep 305600, remaining wall clock time:    65 s          \rstep 305700, remaining wall clock time:    65 s          \rstep 305800, remaining wall clock time:    65 s          \rstep 305900, remaining wall clock time:    65 s          \rstep 306000, remaining wall clock time:    65 s          \rstep 306100, remaining wall clock time:    65 s          \rstep 306200, remaining wall clock time:    65 s          \rstep 306300, remaining wall clock time:    65 s          \rstep 306400, remaining wall clock time:    65 s          \rstep 306500, remaining wall clock time:    65 s          \rstep 306600, remaining wall clock time:    65 s          \rstep 306700, remaining wall clock time:    65 s          \rstep 306800, remaining wall clock time:    65 s          \rstep 306900, remaining wall clock time:    65 s          \rstep 307000, remaining wall clock time:    65 s          \rstep 307100, remaining wall clock time:    65 s          \rstep 307200, remaining wall clock time:    65 s          \rstep 307300, remaining wall clock time:    65 s          \rstep 307400, remaining wall clock time:    65 s          \rstep 307500, remaining wall clock time:    65 s          \rstep 307600, remaining wall clock time:    65 s          \rstep 307700, remaining wall clock time:    65 s          \rstep 307800, remaining wall clock time:    65 s          \rstep 307900, remaining wall clock time:    65 s          \rstep 308000, remaining wall clock time:    64 s          \rstep 308100, remaining wall clock time:    64 s          \rstep 308200, remaining wall clock time:    64 s          \rstep 308300, remaining wall clock time:    64 s          \rstep 308400, remaining wall clock time:    64 s          \rstep 308500, remaining wall clock time:    64 s          \rstep 308600, remaining wall clock time:    64 s          \rstep 308700, remaining wall clock time:    64 s          \rstep 308800, remaining wall clock time:    64 s          \rstep 308900, remaining wall clock time:    64 s          \rstep 309000, remaining wall clock time:    64 s          \rstep 309100, remaining wall clock time:    64 s          \rstep 309200, remaining wall clock time:    64 s          \rstep 309300, remaining wall clock time:    64 s          \rstep 309400, remaining wall clock time:    64 s          \rstep 309500, remaining wall clock time:    64 s          \rstep 309600, remaining wall clock time:    64 s          \rstep 309700, remaining wall clock time:    64 s          \rstep 309800, remaining wall clock time:    64 s          \rstep 309900, remaining wall clock time:    64 s          \rstep 310000, remaining wall clock time:    64 s          \rstep 310100, remaining wall clock time:    64 s          \rstep 310200, remaining wall clock time:    64 s          \rstep 310300, remaining wall clock time:    64 s          \rstep 310400, remaining wall clock time:    64 s          \rstep 310500, remaining wall clock time:    64 s          \rstep 310600, remaining wall clock time:    64 s          \rstep 310700, remaining wall clock time:    64 s          \rstep 310800, remaining wall clock time:    63 s          \rstep 310900, remaining wall clock time:    63 s          \rstep 311000, remaining wall clock time:    63 s          \rstep 311100, remaining wall clock time:    63 s          \rstep 311200, remaining wall clock time:    63 s          \rstep 311300, remaining wall clock time:    63 s          \rstep 311400, remaining wall clock time:    63 s          \rstep 311500, remaining wall clock time:    63 s          \rstep 311600, remaining wall clock time:    63 s          \rstep 311700, remaining wall clock time:    63 s          \rstep 311800, remaining wall clock time:    63 s          \rstep 311900, remaining wall clock time:    63 s          \rstep 312000, remaining wall clock time:    63 s          \rstep 312100, remaining wall clock time:    63 s          \rstep 312200, remaining wall clock time:    63 s          \rstep 312300, remaining wall clock time:    63 s          \rstep 312400, remaining wall clock time:    63 s          \rstep 312500, remaining wall clock time:    63 s          \rstep 312600, remaining wall clock time:    63 s          \rstep 312700, remaining wall clock time:    63 s          \rstep 312800, remaining wall clock time:    63 s          \rstep 312900, remaining wall clock time:    63 s          \rstep 313000, remaining wall clock time:    63 s          \rstep 313100, remaining wall clock time:    63 s          \rstep 313200, remaining wall clock time:    63 s          \rstep 313300, remaining wall clock time:    63 s          \rstep 313400, remaining wall clock time:    63 s          \rstep 313500, remaining wall clock time:    63 s          \rstep 313600, remaining wall clock time:    63 s          \rstep 313700, remaining wall clock time:    62 s          \rstep 313800, remaining wall clock time:    62 s          \rstep 313900, remaining wall clock time:    62 s          \rstep 314000, remaining wall clock time:    62 s          \rstep 314100, remaining wall clock time:    62 s          \rstep 314200, remaining wall clock time:    62 s          \rstep 314300, remaining wall clock time:    62 s          \rstep 314400, remaining wall clock time:    62 s          \rstep 314500, remaining wall clock time:    62 s          \rstep 314600, remaining wall clock time:    62 s          \rstep 314700, remaining wall clock time:    62 s          \rstep 314800, remaining wall clock time:    62 s          \rstep 314900, remaining wall clock time:    62 s          \rstep 315000, remaining wall clock time:    62 s          \rstep 315100, remaining wall clock time:    62 s          \rstep 315200, remaining wall clock time:    62 s          \rstep 315300, remaining wall clock time:    62 s          \rstep 315400, remaining wall clock time:    62 s          \rstep 315500, remaining wall clock time:    62 s          \rstep 315600, remaining wall clock time:    62 s          \rstep 315700, remaining wall clock time:    62 s          \rstep 315800, remaining wall clock time:    62 s          \rstep 315900, remaining wall clock time:    62 s          \rstep 316000, remaining wall clock time:    62 s          \rstep 316100, remaining wall clock time:    62 s          \rstep 316200, remaining wall clock time:    62 s          \rstep 316300, remaining wall clock time:    62 s          \rstep 316400, remaining wall clock time:    62 s          \rstep 316500, remaining wall clock time:    61 s          \rstep 316600, remaining wall clock time:    61 s          \rstep 316700, remaining wall clock time:    61 s          \rstep 316800, remaining wall clock time:    61 s          \rstep 316900, remaining wall clock time:    61 s          \rstep 317000, remaining wall clock time:    61 s          \rstep 317100, remaining wall clock time:    61 s          \rstep 317200, remaining wall clock time:    61 s          \rstep 317300, remaining wall clock time:    61 s          \rstep 317400, remaining wall clock time:    61 s          \rstep 317500, remaining wall clock time:    61 s          \rstep 317600, remaining wall clock time:    61 s          \rstep 317700, remaining wall clock time:    61 s          \rstep 317800, remaining wall clock time:    61 s          \rstep 317900, remaining wall clock time:    61 s          \rstep 318000, remaining wall clock time:    61 s          \rstep 318100, remaining wall clock time:    61 s          \rstep 318200, remaining wall clock time:    61 s          \rstep 318300, remaining wall clock time:    61 s          \rstep 318400, remaining wall clock time:    61 s          \rstep 318500, remaining wall clock time:    61 s          \rstep 318600, remaining wall clock time:    61 s          \rstep 318700, remaining wall clock time:    61 s          \rstep 318800, remaining wall clock time:    61 s          \rstep 318900, remaining wall clock time:    61 s          \rstep 319000, remaining wall clock time:    61 s          \rstep 319100, remaining wall clock time:    61 s          \rstep 319200, remaining wall clock time:    61 s          \rstep 319300, remaining wall clock time:    61 s          \rstep 319400, remaining wall clock time:    60 s          \rstep 319500, remaining wall clock time:    60 s          \rstep 319600, remaining wall clock time:    60 s          \rstep 319700, remaining wall clock time:    60 s          \rstep 319800, remaining wall clock time:    60 s          \rstep 319900, remaining wall clock time:    60 s          \rstep 320000, remaining wall clock time:    60 s          \rstep 320100, remaining wall clock time:    60 s          \rstep 320200, remaining wall clock time:    60 s          \rstep 320300, remaining wall clock time:    60 s          \rstep 320400, remaining wall clock time:    60 s          \rstep 320500, remaining wall clock time:    60 s          \rstep 320600, remaining wall clock time:    60 s          \rstep 320700, remaining wall clock time:    60 s          \rstep 320800, remaining wall clock time:    60 s          \rstep 320900, remaining wall clock time:    60 s          \rstep 321000, remaining wall clock time:    60 s          \rstep 321100, remaining wall clock time:    60 s          \rstep 321200, remaining wall clock time:    60 s          \rstep 321300, remaining wall clock time:    60 s          \rstep 321400, remaining wall clock time:    60 s          \rstep 321500, remaining wall clock time:    60 s          \rstep 321600, remaining wall clock time:    60 s          \rstep 321700, remaining wall clock time:    60 s          \rstep 321800, remaining wall clock time:    60 s          \rstep 321900, remaining wall clock time:    60 s          \rstep 322000, remaining wall clock time:    60 s          \rstep 322100, remaining wall clock time:    60 s          \rstep 322200, remaining wall clock time:    60 s          \rstep 322300, remaining wall clock time:    59 s          \rstep 322400, remaining wall clock time:    59 s          \rstep 322500, remaining wall clock time:    59 s          \rstep 322600, remaining wall clock time:    59 s          \rstep 322700, remaining wall clock time:    59 s          \rstep 322800, remaining wall clock time:    59 s          \rstep 322900, remaining wall clock time:    59 s          \rstep 323000, remaining wall clock time:    59 s          \rstep 323100, remaining wall clock time:    59 s          \rstep 323200, remaining wall clock time:    59 s          \rstep 323300, remaining wall clock time:    59 s          \rstep 323400, remaining wall clock time:    59 s          \rstep 323500, remaining wall clock time:    59 s          \rstep 323600, remaining wall clock time:    59 s          \rstep 323700, remaining wall clock time:    59 s          \rstep 323800, remaining wall clock time:    59 s          \rstep 323900, remaining wall clock time:    59 s          \rstep 324000, remaining wall clock time:    59 s          \rstep 324100, remaining wall clock time:    59 s          \rstep 324200, remaining wall clock time:    59 s          \rstep 324300, remaining wall clock time:    59 s          \rstep 324400, remaining wall clock time:    59 s          \rstep 324500, remaining wall clock time:    59 s          \rstep 324600, remaining wall clock time:    59 s          \rstep 324700, remaining wall clock time:    59 s          \rstep 324800, remaining wall clock time:    59 s          \rstep 324900, remaining wall clock time:    59 s          \rstep 325000, remaining wall clock time:    59 s          \rstep 325100, remaining wall clock time:    58 s          \rstep 325200, remaining wall clock time:    58 s          \rstep 325300, remaining wall clock time:    58 s          \rstep 325400, remaining wall clock time:    58 s          \rstep 325500, remaining wall clock time:    58 s          \rstep 325600, remaining wall clock time:    58 s          \rstep 325700, remaining wall clock time:    58 s          \rstep 325800, remaining wall clock time:    58 s          \rstep 325900, remaining wall clock time:    58 s          \rstep 326000, remaining wall clock time:    58 s          \rstep 326100, remaining wall clock time:    58 s          \rstep 326200, remaining wall clock time:    58 s          \rstep 326300, remaining wall clock time:    58 s          \rstep 326400, remaining wall clock time:    58 s          \rstep 326500, remaining wall clock time:    58 s          \rstep 326600, remaining wall clock time:    58 s          \rstep 326700, remaining wall clock time:    58 s          \rstep 326800, remaining wall clock time:    58 s          \rstep 326900, remaining wall clock time:    58 s          \rstep 327000, remaining wall clock time:    58 s          \rstep 327100, remaining wall clock time:    58 s          \rstep 327200, remaining wall clock time:    58 s          \rstep 327300, remaining wall clock time:    58 s          \rstep 327400, remaining wall clock time:    58 s          \rstep 327500, remaining wall clock time:    58 s          \rstep 327600, remaining wall clock time:    58 s          \rstep 327700, remaining wall clock time:    58 s          \rstep 327800, remaining wall clock time:    58 s          \rstep 327900, remaining wall clock time:    58 s          \rstep 328000, remaining wall clock time:    57 s          \rstep 328100, remaining wall clock time:    57 s          \rstep 328200, remaining wall clock time:    57 s          \rstep 328300, remaining wall clock time:    57 s          \rstep 328400, remaining wall clock time:    57 s          \rstep 328500, remaining wall clock time:    57 s          \rstep 328600, remaining wall clock time:    57 s          \rstep 328700, remaining wall clock time:    57 s          \rstep 328800, remaining wall clock time:    57 s          \rstep 328900, remaining wall clock time:    57 s          \rstep 329000, remaining wall clock time:    57 s          \rstep 329100, remaining wall clock time:    57 s          \rstep 329200, remaining wall clock time:    57 s          \rstep 329300, remaining wall clock time:    57 s          \rstep 329400, remaining wall clock time:    57 s          \rstep 329500, remaining wall clock time:    57 s          \rstep 329600, remaining wall clock time:    57 s          \rstep 329700, remaining wall clock time:    57 s          \rstep 329800, remaining wall clock time:    57 s          \rstep 329900, remaining wall clock time:    57 s          \rstep 330000, remaining wall clock time:    57 s          \rstep 330100, remaining wall clock time:    57 s          \rstep 330200, remaining wall clock time:    57 s          \rstep 330300, remaining wall clock time:    57 s          \rstep 330400, remaining wall clock time:    57 s          \rstep 330500, remaining wall clock time:    57 s          \rstep 330600, remaining wall clock time:    57 s          \rstep 330700, remaining wall clock time:    57 s          \rstep 330800, remaining wall clock time:    56 s          \rstep 330900, remaining wall clock time:    56 s          \rstep 331000, remaining wall clock time:    56 s          \rstep 331100, remaining wall clock time:    56 s          \rstep 331200, remaining wall clock time:    56 s          \rstep 331300, remaining wall clock time:    56 s          \rstep 331400, remaining wall clock time:    56 s          \rstep 331500, remaining wall clock time:    56 s          \rstep 331600, remaining wall clock time:    56 s          \rstep 331700, remaining wall clock time:    56 s          \rstep 331800, remaining wall clock time:    56 s          \rstep 331900, remaining wall clock time:    56 s          \rstep 332000, remaining wall clock time:    56 s          \rstep 332100, remaining wall clock time:    56 s          \rstep 332200, remaining wall clock time:    56 s          \rstep 332300, remaining wall clock time:    56 s          \rstep 332400, remaining wall clock time:    56 s          \rstep 332500, remaining wall clock time:    56 s          \rstep 332600, remaining wall clock time:    56 s          \rstep 332700, remaining wall clock time:    56 s          \rstep 332800, remaining wall clock time:    56 s          \rstep 332900, remaining wall clock time:    56 s          \rstep 333000, remaining wall clock time:    56 s          \rstep 333100, remaining wall clock time:    56 s          \rstep 333200, remaining wall clock time:    56 s          \rstep 333300, remaining wall clock time:    56 s          \rstep 333400, remaining wall clock time:    56 s          \rstep 333500, remaining wall clock time:    56 s          \rstep 333600, remaining wall clock time:    56 s          \rstep 333700, remaining wall clock time:    55 s          \rstep 333800, remaining wall clock time:    55 s          \rstep 333900, remaining wall clock time:    55 s          \rstep 334000, remaining wall clock time:    55 s          \rstep 334100, remaining wall clock time:    55 s          \rstep 334200, remaining wall clock time:    55 s          \rstep 334300, remaining wall clock time:    55 s          \rstep 334400, remaining wall clock time:    55 s          \rstep 334500, remaining wall clock time:    55 s          \rstep 334600, remaining wall clock time:    55 s          \rstep 334700, remaining wall clock time:    55 s          \rstep 334800, remaining wall clock time:    55 s          \rstep 334900, remaining wall clock time:    55 s          \rstep 335000, remaining wall clock time:    55 s          \rstep 335100, remaining wall clock time:    55 s          \rstep 335200, remaining wall clock time:    55 s          \rstep 335300, remaining wall clock time:    55 s          \rstep 335400, remaining wall clock time:    55 s          \rstep 335500, remaining wall clock time:    55 s          \rstep 335600, remaining wall clock time:    55 s          \rstep 335700, remaining wall clock time:    55 s          \rstep 335800, remaining wall clock time:    55 s          \rstep 335900, remaining wall clock time:    55 s          \rstep 336000, remaining wall clock time:    55 s          \rstep 336100, remaining wall clock time:    55 s          \rstep 336200, remaining wall clock time:    55 s          \rstep 336300, remaining wall clock time:    55 s          \rstep 336400, remaining wall clock time:    55 s          \rstep 336500, remaining wall clock time:    55 s          \rstep 336600, remaining wall clock time:    54 s          \rstep 336700, remaining wall clock time:    54 s          \rstep 336800, remaining wall clock time:    54 s          \rstep 336900, remaining wall clock time:    54 s          \rstep 337000, remaining wall clock time:    54 s          \rstep 337100, remaining wall clock time:    54 s          \rstep 337200, remaining wall clock time:    54 s          \rstep 337300, remaining wall clock time:    54 s          \rstep 337400, remaining wall clock time:    54 s          \rstep 337500, remaining wall clock time:    54 s          \rstep 337600, remaining wall clock time:    54 s          \rstep 337700, remaining wall clock time:    54 s          \rstep 337800, remaining wall clock time:    54 s          \rstep 337900, remaining wall clock time:    54 s          \rstep 338000, remaining wall clock time:    54 s          \rstep 338100, remaining wall clock time:    54 s          \rstep 338200, remaining wall clock time:    54 s          \rstep 338300, remaining wall clock time:    54 s          \rstep 338400, remaining wall clock time:    54 s          \rstep 338500, remaining wall clock time:    54 s          \rstep 338600, remaining wall clock time:    54 s          \rstep 338700, remaining wall clock time:    54 s          \rstep 338800, remaining wall clock time:    54 s          \rstep 338900, remaining wall clock time:    54 s          \rstep 339000, remaining wall clock time:    54 s          \rstep 339100, remaining wall clock time:    54 s          \rstep 339200, remaining wall clock time:    54 s          \rstep 339300, remaining wall clock time:    54 s          \rstep 339400, remaining wall clock time:    54 s          \rstep 339500, remaining wall clock time:    53 s          \rstep 339600, remaining wall clock time:    53 s          \rstep 339700, remaining wall clock time:    53 s          \rstep 339800, remaining wall clock time:    53 s          \rstep 339900, remaining wall clock time:    53 s          \rstep 340000, remaining wall clock time:    53 s          \rstep 340100, remaining wall clock time:    53 s          \rstep 340200, remaining wall clock time:    53 s          \rstep 340300, remaining wall clock time:    53 s          \rstep 340400, remaining wall clock time:    53 s          \rstep 340500, remaining wall clock time:    53 s          \rstep 340600, remaining wall clock time:    53 s          \rstep 340700, remaining wall clock time:    53 s          \rstep 340800, remaining wall clock time:    53 s          \rstep 340900, remaining wall clock time:    53 s          \rstep 341000, remaining wall clock time:    53 s          \rstep 341100, remaining wall clock time:    53 s          \rstep 341200, remaining wall clock time:    53 s          \rstep 341300, remaining wall clock time:    53 s          \rstep 341400, remaining wall clock time:    53 s          \rstep 341500, remaining wall clock time:    53 s          \rstep 341600, remaining wall clock time:    53 s          \rstep 341700, remaining wall clock time:    53 s          \rstep 341800, remaining wall clock time:    53 s          \rstep 341900, remaining wall clock time:    53 s          \rstep 342000, remaining wall clock time:    53 s          \rstep 342100, remaining wall clock time:    53 s          \rstep 342200, remaining wall clock time:    53 s          \rstep 342300, remaining wall clock time:    53 s          \rstep 342400, remaining wall clock time:    52 s          \rstep 342500, remaining wall clock time:    52 s          \rstep 342600, remaining wall clock time:    52 s          \rstep 342700, remaining wall clock time:    52 s          \rstep 342800, remaining wall clock time:    52 s          \rstep 342900, remaining wall clock time:    52 s          \rstep 343000, remaining wall clock time:    52 s          \rstep 343100, remaining wall clock time:    52 s          \rstep 343200, remaining wall clock time:    52 s          \rstep 343300, remaining wall clock time:    52 s          \rstep 343400, remaining wall clock time:    52 s          \rstep 343500, remaining wall clock time:    52 s          \rstep 343600, remaining wall clock time:    52 s          \rstep 343700, remaining wall clock time:    52 s          \rstep 343800, remaining wall clock time:    52 s          \rstep 343900, remaining wall clock time:    52 s          \rstep 344000, remaining wall clock time:    52 s          \rstep 344100, remaining wall clock time:    52 s          \rstep 344200, remaining wall clock time:    52 s          \rstep 344300, remaining wall clock time:    52 s          \rstep 344400, remaining wall clock time:    52 s          \rstep 344500, remaining wall clock time:    52 s          \rstep 344600, remaining wall clock time:    52 s          \rstep 344700, remaining wall clock time:    52 s          \rstep 344800, remaining wall clock time:    52 s          \rstep 344900, remaining wall clock time:    52 s          \rstep 345000, remaining wall clock time:    52 s          \rstep 345100, remaining wall clock time:    52 s          \rstep 345200, remaining wall clock time:    52 s          \rstep 345300, remaining wall clock time:    51 s          \rstep 345400, remaining wall clock time:    51 s          \rstep 345500, remaining wall clock time:    51 s          \rstep 345600, remaining wall clock time:    51 s          \rstep 345700, remaining wall clock time:    51 s          \rstep 345800, remaining wall clock time:    51 s          \rstep 345900, remaining wall clock time:    51 s          \rstep 346000, remaining wall clock time:    51 s          \rstep 346100, remaining wall clock time:    51 s          \rstep 346200, remaining wall clock time:    51 s          \rstep 346300, remaining wall clock time:    51 s          \rstep 346400, remaining wall clock time:    51 s          \rstep 346500, remaining wall clock time:    51 s          \rstep 346600, remaining wall clock time:    51 s          \rstep 346700, remaining wall clock time:    51 s          \rstep 346800, remaining wall clock time:    51 s          \rstep 346900, remaining wall clock time:    51 s          \rstep 347000, remaining wall clock time:    51 s          \rstep 347100, remaining wall clock time:    51 s          \rstep 347200, remaining wall clock time:    51 s          \rstep 347300, remaining wall clock time:    51 s          \rstep 347400, remaining wall clock time:    51 s          \rstep 347500, remaining wall clock time:    51 s          \rstep 347600, remaining wall clock time:    51 s          \rstep 347700, remaining wall clock time:    51 s          \rstep 347800, remaining wall clock time:    51 s          \rstep 347900, remaining wall clock time:    51 s          \rstep 348000, remaining wall clock time:    51 s          \rstep 348100, remaining wall clock time:    51 s          \rstep 348200, remaining wall clock time:    50 s          \rstep 348300, remaining wall clock time:    50 s          \rstep 348400, remaining wall clock time:    50 s          \rstep 348500, remaining wall clock time:    50 s          \rstep 348600, remaining wall clock time:    50 s          \rstep 348700, remaining wall clock time:    50 s          \rstep 348800, remaining wall clock time:    50 s          \rstep 348900, remaining wall clock time:    50 s          \rstep 349000, remaining wall clock time:    50 s          \rstep 349100, remaining wall clock time:    50 s          \rstep 349200, remaining wall clock time:    50 s          \rstep 349300, remaining wall clock time:    50 s          \rstep 349400, remaining wall clock time:    50 s          \rstep 349500, remaining wall clock time:    50 s          \rstep 349600, remaining wall clock time:    50 s          \rstep 349700, remaining wall clock time:    50 s          \rstep 349800, remaining wall clock time:    50 s          \rstep 349900, remaining wall clock time:    50 s          \rstep 350000, remaining wall clock time:    50 s          \rstep 350100, remaining wall clock time:    50 s          \rstep 350200, remaining wall clock time:    50 s          \rstep 350300, remaining wall clock time:    50 s          \rstep 350400, remaining wall clock time:    50 s          \rstep 350500, remaining wall clock time:    50 s          \rstep 350600, remaining wall clock time:    50 s          \rstep 350700, remaining wall clock time:    50 s          \rstep 350800, remaining wall clock time:    50 s          \rstep 350900, remaining wall clock time:    50 s          \rstep 351000, remaining wall clock time:    50 s          \rstep 351100, remaining wall clock time:    49 s          \rstep 351200, remaining wall clock time:    49 s          \rstep 351300, remaining wall clock time:    49 s          \rstep 351400, remaining wall clock time:    49 s          \rstep 351500, remaining wall clock time:    49 s          \rstep 351600, remaining wall clock time:    49 s          \rstep 351700, remaining wall clock time:    49 s          \rstep 351800, remaining wall clock time:    49 s          \rstep 351900, remaining wall clock time:    49 s          \rstep 352000, remaining wall clock time:    49 s          \rstep 352100, remaining wall clock time:    49 s          \rstep 352200, remaining wall clock time:    49 s          \rstep 352300, remaining wall clock time:    49 s          \rstep 352400, remaining wall clock time:    49 s          \rstep 352500, remaining wall clock time:    49 s          \rstep 352600, remaining wall clock time:    49 s          \rstep 352700, remaining wall clock time:    49 s          \rstep 352800, remaining wall clock time:    49 s          \rstep 352900, remaining wall clock time:    49 s          \rstep 353000, remaining wall clock time:    49 s          \rstep 353100, remaining wall clock time:    49 s          \rstep 353200, remaining wall clock time:    49 s          \rstep 353300, remaining wall clock time:    49 s          \rstep 353400, remaining wall clock time:    49 s          \rstep 353500, remaining wall clock time:    49 s          \rstep 353600, remaining wall clock time:    49 s          \rstep 353700, remaining wall clock time:    49 s          \rstep 353800, remaining wall clock time:    49 s          \rstep 353900, remaining wall clock time:    49 s          \rstep 354000, remaining wall clock time:    48 s          \rstep 354100, remaining wall clock time:    48 s          \rstep 354200, remaining wall clock time:    48 s          \rstep 354300, remaining wall clock time:    48 s          \rstep 354400, remaining wall clock time:    48 s          \rstep 354500, remaining wall clock time:    48 s          \rstep 354600, remaining wall clock time:    48 s          \rstep 354700, remaining wall clock time:    48 s          \rstep 354800, remaining wall clock time:    48 s          \rstep 354900, remaining wall clock time:    48 s          \rstep 355000, remaining wall clock time:    48 s          \rstep 355100, remaining wall clock time:    48 s          \rstep 355200, remaining wall clock time:    48 s          \rstep 355300, remaining wall clock time:    48 s          \rstep 355400, remaining wall clock time:    48 s          \rstep 355500, remaining wall clock time:    48 s          \rstep 355600, remaining wall clock time:    48 s          \rstep 355700, remaining wall clock time:    48 s          \rstep 355800, remaining wall clock time:    48 s          \rstep 355900, remaining wall clock time:    48 s          \rstep 356000, remaining wall clock time:    48 s          \rstep 356100, remaining wall clock time:    48 s          \rstep 356200, remaining wall clock time:    48 s          \rstep 356300, remaining wall clock time:    48 s          \rstep 356400, remaining wall clock time:    48 s          \rstep 356500, remaining wall clock time:    48 s          \rstep 356600, remaining wall clock time:    48 s          \rstep 356700, remaining wall clock time:    48 s          \rstep 356800, remaining wall clock time:    48 s          \rstep 356900, remaining wall clock time:    47 s          \rstep 357000, remaining wall clock time:    47 s          \rstep 357100, remaining wall clock time:    47 s          \rstep 357200, remaining wall clock time:    47 s          \rstep 357300, remaining wall clock time:    47 s          \rstep 357400, remaining wall clock time:    47 s          \rstep 357500, remaining wall clock time:    47 s          \rstep 357600, remaining wall clock time:    47 s          \rstep 357700, remaining wall clock time:    47 s          \rstep 357800, remaining wall clock time:    47 s          \rstep 357900, remaining wall clock time:    47 s          \rstep 358000, remaining wall clock time:    47 s          \rstep 358100, remaining wall clock time:    47 s          \rstep 358200, remaining wall clock time:    47 s          \rstep 358300, remaining wall clock time:    47 s          \rstep 358400, remaining wall clock time:    47 s          \rstep 358500, remaining wall clock time:    47 s          \rstep 358600, remaining wall clock time:    47 s          \rstep 358700, remaining wall clock time:    47 s          \rstep 358800, remaining wall clock time:    47 s          \rstep 358900, remaining wall clock time:    47 s          \rstep 359000, remaining wall clock time:    47 s          \rstep 359100, remaining wall clock time:    47 s          \rstep 359200, remaining wall clock time:    47 s          \rstep 359300, remaining wall clock time:    47 s          \rstep 359400, remaining wall clock time:    47 s          \rstep 359500, remaining wall clock time:    47 s          \rstep 359600, remaining wall clock time:    47 s          \rstep 359700, remaining wall clock time:    47 s          \rstep 359800, remaining wall clock time:    46 s          \rstep 359900, remaining wall clock time:    46 s          \rstep 360000, remaining wall clock time:    46 s          \rstep 360100, remaining wall clock time:    46 s          \rstep 360200, remaining wall clock time:    46 s          \rstep 360300, remaining wall clock time:    46 s          \rstep 360400, remaining wall clock time:    46 s          \rstep 360500, remaining wall clock time:    46 s          \rstep 360600, remaining wall clock time:    46 s          \rstep 360700, remaining wall clock time:    46 s          \rstep 360800, remaining wall clock time:    46 s          \rstep 360900, remaining wall clock time:    46 s          \rstep 361000, remaining wall clock time:    46 s          \rstep 361100, remaining wall clock time:    46 s          \rstep 361200, remaining wall clock time:    46 s          \rstep 361300, remaining wall clock time:    46 s          \rstep 361400, remaining wall clock time:    46 s          \rstep 361500, remaining wall clock time:    46 s          \rstep 361600, remaining wall clock time:    46 s          \rstep 361700, remaining wall clock time:    46 s          \rstep 361800, remaining wall clock time:    46 s          \rstep 361900, remaining wall clock time:    46 s          \rstep 362000, remaining wall clock time:    46 s          \rstep 362100, remaining wall clock time:    46 s          \rstep 362200, remaining wall clock time:    46 s          \rstep 362300, remaining wall clock time:    46 s          \rstep 362400, remaining wall clock time:    46 s          \rstep 362500, remaining wall clock time:    46 s          \rstep 362600, remaining wall clock time:    46 s          \rstep 362700, remaining wall clock time:    45 s          \rstep 362800, remaining wall clock time:    45 s          \rstep 362900, remaining wall clock time:    45 s          \rstep 363000, remaining wall clock time:    45 s          \rstep 363100, remaining wall clock time:    45 s          \rstep 363200, remaining wall clock time:    45 s          \rstep 363300, remaining wall clock time:    45 s          \rstep 363400, remaining wall clock time:    45 s          \rstep 363500, remaining wall clock time:    45 s          \rstep 363600, remaining wall clock time:    45 s          \rstep 363700, remaining wall clock time:    45 s          \rstep 363800, remaining wall clock time:    45 s          \rstep 363900, remaining wall clock time:    45 s          \rstep 364000, remaining wall clock time:    45 s          \rstep 364100, remaining wall clock time:    45 s          \rstep 364200, remaining wall clock time:    45 s          \rstep 364300, remaining wall clock time:    45 s          \rstep 364400, remaining wall clock time:    45 s          \rstep 364500, remaining wall clock time:    45 s          \rstep 364600, remaining wall clock time:    45 s          \rstep 364700, remaining wall clock time:    45 s          \rstep 364800, remaining wall clock time:    45 s          \rstep 364900, remaining wall clock time:    45 s          \rstep 365000, remaining wall clock time:    45 s          \rstep 365100, remaining wall clock time:    45 s          \rstep 365200, remaining wall clock time:    45 s          \rstep 365300, remaining wall clock time:    45 s          \rstep 365400, remaining wall clock time:    45 s          \rstep 365500, remaining wall clock time:    45 s          \rstep 365600, remaining wall clock time:    45 s          \rstep 365700, remaining wall clock time:    44 s          \rstep 365800, remaining wall clock time:    44 s          \rstep 365900, remaining wall clock time:    44 s          \rstep 366000, remaining wall clock time:    44 s          \rstep 366100, remaining wall clock time:    44 s          \rstep 366200, remaining wall clock time:    44 s          \rstep 366300, remaining wall clock time:    44 s          \rstep 366400, remaining wall clock time:    44 s          \rstep 366500, remaining wall clock time:    44 s          \rstep 366600, remaining wall clock time:    44 s          \rstep 366700, remaining wall clock time:    44 s          \rstep 366800, remaining wall clock time:    44 s          \rstep 366900, remaining wall clock time:    44 s          \rstep 367000, remaining wall clock time:    44 s          \rstep 367100, remaining wall clock time:    44 s          \rstep 367200, remaining wall clock time:    44 s          \rstep 367300, remaining wall clock time:    44 s          \rstep 367400, remaining wall clock time:    44 s          \rstep 367500, remaining wall clock time:    44 s          \rstep 367600, remaining wall clock time:    44 s          \rstep 367700, remaining wall clock time:    44 s          \rstep 367800, remaining wall clock time:    44 s          \rstep 367900, remaining wall clock time:    44 s          \rstep 368000, remaining wall clock time:    44 s          \rstep 368100, remaining wall clock time:    44 s          \rstep 368200, remaining wall clock time:    44 s          \rstep 368300, remaining wall clock time:    44 s          \rstep 368400, remaining wall clock time:    44 s          \rstep 368500, remaining wall clock time:    44 s          \rstep 368600, remaining wall clock time:    44 s          \rstep 368700, remaining wall clock time:    43 s          \rstep 368800, remaining wall clock time:    43 s          \rstep 368900, remaining wall clock time:    43 s          \rstep 369000, remaining wall clock time:    43 s          \rstep 369100, remaining wall clock time:    43 s          \rstep 369200, remaining wall clock time:    43 s          \rstep 369300, remaining wall clock time:    43 s          \rstep 369400, remaining wall clock time:    43 s          \rstep 369500, remaining wall clock time:    43 s          \rstep 369600, remaining wall clock time:    43 s          \rstep 369700, remaining wall clock time:    43 s          \rstep 369800, remaining wall clock time:    43 s          \rstep 369900, remaining wall clock time:    43 s          \rstep 370000, remaining wall clock time:    43 s          \rstep 370100, remaining wall clock time:    43 s          \rstep 370200, remaining wall clock time:    43 s          \rstep 370300, remaining wall clock time:    43 s          \rstep 370400, remaining wall clock time:    43 s          \rstep 370500, remaining wall clock time:    43 s          \rstep 370600, remaining wall clock time:    43 s          \rstep 370700, remaining wall clock time:    43 s          \rstep 370800, remaining wall clock time:    43 s          \rstep 370900, remaining wall clock time:    43 s          \rstep 371000, remaining wall clock time:    43 s          \rstep 371100, remaining wall clock time:    43 s          \rstep 371200, remaining wall clock time:    43 s          \rstep 371300, remaining wall clock time:    43 s          \rstep 371400, remaining wall clock time:    43 s          \rstep 371500, remaining wall clock time:    43 s          \rstep 371600, remaining wall clock time:    42 s          \rstep 371700, remaining wall clock time:    42 s          \rstep 371800, remaining wall clock time:    42 s          \rstep 371900, remaining wall clock time:    42 s          \rstep 372000, remaining wall clock time:    42 s          \rstep 372100, remaining wall clock time:    42 s          \rstep 372200, remaining wall clock time:    42 s          \rstep 372300, remaining wall clock time:    42 s          \rstep 372400, remaining wall clock time:    42 s          \rstep 372500, remaining wall clock time:    42 s          \rstep 372600, remaining wall clock time:    42 s          \rstep 372700, remaining wall clock time:    42 s          \rstep 372800, remaining wall clock time:    42 s          \rstep 372900, remaining wall clock time:    42 s          \rstep 373000, remaining wall clock time:    42 s          \rstep 373100, remaining wall clock time:    42 s          \rstep 373200, remaining wall clock time:    42 s          \rstep 373300, remaining wall clock time:    42 s          \rstep 373400, remaining wall clock time:    42 s          \rstep 373500, remaining wall clock time:    42 s          \rstep 373600, remaining wall clock time:    42 s          \rstep 373700, remaining wall clock time:    42 s          \rstep 373800, remaining wall clock time:    42 s          \rstep 373900, remaining wall clock time:    42 s          \rstep 374000, remaining wall clock time:    42 s          \rstep 374100, remaining wall clock time:    42 s          \rstep 374200, remaining wall clock time:    42 s          \rstep 374300, remaining wall clock time:    42 s          \rstep 374400, remaining wall clock time:    42 s          \rstep 374500, remaining wall clock time:    42 s          \rstep 374600, remaining wall clock time:    41 s          \rstep 374700, remaining wall clock time:    41 s          \rstep 374800, remaining wall clock time:    41 s          \rstep 374900, remaining wall clock time:    41 s          \rstep 375000, remaining wall clock time:    41 s          \rstep 375100, remaining wall clock time:    41 s          \rstep 375200, remaining wall clock time:    41 s          \rstep 375300, remaining wall clock time:    41 s          \rstep 375400, remaining wall clock time:    41 s          \rstep 375500, remaining wall clock time:    41 s          \rstep 375600, remaining wall clock time:    41 s          \rstep 375700, remaining wall clock time:    41 s          \rstep 375800, remaining wall clock time:    41 s          \rstep 375900, remaining wall clock time:    41 s          \rstep 376000, remaining wall clock time:    41 s          \rstep 376100, remaining wall clock time:    41 s          \rstep 376200, remaining wall clock time:    41 s          \rstep 376300, remaining wall clock time:    41 s          \rstep 376400, remaining wall clock time:    41 s          \rstep 376500, remaining wall clock time:    41 s          \rstep 376600, remaining wall clock time:    41 s          \rstep 376700, remaining wall clock time:    41 s          \rstep 376800, remaining wall clock time:    41 s          \rstep 376900, remaining wall clock time:    41 s          \rstep 377000, remaining wall clock time:    41 s          \rstep 377100, remaining wall clock time:    41 s          \rstep 377200, remaining wall clock time:    41 s          \rstep 377300, remaining wall clock time:    41 s          \rstep 377400, remaining wall clock time:    41 s          \rstep 377500, remaining wall clock time:    40 s          \rstep 377600, remaining wall clock time:    40 s          \rstep 377700, remaining wall clock time:    40 s          \rstep 377800, remaining wall clock time:    40 s          \rstep 377900, remaining wall clock time:    40 s          \rstep 378000, remaining wall clock time:    40 s          \rstep 378100, remaining wall clock time:    40 s          \rstep 378200, remaining wall clock time:    40 s          \rstep 378300, remaining wall clock time:    40 s          \rstep 378400, remaining wall clock time:    40 s          \rstep 378500, remaining wall clock time:    40 s          \rstep 378600, remaining wall clock time:    40 s          \rstep 378700, remaining wall clock time:    40 s          \rstep 378800, remaining wall clock time:    40 s          \rstep 378900, remaining wall clock time:    40 s          \rstep 379000, remaining wall clock time:    40 s          \rstep 379100, remaining wall clock time:    40 s          \rstep 379200, remaining wall clock time:    40 s          \rstep 379300, remaining wall clock time:    40 s          \rstep 379400, remaining wall clock time:    40 s          \rstep 379500, remaining wall clock time:    40 s          \rstep 379600, remaining wall clock time:    40 s          \rstep 379700, remaining wall clock time:    40 s          \rstep 379800, remaining wall clock time:    40 s          \rstep 379900, remaining wall clock time:    40 s          \rstep 380000, remaining wall clock time:    40 s          \rstep 380100, remaining wall clock time:    40 s          \rstep 380200, remaining wall clock time:    40 s          \rstep 380300, remaining wall clock time:    40 s          \rstep 380400, remaining wall clock time:    40 s          \rstep 380500, remaining wall clock time:    39 s          \rstep 380600, remaining wall clock time:    39 s          \rstep 380700, remaining wall clock time:    39 s          \rstep 380800, remaining wall clock time:    39 s          \rstep 380900, remaining wall clock time:    39 s          \rstep 381000, remaining wall clock time:    39 s          \rstep 381100, remaining wall clock time:    39 s          \rstep 381200, remaining wall clock time:    39 s          \rstep 381300, remaining wall clock time:    39 s          \rstep 381400, remaining wall clock time:    39 s          \rstep 381500, remaining wall clock time:    39 s          \rstep 381600, remaining wall clock time:    39 s          \rstep 381700, remaining wall clock time:    39 s          \rstep 381800, remaining wall clock time:    39 s          \rstep 381900, remaining wall clock time:    39 s          \rstep 382000, remaining wall clock time:    39 s          \rstep 382100, remaining wall clock time:    39 s          \rstep 382200, remaining wall clock time:    39 s          \rstep 382300, remaining wall clock time:    39 s          \rstep 382400, remaining wall clock time:    39 s          \rstep 382500, remaining wall clock time:    39 s          \rstep 382600, remaining wall clock time:    39 s          \rstep 382700, remaining wall clock time:    39 s          \rstep 382800, remaining wall clock time:    39 s          \rstep 382900, remaining wall clock time:    39 s          \rstep 383000, remaining wall clock time:    39 s          \rstep 383100, remaining wall clock time:    39 s          \rstep 383200, remaining wall clock time:    39 s          \rstep 383300, remaining wall clock time:    39 s          \rstep 383400, remaining wall clock time:    39 s          \rstep 383500, remaining wall clock time:    38 s          \rstep 383600, remaining wall clock time:    38 s          \rstep 383700, remaining wall clock time:    38 s          \rstep 383800, remaining wall clock time:    38 s          \rstep 383900, remaining wall clock time:    38 s          \rstep 384000, remaining wall clock time:    38 s          \rstep 384100, remaining wall clock time:    38 s          \rstep 384200, remaining wall clock time:    38 s          \rstep 384300, remaining wall clock time:    38 s          \rstep 384400, remaining wall clock time:    38 s          \rstep 384500, remaining wall clock time:    38 s          \rstep 384600, remaining wall clock time:    38 s          \rstep 384700, remaining wall clock time:    38 s          \rstep 384800, remaining wall clock time:    38 s          \rstep 384900, remaining wall clock time:    38 s          \rstep 385000, remaining wall clock time:    38 s          \rstep 385100, remaining wall clock time:    38 s          \rstep 385200, remaining wall clock time:    38 s          \rstep 385300, remaining wall clock time:    38 s          \rstep 385400, remaining wall clock time:    38 s          \rstep 385500, remaining wall clock time:    38 s          \rstep 385600, remaining wall clock time:    38 s          \rstep 385700, remaining wall clock time:    38 s          \rstep 385800, remaining wall clock time:    38 s          \rstep 385900, remaining wall clock time:    38 s          \rstep 386000, remaining wall clock time:    38 s          \rstep 386100, remaining wall clock time:    38 s          \rstep 386200, remaining wall clock time:    38 s          \rstep 386300, remaining wall clock time:    38 s          \rstep 386400, remaining wall clock time:    37 s          \rstep 386500, remaining wall clock time:    37 s          \rstep 386600, remaining wall clock time:    37 s          \rstep 386700, remaining wall clock time:    37 s          \rstep 386800, remaining wall clock time:    37 s          \rstep 386900, remaining wall clock time:    37 s          \rstep 387000, remaining wall clock time:    37 s          \rstep 387100, remaining wall clock time:    37 s          \rstep 387200, remaining wall clock time:    37 s          \rstep 387300, remaining wall clock time:    37 s          \rstep 387400, remaining wall clock time:    37 s          \rstep 387500, remaining wall clock time:    37 s          \rstep 387600, remaining wall clock time:    37 s          \rstep 387700, remaining wall clock time:    37 s          \rstep 387800, remaining wall clock time:    37 s          \rstep 387900, remaining wall clock time:    37 s          \rstep 388000, remaining wall clock time:    37 s          \rstep 388100, remaining wall clock time:    37 s          \rstep 388200, remaining wall clock time:    37 s          \rstep 388300, remaining wall clock time:    37 s          \rstep 388400, remaining wall clock time:    37 s          \rstep 388500, remaining wall clock time:    37 s          \rstep 388600, remaining wall clock time:    37 s          \rstep 388700, remaining wall clock time:    37 s          \rstep 388800, remaining wall clock time:    37 s          \rstep 388900, remaining wall clock time:    37 s          \rstep 389000, remaining wall clock time:    37 s          \rstep 389100, remaining wall clock time:    37 s          \rstep 389200, remaining wall clock time:    37 s          \rstep 389300, remaining wall clock time:    37 s          \rstep 389400, remaining wall clock time:    36 s          \rstep 389500, remaining wall clock time:    36 s          \rstep 389600, remaining wall clock time:    36 s          \rstep 389700, remaining wall clock time:    36 s          \rstep 389800, remaining wall clock time:    36 s          \rstep 389900, remaining wall clock time:    36 s          \rstep 390000, remaining wall clock time:    36 s          \rstep 390100, remaining wall clock time:    36 s          \rstep 390200, remaining wall clock time:    36 s          \rstep 390300, remaining wall clock time:    36 s          \rstep 390400, remaining wall clock time:    36 s          \rstep 390500, remaining wall clock time:    36 s          \rstep 390600, remaining wall clock time:    36 s          \rstep 390700, remaining wall clock time:    36 s          \rstep 390800, remaining wall clock time:    36 s          \rstep 390900, remaining wall clock time:    36 s          \rstep 391000, remaining wall clock time:    36 s          \rstep 391100, remaining wall clock time:    36 s          \rstep 391200, remaining wall clock time:    36 s          \rstep 391300, remaining wall clock time:    36 s          \rstep 391400, remaining wall clock time:    36 s          \rstep 391500, remaining wall clock time:    36 s          \rstep 391600, remaining wall clock time:    36 s          \rstep 391700, remaining wall clock time:    36 s          \rstep 391800, remaining wall clock time:    36 s          \rstep 391900, remaining wall clock time:    36 s          \rstep 392000, remaining wall clock time:    36 s          \rstep 392100, remaining wall clock time:    36 s          \rstep 392200, remaining wall clock time:    36 s          \rstep 392300, remaining wall clock time:    35 s          \rstep 392400, remaining wall clock time:    35 s          \rstep 392500, remaining wall clock time:    35 s          \rstep 392600, remaining wall clock time:    35 s          \rstep 392700, remaining wall clock time:    35 s          \rstep 392800, remaining wall clock time:    35 s          \rstep 392900, remaining wall clock time:    35 s          \rstep 393000, remaining wall clock time:    35 s          \rstep 393100, remaining wall clock time:    35 s          \rstep 393200, remaining wall clock time:    35 s          \rstep 393300, remaining wall clock time:    35 s          \rstep 393400, remaining wall clock time:    35 s          \rstep 393500, remaining wall clock time:    35 s          \rstep 393600, remaining wall clock time:    35 s          \rstep 393700, remaining wall clock time:    35 s          \rstep 393800, remaining wall clock time:    35 s          \rstep 393900, remaining wall clock time:    35 s          \rstep 394000, remaining wall clock time:    35 s          \rstep 394100, remaining wall clock time:    35 s          \rstep 394200, remaining wall clock time:    35 s          \rstep 394300, remaining wall clock time:    35 s          \rstep 394400, remaining wall clock time:    35 s          \rstep 394500, remaining wall clock time:    35 s          \rstep 394600, remaining wall clock time:    35 s          \rstep 394700, remaining wall clock time:    35 s          \rstep 394800, remaining wall clock time:    35 s          \rstep 394900, remaining wall clock time:    35 s          \rstep 395000, remaining wall clock time:    35 s          \rstep 395100, remaining wall clock time:    35 s          \rstep 395200, remaining wall clock time:    35 s          \rstep 395300, remaining wall clock time:    34 s          \rstep 395400, remaining wall clock time:    34 s          \rstep 395500, remaining wall clock time:    34 s          \rstep 395600, remaining wall clock time:    34 s          \rstep 395700, remaining wall clock time:    34 s          \rstep 395800, remaining wall clock time:    34 s          \rstep 395900, remaining wall clock time:    34 s          \rstep 396000, remaining wall clock time:    34 s          \rstep 396100, remaining wall clock time:    34 s          \rstep 396200, remaining wall clock time:    34 s          \rstep 396300, remaining wall clock time:    34 s          \rstep 396400, remaining wall clock time:    34 s          \rstep 396500, remaining wall clock time:    34 s          \rstep 396600, remaining wall clock time:    34 s          \rstep 396700, remaining wall clock time:    34 s          \rstep 396800, remaining wall clock time:    34 s          \rstep 396900, remaining wall clock time:    34 s          \rstep 397000, remaining wall clock time:    34 s          \rstep 397100, remaining wall clock time:    34 s          \rstep 397200, remaining wall clock time:    34 s          \rstep 397300, remaining wall clock time:    34 s          \rstep 397400, remaining wall clock time:    34 s          \rstep 397500, remaining wall clock time:    34 s          \rstep 397600, remaining wall clock time:    34 s          \rstep 397700, remaining wall clock time:    34 s          \rstep 397800, remaining wall clock time:    34 s          \rstep 397900, remaining wall clock time:    34 s          \rstep 398000, remaining wall clock time:    34 s          \rstep 398100, remaining wall clock time:    34 s          \rstep 398200, remaining wall clock time:    33 s          \rstep 398300, remaining wall clock time:    33 s          \rstep 398400, remaining wall clock time:    33 s          \rstep 398500, remaining wall clock time:    33 s          \rstep 398600, remaining wall clock time:    33 s          \rstep 398700, remaining wall clock time:    33 s          \rstep 398800, remaining wall clock time:    33 s          \rstep 398900, remaining wall clock time:    33 s          \rstep 399000, remaining wall clock time:    33 s          \rstep 399100, remaining wall clock time:    33 s          \rstep 399200, remaining wall clock time:    33 s          \rstep 399300, remaining wall clock time:    33 s          \rstep 399400, remaining wall clock time:    33 s          \rstep 399500, remaining wall clock time:    33 s          \rstep 399600, remaining wall clock time:    33 s          \rstep 399700, remaining wall clock time:    33 s          \rstep 399800, remaining wall clock time:    33 s          \rstep 399900, remaining wall clock time:    33 s          \rstep 400000, remaining wall clock time:    33 s          \rstep 400100, remaining wall clock time:    33 s          \rstep 400200, remaining wall clock time:    33 s          \rstep 400300, remaining wall clock time:    33 s          \rstep 400400, remaining wall clock time:    33 s          \rstep 400500, remaining wall clock time:    33 s          \rstep 400600, remaining wall clock time:    33 s          \rstep 400700, remaining wall clock time:    33 s          \rstep 400800, remaining wall clock time:    33 s          \rstep 400900, remaining wall clock time:    33 s          \rstep 401000, remaining wall clock time:    33 s          \rstep 401100, remaining wall clock time:    33 s          \rstep 401200, remaining wall clock time:    32 s          \rstep 401300, remaining wall clock time:    32 s          \rstep 401400, remaining wall clock time:    32 s          \rstep 401500, remaining wall clock time:    32 s          \rstep 401600, remaining wall clock time:    32 s          \rstep 401700, remaining wall clock time:    32 s          \rstep 401800, remaining wall clock time:    32 s          \rstep 401900, remaining wall clock time:    32 s          \rstep 402000, remaining wall clock time:    32 s          \rstep 402100, remaining wall clock time:    32 s          \rstep 402200, remaining wall clock time:    32 s          \rstep 402300, remaining wall clock time:    32 s          \rstep 402400, remaining wall clock time:    32 s          \rstep 402500, remaining wall clock time:    32 s          \rstep 402600, remaining wall clock time:    32 s          \rstep 402700, remaining wall clock time:    32 s          \rstep 402800, remaining wall clock time:    32 s          \rstep 402900, remaining wall clock time:    32 s          \rstep 403000, remaining wall clock time:    32 s          \rstep 403100, remaining wall clock time:    32 s          \rstep 403200, remaining wall clock time:    32 s          \rstep 403300, remaining wall clock time:    32 s          \rstep 403400, remaining wall clock time:    32 s          \rstep 403500, remaining wall clock time:    32 s          \rstep 403600, remaining wall clock time:    32 s          \rstep 403700, remaining wall clock time:    32 s          \rstep 403800, remaining wall clock time:    32 s          \rstep 403900, remaining wall clock time:    32 s          \rstep 404000, remaining wall clock time:    32 s          \rstep 404100, remaining wall clock time:    32 s          \rstep 404200, remaining wall clock time:    31 s          \rstep 404300, remaining wall clock time:    31 s          \rstep 404400, remaining wall clock time:    31 s          \rstep 404500, remaining wall clock time:    31 s          \rstep 404600, remaining wall clock time:    31 s          \rstep 404700, remaining wall clock time:    31 s          \rstep 404800, remaining wall clock time:    31 s          \rstep 404900, remaining wall clock time:    31 s          \rstep 405000, remaining wall clock time:    31 s          \rstep 405100, remaining wall clock time:    31 s          \rstep 405200, remaining wall clock time:    31 s          \rstep 405300, remaining wall clock time:    31 s          \rstep 405400, remaining wall clock time:    31 s          \rstep 405500, remaining wall clock time:    31 s          \rstep 405600, remaining wall clock time:    31 s          \rstep 405700, remaining wall clock time:    31 s          \rstep 405800, remaining wall clock time:    31 s          \rstep 405900, remaining wall clock time:    31 s          \rstep 406000, remaining wall clock time:    31 s          \rstep 406100, remaining wall clock time:    31 s          \rstep 406200, remaining wall clock time:    31 s          \rstep 406300, remaining wall clock time:    31 s          \rstep 406400, remaining wall clock time:    31 s          \rstep 406500, remaining wall clock time:    31 s          \rstep 406600, remaining wall clock time:    31 s          \rstep 406700, remaining wall clock time:    31 s          \rstep 406800, remaining wall clock time:    31 s          \rstep 406900, remaining wall clock time:    31 s          \rstep 407000, remaining wall clock time:    31 s          \rstep 407100, remaining wall clock time:    30 s          \rstep 407200, remaining wall clock time:    30 s          \rstep 407300, remaining wall clock time:    30 s          \rstep 407400, remaining wall clock time:    30 s          \rstep 407500, remaining wall clock time:    30 s          \rstep 407600, remaining wall clock time:    30 s          \rstep 407700, remaining wall clock time:    30 s          \rstep 407800, remaining wall clock time:    30 s          \rstep 407900, remaining wall clock time:    30 s          \rstep 408000, remaining wall clock time:    30 s          \rstep 408100, remaining wall clock time:    30 s          \rstep 408200, remaining wall clock time:    30 s          \rstep 408300, remaining wall clock time:    30 s          \rstep 408400, remaining wall clock time:    30 s          \rstep 408500, remaining wall clock time:    30 s          \rstep 408600, remaining wall clock time:    30 s          \rstep 408700, remaining wall clock time:    30 s          \rstep 408800, remaining wall clock time:    30 s          \rstep 408900, remaining wall clock time:    30 s          \rstep 409000, remaining wall clock time:    30 s          \rstep 409100, remaining wall clock time:    30 s          \rstep 409200, remaining wall clock time:    30 s          \rstep 409300, remaining wall clock time:    30 s          \rstep 409400, remaining wall clock time:    30 s          \rstep 409500, remaining wall clock time:    30 s          \rstep 409600, remaining wall clock time:    30 s          \rstep 409700, remaining wall clock time:    30 s          \rstep 409800, remaining wall clock time:    30 s          \rstep 409900, remaining wall clock time:    30 s          \rstep 410000, remaining wall clock time:    30 s          \rstep 410100, remaining wall clock time:    29 s          \rstep 410200, remaining wall clock time:    29 s          \rstep 410300, remaining wall clock time:    29 s          \rstep 410400, remaining wall clock time:    29 s          \rstep 410500, remaining wall clock time:    29 s          \rstep 410600, remaining wall clock time:    29 s          \rstep 410700, remaining wall clock time:    29 s          \rstep 410800, remaining wall clock time:    29 s          \rstep 410900, remaining wall clock time:    29 s          \rstep 411000, remaining wall clock time:    29 s          \rstep 411100, remaining wall clock time:    29 s          \rstep 411200, remaining wall clock time:    29 s          \rstep 411300, remaining wall clock time:    29 s          \rstep 411400, remaining wall clock time:    29 s          \rstep 411500, remaining wall clock time:    29 s          \rstep 411600, remaining wall clock time:    29 s          \rstep 411700, remaining wall clock time:    29 s          \rstep 411800, remaining wall clock time:    29 s          \rstep 411900, remaining wall clock time:    29 s          \rstep 412000, remaining wall clock time:    29 s          \rstep 412100, remaining wall clock time:    29 s          \rstep 412200, remaining wall clock time:    29 s          \rstep 412300, remaining wall clock time:    29 s          \rstep 412400, remaining wall clock time:    29 s          \rstep 412500, remaining wall clock time:    29 s          \rstep 412600, remaining wall clock time:    29 s          \rstep 412700, remaining wall clock time:    29 s          \rstep 412800, remaining wall clock time:    29 s          \rstep 412900, remaining wall clock time:    29 s          \rstep 413000, remaining wall clock time:    29 s          \rstep 413100, remaining wall clock time:    28 s          \rstep 413200, remaining wall clock time:    28 s          \rstep 413300, remaining wall clock time:    28 s          \rstep 413400, remaining wall clock time:    28 s          \rstep 413500, remaining wall clock time:    28 s          \rstep 413600, remaining wall clock time:    28 s          \rstep 413700, remaining wall clock time:    28 s          \rstep 413800, remaining wall clock time:    28 s          \rstep 413900, remaining wall clock time:    28 s          \rstep 414000, remaining wall clock time:    28 s          \rstep 414100, remaining wall clock time:    28 s          \rstep 414200, remaining wall clock time:    28 s          \rstep 414300, remaining wall clock time:    28 s          \rstep 414400, remaining wall clock time:    28 s          \rstep 414500, remaining wall clock time:    28 s          \rstep 414600, remaining wall clock time:    28 s          \rstep 414700, remaining wall clock time:    28 s          \rstep 414800, remaining wall clock time:    28 s          \rstep 414900, remaining wall clock time:    28 s          \rstep 415000, remaining wall clock time:    28 s          \rstep 415100, remaining wall clock time:    28 s          \rstep 415200, remaining wall clock time:    28 s          \rstep 415300, remaining wall clock time:    28 s          \rstep 415400, remaining wall clock time:    28 s          \rstep 415500, remaining wall clock time:    28 s          \rstep 415600, remaining wall clock time:    28 s          \rstep 415700, remaining wall clock time:    28 s          \rstep 415800, remaining wall clock time:    28 s          \rstep 415900, remaining wall clock time:    28 s          \rstep 416000, remaining wall clock time:    27 s          \rstep 416100, remaining wall clock time:    27 s          \rstep 416200, remaining wall clock time:    27 s          \rstep 416300, remaining wall clock time:    27 s          \rstep 416400, remaining wall clock time:    27 s          \rstep 416500, remaining wall clock time:    27 s          \rstep 416600, remaining wall clock time:    27 s          \rstep 416700, remaining wall clock time:    27 s          \rstep 416800, remaining wall clock time:    27 s          \rstep 416900, remaining wall clock time:    27 s          \rstep 417000, remaining wall clock time:    27 s          \rstep 417100, remaining wall clock time:    27 s          \rstep 417200, remaining wall clock time:    27 s          \rstep 417300, remaining wall clock time:    27 s          \rstep 417400, remaining wall clock time:    27 s          \rstep 417500, remaining wall clock time:    27 s          \rstep 417600, remaining wall clock time:    27 s          \rstep 417700, remaining wall clock time:    27 s          \rstep 417800, remaining wall clock time:    27 s          \rstep 417900, remaining wall clock time:    27 s          \rstep 418000, remaining wall clock time:    27 s          \rstep 418100, remaining wall clock time:    27 s          \rstep 418200, remaining wall clock time:    27 s          \rstep 418300, remaining wall clock time:    27 s          \rstep 418400, remaining wall clock time:    27 s          \rstep 418500, remaining wall clock time:    27 s          \rstep 418600, remaining wall clock time:    27 s          \rstep 418700, remaining wall clock time:    27 s          \rstep 418800, remaining wall clock time:    27 s          \rstep 418900, remaining wall clock time:    27 s          \rstep 419000, remaining wall clock time:    26 s          \rstep 419100, remaining wall clock time:    26 s          \rstep 419200, remaining wall clock time:    26 s          \rstep 419300, remaining wall clock time:    26 s          \rstep 419400, remaining wall clock time:    26 s          \rstep 419500, remaining wall clock time:    26 s          \rstep 419600, remaining wall clock time:    26 s          \rstep 419700, remaining wall clock time:    26 s          \rstep 419800, remaining wall clock time:    26 s          \rstep 419900, remaining wall clock time:    26 s          \rstep 420000, remaining wall clock time:    26 s          \rstep 420100, remaining wall clock time:    26 s          \rstep 420200, remaining wall clock time:    26 s          \rstep 420300, remaining wall clock time:    26 s          \rstep 420400, remaining wall clock time:    26 s          \rstep 420500, remaining wall clock time:    26 s          \rstep 420600, remaining wall clock time:    26 s          \rstep 420700, remaining wall clock time:    26 s          \rstep 420800, remaining wall clock time:    26 s          \rstep 420900, remaining wall clock time:    26 s          \rstep 421000, remaining wall clock time:    26 s          \rstep 421100, remaining wall clock time:    26 s          \rstep 421200, remaining wall clock time:    26 s          \rstep 421300, remaining wall clock time:    26 s          \rstep 421400, remaining wall clock time:    26 s          \rstep 421500, remaining wall clock time:    26 s          \rstep 421600, remaining wall clock time:    26 s          \rstep 421700, remaining wall clock time:    26 s          \rstep 421800, remaining wall clock time:    26 s          \rstep 421900, remaining wall clock time:    26 s          \rstep 422000, remaining wall clock time:    25 s          \rstep 422100, remaining wall clock time:    25 s          \rstep 422200, remaining wall clock time:    25 s          \rstep 422300, remaining wall clock time:    25 s          \rstep 422400, remaining wall clock time:    25 s          \rstep 422500, remaining wall clock time:    25 s          \rstep 422600, remaining wall clock time:    25 s          \rstep 422700, remaining wall clock time:    25 s          \rstep 422800, remaining wall clock time:    25 s          \rstep 422900, remaining wall clock time:    25 s          \rstep 423000, remaining wall clock time:    25 s          \rstep 423100, remaining wall clock time:    25 s          \rstep 423200, remaining wall clock time:    25 s          \rstep 423300, remaining wall clock time:    25 s          \rstep 423400, remaining wall clock time:    25 s          \rstep 423500, remaining wall clock time:    25 s          \rstep 423600, remaining wall clock time:    25 s          \rstep 423700, remaining wall clock time:    25 s          \rstep 423800, remaining wall clock time:    25 s          \rstep 423900, remaining wall clock time:    25 s          \rstep 424000, remaining wall clock time:    25 s          \rstep 424100, remaining wall clock time:    25 s          \rstep 424200, remaining wall clock time:    25 s          \rstep 424300, remaining wall clock time:    25 s          \rstep 424400, remaining wall clock time:    25 s          \rstep 424500, remaining wall clock time:    25 s          \rstep 424600, remaining wall clock time:    25 s          \rstep 424700, remaining wall clock time:    25 s          \rstep 424800, remaining wall clock time:    25 s          \rstep 424900, remaining wall clock time:    25 s          \rstep 425000, remaining wall clock time:    24 s          \rstep 425100, remaining wall clock time:    24 s          \rstep 425200, remaining wall clock time:    24 s          \rstep 425300, remaining wall clock time:    24 s          \rstep 425400, remaining wall clock time:    24 s          \rstep 425500, remaining wall clock time:    24 s          \rstep 425600, remaining wall clock time:    24 s          \rstep 425700, remaining wall clock time:    24 s          \rstep 425800, remaining wall clock time:    24 s          \rstep 425900, remaining wall clock time:    24 s          \rstep 426000, remaining wall clock time:    24 s          \rstep 426100, remaining wall clock time:    24 s          \rstep 426200, remaining wall clock time:    24 s          \rstep 426300, remaining wall clock time:    24 s          \rstep 426400, remaining wall clock time:    24 s          \rstep 426500, remaining wall clock time:    24 s          \rstep 426600, remaining wall clock time:    24 s          \rstep 426700, remaining wall clock time:    24 s          \rstep 426800, remaining wall clock time:    24 s          \rstep 426900, remaining wall clock time:    24 s          \rstep 427000, remaining wall clock time:    24 s          \rstep 427100, remaining wall clock time:    24 s          \rstep 427200, remaining wall clock time:    24 s          \rstep 427300, remaining wall clock time:    24 s          \rstep 427400, remaining wall clock time:    24 s          \rstep 427500, remaining wall clock time:    24 s          \rstep 427600, remaining wall clock time:    24 s          \rstep 427700, remaining wall clock time:    24 s          \rstep 427800, remaining wall clock time:    24 s          \rstep 427900, remaining wall clock time:    23 s          \rstep 428000, remaining wall clock time:    23 s          \rstep 428100, remaining wall clock time:    23 s          \rstep 428200, remaining wall clock time:    23 s          \rstep 428300, remaining wall clock time:    23 s          \rstep 428400, remaining wall clock time:    23 s          \rstep 428500, remaining wall clock time:    23 s          \rstep 428600, remaining wall clock time:    23 s          \rstep 428700, remaining wall clock time:    23 s          \rstep 428800, remaining wall clock time:    23 s          \rstep 428900, remaining wall clock time:    23 s          \rstep 429000, remaining wall clock time:    23 s          \rstep 429100, remaining wall clock time:    23 s          \rstep 429200, remaining wall clock time:    23 s          \rstep 429300, remaining wall clock time:    23 s          \rstep 429400, remaining wall clock time:    23 s          \rstep 429500, remaining wall clock time:    23 s          \rstep 429600, remaining wall clock time:    23 s          \rstep 429700, remaining wall clock time:    23 s          \rstep 429800, remaining wall clock time:    23 s          \rstep 429900, remaining wall clock time:    23 s          \rstep 430000, remaining wall clock time:    23 s          \rstep 430100, remaining wall clock time:    23 s          \rstep 430200, remaining wall clock time:    23 s          \rstep 430300, remaining wall clock time:    23 s          \rstep 430400, remaining wall clock time:    23 s          \rstep 430500, remaining wall clock time:    23 s          \rstep 430600, remaining wall clock time:    23 s          \rstep 430700, remaining wall clock time:    23 s          \rstep 430800, remaining wall clock time:    23 s          \rstep 430900, remaining wall clock time:    22 s          \rstep 431000, remaining wall clock time:    22 s          \rstep 431100, remaining wall clock time:    22 s          \rstep 431200, remaining wall clock time:    22 s          \rstep 431300, remaining wall clock time:    22 s          \rstep 431400, remaining wall clock time:    22 s          \rstep 431500, remaining wall clock time:    22 s          \rstep 431600, remaining wall clock time:    22 s          \rstep 431700, remaining wall clock time:    22 s          \rstep 431800, remaining wall clock time:    22 s          \rstep 431900, remaining wall clock time:    22 s          \rstep 432000, remaining wall clock time:    22 s          \rstep 432100, remaining wall clock time:    22 s          \rstep 432200, remaining wall clock time:    22 s          \rstep 432300, remaining wall clock time:    22 s          \rstep 432400, remaining wall clock time:    22 s          \rstep 432500, remaining wall clock time:    22 s          \rstep 432600, remaining wall clock time:    22 s          \rstep 432700, remaining wall clock time:    22 s          \rstep 432800, remaining wall clock time:    22 s          \rstep 432900, remaining wall clock time:    22 s          \rstep 433000, remaining wall clock time:    22 s          \rstep 433100, remaining wall clock time:    22 s          \rstep 433200, remaining wall clock time:    22 s          \rstep 433300, remaining wall clock time:    22 s          \rstep 433400, remaining wall clock time:    22 s          \rstep 433500, remaining wall clock time:    22 s          \rstep 433600, remaining wall clock time:    22 s          \rstep 433700, remaining wall clock time:    22 s          \rstep 433800, remaining wall clock time:    22 s          \rstep 433900, remaining wall clock time:    21 s          \rstep 434000, remaining wall clock time:    21 s          \rstep 434100, remaining wall clock time:    21 s          \rstep 434200, remaining wall clock time:    21 s          \rstep 434300, remaining wall clock time:    21 s          \rstep 434400, remaining wall clock time:    21 s          \rstep 434500, remaining wall clock time:    21 s          \rstep 434600, remaining wall clock time:    21 s          \rstep 434700, remaining wall clock time:    21 s          \rstep 434800, remaining wall clock time:    21 s          \rstep 434900, remaining wall clock time:    21 s          \rstep 435000, remaining wall clock time:    21 s          \rstep 435100, remaining wall clock time:    21 s          \rstep 435200, remaining wall clock time:    21 s          \rstep 435300, remaining wall clock time:    21 s          \rstep 435400, remaining wall clock time:    21 s          \rstep 435500, remaining wall clock time:    21 s          \rstep 435600, remaining wall clock time:    21 s          \rstep 435700, remaining wall clock time:    21 s          \rstep 435800, remaining wall clock time:    21 s          \rstep 435900, remaining wall clock time:    21 s          \rstep 436000, remaining wall clock time:    21 s          \rstep 436100, remaining wall clock time:    21 s          \rstep 436200, remaining wall clock time:    21 s          \rstep 436300, remaining wall clock time:    21 s          \rstep 436400, remaining wall clock time:    21 s          \rstep 436500, remaining wall clock time:    21 s          \rstep 436600, remaining wall clock time:    21 s          \rstep 436700, remaining wall clock time:    21 s          \rstep 436800, remaining wall clock time:    21 s          \rstep 436900, remaining wall clock time:    20 s          \rstep 437000, remaining wall clock time:    20 s          \rstep 437100, remaining wall clock time:    20 s          \rstep 437200, remaining wall clock time:    20 s          \rstep 437300, remaining wall clock time:    20 s          \rstep 437400, remaining wall clock time:    20 s          \rstep 437500, remaining wall clock time:    20 s          \rstep 437600, remaining wall clock time:    20 s          \rstep 437700, remaining wall clock time:    20 s          \rstep 437800, remaining wall clock time:    20 s          \rstep 437900, remaining wall clock time:    20 s          \rstep 438000, remaining wall clock time:    20 s          \rstep 438100, remaining wall clock time:    20 s          \rstep 438200, remaining wall clock time:    20 s          \rstep 438300, remaining wall clock time:    20 s          \rstep 438400, remaining wall clock time:    20 s          \rstep 438500, remaining wall clock time:    20 s          \rstep 438600, remaining wall clock time:    20 s          \rstep 438700, remaining wall clock time:    20 s          \rstep 438800, remaining wall clock time:    20 s          \rstep 438900, remaining wall clock time:    20 s          \rstep 439000, remaining wall clock time:    20 s          \rstep 439100, remaining wall clock time:    20 s          \rstep 439200, remaining wall clock time:    20 s          \rstep 439300, remaining wall clock time:    20 s          \rstep 439400, remaining wall clock time:    20 s          \rstep 439500, remaining wall clock time:    20 s          \rstep 439600, remaining wall clock time:    20 s          \rstep 439700, remaining wall clock time:    20 s          \rstep 439800, remaining wall clock time:    20 s          \rstep 439900, remaining wall clock time:    19 s          \rstep 440000, remaining wall clock time:    19 s          \rstep 440100, remaining wall clock time:    19 s          \rstep 440200, remaining wall clock time:    19 s          \rstep 440300, remaining wall clock time:    19 s          \rstep 440400, remaining wall clock time:    19 s          \rstep 440500, remaining wall clock time:    19 s          \rstep 440600, remaining wall clock time:    19 s          \rstep 440700, remaining wall clock time:    19 s          \rstep 440800, remaining wall clock time:    19 s          \rstep 440900, remaining wall clock time:    19 s          \rstep 441000, remaining wall clock time:    19 s          \rstep 441100, remaining wall clock time:    19 s          \rstep 441200, remaining wall clock time:    19 s          \rstep 441300, remaining wall clock time:    19 s          \rstep 441400, remaining wall clock time:    19 s          \rstep 441500, remaining wall clock time:    19 s          \rstep 441600, remaining wall clock time:    19 s          \rstep 441700, remaining wall clock time:    19 s          \rstep 441800, remaining wall clock time:    19 s          \rstep 441900, remaining wall clock time:    19 s          \rstep 442000, remaining wall clock time:    19 s          \rstep 442100, remaining wall clock time:    19 s          \rstep 442200, remaining wall clock time:    19 s          \rstep 442300, remaining wall clock time:    19 s          \rstep 442400, remaining wall clock time:    19 s          \rstep 442500, remaining wall clock time:    19 s          \rstep 442600, remaining wall clock time:    19 s          \rstep 442700, remaining wall clock time:    19 s          \rstep 442800, remaining wall clock time:    19 s          \rstep 442900, remaining wall clock time:    18 s          \rstep 443000, remaining wall clock time:    18 s          \rstep 443100, remaining wall clock time:    18 s          \rstep 443200, remaining wall clock time:    18 s          \rstep 443300, remaining wall clock time:    18 s          \rstep 443400, remaining wall clock time:    18 s          \rstep 443500, remaining wall clock time:    18 s          \rstep 443600, remaining wall clock time:    18 s          \rstep 443700, remaining wall clock time:    18 s          \rstep 443800, remaining wall clock time:    18 s          \rstep 443900, remaining wall clock time:    18 s          \rstep 444000, remaining wall clock time:    18 s          \rstep 444100, remaining wall clock time:    18 s          \rstep 444200, remaining wall clock time:    18 s          \rstep 444300, remaining wall clock time:    18 s          \rstep 444400, remaining wall clock time:    18 s          \rstep 444500, remaining wall clock time:    18 s          \rstep 444600, remaining wall clock time:    18 s          \rstep 444700, remaining wall clock time:    18 s          \rstep 444800, remaining wall clock time:    18 s          \rstep 444900, remaining wall clock time:    18 s          \rstep 445000, remaining wall clock time:    18 s          \rstep 445100, remaining wall clock time:    18 s          \rstep 445200, remaining wall clock time:    18 s          \rstep 445300, remaining wall clock time:    18 s          \rstep 445400, remaining wall clock time:    18 s          \rstep 445500, remaining wall clock time:    18 s          \rstep 445600, remaining wall clock time:    18 s          \rstep 445700, remaining wall clock time:    18 s          \rstep 445800, remaining wall clock time:    18 s          \rstep 445900, remaining wall clock time:    17 s          \rstep 446000, remaining wall clock time:    17 s          \rstep 446100, remaining wall clock time:    17 s          \rstep 446200, remaining wall clock time:    17 s          \rstep 446300, remaining wall clock time:    17 s          \rstep 446400, remaining wall clock time:    17 s          \rstep 446500, remaining wall clock time:    17 s          \rstep 446600, remaining wall clock time:    17 s          \rstep 446700, remaining wall clock time:    17 s          \rstep 446800, remaining wall clock time:    17 s          \rstep 446900, remaining wall clock time:    17 s          \rstep 447000, remaining wall clock time:    17 s          \rstep 447100, remaining wall clock time:    17 s          \rstep 447200, remaining wall clock time:    17 s          \rstep 447300, remaining wall clock time:    17 s          \rstep 447400, remaining wall clock time:    17 s          \rstep 447500, remaining wall clock time:    17 s          \rstep 447600, remaining wall clock time:    17 s          \rstep 447700, remaining wall clock time:    17 s          \rstep 447800, remaining wall clock time:    17 s          \rstep 447900, remaining wall clock time:    17 s          \rstep 448000, remaining wall clock time:    17 s          \rstep 448100, remaining wall clock time:    17 s          \rstep 448200, remaining wall clock time:    17 s          \rstep 448300, remaining wall clock time:    17 s          \rstep 448400, remaining wall clock time:    17 s          \rstep 448500, remaining wall clock time:    17 s          \rstep 448600, remaining wall clock time:    17 s          \rstep 448700, remaining wall clock time:    17 s          \rstep 448800, remaining wall clock time:    17 s          \rstep 448900, remaining wall clock time:    16 s          \rstep 449000, remaining wall clock time:    16 s          \rstep 449100, remaining wall clock time:    16 s          \rstep 449200, remaining wall clock time:    16 s          \rstep 449300, remaining wall clock time:    16 s          \rstep 449400, remaining wall clock time:    16 s          \rstep 449500, remaining wall clock time:    16 s          \rstep 449600, remaining wall clock time:    16 s          \rstep 449700, remaining wall clock time:    16 s          \rstep 449800, remaining wall clock time:    16 s          \rstep 449900, remaining wall clock time:    16 s          \rstep 450000, remaining wall clock time:    16 s          \rstep 450100, remaining wall clock time:    16 s          \rstep 450200, remaining wall clock time:    16 s          \rstep 450300, remaining wall clock time:    16 s          \rstep 450400, remaining wall clock time:    16 s          \rstep 450500, remaining wall clock time:    16 s          \rstep 450600, remaining wall clock time:    16 s          \rstep 450700, remaining wall clock time:    16 s          \rstep 450800, remaining wall clock time:    16 s          \rstep 450900, remaining wall clock time:    16 s          \rstep 451000, remaining wall clock time:    16 s          \rstep 451100, remaining wall clock time:    16 s          \rstep 451200, remaining wall clock time:    16 s          \rstep 451300, remaining wall clock time:    16 s          \rstep 451400, remaining wall clock time:    16 s          \rstep 451500, remaining wall clock time:    16 s          \rstep 451600, remaining wall clock time:    16 s          \rstep 451700, remaining wall clock time:    16 s          \rstep 451800, remaining wall clock time:    16 s          \rstep 451900, remaining wall clock time:    15 s          \rstep 452000, remaining wall clock time:    15 s          \rstep 452100, remaining wall clock time:    15 s          \rstep 452200, remaining wall clock time:    15 s          \rstep 452300, remaining wall clock time:    15 s          \rstep 452400, remaining wall clock time:    15 s          \rstep 452500, remaining wall clock time:    15 s          \rstep 452600, remaining wall clock time:    15 s          \rstep 452700, remaining wall clock time:    15 s          \rstep 452800, remaining wall clock time:    15 s          \rstep 452900, remaining wall clock time:    15 s          \rstep 453000, remaining wall clock time:    15 s          \rstep 453100, remaining wall clock time:    15 s          \rstep 453200, remaining wall clock time:    15 s          \rstep 453300, remaining wall clock time:    15 s          \rstep 453400, remaining wall clock time:    15 s          \rstep 453500, remaining wall clock time:    15 s          \rstep 453600, remaining wall clock time:    15 s          \rstep 453700, remaining wall clock time:    15 s          \rstep 453800, remaining wall clock time:    15 s          \rstep 453900, remaining wall clock time:    15 s          \rstep 454000, remaining wall clock time:    15 s          \rstep 454100, remaining wall clock time:    15 s          \rstep 454200, remaining wall clock time:    15 s          \rstep 454300, remaining wall clock time:    15 s          \rstep 454400, remaining wall clock time:    15 s          \rstep 454500, remaining wall clock time:    15 s          \rstep 454600, remaining wall clock time:    15 s          \rstep 454700, remaining wall clock time:    15 s          \rstep 454800, remaining wall clock time:    15 s          \rstep 454900, remaining wall clock time:    14 s          \rstep 455000, remaining wall clock time:    14 s          \rstep 455100, remaining wall clock time:    14 s          \rstep 455200, remaining wall clock time:    14 s          \rstep 455300, remaining wall clock time:    14 s          \rstep 455400, remaining wall clock time:    14 s          \rstep 455500, remaining wall clock time:    14 s          \rstep 455600, remaining wall clock time:    14 s          \rstep 455700, remaining wall clock time:    14 s          \rstep 455800, remaining wall clock time:    14 s          \rstep 455900, remaining wall clock time:    14 s          \rstep 456000, remaining wall clock time:    14 s          \rstep 456100, remaining wall clock time:    14 s          \rstep 456200, remaining wall clock time:    14 s          \rstep 456300, remaining wall clock time:    14 s          \rstep 456400, remaining wall clock time:    14 s          \rstep 456500, remaining wall clock time:    14 s          \rstep 456600, remaining wall clock time:    14 s          \rstep 456700, remaining wall clock time:    14 s          \rstep 456800, remaining wall clock time:    14 s          \rstep 456900, remaining wall clock time:    14 s          \rstep 457000, remaining wall clock time:    14 s          \rstep 457100, remaining wall clock time:    14 s          \rstep 457200, remaining wall clock time:    14 s          \rstep 457300, remaining wall clock time:    14 s          \rstep 457400, remaining wall clock time:    14 s          \rstep 457500, remaining wall clock time:    14 s          \rstep 457600, remaining wall clock time:    14 s          \rstep 457700, remaining wall clock time:    14 s          \rstep 457800, remaining wall clock time:    14 s          \rstep 457900, remaining wall clock time:    13 s          \rstep 458000, remaining wall clock time:    13 s          \rstep 458100, remaining wall clock time:    13 s          \rstep 458200, remaining wall clock time:    13 s          \rstep 458300, remaining wall clock time:    13 s          \rstep 458400, remaining wall clock time:    13 s          \rstep 458500, remaining wall clock time:    13 s          \rstep 458600, remaining wall clock time:    13 s          \rstep 458700, remaining wall clock time:    13 s          \rstep 458800, remaining wall clock time:    13 s          \rstep 458900, remaining wall clock time:    13 s          \rstep 459000, remaining wall clock time:    13 s          \rstep 459100, remaining wall clock time:    13 s          \rstep 459200, remaining wall clock time:    13 s          \rstep 459300, remaining wall clock time:    13 s          \rstep 459400, remaining wall clock time:    13 s          \rstep 459500, remaining wall clock time:    13 s          \rstep 459600, remaining wall clock time:    13 s          \rstep 459700, remaining wall clock time:    13 s          \rstep 459800, remaining wall clock time:    13 s          \rstep 459900, remaining wall clock time:    13 s          \rstep 460000, remaining wall clock time:    13 s          \rstep 460100, remaining wall clock time:    13 s          \rstep 460200, remaining wall clock time:    13 s          \rstep 460300, remaining wall clock time:    13 s          \rstep 460400, remaining wall clock time:    13 s          \rstep 460500, remaining wall clock time:    13 s          \rstep 460600, remaining wall clock time:    13 s          \rstep 460700, remaining wall clock time:    13 s          \rstep 460800, remaining wall clock time:    13 s          \rstep 460900, remaining wall clock time:    12 s          \rstep 461000, remaining wall clock time:    12 s          \rstep 461100, remaining wall clock time:    12 s          \rstep 461200, remaining wall clock time:    12 s          \rstep 461300, remaining wall clock time:    12 s          \rstep 461400, remaining wall clock time:    12 s          \rstep 461500, remaining wall clock time:    12 s          \rstep 461600, remaining wall clock time:    12 s          \rstep 461700, remaining wall clock time:    12 s          \rstep 461800, remaining wall clock time:    12 s          \rstep 461900, remaining wall clock time:    12 s          \rstep 462000, remaining wall clock time:    12 s          \rstep 462100, remaining wall clock time:    12 s          \rstep 462200, remaining wall clock time:    12 s          \rstep 462300, remaining wall clock time:    12 s          \rstep 462400, remaining wall clock time:    12 s          \rstep 462500, remaining wall clock time:    12 s          \rstep 462600, remaining wall clock time:    12 s          \rstep 462700, remaining wall clock time:    12 s          \rstep 462800, remaining wall clock time:    12 s          \rstep 462900, remaining wall clock time:    12 s          \rstep 463000, remaining wall clock time:    12 s          \rstep 463100, remaining wall clock time:    12 s          \rstep 463200, remaining wall clock time:    12 s          \rstep 463300, remaining wall clock time:    12 s          \rstep 463400, remaining wall clock time:    12 s          \rstep 463500, remaining wall clock time:    12 s          \rstep 463600, remaining wall clock time:    12 s          \rstep 463700, remaining wall clock time:    12 s          \rstep 463800, remaining wall clock time:    12 s          \rstep 463900, remaining wall clock time:    11 s          \rstep 464000, remaining wall clock time:    11 s          \rstep 464100, remaining wall clock time:    11 s          \rstep 464200, remaining wall clock time:    11 s          \rstep 464300, remaining wall clock time:    11 s          \rstep 464400, remaining wall clock time:    11 s          \rstep 464500, remaining wall clock time:    11 s          \rstep 464600, remaining wall clock time:    11 s          \rstep 464700, remaining wall clock time:    11 s          \rstep 464800, remaining wall clock time:    11 s          \rstep 464900, remaining wall clock time:    11 s          \rstep 465000, remaining wall clock time:    11 s          \rstep 465100, remaining wall clock time:    11 s          \rstep 465200, remaining wall clock time:    11 s          \rstep 465300, remaining wall clock time:    11 s          \rstep 465400, remaining wall clock time:    11 s          \rstep 465500, remaining wall clock time:    11 s          \rstep 465600, remaining wall clock time:    11 s          \rstep 465700, remaining wall clock time:    11 s          \rstep 465800, remaining wall clock time:    11 s          \rstep 465900, remaining wall clock time:    11 s          \rstep 466000, remaining wall clock time:    11 s          \rstep 466100, remaining wall clock time:    11 s          \rstep 466200, remaining wall clock time:    11 s          \rstep 466300, remaining wall clock time:    11 s          \rstep 466400, remaining wall clock time:    11 s          \rstep 466500, remaining wall clock time:    11 s          \rstep 466600, remaining wall clock time:    11 s          \rstep 466700, remaining wall clock time:    11 s          \rstep 466800, remaining wall clock time:    11 s          \rstep 466900, remaining wall clock time:    10 s          \rstep 467000, remaining wall clock time:    10 s          \rstep 467100, remaining wall clock time:    10 s          \rstep 467200, remaining wall clock time:    10 s          \rstep 467300, remaining wall clock time:    10 s          \rstep 467400, remaining wall clock time:    10 s          \rstep 467500, remaining wall clock time:    10 s          \rstep 467600, remaining wall clock time:    10 s          \rstep 467700, remaining wall clock time:    10 s          \rstep 467800, remaining wall clock time:    10 s          \rstep 467900, remaining wall clock time:    10 s          \rstep 468000, remaining wall clock time:    10 s          \rstep 468100, remaining wall clock time:    10 s          \rstep 468200, remaining wall clock time:    10 s          \rstep 468300, remaining wall clock time:    10 s          \rstep 468400, remaining wall clock time:    10 s          \rstep 468500, remaining wall clock time:    10 s          \rstep 468600, remaining wall clock time:    10 s          \rstep 468700, remaining wall clock time:    10 s          \rstep 468800, remaining wall clock time:    10 s          \rstep 468900, remaining wall clock time:    10 s          \rstep 469000, remaining wall clock time:    10 s          \rstep 469100, remaining wall clock time:    10 s          \rstep 469200, remaining wall clock time:    10 s          \rstep 469300, remaining wall clock time:    10 s          \rstep 469400, remaining wall clock time:    10 s          \rstep 469500, remaining wall clock time:    10 s          \rstep 469600, remaining wall clock time:    10 s          \rstep 469700, remaining wall clock time:    10 s          \rstep 469800, remaining wall clock time:    10 s          \rstep 469900, remaining wall clock time:     9 s          \rstep 470000, remaining wall clock time:     9 s          \rstep 470100, remaining wall clock time:     9 s          \rstep 470200, remaining wall clock time:     9 s          \rstep 470300, remaining wall clock time:     9 s          \rstep 470400, remaining wall clock time:     9 s          \rstep 470500, remaining wall clock time:     9 s          \rstep 470600, remaining wall clock time:     9 s          \rstep 470700, remaining wall clock time:     9 s          \rstep 470800, remaining wall clock time:     9 s          \rstep 470900, remaining wall clock time:     9 s          \rstep 471000, remaining wall clock time:     9 s          \rstep 471100, remaining wall clock time:     9 s          \rstep 471200, remaining wall clock time:     9 s          \rstep 471300, remaining wall clock time:     9 s          \rstep 471400, remaining wall clock time:     9 s          \rstep 471500, remaining wall clock time:     9 s          \rstep 471600, remaining wall clock time:     9 s          \rstep 471700, remaining wall clock time:     9 s          \rstep 471800, remaining wall clock time:     9 s          \rstep 471900, remaining wall clock time:     9 s          \rstep 472000, remaining wall clock time:     9 s          \rstep 472100, remaining wall clock time:     9 s          \rstep 472200, remaining wall clock time:     9 s          \rstep 472300, remaining wall clock time:     9 s          \rstep 472400, remaining wall clock time:     9 s          \rstep 472500, remaining wall clock time:     9 s          \rstep 472600, remaining wall clock time:     9 s          \rstep 472700, remaining wall clock time:     9 s          \rstep 472800, remaining wall clock time:     9 s          \rstep 472900, remaining wall clock time:     8 s          \rstep 473000, remaining wall clock time:     8 s          \rstep 473100, remaining wall clock time:     8 s          \rstep 473200, remaining wall clock time:     8 s          \rstep 473300, remaining wall clock time:     8 s          \rstep 473400, remaining wall clock time:     8 s          \rstep 473500, remaining wall clock time:     8 s          \rstep 473600, remaining wall clock time:     8 s          \rstep 473700, remaining wall clock time:     8 s          \rstep 473800, remaining wall clock time:     8 s          \rstep 473900, remaining wall clock time:     8 s          \rstep 474000, remaining wall clock time:     8 s          \rstep 474100, remaining wall clock time:     8 s          \rstep 474200, remaining wall clock time:     8 s          \rstep 474300, remaining wall clock time:     8 s          \rstep 474400, remaining wall clock time:     8 s          \rstep 474500, remaining wall clock time:     8 s          \rstep 474600, remaining wall clock time:     8 s          \rstep 474700, remaining wall clock time:     8 s          \rstep 474800, remaining wall clock time:     8 s          \rstep 474900, remaining wall clock time:     8 s          \rstep 475000, remaining wall clock time:     8 s          \rstep 475100, remaining wall clock time:     8 s          \rstep 475200, remaining wall clock time:     8 s          \rstep 475300, remaining wall clock time:     8 s          \rstep 475400, remaining wall clock time:     8 s          \rstep 475500, remaining wall clock time:     8 s          \rstep 475600, remaining wall clock time:     8 s          \rstep 475700, remaining wall clock time:     8 s          \rstep 475800, remaining wall clock time:     8 s          \rstep 475900, remaining wall clock time:     7 s          \rstep 476000, remaining wall clock time:     7 s          \rstep 476100, remaining wall clock time:     7 s          \rstep 476200, remaining wall clock time:     7 s          \rstep 476300, remaining wall clock time:     7 s          \rstep 476400, remaining wall clock time:     7 s          \rstep 476500, remaining wall clock time:     7 s          \rstep 476600, remaining wall clock time:     7 s          \rstep 476700, remaining wall clock time:     7 s          \rstep 476800, remaining wall clock time:     7 s          \rstep 476900, remaining wall clock time:     7 s          \rstep 477000, remaining wall clock time:     7 s          \rstep 477100, remaining wall clock time:     7 s          \rstep 477200, remaining wall clock time:     7 s          \rstep 477300, remaining wall clock time:     7 s          \rstep 477400, remaining wall clock time:     7 s          \rstep 477500, remaining wall clock time:     7 s          \rstep 477600, remaining wall clock time:     7 s          \rstep 477700, remaining wall clock time:     7 s          \rstep 477800, remaining wall clock time:     7 s          \rstep 477900, remaining wall clock time:     7 s          \rstep 478000, remaining wall clock time:     7 s          \rstep 478100, remaining wall clock time:     7 s          \rstep 478200, remaining wall clock time:     7 s          \rstep 478300, remaining wall clock time:     7 s          \rstep 478400, remaining wall clock time:     7 s          \rstep 478500, remaining wall clock time:     7 s          \rstep 478600, remaining wall clock time:     7 s          \rstep 478700, remaining wall clock time:     7 s          \rstep 478800, remaining wall clock time:     7 s          \rstep 478900, remaining wall clock time:     6 s          \rstep 479000, remaining wall clock time:     6 s          \rstep 479100, remaining wall clock time:     6 s          \rstep 479200, remaining wall clock time:     6 s          \rstep 479300, remaining wall clock time:     6 s          \rstep 479400, remaining wall clock time:     6 s          \rstep 479500, remaining wall clock time:     6 s          \rstep 479600, remaining wall clock time:     6 s          \rstep 479700, remaining wall clock time:     6 s          \rstep 479800, remaining wall clock time:     6 s          \rstep 479900, remaining wall clock time:     6 s          \rstep 480000, remaining wall clock time:     6 s          \rstep 480100, remaining wall clock time:     6 s          \rstep 480200, remaining wall clock time:     6 s          \rstep 480300, remaining wall clock time:     6 s          \rstep 480400, remaining wall clock time:     6 s          \rstep 480500, remaining wall clock time:     6 s          \rstep 480600, remaining wall clock time:     6 s          \rstep 480700, remaining wall clock time:     6 s          \rstep 480800, remaining wall clock time:     6 s          \rstep 480900, remaining wall clock time:     6 s          \rstep 481000, remaining wall clock time:     6 s          \rstep 481100, remaining wall clock time:     6 s          \rstep 481200, remaining wall clock time:     6 s          \rstep 481300, remaining wall clock time:     6 s          \rstep 481400, remaining wall clock time:     6 s          \rstep 481500, remaining wall clock time:     6 s          \rstep 481600, remaining wall clock time:     6 s          \rstep 481700, remaining wall clock time:     6 s          \rstep 481800, remaining wall clock time:     6 s          \rstep 481900, remaining wall clock time:     5 s          \rstep 482000, remaining wall clock time:     5 s          \rstep 482100, remaining wall clock time:     5 s          \rstep 482200, remaining wall clock time:     5 s          \rstep 482300, remaining wall clock time:     5 s          \rstep 482400, remaining wall clock time:     5 s          \rstep 482500, remaining wall clock time:     5 s          \rstep 482600, remaining wall clock time:     5 s          \rstep 482700, remaining wall clock time:     5 s          \rstep 482800, remaining wall clock time:     5 s          \rstep 482900, remaining wall clock time:     5 s          \rstep 483000, remaining wall clock time:     5 s          \rstep 483100, remaining wall clock time:     5 s          \rstep 483200, remaining wall clock time:     5 s          \rstep 483300, remaining wall clock time:     5 s          \rstep 483400, remaining wall clock time:     5 s          \rstep 483500, remaining wall clock time:     5 s          \rstep 483600, remaining wall clock time:     5 s          \rstep 483700, remaining wall clock time:     5 s          \rstep 483800, remaining wall clock time:     5 s          \rstep 483900, remaining wall clock time:     5 s          \rstep 484000, remaining wall clock time:     5 s          \rstep 484100, remaining wall clock time:     5 s          \rstep 484200, remaining wall clock time:     5 s          \rstep 484300, remaining wall clock time:     5 s          \rstep 484400, remaining wall clock time:     5 s          \rstep 484500, remaining wall clock time:     5 s          \rstep 484600, remaining wall clock time:     5 s          \rstep 484700, remaining wall clock time:     5 s          \rstep 484800, remaining wall clock time:     5 s          \rstep 484900, remaining wall clock time:     4 s          \rstep 485000, remaining wall clock time:     4 s          \rstep 485100, remaining wall clock time:     4 s          \rstep 485200, remaining wall clock time:     4 s          \rstep 485300, remaining wall clock time:     4 s          \rstep 485400, remaining wall clock time:     4 s          \rstep 485500, remaining wall clock time:     4 s          \rstep 485600, remaining wall clock time:     4 s          \rstep 485700, remaining wall clock time:     4 s          \rstep 485800, remaining wall clock time:     4 s          \rstep 485900, remaining wall clock time:     4 s          \rstep 486000, remaining wall clock time:     4 s          \rstep 486100, remaining wall clock time:     4 s          \rstep 486200, remaining wall clock time:     4 s          \rstep 486300, remaining wall clock time:     4 s          \rstep 486400, remaining wall clock time:     4 s          \rstep 486500, remaining wall clock time:     4 s          \rstep 486600, remaining wall clock time:     4 s          \rstep 486700, remaining wall clock time:     4 s          \rstep 486800, remaining wall clock time:     4 s          \rstep 486900, remaining wall clock time:     4 s          \rstep 487000, remaining wall clock time:     4 s          \rstep 487100, remaining wall clock time:     4 s          \rstep 487200, remaining wall clock time:     4 s          \rstep 487300, remaining wall clock time:     4 s          \rstep 487400, remaining wall clock time:     4 s          \rstep 487500, remaining wall clock time:     4 s          \rstep 487600, remaining wall clock time:     4 s          \rstep 487700, remaining wall clock time:     4 s          \rstep 487800, remaining wall clock time:     4 s          \rstep 487900, remaining wall clock time:     4 s          \rstep 488000, remaining wall clock time:     3 s          \rstep 488100, remaining wall clock time:     3 s          \rstep 488200, remaining wall clock time:     3 s          \rstep 488300, remaining wall clock time:     3 s          \rstep 488400, remaining wall clock time:     3 s          \rstep 488500, remaining wall clock time:     3 s          \rstep 488600, remaining wall clock time:     3 s          \rstep 488700, remaining wall clock time:     3 s          \rstep 488800, remaining wall clock time:     3 s          \rstep 488900, remaining wall clock time:     3 s          \rstep 489000, remaining wall clock time:     3 s          \rstep 489100, remaining wall clock time:     3 s          \rstep 489200, remaining wall clock time:     3 s          \rstep 489300, remaining wall clock time:     3 s          \rstep 489400, remaining wall clock time:     3 s          \rstep 489500, remaining wall clock time:     3 s          \rstep 489600, remaining wall clock time:     3 s          \rstep 489700, remaining wall clock time:     3 s          \rstep 489800, remaining wall clock time:     3 s          \rstep 489900, remaining wall clock time:     3 s          \rstep 490000, remaining wall clock time:     3 s          \rstep 490100, remaining wall clock time:     3 s          \rstep 490200, remaining wall clock time:     3 s          \rstep 490300, remaining wall clock time:     3 s          \rstep 490400, remaining wall clock time:     3 s          \rstep 490500, remaining wall clock time:     3 s          \rstep 490600, remaining wall clock time:     3 s          \rstep 490700, remaining wall clock time:     3 s          \rstep 490800, remaining wall clock time:     3 s          \rstep 490900, remaining wall clock time:     3 s          \rstep 491000, remaining wall clock time:     2 s          \rstep 491100, remaining wall clock time:     2 s          \rstep 491200, remaining wall clock time:     2 s          \rstep 491300, remaining wall clock time:     2 s          \rstep 491400, remaining wall clock time:     2 s          \rstep 491500, remaining wall clock time:     2 s          \rstep 491600, remaining wall clock time:     2 s          \rstep 491700, remaining wall clock time:     2 s          \rstep 491800, remaining wall clock time:     2 s          \rstep 491900, remaining wall clock time:     2 s          \rstep 492000, remaining wall clock time:     2 s          \rstep 492100, remaining wall clock time:     2 s          \rstep 492200, remaining wall clock time:     2 s          \rstep 492300, remaining wall clock time:     2 s          \rstep 492400, remaining wall clock time:     2 s          \rstep 492500, remaining wall clock time:     2 s          \rstep 492600, remaining wall clock time:     2 s          \rstep 492700, remaining wall clock time:     2 s          \rstep 492800, remaining wall clock time:     2 s          \rstep 492900, remaining wall clock time:     2 s          \rstep 493000, remaining wall clock time:     2 s          \rstep 493100, remaining wall clock time:     2 s          \rstep 493200, remaining wall clock time:     2 s          \rstep 493300, remaining wall clock time:     2 s          \rstep 493400, remaining wall clock time:     2 s          \rstep 493500, remaining wall clock time:     2 s          \rstep 493600, remaining wall clock time:     2 s          \rstep 493700, remaining wall clock time:     2 s          \rstep 493800, remaining wall clock time:     2 s          \rstep 493900, remaining wall clock time:     2 s          \rstep 494000, remaining wall clock time:     1 s          \rstep 494100, remaining wall clock time:     1 s          \rstep 494200, remaining wall clock time:     1 s          \rstep 494300, remaining wall clock time:     1 s          \rstep 494400, remaining wall clock time:     1 s          \rstep 494500, remaining wall clock time:     1 s          \rstep 494600, remaining wall clock time:     1 s          \rstep 494700, remaining wall clock time:     1 s          \rstep 494800, remaining wall clock time:     1 s          \rstep 494900, remaining wall clock time:     1 s          \rstep 495000, remaining wall clock time:     1 s          \rstep 495100, remaining wall clock time:     1 s          \rstep 495200, remaining wall clock time:     1 s          \rstep 495300, remaining wall clock time:     1 s          \rstep 495400, remaining wall clock time:     1 s          \rstep 495500, remaining wall clock time:     1 s          \rstep 495600, remaining wall clock time:     1 s          \rstep 495700, remaining wall clock time:     1 s          \rstep 495800, remaining wall clock time:     1 s          \rstep 495900, remaining wall clock time:     1 s          \rstep 496000, remaining wall clock time:     1 s          \rstep 496100, remaining wall clock time:     1 s          \rstep 496200, remaining wall clock time:     1 s          \rstep 496300, remaining wall clock time:     1 s          \rstep 496400, remaining wall clock time:     1 s          \rstep 496500, remaining wall clock time:     1 s          \rstep 496600, remaining wall clock time:     1 s          \rstep 496700, remaining wall clock time:     1 s          \rstep 496800, remaining wall clock time:     1 s          \rstep 496900, remaining wall clock time:     1 s          \rstep 497000, remaining wall clock time:     0 s          \rstep 497100, remaining wall clock time:     0 s          \rstep 497200, remaining wall clock time:     0 s          \rstep 497300, remaining wall clock time:     0 s          \rstep 497400, remaining wall clock time:     0 s          \rstep 497500, remaining wall clock time:     0 s          \rstep 497600, remaining wall clock time:     0 s          \rstep 497700, remaining wall clock time:     0 s          \rstep 497800, remaining wall clock time:     0 s          \rstep 497900, remaining wall clock time:     0 s          \rstep 498000, remaining wall clock time:     0 s          \rstep 498100, remaining wall clock time:     0 s          \rstep 498200, remaining wall clock time:     0 s          \rstep 498300, remaining wall clock time:     0 s          \rstep 498400, remaining wall clock time:     0 s          \rstep 498500, remaining wall clock time:     0 s          \rstep 498600, remaining wall clock time:     0 s          \rstep 498700, remaining wall clock time:     0 s          \rstep 498800, remaining wall clock time:     0 s          \rstep 498900, remaining wall clock time:     0 s          \rstep 499000, remaining wall clock time:     0 s          \rstep 499100, remaining wall clock time:     0 s          \rstep 499200, remaining wall clock time:     0 s          \rstep 499300, remaining wall clock time:     0 s          \rstep 499400, remaining wall clock time:     0 s          \rstep 499500, remaining wall clock time:     0 s          \rstep 499600, remaining wall clock time:     0 s          \rstep 499700, remaining wall clock time:     0 s          \rstep 499800, remaining wall clock time:     0 s          \rstep 499900, remaining wall clock time:     0 s          \n",
            "Writing final coordinates.\n",
            "\rstep 500000, remaining wall clock time:     0 s          \n",
            "NOTE: 14 % of the run time was spent in pair search,\n",
            "      you might want to increase nstlist (this has no effect on accuracy)\n",
            "\n",
            "               Core t (s)   Wall t (s)        (%)\n",
            "       Time:      330.659      165.330      200.0\n",
            "                 (ns/day)    (hour/ns)\n",
            "Performance:      522.594        0.046\n",
            "\n",
            "GROMACS reminds you: \"I have not failed. I've just found 10,000 ways that won't work\" (Thomas Alva Edison)\n",
            "\n"
          ]
        }
      ]
    },
    {
      "cell_type": "markdown",
      "source": [
        "__9. ANÁLISIS__\\\n",
        "2 (EtOH)\\\n",
        "0 (System)"
      ],
      "metadata": {
        "id": "1gFcfL9uSutd"
      }
    },
    {
      "cell_type": "code",
      "source": [
        "%%bash\n",
        "source /usr/local/gromacs/bin/GMXRC\n",
        "printf \"2 0\" | gmx trjconv -s md_0_1.tpr -f md_0_1.xtc -o md_0_1_noPBC.xtc -pbc mol -center"
      ],
      "metadata": {
        "colab": {
          "base_uri": "https://localhost:8080/"
        },
        "id": "u3RPrLHUx3Ks",
        "outputId": "879ac25b-22d1-4039-8391-cd945a9d7c26"
      },
      "execution_count": 95,
      "outputs": [
        {
          "output_type": "stream",
          "name": "stdout",
          "text": [
            "Note that major changes are planned in future for trjconv, to improve usability and utility.\n",
            "Select group for centering\n",
            "Selected 2: 'EtOH'\n",
            "Select group for output\n",
            "Selected 0: 'System'\n"
          ]
        },
        {
          "output_type": "stream",
          "name": "stderr",
          "text": [
            "                      :-) GROMACS - gmx trjconv, 2021 (-:\n",
            "\n",
            "                            GROMACS is written by:\n",
            "     Andrey Alekseenko              Emile Apol              Rossen Apostolov     \n",
            "         Paul Bauer           Herman J.C. Berendsen           Par Bjelkmar       \n",
            "       Christian Blau           Viacheslav Bolnykh             Kevin Boyd        \n",
            "     Aldert van Buuren           Rudi van Drunen             Anton Feenstra      \n",
            "    Gilles Gouaillardet             Alan Gray               Gerrit Groenhof      \n",
            "       Anca Hamuraru            Vincent Hindriksen          M. Eric Irrgang      \n",
            "      Aleksei Iupinov           Christoph Junghans             Joe Jordan        \n",
            "    Dimitrios Karkoulis            Peter Kasson                Jiri Kraus        \n",
            "      Carsten Kutzner              Per Larsson              Justin A. Lemkul     \n",
            "       Viveca Lindahl            Magnus Lundborg             Erik Marklund       \n",
            "        Pascal Merz             Pieter Meulenhoff            Teemu Murtola       \n",
            "        Szilard Pall               Sander Pronk              Roland Schulz       \n",
            "       Michael Shirts            Alexey Shvetsov             Alfons Sijbers      \n",
            "       Peter Tieleman              Jon Vincent              Teemu Virolainen     \n",
            "     Christian Wennberg            Maarten Wolf              Artem Zhmurov       \n",
            "                           and the project leaders:\n",
            "        Mark Abraham, Berk Hess, Erik Lindahl, and David van der Spoel\n",
            "\n",
            "Copyright (c) 1991-2000, University of Groningen, The Netherlands.\n",
            "Copyright (c) 2001-2019, The GROMACS development team at\n",
            "Uppsala University, Stockholm University and\n",
            "the Royal Institute of Technology, Sweden.\n",
            "check out http://www.gromacs.org for more information.\n",
            "\n",
            "GROMACS is free software; you can redistribute it and/or modify it\n",
            "under the terms of the GNU Lesser General Public License\n",
            "as published by the Free Software Foundation; either version 2.1\n",
            "of the License, or (at your option) any later version.\n",
            "\n",
            "GROMACS:      gmx trjconv, version 2021\n",
            "Executable:   /usr/local/gromacs/bin/gmx\n",
            "Data prefix:  /usr/local/gromacs\n",
            "Working dir:  /content\n",
            "Command line:\n",
            "  gmx trjconv -s md_0_1.tpr -f md_0_1.xtc -o md_0_1_noPBC.xtc -pbc mol -center\n",
            "\n",
            "Will write xtc: Compressed trajectory (portable xdr format): xtc\n",
            "Reading file md_0_1.tpr, VERSION 2021 (single precision)\n",
            "Reading file md_0_1.tpr, VERSION 2021 (single precision)\n",
            "Group     0 (         System) has  2099 elements\n",
            "Group     1 (          Other) has     9 elements\n",
            "Group     2 (           EtOH) has     9 elements\n",
            "Group     3 (          Water) has  2090 elements\n",
            "Group     4 (            SOL) has  2090 elements\n",
            "Group     5 (      non-Water) has     9 elements\n",
            "Select a group: Group     0 (         System) has  2099 elements\n",
            "Group     1 (          Other) has     9 elements\n",
            "Group     2 (           EtOH) has     9 elements\n",
            "Group     3 (          Water) has  2090 elements\n",
            "Group     4 (            SOL) has  2090 elements\n",
            "Group     5 (      non-Water) has     9 elements\n",
            "Select a group: \rReading frame       0 time    0.000   \n",
            "Precision of md_0_1.xtc is 0.001 (nm)\n",
            "Using output precision of 0.001 (nm)\n",
            " ->  frame      0 time    0.000      \r\rReading frame       1 time   10.000    ->  frame      1 time   10.000      \r\rReading frame       2 time   20.000    ->  frame      2 time   20.000      \r\rReading frame       3 time   30.000    ->  frame      3 time   30.000      \r\rReading frame       4 time   40.000    ->  frame      4 time   40.000      \r\rReading frame       5 time   50.000    ->  frame      5 time   50.000      \r\rReading frame       6 time   60.000    ->  frame      6 time   60.000      \r\rReading frame       7 time   70.000    ->  frame      7 time   70.000      \r\rReading frame       8 time   80.000    ->  frame      8 time   80.000      \r\rReading frame       9 time   90.000    ->  frame      9 time   90.000      \r\rReading frame      10 time  100.000    ->  frame     10 time  100.000      \r\rReading frame      11 time  110.000   \rReading frame      12 time  120.000   \rReading frame      13 time  130.000   \rReading frame      14 time  140.000   \rReading frame      15 time  150.000   \rReading frame      16 time  160.000   \rReading frame      17 time  170.000   \rReading frame      18 time  180.000   \rReading frame      19 time  190.000   \rReading frame      20 time  200.000    ->  frame     20 time  200.000      \r\rReading frame      30 time  300.000    ->  frame     30 time  300.000      \r\rReading frame      40 time  400.000    ->  frame     40 time  400.000      \r\rReading frame      50 time  500.000    ->  frame     50 time  500.000      \r\rReading frame      60 time  600.000    ->  frame     60 time  600.000      \r\rReading frame      70 time  700.000    ->  frame     70 time  700.000      \r\rReading frame      80 time  800.000    ->  frame     80 time  800.000      \r\rReading frame      90 time  900.000    ->  frame     90 time  900.000      \r\rReading frame     100 time 1000.000    ->  frame    100 time 1000.000      \r\rLast frame        100 time 1000.000   \n",
            "\n",
            "\n",
            "GROMACS reminds you: \"The Carpenter Goes Bang Bang\" (The Breeders)\n",
            "\n"
          ]
        }
      ]
    },
    {
      "cell_type": "markdown",
      "source": [
        "----RMSD----\\\n",
        "\"-tu ns\" es para asegurarse de que los outputs están en nanosegundos\\\n",
        "Se creará: rmsd.xvg"
      ],
      "metadata": {
        "id": "EFqw5QlrTICS"
      }
    },
    {
      "cell_type": "code",
      "source": [
        "%%bash\n",
        "source /usr/local/gromacs/bin/GMXRC\n",
        "printf \"2 0\" | gmx rms -s md_0_1.tpr -f md_0_1_noPBC.xtc -o rmsd.xvg -tu ns"
      ],
      "metadata": {
        "colab": {
          "base_uri": "https://localhost:8080/"
        },
        "id": "RdabI_-Qx3II",
        "outputId": "eb615b18-351d-4a2a-ef78-13985331f865"
      },
      "execution_count": 96,
      "outputs": [
        {
          "output_type": "stream",
          "name": "stdout",
          "text": [
            "Selected 2: 'EtOH'\n",
            "Selected 0: 'System'\n"
          ]
        },
        {
          "output_type": "stream",
          "name": "stderr",
          "text": [
            "                        :-) GROMACS - gmx rms, 2021 (-:\n",
            "\n",
            "                            GROMACS is written by:\n",
            "     Andrey Alekseenko              Emile Apol              Rossen Apostolov     \n",
            "         Paul Bauer           Herman J.C. Berendsen           Par Bjelkmar       \n",
            "       Christian Blau           Viacheslav Bolnykh             Kevin Boyd        \n",
            "     Aldert van Buuren           Rudi van Drunen             Anton Feenstra      \n",
            "    Gilles Gouaillardet             Alan Gray               Gerrit Groenhof      \n",
            "       Anca Hamuraru            Vincent Hindriksen          M. Eric Irrgang      \n",
            "      Aleksei Iupinov           Christoph Junghans             Joe Jordan        \n",
            "    Dimitrios Karkoulis            Peter Kasson                Jiri Kraus        \n",
            "      Carsten Kutzner              Per Larsson              Justin A. Lemkul     \n",
            "       Viveca Lindahl            Magnus Lundborg             Erik Marklund       \n",
            "        Pascal Merz             Pieter Meulenhoff            Teemu Murtola       \n",
            "        Szilard Pall               Sander Pronk              Roland Schulz       \n",
            "       Michael Shirts            Alexey Shvetsov             Alfons Sijbers      \n",
            "       Peter Tieleman              Jon Vincent              Teemu Virolainen     \n",
            "     Christian Wennberg            Maarten Wolf              Artem Zhmurov       \n",
            "                           and the project leaders:\n",
            "        Mark Abraham, Berk Hess, Erik Lindahl, and David van der Spoel\n",
            "\n",
            "Copyright (c) 1991-2000, University of Groningen, The Netherlands.\n",
            "Copyright (c) 2001-2019, The GROMACS development team at\n",
            "Uppsala University, Stockholm University and\n",
            "the Royal Institute of Technology, Sweden.\n",
            "check out http://www.gromacs.org for more information.\n",
            "\n",
            "GROMACS is free software; you can redistribute it and/or modify it\n",
            "under the terms of the GNU Lesser General Public License\n",
            "as published by the Free Software Foundation; either version 2.1\n",
            "of the License, or (at your option) any later version.\n",
            "\n",
            "GROMACS:      gmx rms, version 2021\n",
            "Executable:   /usr/local/gromacs/bin/gmx\n",
            "Data prefix:  /usr/local/gromacs\n",
            "Working dir:  /content\n",
            "Command line:\n",
            "  gmx rms -s md_0_1.tpr -f md_0_1_noPBC.xtc -o rmsd.xvg -tu ns\n",
            "\n",
            "Reading file md_0_1.tpr, VERSION 2021 (single precision)\n",
            "Reading file md_0_1.tpr, VERSION 2021 (single precision)\n",
            "Select group for least squares fit\n",
            "Group     0 (         System) has  2099 elements\n",
            "Group     1 (          Other) has     9 elements\n",
            "Group     2 (           EtOH) has     9 elements\n",
            "Group     3 (          Water) has  2090 elements\n",
            "Group     4 (            SOL) has  2090 elements\n",
            "Group     5 (      non-Water) has     9 elements\n",
            "Select a group: Select group for RMSD calculation\n",
            "Group     0 (         System) has  2099 elements\n",
            "Group     1 (          Other) has     9 elements\n",
            "Group     2 (           EtOH) has     9 elements\n",
            "Group     3 (          Water) has  2090 elements\n",
            "Group     4 (            SOL) has  2090 elements\n",
            "Group     5 (      non-Water) has     9 elements\n",
            "Select a group: \rReading frame       0 time    0.000   \rReading frame       1 time    0.010   \rReading frame       2 time    0.020   \rReading frame       3 time    0.030   \rReading frame       4 time    0.040   \rReading frame       5 time    0.050   \rReading frame       6 time    0.060   \rReading frame       7 time    0.070   \rReading frame       8 time    0.080   \rReading frame       9 time    0.090   \rReading frame      10 time    0.100   \rReading frame      11 time    0.110   \rReading frame      12 time    0.120   \rReading frame      13 time    0.130   \rReading frame      14 time    0.140   \rReading frame      15 time    0.150   \rReading frame      16 time    0.160   \rReading frame      17 time    0.170   \rReading frame      18 time    0.180   \rReading frame      19 time    0.190   \rReading frame      20 time    0.200   \rReading frame      30 time    0.300   \rReading frame      40 time    0.400   \rReading frame      50 time    0.500   \rReading frame      60 time    0.600   \rReading frame      70 time    0.700   \rReading frame      80 time    0.800   \rReading frame      90 time    0.900   \rReading frame     100 time    1.000   \rLast frame        100 time    1.000   \n",
            "\n",
            "GROMACS reminds you: \"Jesus Not Only Saves, He Also Frequently Makes Backups.\" (Myron Bradshaw)\n",
            "\n"
          ]
        }
      ]
    },
    {
      "cell_type": "markdown",
      "source": [
        "\\\n",
        "Se creará: rmsd_xtal.xvg"
      ],
      "metadata": {
        "id": "rQF7PVUoTqKR"
      }
    },
    {
      "cell_type": "code",
      "source": [
        "%%bash\n",
        "source /usr/local/gromacs/bin/GMXRC\n",
        "printf \"2 0\" | gmx rms -s em.tpr -f md_0_1_noPBC.xtc -o rmsd_xtal.xvg -tu ns"
      ],
      "metadata": {
        "colab": {
          "base_uri": "https://localhost:8080/"
        },
        "id": "fLV_VFb8x3F4",
        "outputId": "45f545a7-3dc1-4429-f36d-7fab681ddc97"
      },
      "execution_count": 97,
      "outputs": [
        {
          "output_type": "stream",
          "name": "stdout",
          "text": [
            "Selected 2: 'EtOH'\n",
            "Selected 0: 'System'\n"
          ]
        },
        {
          "output_type": "stream",
          "name": "stderr",
          "text": [
            "                        :-) GROMACS - gmx rms, 2021 (-:\n",
            "\n",
            "                            GROMACS is written by:\n",
            "     Andrey Alekseenko              Emile Apol              Rossen Apostolov     \n",
            "         Paul Bauer           Herman J.C. Berendsen           Par Bjelkmar       \n",
            "       Christian Blau           Viacheslav Bolnykh             Kevin Boyd        \n",
            "     Aldert van Buuren           Rudi van Drunen             Anton Feenstra      \n",
            "    Gilles Gouaillardet             Alan Gray               Gerrit Groenhof      \n",
            "       Anca Hamuraru            Vincent Hindriksen          M. Eric Irrgang      \n",
            "      Aleksei Iupinov           Christoph Junghans             Joe Jordan        \n",
            "    Dimitrios Karkoulis            Peter Kasson                Jiri Kraus        \n",
            "      Carsten Kutzner              Per Larsson              Justin A. Lemkul     \n",
            "       Viveca Lindahl            Magnus Lundborg             Erik Marklund       \n",
            "        Pascal Merz             Pieter Meulenhoff            Teemu Murtola       \n",
            "        Szilard Pall               Sander Pronk              Roland Schulz       \n",
            "       Michael Shirts            Alexey Shvetsov             Alfons Sijbers      \n",
            "       Peter Tieleman              Jon Vincent              Teemu Virolainen     \n",
            "     Christian Wennberg            Maarten Wolf              Artem Zhmurov       \n",
            "                           and the project leaders:\n",
            "        Mark Abraham, Berk Hess, Erik Lindahl, and David van der Spoel\n",
            "\n",
            "Copyright (c) 1991-2000, University of Groningen, The Netherlands.\n",
            "Copyright (c) 2001-2019, The GROMACS development team at\n",
            "Uppsala University, Stockholm University and\n",
            "the Royal Institute of Technology, Sweden.\n",
            "check out http://www.gromacs.org for more information.\n",
            "\n",
            "GROMACS is free software; you can redistribute it and/or modify it\n",
            "under the terms of the GNU Lesser General Public License\n",
            "as published by the Free Software Foundation; either version 2.1\n",
            "of the License, or (at your option) any later version.\n",
            "\n",
            "GROMACS:      gmx rms, version 2021\n",
            "Executable:   /usr/local/gromacs/bin/gmx\n",
            "Data prefix:  /usr/local/gromacs\n",
            "Working dir:  /content\n",
            "Command line:\n",
            "  gmx rms -s em.tpr -f md_0_1_noPBC.xtc -o rmsd_xtal.xvg -tu ns\n",
            "\n",
            "Reading file em.tpr, VERSION 2021 (single precision)\n",
            "Reading file em.tpr, VERSION 2021 (single precision)\n",
            "Select group for least squares fit\n",
            "Group     0 (         System) has  2099 elements\n",
            "Group     1 (          Other) has     9 elements\n",
            "Group     2 (           EtOH) has     9 elements\n",
            "Group     3 (          Water) has  2090 elements\n",
            "Group     4 (            SOL) has  2090 elements\n",
            "Group     5 (      non-Water) has     9 elements\n",
            "Select a group: Select group for RMSD calculation\n",
            "Group     0 (         System) has  2099 elements\n",
            "Group     1 (          Other) has     9 elements\n",
            "Group     2 (           EtOH) has     9 elements\n",
            "Group     3 (          Water) has  2090 elements\n",
            "Group     4 (            SOL) has  2090 elements\n",
            "Group     5 (      non-Water) has     9 elements\n",
            "Select a group: \rReading frame       0 time    0.000   \rReading frame       1 time    0.010   \rReading frame       2 time    0.020   \rReading frame       3 time    0.030   \rReading frame       4 time    0.040   \rReading frame       5 time    0.050   \rReading frame       6 time    0.060   \rReading frame       7 time    0.070   \rReading frame       8 time    0.080   \rReading frame       9 time    0.090   \rReading frame      10 time    0.100   \rReading frame      11 time    0.110   \rReading frame      12 time    0.120   \rReading frame      13 time    0.130   \rReading frame      14 time    0.140   \rReading frame      15 time    0.150   \rReading frame      16 time    0.160   \rReading frame      17 time    0.170   \rReading frame      18 time    0.180   \rReading frame      19 time    0.190   \rReading frame      20 time    0.200   \rReading frame      30 time    0.300   \rReading frame      40 time    0.400   \rReading frame      50 time    0.500   \rReading frame      60 time    0.600   \rReading frame      70 time    0.700   \rReading frame      80 time    0.800   \rReading frame      90 time    0.900   \rReading frame     100 time    1.000   \rLast frame        100 time    1.000   \n",
            "\n",
            "GROMACS reminds you: \"It's easy to remember: a half a kT is equal to five fourths of a kJ/mol.\" (Anders Gabrielsson)\n",
            "\n"
          ]
        }
      ]
    },
    {
      "cell_type": "code",
      "source": [
        "%%bash\n",
        "source /usr/local/gromacs/bin/GMXRC\n",
        "printf \"2\" | gmx gyrate -s md_0_1.tpr -f md_0_1_noPBC.xtc -o gyrate.xvg"
      ],
      "metadata": {
        "colab": {
          "base_uri": "https://localhost:8080/"
        },
        "id": "Nv6E0gjCT2F-",
        "outputId": "6670305a-b018-4be2-c585-67b38d446153"
      },
      "execution_count": 98,
      "outputs": [
        {
          "output_type": "stream",
          "name": "stdout",
          "text": [
            "Selected 2: 'EtOH'\n"
          ]
        },
        {
          "output_type": "stream",
          "name": "stderr",
          "text": [
            "                       :-) GROMACS - gmx gyrate, 2021 (-:\n",
            "\n",
            "                            GROMACS is written by:\n",
            "     Andrey Alekseenko              Emile Apol              Rossen Apostolov     \n",
            "         Paul Bauer           Herman J.C. Berendsen           Par Bjelkmar       \n",
            "       Christian Blau           Viacheslav Bolnykh             Kevin Boyd        \n",
            "     Aldert van Buuren           Rudi van Drunen             Anton Feenstra      \n",
            "    Gilles Gouaillardet             Alan Gray               Gerrit Groenhof      \n",
            "       Anca Hamuraru            Vincent Hindriksen          M. Eric Irrgang      \n",
            "      Aleksei Iupinov           Christoph Junghans             Joe Jordan        \n",
            "    Dimitrios Karkoulis            Peter Kasson                Jiri Kraus        \n",
            "      Carsten Kutzner              Per Larsson              Justin A. Lemkul     \n",
            "       Viveca Lindahl            Magnus Lundborg             Erik Marklund       \n",
            "        Pascal Merz             Pieter Meulenhoff            Teemu Murtola       \n",
            "        Szilard Pall               Sander Pronk              Roland Schulz       \n",
            "       Michael Shirts            Alexey Shvetsov             Alfons Sijbers      \n",
            "       Peter Tieleman              Jon Vincent              Teemu Virolainen     \n",
            "     Christian Wennberg            Maarten Wolf              Artem Zhmurov       \n",
            "                           and the project leaders:\n",
            "        Mark Abraham, Berk Hess, Erik Lindahl, and David van der Spoel\n",
            "\n",
            "Copyright (c) 1991-2000, University of Groningen, The Netherlands.\n",
            "Copyright (c) 2001-2019, The GROMACS development team at\n",
            "Uppsala University, Stockholm University and\n",
            "the Royal Institute of Technology, Sweden.\n",
            "check out http://www.gromacs.org for more information.\n",
            "\n",
            "GROMACS is free software; you can redistribute it and/or modify it\n",
            "under the terms of the GNU Lesser General Public License\n",
            "as published by the Free Software Foundation; either version 2.1\n",
            "of the License, or (at your option) any later version.\n",
            "\n",
            "GROMACS:      gmx gyrate, version 2021\n",
            "Executable:   /usr/local/gromacs/bin/gmx\n",
            "Data prefix:  /usr/local/gromacs\n",
            "Working dir:  /content\n",
            "Command line:\n",
            "  gmx gyrate -s md_0_1.tpr -f md_0_1_noPBC.xtc -o gyrate.xvg\n",
            "\n",
            "Reading file md_0_1.tpr, VERSION 2021 (single precision)\n",
            "Reading file md_0_1.tpr, VERSION 2021 (single precision)\n",
            "Group     0 (         System) has  2099 elements\n",
            "Group     1 (          Other) has     9 elements\n",
            "Group     2 (           EtOH) has     9 elements\n",
            "Group     3 (          Water) has  2090 elements\n",
            "Group     4 (            SOL) has  2090 elements\n",
            "Group     5 (      non-Water) has     9 elements\n",
            "Select a group: \rReading frame       0 time    0.000   \rReading frame       1 time   10.000   \rReading frame       2 time   20.000   \rReading frame       3 time   30.000   \rReading frame       4 time   40.000   \rReading frame       5 time   50.000   \rReading frame       6 time   60.000   \rReading frame       7 time   70.000   \rReading frame       8 time   80.000   \rReading frame       9 time   90.000   \rReading frame      10 time  100.000   \rReading frame      11 time  110.000   \rReading frame      12 time  120.000   \rReading frame      13 time  130.000   \rReading frame      14 time  140.000   \rReading frame      15 time  150.000   \rReading frame      16 time  160.000   \rReading frame      17 time  170.000   \rReading frame      18 time  180.000   \rReading frame      19 time  190.000   \rReading frame      20 time  200.000   \rReading frame      30 time  300.000   \rReading frame      40 time  400.000   \rReading frame      50 time  500.000   \rReading frame      60 time  600.000   \rReading frame      70 time  700.000   \rReading frame      80 time  800.000   \rReading frame      90 time  900.000   \rReading frame     100 time 1000.000   \rLast frame        100 time 1000.000   \n",
            "\n",
            "GROMACS reminds you: \"For a research worker the unforgotten moments of his life are those rare ones which come after years of plodding work, when the veil over natures secret seems suddenly to lift & when what was dark & chaotic appears in a clear & beautiful light & pattern.\" (Gerty Cori)\n",
            "\n"
          ]
        }
      ]
    },
    {
      "cell_type": "markdown",
      "source": [
        "Movemos las gráficas de los resultados a una carpeta que creamos (mds_etanol)"
      ],
      "metadata": {
        "id": "lenMMm3oX1SR"
      }
    },
    {
      "cell_type": "code",
      "source": [
        "!mkdir mds_etanol\n",
        "!cp *.xvg /content/mds_etanol/.\n",
        "!ls /mds_etanol"
      ],
      "metadata": {
        "colab": {
          "base_uri": "https://localhost:8080/"
        },
        "id": "HzkVyHu9Uz8r",
        "outputId": "e4907a4d-8f65-49c7-8362-878f811d3026"
      },
      "execution_count": 103,
      "outputs": [
        {
          "output_type": "stream",
          "name": "stdout",
          "text": [
            "ls: cannot access '/mds_etanol': No such file or directory\n"
          ]
        }
      ]
    },
    {
      "cell_type": "markdown",
      "source": [
        "Comprimimos la carpeta y la descargamos"
      ],
      "metadata": {
        "id": "WDjfxpMgX_Yy"
      }
    },
    {
      "cell_type": "code",
      "source": [
        "!ls /content/mds_etanol/\n",
        "!zip -r /content/mds_etanol.zip /content/mds_etanol\n",
        "from google.colab import files\n",
        "files.download('/content/mds_etanol.zip')"
      ],
      "metadata": {
        "colab": {
          "base_uri": "https://localhost:8080/",
          "height": 191
        },
        "id": "KApqETB1Vb9d",
        "outputId": "8386738c-d7f2-400a-ea3b-e0b68bd33920"
      },
      "execution_count": 110,
      "outputs": [
        {
          "output_type": "stream",
          "name": "stdout",
          "text": [
            "density.xvg  potential.xvg  rmsd_xtal.xvg  temperature.xvg\n",
            "gyrate.xvg   pressure.xvg   rmsd.xvg\n",
            "  adding: content/mds_etanol/ (stored 0%)\n",
            "  adding: content/mds_etanol/pressure.xvg (deflated 59%)\n",
            "  adding: content/mds_etanol/rmsd_xtal.xvg (deflated 65%)\n",
            "  adding: content/mds_etanol/rmsd.xvg (deflated 65%)\n",
            "  adding: content/mds_etanol/potential.xvg (deflated 61%)\n",
            "  adding: content/mds_etanol/gyrate.xvg (deflated 66%)\n",
            "  adding: content/mds_etanol/temperature.xvg (deflated 62%)\n",
            "  adding: content/mds_etanol/density.xvg (deflated 61%)\n"
          ]
        },
        {
          "output_type": "display_data",
          "data": {
            "text/plain": [
              "<IPython.core.display.Javascript object>"
            ],
            "application/javascript": [
              "\n",
              "    async function download(id, filename, size) {\n",
              "      if (!google.colab.kernel.accessAllowed) {\n",
              "        return;\n",
              "      }\n",
              "      const div = document.createElement('div');\n",
              "      const label = document.createElement('label');\n",
              "      label.textContent = `Downloading \"${filename}\": `;\n",
              "      div.appendChild(label);\n",
              "      const progress = document.createElement('progress');\n",
              "      progress.max = size;\n",
              "      div.appendChild(progress);\n",
              "      document.body.appendChild(div);\n",
              "\n",
              "      const buffers = [];\n",
              "      let downloaded = 0;\n",
              "\n",
              "      const channel = await google.colab.kernel.comms.open(id);\n",
              "      // Send a message to notify the kernel that we're ready.\n",
              "      channel.send({})\n",
              "\n",
              "      for await (const message of channel.messages) {\n",
              "        // Send a message to notify the kernel that we're ready.\n",
              "        channel.send({})\n",
              "        if (message.buffers) {\n",
              "          for (const buffer of message.buffers) {\n",
              "            buffers.push(buffer);\n",
              "            downloaded += buffer.byteLength;\n",
              "            progress.value = downloaded;\n",
              "          }\n",
              "        }\n",
              "      }\n",
              "      const blob = new Blob(buffers, {type: 'application/binary'});\n",
              "      const a = document.createElement('a');\n",
              "      a.href = window.URL.createObjectURL(blob);\n",
              "      a.download = filename;\n",
              "      div.appendChild(a);\n",
              "      a.click();\n",
              "      div.remove();\n",
              "    }\n",
              "  "
            ]
          },
          "metadata": {}
        },
        {
          "output_type": "display_data",
          "data": {
            "text/plain": [
              "<IPython.core.display.Javascript object>"
            ],
            "application/javascript": [
              "download(\"download_5bba4859-eb97-4685-adaf-a04dfa9fb138\", \"mds_etanol.zip\", 10825)"
            ]
          },
          "metadata": {}
        }
      ]
    },
    {
      "cell_type": "code",
      "source": [],
      "metadata": {
        "id": "oO2yEe43Wv_b"
      },
      "execution_count": null,
      "outputs": []
    }
  ]
}